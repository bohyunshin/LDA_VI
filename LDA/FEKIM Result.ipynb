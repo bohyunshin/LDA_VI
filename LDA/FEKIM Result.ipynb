{
 "cells": [
  {
   "cell_type": "code",
   "execution_count": 9,
   "metadata": {},
   "outputs": [],
   "source": [
    "import pickle\n",
    "import pandas as pd\n",
    "from sklearn.feature_extraction.text import CountVectorizer"
   ]
  },
  {
   "cell_type": "code",
   "execution_count": 8,
   "metadata": {},
   "outputs": [
    {
     "name": "stdout",
     "output_type": "stream",
     "text": [
      "\n",
      "Topic Nr.1:\n",
      "plastic 32619.93 | microplastic 24143.89 | marine 20107.26 | environment 16818.4 | water 15202.96 | sea 11539.41 | pollution 10729.93 | sediment 10064.97 | particle 10040.61 | debris 7844.24 | \n",
      "\n",
      "Topic Nr.2:\n",
      "microplastic 25965.11 | concentration 10321.94 | environment 10265.6 | effect 9565.28 | particle 8800.39 | water 8316.04 | exposure 7830.15 | surface 6241.68 | mussel 6092.0 | plastic 5928.07 | \n"
     ]
    }
   ],
   "source": [
    "model = pickle.load(open('/Users/shinbo/PycharmProjects/model_lda/FEKIM_CLDA_result.pkl','rb'))\n",
    "\n",
    "K=2\n",
    "dir_ = '/Users/shinbo/Desktop/metting/FEKIM/finished_preprocessed_paper_ver2.pickle'\n",
    "data = pickle.load(open(dir_, 'rb'))\n",
    "data_join = [' '.join(doc) for doc in data]\n",
    "cv = CountVectorizer()\n",
    "X = cv.fit_transform(data_join).toarray()\n",
    "\n",
    "lam = [model.components_[k,:] for k in range(K)]\n",
    "\n",
    "def print_top_words(lam, feature_names, n_top_words):\n",
    "    for topic_id, topic in enumerate(lam):\n",
    "        print('\\nTopic Nr.%d:' % int(topic_id + 1))\n",
    "        print(''.join([feature_names[i] + ' ' + str(round(topic[i], 2))\n",
    "                       + ' | ' for i in topic.argsort()[:-n_top_words - 1:-1]]))\n",
    "print_top_words(lam, list(cv.get_feature_names()), 10)"
   ]
  },
  {
   "cell_type": "code",
   "execution_count": 14,
   "metadata": {},
   "outputs": [],
   "source": [
    "micro = pd.DataFrame({\n",
    "    'words':cv.get_feature_names(),\n",
    "    'degree':lam[0]\n",
    "}).sort_values(by='degree',ascending=False)\n",
    "\n",
    "toxi = pd.DataFrame({\n",
    "    'words':cv.get_feature_names(),\n",
    "    'degree':lam[1]\n",
    "}).sort_values(by='degree',ascending=False)"
   ]
  },
  {
   "cell_type": "code",
   "execution_count": 19,
   "metadata": {},
   "outputs": [],
   "source": [
    "top_words = pd.DataFrame({\n",
    "    'micro':micro['words'].tolist()[:100],\n",
    "    'toxi':toxi['words'].tolist()[:100]\n",
    "})"
   ]
  },
  {
   "cell_type": "code",
   "execution_count": 21,
   "metadata": {},
   "outputs": [],
   "source": [
    "top_words.to_csv('/Users/shinbo/Desktop/metting/FEKIM/top_100_words.csv', index=False)"
   ]
  }
 ],
 "metadata": {
  "kernelspec": {
   "display_name": "Python 3",
   "language": "python",
   "name": "python3"
  },
  "language_info": {
   "codemirror_mode": {
    "name": "ipython",
    "version": 3
   },
   "file_extension": ".py",
   "mimetype": "text/x-python",
   "name": "python",
   "nbconvert_exporter": "python",
   "pygments_lexer": "ipython3",
   "version": "3.7.6"
  }
 },
 "nbformat": 4,
 "nbformat_minor": 4
}
