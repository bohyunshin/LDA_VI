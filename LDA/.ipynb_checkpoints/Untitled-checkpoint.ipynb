{
 "cells": [
  {
   "cell_type": "code",
   "execution_count": 1,
   "metadata": {},
   "outputs": [],
   "source": [
    "from sklearn.feature_extraction.text import CountVectorizer\n",
    "from sklearn.decomposition import LatentDirichletAllocation\n",
    "import pickle\n",
    "import numpy as np\n",
    "\n",
    "cv = CountVectorizer()\n",
    "_dir = \"/Users/shinbo/Desktop/metting/LDA/0. data/20news-bydate/newsgroup_preprocessed.pickle\"\n",
    "\n",
    "\n",
    "class LDA_sklearn:\n",
    "    def __init__(self, path_data, alpha, eta, K):\n",
    "        # loading data\n",
    "        self.data = pickle.load(open(path_data, 'rb'))\n",
    "        np.random.seed(0)\n",
    "        idx = np.random.choice(len(self.data), 1000, replace=False)\n",
    "        self.data = [j for i, j in enumerate(self.data) if i in idx]\n",
    "        self.K = K\n",
    "        self.alpha = alpha\n",
    "        self.eta = eta\n",
    "\n",
    "    def _make_vocab(self):\n",
    "        self.vocab = []\n",
    "        for lst in self.data:\n",
    "            self.vocab += lst\n",
    "        self.vocab = sorted(list(set(self.vocab)))\n",
    "        self.w2idx = {j: i for i, j in enumerate(self.vocab)}\n",
    "        self.idx2w = {val: key for key, val in self.w2idx.items()}\n",
    "        self.doc2idx = [[self.w2idx[word] for word in doc] for doc in self.data]\n",
    "        self.data = [' '.join(doc) for doc in self.data]\n",
    "\n",
    "    def _cv(self):\n",
    "        self._make_vocab()\n",
    "        self.cv = CountVectorizer()\n",
    "        self.df = self.cv.fit_transform(self.data)\n",
    "\n",
    "    def _train(self):\n",
    "        self._make_vocab\n",
    "        self._cv()\n",
    "        lda = LatentDirichletAllocation(n_components=self.K, \n",
    "                                        doc_topic_prior=self.alpha, topic_word_prior=self.eta,\n",
    "                                        learning_method='batch', max_iter=1000)\n",
    "        lda.fit(self.df)\n",
    "        return lda"
   ]
  },
  {
   "cell_type": "code",
   "execution_count": 23,
   "metadata": {},
   "outputs": [],
   "source": [
    "lda = LDA_sklearn(_dir, 5, 0.1, 10)\n",
    "result = lda._train() "
   ]
  },
  {
   "cell_type": "code",
   "execution_count": 24,
   "metadata": {},
   "outputs": [
    {
     "name": "stdout",
     "output_type": "stream",
     "text": [
      "\n",
      "Topic Nr.1:\n",
      "right 204.85 | game 150.91 | people 144.01 | writes 143.6 | would 141.26 | well 137.47 | year 122.36 | article 113.84 | team 105.81 | government 103.5 | \n",
      "\n",
      "Topic Nr.2:\n",
      "say 170.88 | said 165.65 | one 134.63 | go 113.25 | people 112.32 | going 96.85 | day 91.28 | dont 89.25 | time 86.39 | well 81.59 | \n",
      "\n",
      "Topic Nr.3:\n",
      "god 267.02 | think 180.35 | believe 156.47 | one 156.11 | would 147.44 | say 118.72 | people 113.65 | thing 104.36 | dont 103.54 | like 102.93 | \n",
      "\n",
      "Topic Nr.4:\n",
      "key 179.45 | system 159.33 | also 107.91 | keyboard 97.06 | one 83.19 | price 82.14 | pc 75.4 | access 74.23 | de 73.55 | use 68.74 | \n",
      "\n",
      "Topic Nr.5:\n",
      "writes 163.52 | article 141.53 | one 126.43 | israel 98.1 | subject 96.38 | israeli 90.1 | would 89.81 | like 88.32 | number 83.49 | line 76.8 | \n",
      "\n",
      "Topic Nr.6:\n",
      "or 302.1 | do 121.04 | mr 59.5 | font 57.1 | subject 52.99 | help 52.64 | um 44.1 | organization 38.8 | world 37.09 | looking 36.37 | \n",
      "\n",
      "Topic Nr.7:\n",
      "line 407.15 | organization 293.7 | subject 284.25 | nntppostinghost 231.67 | drive 174.1 | computer 127.14 | problem 126.67 | card 125.1 | university 117.31 | good 114.3 | \n",
      "\n",
      "Topic Nr.8:\n",
      "subject 345.66 | line 339.4 | organization 326.72 | university 227.72 | nntppostinghost 129.99 | writes 120.05 | would 75.49 | anyone 74.78 | article 70.45 | unit 69.87 | \n",
      "\n",
      "Topic Nr.9:\n",
      "would 188.81 | ca 122.95 | article 122.37 | one 119.88 | car 115.32 | dont 110.51 | like 106.83 | gun 101.98 | time 100.82 | people 88.69 | \n",
      "\n",
      "Topic Nr.10:\n",
      "window 302.81 | file 291.98 | image 216.1 | jpeg 208.1 | program 173.59 | get 168.17 | version 165.11 | use 129.45 | available 128.65 | information 126.61 | \n"
     ]
    }
   ],
   "source": [
    "lda_lam = [result.components_[i,:] for i in range(10)]\n",
    "\n",
    "def print_top_words(lam, feature_names, n_top_words):\n",
    "    for topic_id, topic in enumerate(lam):\n",
    "        print('\\nTopic Nr.%d:' % int(topic_id + 1))\n",
    "        print(''.join([feature_names[i] + ' ' + str(round(topic[i], 2))\n",
    "                       + ' | ' for i in topic.argsort()[:-n_top_words - 1:-1]]))\n",
    "print_top_words(lda_lam, list(lda.cv.get_feature_names()), 10)"
   ]
  },
  {
   "cell_type": "code",
   "execution_count": 2,
   "metadata": {},
   "outputs": [
    {
     "ename": "FileNotFoundError",
     "evalue": "[Errno 2] No such file or directory: 'lda_model.pickle'",
     "output_type": "error",
     "traceback": [
      "\u001b[0;31m---------------------------------------------------------------------------\u001b[0m",
      "\u001b[0;31mFileNotFoundError\u001b[0m                         Traceback (most recent call last)",
      "\u001b[0;32m<ipython-input-2-7cb1e5c020ad>\u001b[0m in \u001b[0;36m<module>\u001b[0;34m\u001b[0m\n\u001b[0;32m----> 1\u001b[0;31m \u001b[0mmodel\u001b[0m \u001b[0;34m=\u001b[0m \u001b[0mpickle\u001b[0m\u001b[0;34m.\u001b[0m\u001b[0mload\u001b[0m\u001b[0;34m(\u001b[0m\u001b[0mopen\u001b[0m\u001b[0;34m(\u001b[0m\u001b[0;34m'lda_model.pickle'\u001b[0m\u001b[0;34m,\u001b[0m\u001b[0;34m'rb'\u001b[0m\u001b[0;34m)\u001b[0m\u001b[0;34m)\u001b[0m\u001b[0;34m\u001b[0m\u001b[0;34m\u001b[0m\u001b[0m\n\u001b[0m",
      "\u001b[0;31mFileNotFoundError\u001b[0m: [Errno 2] No such file or directory: 'lda_model.pickle'"
     ]
    }
   ],
   "source": [
    "model = pickle.load(open('lda_model.pickle','rb'))"
   ]
  },
  {
   "cell_type": "code",
   "execution_count": 3,
   "metadata": {},
   "outputs": [
    {
     "ename": "NameError",
     "evalue": "name 'lda' is not defined",
     "output_type": "error",
     "traceback": [
      "\u001b[0;31m---------------------------------------------------------------------------\u001b[0m",
      "\u001b[0;31mNameError\u001b[0m                                 Traceback (most recent call last)",
      "\u001b[0;32m<ipython-input-3-9ddc47f5cc4b>\u001b[0m in \u001b[0;36m<module>\u001b[0;34m\u001b[0m\n\u001b[0;32m----> 1\u001b[0;31m \u001b[0mlda\u001b[0m\u001b[0;34m.\u001b[0m\u001b[0mcv\u001b[0m\u001b[0;34m.\u001b[0m\u001b[0mvocabulary_\u001b[0m\u001b[0;34m[\u001b[0m\u001b[0;34m'god'\u001b[0m\u001b[0;34m]\u001b[0m\u001b[0;34m\u001b[0m\u001b[0;34m\u001b[0m\u001b[0m\n\u001b[0m",
      "\u001b[0;31mNameError\u001b[0m: name 'lda' is not defined"
     ]
    }
   ],
   "source": [
    "lda.cv.vocabulary_['god']"
   ]
  },
  {
   "cell_type": "code",
   "execution_count": 29,
   "metadata": {},
   "outputs": [
    {
     "data": {
      "text/plain": [
       "7902"
      ]
     },
     "execution_count": 29,
     "metadata": {},
     "output_type": "execute_result"
    }
   ],
   "source": [
    "model.cv.vocabulary_['god']"
   ]
  },
  {
   "cell_type": "code",
   "execution_count": 30,
   "metadata": {},
   "outputs": [],
   "source": [
    "from gensim.test.utils import common_corpus"
   ]
  },
  {
   "cell_type": "code",
   "execution_count": 31,
   "metadata": {},
   "outputs": [
    {
     "data": {
      "text/plain": [
       "[[(0, 1), (1, 1), (2, 1)],\n",
       " [(0, 1), (3, 1), (4, 1), (5, 1), (6, 1), (7, 1)],\n",
       " [(2, 1), (5, 1), (7, 1), (8, 1)],\n",
       " [(1, 1), (5, 2), (8, 1)],\n",
       " [(3, 1), (6, 1), (7, 1)],\n",
       " [(9, 1)],\n",
       " [(9, 1), (10, 1)],\n",
       " [(9, 1), (10, 1), (11, 1)],\n",
       " [(4, 1), (10, 1), (11, 1)]]"
      ]
     },
     "execution_count": 31,
     "metadata": {},
     "output_type": "execute_result"
    }
   ],
   "source": [
    "common_corpus"
   ]
  },
  {
   "cell_type": "code",
   "execution_count": null,
   "metadata": {},
   "outputs": [],
   "source": []
  }
 ],
 "metadata": {
  "kernelspec": {
   "display_name": "Python 3",
   "language": "python",
   "name": "python3"
  },
  "language_info": {
   "codemirror_mode": {
    "name": "ipython",
    "version": 3
   },
   "file_extension": ".py",
   "mimetype": "text/x-python",
   "name": "python",
   "nbconvert_exporter": "python",
   "pygments_lexer": "ipython3",
   "version": "3.7.6"
  }
 },
 "nbformat": 4,
 "nbformat_minor": 4
}
