{
 "cells": [
  {
   "cell_type": "markdown",
   "metadata": {},
   "source": [
    "\n",
    "## load data"
   ]
  },
  {
   "cell_type": "code",
   "execution_count": 15,
   "metadata": {},
   "outputs": [],
   "source": [
    "def print_top_words(lam, feature_names, n_top_words):\n",
    "    for topic_id, topic in enumerate(lam):\n",
    "        print('\\nTopic Nr.%d:' % int(topic_id + 1))\n",
    "        print(''.join([feature_names[i] + ' ' + str(round(topic[i], 2))\n",
    "                       + ' | ' for i in topic.argsort()[:-n_top_words - 1:-1]]))"
   ]
  },
  {
   "cell_type": "code",
   "execution_count": 19,
   "metadata": {},
   "outputs": [],
   "source": [
    "import pickle\n",
    "from sklearn.feature_extraction.text import CountVectorizer\n",
    "\n",
    "type_ = 'third_data'\n",
    "dir_ = f'/Users/shinbo/Desktop/metting/LDA/0. data/hotel data/preproc/{type_}_preproc.pkl'\n",
    "\n",
    "data = pickle.load(open(dir_, 'rb'))\n",
    "data_join = [' '.join(doc) for doc in data]\n",
    "cv = CountVectorizer()\n",
    "X = cv.fit_transform(data_join).toarray()"
   ]
  },
  {
   "cell_type": "markdown",
   "metadata": {},
   "source": [
    "## CDMM Result (one phase)"
   ]
  },
  {
   "cell_type": "code",
   "execution_count": 20,
   "metadata": {},
   "outputs": [
    {
     "name": "stdout",
     "output_type": "stream",
     "text": [
      "\n",
      "Topic Nr.1:\n",
      "price 1006.0 | money 1005.99 | rate 1005.0 | value 1004.0 | pay 1002.0 | charge 1002.0 | reasonably 1002.0 | cost 1001.99 | cheap 1001.0 | expensive 1000.0 | pricey 1000.0 | fee 1000.0 | cheaper 1000.0 | paid 1000.0 | de 31.1 | hotel 21.1 | la 18.1 | le 16.1 | et 14.1 | en 14.1 | \n",
      "\n",
      "Topic Nr.2:\n",
      "staff 1001.77 | helpful 1001.77 | service 1001.0 | help 1001.0 | offer 1001.0 | friendly 1001.0 | courteous 1000.77 | parking 1000.0 | towels 1000.0 | manager 1000.0 | serviced 1000.0 | desk 1000.0 | pool 1000.0 | solve 1000.0 | solved 1000.0 | check 1000.0 | offered 1000.0 | valet 1000.0 | welcoming 1000.0 | serve 1000.0 | \n",
      "\n",
      "Topic Nr.3:\n",
      "breakfast 1659.57 | hotel 1526.06 | room 1438.52 | restaurant 1206.71 | food 1198.26 | coffee 1195.86 | water 1147.49 | drink 1103.83 | fruit 1083.93 | dinner 1078.89 | stay 1068.51 | tea 1039.98 | cafe 1022.05 | starbucks 1017.08 | beverage 1015.51 | beverages 1004.0 | coconut 1004.0 | restaurants 1002.99 | cafes 1002.0 | staff 649.13 | \n",
      "\n",
      "Topic Nr.4:\n",
      "room 7481.68 | hotel 5764.14 | stay 4598.61 | staff 3405.2 | good 3171.46 | clean 3163.49 | great 3081.61 | nice 2457.56 | breakfast 2311.54 | friendly 1815.48 | location 1759.92 | bed 1683.4 | night 1517.5 | comfortable 1500.0 | get 1499.98 | time 1341.62 | place 1334.47 | one 1295.82 | area 1291.82 | well 1271.69 | \n"
     ]
    }
   ],
   "source": [
    "dir_model = f'/Users/shinbo/PycharmProjects/model_lda/{type_}/CDMM_result_{type_}.pkl'\n",
    "CDMM = pickle.load(open(dir_model,'rb'))\n",
    "CDMM_lam =  [CDMM.components_[k,:] for k in range(4)]\n",
    "print_top_words(CDMM_lam, list(cv.get_feature_names()), 20)"
   ]
  },
  {
   "cell_type": "markdown",
   "metadata": {},
   "source": [
    "## CDMM Result (two phase)"
   ]
  },
  {
   "cell_type": "code",
   "execution_count": 106,
   "metadata": {},
   "outputs": [
    {
     "name": "stdout",
     "output_type": "stream",
     "text": [
      "\n",
      "Topic Nr.1:\n",
      "pay 1079.08 | charge 1070.03 | fee 1069.21 | price 1064.93 | rate 1034.0 | cost 1033.74 | money 1025.6 | value 1023.94 | expensive 1020.05 | cheap 1007.0 | cheaper 1005.0 | reasonably 1004.9 | pricey 1004.0 | paid 1001.0 | fees 1001.0 | priced 1000.0 | room 442.94 | hotel 371.14 | stay 205.2 | one 152.11 | \n",
      "\n",
      "Topic Nr.2:\n",
      "room 5021.83 | hotel 4718.54 | beach 3236.78 | stay 2963.78 | staff 2933.38 | great 2686.82 | pool 2483.51 | view 2437.29 | service 2334.06 | waikiki 2330.47 | friendly 2090.22 | helpful 1852.73 | location 1745.25 | check 1671.38 | nice 1580.42 | parking 1539.6 | desk 1531.49 | offer 1410.86 | valet 1372.82 | clean 1258.58 | \n",
      "\n",
      "Topic Nr.3:\n",
      "hotel 3275.77 | great 2881.5 | room 2242.14 | restaurant 1922.88 | location 1905.46 | stay 1757.62 | beach 1712.54 | breakfast 1669.84 | good 1452.04 | food 1451.32 | coffee 1382.1 | staff 1375.04 | water 1322.32 | drink 1155.24 | tea 1120.52 | fruit 1116.91 | starbucks 1114.45 | waikiki 1095.58 | dinner 1092.39 | cafe 1085.53 | \n",
      "\n",
      "Topic Nr.4:\n",
      "location 1374.13 | front 1198.79 | elevator 1159.65 | balcony 1128.1 | bathroom 1126.4 | close 1125.09 | lobby 1075.32 | towel 1067.74 | room 1052.79 | far 1048.35 | bathrooms 1001.0 | stay 558.01 | hotel 403.11 | view 388.73 | great 341.57 | beach 327.68 | staff 323.66 | get 298.98 | ocean 249.64 | pool 208.28 | \n",
      "\n",
      "Topic Nr.5:\n",
      "hotel 8531.44 | stay 6584.4 | room 5560.3 | great 4443.48 | staff 3865.92 | beach 2963.47 | waikiki 2911.88 | location 2747.08 | time 2145.82 | place 1914.58 | service 1868.05 | view 1789.96 | good 1786.93 | nice 1737.73 | friendly 1647.69 | get 1627.02 | clean 1615.35 | make 1580.47 | pool 1511.76 | go 1510.42 | \n"
     ]
    }
   ],
   "source": [
    "CLDA = pickle.load(open('../../model_lda/CDMM_two_phase_result.pkl','rb'))\n",
    "CLDA_lam =  [CLDA.components_[k,:] for k in range(5)]\n",
    "print_top_words(CLDA_lam, list(cv.get_feature_names()), 20)"
   ]
  },
  {
   "cell_type": "code",
   "execution_count": 107,
   "metadata": {},
   "outputs": [
    {
     "data": {
      "text/plain": [
       "(0.525, 105)"
      ]
     },
     "execution_count": 107,
     "metadata": {},
     "output_type": "execute_result"
    }
   ],
   "source": [
    "import pandas as pd\n",
    "import numpy as np\n",
    "from collections import Counter\n",
    "def top_20_words_for_topics(CLDA_lam, n=50):\n",
    "    K = len(CLDA_lam)\n",
    "    words = {}\n",
    "    unique_words = []\n",
    "    for k in range(K):\n",
    "        CLDA_lam_word = pd.DataFrame({'word':cv.get_feature_names(), 'lam':CLDA.components_[k,:] }).sort_values(by='lam', ascending=False)\n",
    "        top_words = CLDA_lam_word.iloc[:n,:]['word'].tolist()\n",
    "        words[k] = CLDA_lam_word.iloc[:n,:].set_index('word').to_dict()['lam']\n",
    "        unique_words += top_words\n",
    "        \n",
    "    c = Counter(unique_words)\n",
    "    words_all_appear = []\n",
    "    for k,v in c.items():\n",
    "        if v == K:\n",
    "            words_all_appear.append(k)\n",
    "    \n",
    "    \n",
    "    \n",
    "    words_degree = []\n",
    "    for k in range(K):\n",
    "        for w,d in words[k].items():\n",
    "            if w in words_all_appear:\n",
    "                words_degree.append(d)\n",
    "        \n",
    "    return words, len(set(unique_words)) / (K*n), len(set(unique_words)) , np.mean(words_degree)\n",
    "words_, a, b, c = top_20_words_for_topics(CLDA_lam)\n",
    "a, b"
   ]
  },
  {
   "cell_type": "code",
   "execution_count": null,
   "metadata": {},
   "outputs": [],
   "source": []
  }
 ],
 "metadata": {
  "kernelspec": {
   "display_name": "Python 3",
   "language": "python",
   "name": "python3"
  },
  "language_info": {
   "codemirror_mode": {
    "name": "ipython",
    "version": 3
   },
   "file_extension": ".py",
   "mimetype": "text/x-python",
   "name": "python",
   "nbconvert_exporter": "python",
   "pygments_lexer": "ipython3",
   "version": "3.7.6"
  }
 },
 "nbformat": 4,
 "nbformat_minor": 4
}
