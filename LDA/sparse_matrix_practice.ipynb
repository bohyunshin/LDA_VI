{
 "cells": [
  {
   "cell_type": "code",
   "execution_count": 2,
   "metadata": {},
   "outputs": [],
   "source": [
    "import numpy as np\n",
    "from scipy.sparse import csr_matrix\n",
    "\n",
    "x = [[1, 0, 0, 0, 2],\n",
    "     [0, 3, 0, 4, 0],\n",
    "     [0, 0, 0, 0, 0],\n",
    "     [5, 0, 0, 6, 0]]\n",
    "x = np.asarray(x)\n",
    "csr = csr_matrix(x)"
   ]
  },
  {
   "cell_type": "code",
   "execution_count": 4,
   "metadata": {},
   "outputs": [
    {
     "data": {
      "text/plain": [
       "matrix([[1, 0, 0, 0, 2],\n",
       "        [0, 3, 0, 4, 0],\n",
       "        [0, 0, 0, 0, 0],\n",
       "        [5, 0, 0, 6, 0]], dtype=int64)"
      ]
     },
     "execution_count": 4,
     "metadata": {},
     "output_type": "execute_result"
    }
   ],
   "source": [
    "csr.todense()"
   ]
  },
  {
   "cell_type": "code",
   "execution_count": 16,
   "metadata": {},
   "outputs": [
    {
     "data": {
      "text/plain": [
       "array([1, 2, 3, 4, 5, 6], dtype=int64)"
      ]
     },
     "execution_count": 16,
     "metadata": {},
     "output_type": "execute_result"
    }
   ],
   "source": [
    "csr.data"
   ]
  },
  {
   "cell_type": "code",
   "execution_count": 15,
   "metadata": {},
   "outputs": [
    {
     "data": {
      "text/plain": [
       "array([0, 4, 1, 3, 0, 3], dtype=int32)"
      ]
     },
     "execution_count": 15,
     "metadata": {},
     "output_type": "execute_result"
    }
   ],
   "source": [
    "csr.indices"
   ]
  },
  {
   "cell_type": "code",
   "execution_count": 13,
   "metadata": {},
   "outputs": [
    {
     "data": {
      "text/plain": [
       "array([0, 2, 4, 4, 6], dtype=int32)"
      ]
     },
     "execution_count": 13,
     "metadata": {},
     "output_type": "execute_result"
    }
   ],
   "source": [
    "csr.indptr"
   ]
  },
  {
   "cell_type": "code",
   "execution_count": 10,
   "metadata": {},
   "outputs": [
    {
     "data": {
      "text/plain": [
       "dict_values([1, 2, 3, 4, 5, 6])"
      ]
     },
     "execution_count": 10,
     "metadata": {},
     "output_type": "execute_result"
    }
   ],
   "source": [
    "from scipy.sparse import dok_matrix\n",
    "\n",
    "dok = dok_matrix(x)\n",
    "dok.values()"
   ]
  },
  {
   "cell_type": "code",
   "execution_count": 14,
   "metadata": {},
   "outputs": [
    {
     "name": "stdout",
     "output_type": "stream",
     "text": [
      "(0, 0) = 1\n",
      "(0, 4) = 2\n",
      "(1, 1) = 3\n",
      "(1, 3) = 4\n",
      "(3, 0) = 5\n",
      "(3, 3) = 6\n"
     ]
    }
   ],
   "source": [
    "for i, (b, e) in enumerate(zip(csr.indptr, csr.indptr[1:])):\n",
    "    for idx in range(b, e):\n",
    "        j = csr.indices[idx]\n",
    "        d = csr.data[idx]\n",
    "        print('({}, {}) = {}'.format(i, j, d))"
   ]
  },
  {
   "cell_type": "code",
   "execution_count": 39,
   "metadata": {},
   "outputs": [
    {
     "data": {
      "text/plain": [
       "array([], dtype=int64)"
      ]
     },
     "execution_count": 39,
     "metadata": {},
     "output_type": "execute_result"
    }
   ],
   "source": [
    "def csr_mat_slicing(x, row, col, row_slicing=False):\n",
    "    data = x.data\n",
    "    indices = x.indices\n",
    "    indptr = x.indptr\n",
    "    \n",
    "    b_indx = indptr[row]\n",
    "    e_indx = indptr[row+1]\n",
    "    row_values = data[b_indx:e_indx]\n",
    "    if row_slicing:\n",
    "        return row_values\n",
    "    col_indices = indices[b_indx:e_indx]\n",
    "    \n",
    "    return row_values[np.where(col_indices == col)[0]]\n",
    "\n",
    "def csr_row_slicing(x, row):\n",
    "    data = x.data\n",
    "    indices = x.indices\n",
    "    indptr = x.indptr\n",
    "    \n",
    "    b_indx = indptr[row]\n",
    "    e_indx = indptr[row+1]\n",
    "\n",
    "csr_mat_slicing(csr, 1,2)"
   ]
  },
  {
   "cell_type": "code",
   "execution_count": 43,
   "metadata": {},
   "outputs": [],
   "source": [
    "from sklearn.feature_extraction.text import CountVectorizer"
   ]
  },
  {
   "cell_type": "code",
   "execution_count": 47,
   "metadata": {},
   "outputs": [],
   "source": [
    "example = ['hi my name is eden hazard',\n",
    "          'my name is englo kante']\n",
    "\n",
    "cv = CountVectorizer()\n",
    "cv_fit = cv.fit_transform(example)"
   ]
  },
  {
   "cell_type": "code",
   "execution_count": 50,
   "metadata": {},
   "outputs": [
    {
     "data": {
      "text/plain": [
       "{'hi': 3,\n",
       " 'my': 6,\n",
       " 'name': 7,\n",
       " 'is': 4,\n",
       " 'eden': 0,\n",
       " 'hazard': 2,\n",
       " 'englo': 1,\n",
       " 'kante': 5}"
      ]
     },
     "execution_count": 50,
     "metadata": {},
     "output_type": "execute_result"
    }
   ],
   "source": [
    "cv.vocabulary_"
   ]
  },
  {
   "cell_type": "code",
   "execution_count": 73,
   "metadata": {},
   "outputs": [],
   "source": [
    "from scipy.sparse import csr_matrix\n",
    "\n",
    "rows = [0, 0, 1, 1, 3, 3]\n",
    "cols = [0, 4, 1, 3, 0, 3]\n",
    "data = [1, 2, 3, 4, 5, 6]\n",
    "csr = csr_matrix((data, (rows, cols)))"
   ]
  },
  {
   "cell_type": "code",
   "execution_count": 74,
   "metadata": {},
   "outputs": [
    {
     "data": {
      "text/plain": [
       "array([[1, 0, 0, 0, 2],\n",
       "       [0, 3, 0, 4, 0],\n",
       "       [0, 0, 0, 0, 0],\n",
       "       [5, 0, 0, 6, 0]], dtype=int64)"
      ]
     },
     "execution_count": 74,
     "metadata": {},
     "output_type": "execute_result"
    }
   ],
   "source": [
    "csr.toarray()"
   ]
  },
  {
   "cell_type": "code",
   "execution_count": 54,
   "metadata": {
    "scrolled": true
   },
   "outputs": [],
   "source": [
    "a = csr_matrix((4,5))"
   ]
  },
  {
   "cell_type": "code",
   "execution_count": 55,
   "metadata": {},
   "outputs": [
    {
     "data": {
      "text/plain": [
       "<4x5 sparse matrix of type '<class 'numpy.float64'>'\n",
       "\twith 0 stored elements in Compressed Sparse Row format>"
      ]
     },
     "execution_count": 55,
     "metadata": {},
     "output_type": "execute_result"
    }
   ],
   "source": [
    "a"
   ]
  },
  {
   "cell_type": "code",
   "execution_count": 63,
   "metadata": {},
   "outputs": [
    {
     "data": {
      "text/plain": [
       "array([[2, 0, 0, 0, 3],\n",
       "       [0, 3, 0, 4, 0],\n",
       "       [0, 0, 0, 0, 0],\n",
       "       [5, 0, 0, 6, 0]], dtype=int64)"
      ]
     },
     "execution_count": 63,
     "metadata": {},
     "output_type": "execute_result"
    }
   ],
   "source": [
    "csr.toarray()"
   ]
  },
  {
   "cell_type": "code",
   "execution_count": 66,
   "metadata": {},
   "outputs": [
    {
     "data": {
      "text/plain": [
       "array([1, 3], dtype=int32)"
      ]
     },
     "execution_count": 66,
     "metadata": {},
     "output_type": "execute_result"
    }
   ],
   "source": [
    "csr.indices[csr.indptr[1]:csr.indptr[2]]"
   ]
  },
  {
   "cell_type": "code",
   "execution_count": 98,
   "metadata": {},
   "outputs": [
    {
     "data": {
      "text/plain": [
       "array([[1, 0, 0, 0, 2],\n",
       "       [0, 3, 0, 4, 0],\n",
       "       [0, 0, 0, 0, 0],\n",
       "       [5, 0, 0, 6, 0]], dtype=int64)"
      ]
     },
     "execution_count": 98,
     "metadata": {},
     "output_type": "execute_result"
    }
   ],
   "source": [
    "ex = csr_matrix((4,5))\n",
    "ex.indptr = csr.indptr\n",
    "ex.indices = csr.indices\n",
    "ex.data = csr.data\n",
    "ex.toarray()"
   ]
  },
  {
   "cell_type": "code",
   "execution_count": 100,
   "metadata": {},
   "outputs": [
    {
     "data": {
      "text/plain": [
       "array([[1, 0, 0, 0, 2],\n",
       "       [0, 3, 0, 4, 0],\n",
       "       [0, 0, 0, 0, 0],\n",
       "       [5, 0, 0, 6, 0]], dtype=int64)"
      ]
     },
     "execution_count": 100,
     "metadata": {},
     "output_type": "execute_result"
    }
   ],
   "source": [
    "csr.toarray()"
   ]
  },
  {
   "cell_type": "code",
   "execution_count": 104,
   "metadata": {},
   "outputs": [
    {
     "data": {
      "text/plain": [
       "array([1, 2, 3, 4, 5, 6], dtype=int64)"
      ]
     },
     "execution_count": 104,
     "metadata": {},
     "output_type": "execute_result"
    }
   ],
   "source": [
    "csr.data"
   ]
  },
  {
   "cell_type": "code",
   "execution_count": 93,
   "metadata": {},
   "outputs": [
    {
     "data": {
      "text/plain": [
       "array([0, 4, 1, 3, 0, 3], dtype=int32)"
      ]
     },
     "execution_count": 93,
     "metadata": {},
     "output_type": "execute_result"
    }
   ],
   "source": [
    "csr.indices"
   ]
  },
  {
   "cell_type": "code",
   "execution_count": 94,
   "metadata": {},
   "outputs": [
    {
     "data": {
      "text/plain": [
       "array([0, 2, 4, 4, 6], dtype=int32)"
      ]
     },
     "execution_count": 94,
     "metadata": {},
     "output_type": "execute_result"
    }
   ],
   "source": [
    "csr.indptr"
   ]
  },
  {
   "cell_type": "code",
   "execution_count": 8,
   "metadata": {},
   "outputs": [],
   "source": [
    "ex = csr_matrix((5,5))\n",
    "indptr = np.array([0,0,5,1,1,1])\n",
    "indices = np.array(range(5))\n",
    "data = np.repeat(1,5)\n",
    "ex.indptr = indptr\n",
    "ex.indices = indices\n",
    "ex.data = data"
   ]
  },
  {
   "cell_type": "code",
   "execution_count": 9,
   "metadata": {},
   "outputs": [
    {
     "data": {
      "text/plain": [
       "array([[0, 0, 0, 0, 0],\n",
       "       [1, 1, 1, 1, 1],\n",
       "       [0, 0, 0, 0, 0],\n",
       "       [0, 0, 0, 0, 0],\n",
       "       [0, 0, 0, 0, 0]])"
      ]
     },
     "execution_count": 9,
     "metadata": {},
     "output_type": "execute_result"
    }
   ],
   "source": [
    "ex.toarray()"
   ]
  },
  {
   "cell_type": "code",
   "execution_count": 25,
   "metadata": {},
   "outputs": [],
   "source": [
    "def make_sparse_Nd_mat(word_nonzero_indices, V, K):\n",
    "    mat = csr_matrix((V, K))\n",
    "    \n",
    "    indptr = [0]\n",
    "    \n",
    "    for i in word_nonzero_indices:\n",
    "        if i in word_nonzero_indices:\n",
    "            indptr.append(indptr[-1]+5)\n",
    "        else:\n",
    "            indptr.append(indptr[-1])\n",
    "            \n",
    "    begin_append = np.zeros(min(word_nonzero_indices))\n",
    "    end_append = np.zeros(V-max(word_nonzero_indices))\n",
    "    \n",
    "    indptr = list(begin_append) + indptr + list(end_append)\n",
    "    data = np.ones(max(indptr))\n",
    "    indices = np.tile(range(K), len(word_nonzero_indices))\n",
    "    \n",
    "    mat.indptr = indptr\n",
    "    mat.indices = indices\n",
    "    mat.data = data\n",
    "    \n",
    "    return mat"
   ]
  },
  {
   "cell_type": "code",
   "execution_count": 101,
   "metadata": {},
   "outputs": [],
   "source": [
    "import numpy as np\n",
    "from scipy.sparse import csr_matrix\n",
    "\n",
    "word_nonzero_indices = [3,6,10,15,19]\n",
    "index_minus = [ word_nonzero_indices[i+1] - word_nonzero_indices[i] -1\n",
    "                   for i in range(len(word_nonzero_indices)) if i != len(word_nonzero_indices)-1]\n",
    "index_minus.append(0)\n",
    "\n",
    "V = 20\n",
    "K = 5\n",
    "\n",
    "mat = csr_matrix((V, K))\n",
    "\n",
    "indptr = [0]\n",
    "\n",
    "for i,j in zip(word_nonzero_indices, index_minus):\n",
    "    indptr.append(indptr[-1]+5)\n",
    "    indptr += list(np.repeat(indptr[-1],j))\n",
    "\n",
    "begin_append = np.zeros(min(word_nonzero_indices))\n",
    "end_append = np.zeros(V-max(word_nonzero_indices)-1)\n",
    "\n",
    "indptr = list(begin_append) + indptr + list(end_append)\n",
    "data = np.ones(max(indptr))\n",
    "indices = np.tile(range(K), len(word_nonzero_indices))\n",
    "\n",
    "mat.indptr = np.array(indptr, dtype=np.int8)\n",
    "mat.indices = indices\n",
    "mat.data = data"
   ]
  },
  {
   "cell_type": "code",
   "execution_count": 103,
   "metadata": {},
   "outputs": [],
   "source": [
    "a = {}\n",
    "a[0] = mat"
   ]
  },
  {
   "cell_type": "code",
   "execution_count": 108,
   "metadata": {},
   "outputs": [],
   "source": [
    "a[0][1,:] /= 10000"
   ]
  },
  {
   "cell_type": "code",
   "execution_count": 109,
   "metadata": {},
   "outputs": [
    {
     "data": {
      "text/plain": [
       "array([[0.   , 0.   , 0.   , 0.   , 0.   ],\n",
       "       [0.001, 0.001, 0.001, 0.001, 0.001],\n",
       "       [0.   , 0.   , 0.   , 0.   , 0.   ],\n",
       "       [1.   , 1.   , 1.   , 1.   , 1.   ],\n",
       "       [0.   , 0.   , 0.   , 0.   , 0.   ],\n",
       "       [0.   , 0.   , 0.   , 0.   , 0.   ],\n",
       "       [1.   , 1.   , 1.   , 1.   , 1.   ],\n",
       "       [0.   , 0.   , 0.   , 0.   , 0.   ],\n",
       "       [0.   , 0.   , 0.   , 0.   , 0.   ],\n",
       "       [0.   , 0.   , 0.   , 0.   , 0.   ],\n",
       "       [1.   , 1.   , 1.   , 1.   , 1.   ],\n",
       "       [0.   , 0.   , 0.   , 0.   , 0.   ],\n",
       "       [0.   , 0.   , 0.   , 0.   , 0.   ],\n",
       "       [0.   , 0.   , 0.   , 0.   , 0.   ],\n",
       "       [0.   , 0.   , 0.   , 0.   , 0.   ],\n",
       "       [1.   , 1.   , 1.   , 1.   , 1.   ],\n",
       "       [0.   , 0.   , 0.   , 0.   , 0.   ],\n",
       "       [0.   , 0.   , 0.   , 0.   , 0.   ],\n",
       "       [0.   , 0.   , 0.   , 0.   , 0.   ],\n",
       "       [1.   , 1.   , 1.   , 1.   , 1.   ]])"
      ]
     },
     "execution_count": 109,
     "metadata": {},
     "output_type": "execute_result"
    }
   ],
   "source": [
    "a[0].A"
   ]
  },
  {
   "cell_type": "code",
   "execution_count": null,
   "metadata": {},
   "outputs": [],
   "source": []
  },
  {
   "cell_type": "code",
   "execution_count": 93,
   "metadata": {},
   "outputs": [],
   "source": [
    "mat.data[:5] = 10"
   ]
  },
  {
   "cell_type": "code",
   "execution_count": 94,
   "metadata": {},
   "outputs": [],
   "source": [
    "nonzero_mask = np.array(mat[mat.nonzero()] < 3)[0]\n",
    "rows = mat.nonzero()[0][nonzero_mask]\n",
    "cols = mat.nonzero()[1][nonzero_mask]"
   ]
  },
  {
   "cell_type": "code",
   "execution_count": 95,
   "metadata": {},
   "outputs": [
    {
     "data": {
      "text/plain": [
       "<20x5 sparse matrix of type '<class 'numpy.float64'>'\n",
       "\twith 25 stored elements in Compressed Sparse Row format>"
      ]
     },
     "execution_count": 95,
     "metadata": {},
     "output_type": "execute_result"
    }
   ],
   "source": [
    "mat[rows,cols] *= 100\n",
    "mat"
   ]
  },
  {
   "cell_type": "code",
   "execution_count": 99,
   "metadata": {},
   "outputs": [],
   "source": [
    "mat[1,:]=100"
   ]
  },
  {
   "cell_type": "code",
   "execution_count": null,
   "metadata": {},
   "outputs": [],
   "source": []
  }
 ],
 "metadata": {
  "kernelspec": {
   "display_name": "Python 3",
   "language": "python",
   "name": "python3"
  },
  "language_info": {
   "codemirror_mode": {
    "name": "ipython",
    "version": 3
   },
   "file_extension": ".py",
   "mimetype": "text/x-python",
   "name": "python",
   "nbconvert_exporter": "python",
   "pygments_lexer": "ipython3",
   "version": "3.7.6"
  }
 },
 "nbformat": 4,
 "nbformat_minor": 4
}
