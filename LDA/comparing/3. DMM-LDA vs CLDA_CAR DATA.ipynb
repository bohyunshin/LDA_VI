{
 "cells": [
  {
   "cell_type": "markdown",
   "metadata": {},
   "source": [
    "\n",
    "## load data"
   ]
  },
  {
   "cell_type": "code",
   "execution_count": 30,
   "metadata": {},
   "outputs": [],
   "source": [
    "import sys\n",
    "import pandas as pd\n",
    "sys.path.append('/Users/shinbo/PycharmProjects/paper/LDA')\n",
    "\n",
    "def print_top_words(lam, feature_names, n_top_words):\n",
    "    for topic_id, topic in enumerate(lam):\n",
    "        print('\\nTopic Nr.%d:' % int(topic_id + 1))\n",
    "        print(''.join([feature_names[i] + ' ' + str(round(topic[i], 2))\n",
    "                       + ' | ' for i in topic.argsort()[:-n_top_words - 1:-1]]))\n",
    "        \n",
    "def TOP_N_WORDS_df(MODEL, TOP_N_WORDS, col_names):\n",
    "    DMM_LDA_Top_words = pd.DataFrame()\n",
    "    for i in range(4):\n",
    "        temp = pd.DataFrame({'words':cv.get_feature_names(), 'lambda':MODEL.components_[i,:]})\n",
    "        temp = temp.sort_values(by='lambda', ascending=False).iloc[:TOP_N_WORDS,:]\n",
    "        DMM_LDA_Top_words[i] = temp['words'].tolist()\n",
    "    DMM_LDA_Top_words.columns = col_names\n",
    "    return DMM_LDA_Top_words"
   ]
  },
  {
   "cell_type": "code",
   "execution_count": 31,
   "metadata": {},
   "outputs": [],
   "source": [
    "import pickle\n",
    "from sklearn.feature_extraction.text import CountVectorizer\n",
    "\n",
    "dir_ = '/Users/shinbo/Desktop/metting/LDA/paper/experiments/car/prepare/preproc.pkl'\n",
    "data = pickle.load(open(dir_, 'rb'))\n",
    "stop_words = ['the','and','to','it','be','have','in','for','of','this','that']\n",
    "for i in range(len(data)):\n",
    "    data[i] = [w for w in data[i] if w not in stop_words]\n",
    "\n",
    "data_join = [' '.join(doc) for doc in data]\n",
    "cv = CountVectorizer()\n",
    "X = cv.fit_transform(data_join).toarray()"
   ]
  },
  {
   "cell_type": "markdown",
   "metadata": {},
   "source": [
    "## DMM-LDA Result"
   ]
  },
  {
   "cell_type": "code",
   "execution_count": 32,
   "metadata": {},
   "outputs": [
    {
     "name": "stdout",
     "output_type": "stream",
     "text": [
      "\n",
      "Topic Nr.1:\n",
      "car 7322.76 | great 4526.08 | love 3900.49 | good 3640.23 | drive 3420.85 | vehicle 2644.53 | get 2480.67 | well 2165.74 | gas 2113.73 | look 1912.93 | mileage 1892.02 | comfortable 1818.07 | ride 1766.79 | hyundai 1705.93 | like 1563.34 | one 1482.46 | feature 1453.09 | buy 1377.13 | new 1352.95 | truck 1199.15 | \n",
      "\n",
      "Topic Nr.2:\n",
      "car 3727.79 | drive 2727.61 | love 2298.13 | vehicle 1937.69 | great 1787.52 | seat 1703.31 | like 1294.77 | get 1261.66 | well 1063.21 | comfortable 1017.82 | hyundai 1002.26 | good 994.92 | back 925.02 | look 915.15 | one 772.24 | use 745.22 | make 725.71 | ride 698.01 | time 684.02 | feature 674.12 | \n",
      "\n",
      "Topic Nr.3:\n",
      "car 5841.9 | get 2530.84 | drive 2431.69 | like 1737.27 | seat 1723.53 | good 1692.21 | great 1637.97 | well 1578.11 | vehicle 1434.86 | gas 1157.88 | one 1151.1 | love 1132.88 | mpg 1080.97 | look 1076.9 | mile 1062.77 | buy 1044.83 | go 1041.9 | mileage 1014.86 | back 966.97 | feature 950.52 | \n",
      "\n",
      "Topic Nr.4:\n",
      "car 3721.6 | drive 2276.89 | get 1659.87 | vehicle 1329.95 | mile 1281.77 | like 1246.66 | great 1108.47 | go 1090.7 | buy 995.66 | new 974.63 | one 919.23 | well 914.99 | toyota 864.8 | year 834.33 | make 811.58 | time 799.98 | good 799.68 | hyundai 787.9 | mpg 724.03 | love 719.54 | \n"
     ]
    }
   ],
   "source": [
    "dir_model = '/Users/shinbo/Desktop/metting/LDA/paper/experiments/car/model/DMM_result.pkl'\n",
    "DMM_LDA = pickle.load(open(dir_model,'rb'))\n",
    "TOP_N_WORDS = 100\n",
    "DMM_LDA_Top_words = TOP_N_WORDS_df(DMM_LDA, TOP_N_WORDS, [f'Topic {i}' for i in range(1,5)])\n",
    "\n",
    "DMM_LDA_lam =  [DMM_LDA.components_[k,:] for k in range(4)]\n",
    "print_top_words(DMM_LDA_lam, list(cv.get_feature_names()), 20)"
   ]
  },
  {
   "cell_type": "code",
   "execution_count": 33,
   "metadata": {},
   "outputs": [
    {
     "data": {
      "text/html": [
       "<div>\n",
       "<style scoped>\n",
       "    .dataframe tbody tr th:only-of-type {\n",
       "        vertical-align: middle;\n",
       "    }\n",
       "\n",
       "    .dataframe tbody tr th {\n",
       "        vertical-align: top;\n",
       "    }\n",
       "\n",
       "    .dataframe thead th {\n",
       "        text-align: right;\n",
       "    }\n",
       "</style>\n",
       "<table border=\"1\" class=\"dataframe\">\n",
       "  <thead>\n",
       "    <tr style=\"text-align: right;\">\n",
       "      <th></th>\n",
       "      <th>Topic 1</th>\n",
       "      <th>Topic 2</th>\n",
       "      <th>Topic 3</th>\n",
       "      <th>Topic 4</th>\n",
       "    </tr>\n",
       "  </thead>\n",
       "  <tbody>\n",
       "    <tr>\n",
       "      <th>0</th>\n",
       "      <td>car</td>\n",
       "      <td>car</td>\n",
       "      <td>car</td>\n",
       "      <td>car</td>\n",
       "    </tr>\n",
       "    <tr>\n",
       "      <th>1</th>\n",
       "      <td>great</td>\n",
       "      <td>drive</td>\n",
       "      <td>get</td>\n",
       "      <td>drive</td>\n",
       "    </tr>\n",
       "    <tr>\n",
       "      <th>2</th>\n",
       "      <td>love</td>\n",
       "      <td>love</td>\n",
       "      <td>drive</td>\n",
       "      <td>get</td>\n",
       "    </tr>\n",
       "    <tr>\n",
       "      <th>3</th>\n",
       "      <td>good</td>\n",
       "      <td>vehicle</td>\n",
       "      <td>like</td>\n",
       "      <td>vehicle</td>\n",
       "    </tr>\n",
       "    <tr>\n",
       "      <th>4</th>\n",
       "      <td>drive</td>\n",
       "      <td>great</td>\n",
       "      <td>seat</td>\n",
       "      <td>mile</td>\n",
       "    </tr>\n",
       "    <tr>\n",
       "      <th>5</th>\n",
       "      <td>vehicle</td>\n",
       "      <td>seat</td>\n",
       "      <td>good</td>\n",
       "      <td>like</td>\n",
       "    </tr>\n",
       "    <tr>\n",
       "      <th>6</th>\n",
       "      <td>get</td>\n",
       "      <td>like</td>\n",
       "      <td>great</td>\n",
       "      <td>great</td>\n",
       "    </tr>\n",
       "    <tr>\n",
       "      <th>7</th>\n",
       "      <td>well</td>\n",
       "      <td>get</td>\n",
       "      <td>well</td>\n",
       "      <td>go</td>\n",
       "    </tr>\n",
       "    <tr>\n",
       "      <th>8</th>\n",
       "      <td>gas</td>\n",
       "      <td>well</td>\n",
       "      <td>vehicle</td>\n",
       "      <td>buy</td>\n",
       "    </tr>\n",
       "    <tr>\n",
       "      <th>9</th>\n",
       "      <td>look</td>\n",
       "      <td>comfortable</td>\n",
       "      <td>gas</td>\n",
       "      <td>new</td>\n",
       "    </tr>\n",
       "    <tr>\n",
       "      <th>10</th>\n",
       "      <td>mileage</td>\n",
       "      <td>hyundai</td>\n",
       "      <td>one</td>\n",
       "      <td>one</td>\n",
       "    </tr>\n",
       "    <tr>\n",
       "      <th>11</th>\n",
       "      <td>comfortable</td>\n",
       "      <td>good</td>\n",
       "      <td>love</td>\n",
       "      <td>well</td>\n",
       "    </tr>\n",
       "    <tr>\n",
       "      <th>12</th>\n",
       "      <td>ride</td>\n",
       "      <td>back</td>\n",
       "      <td>mpg</td>\n",
       "      <td>toyota</td>\n",
       "    </tr>\n",
       "    <tr>\n",
       "      <th>13</th>\n",
       "      <td>hyundai</td>\n",
       "      <td>look</td>\n",
       "      <td>look</td>\n",
       "      <td>year</td>\n",
       "    </tr>\n",
       "    <tr>\n",
       "      <th>14</th>\n",
       "      <td>like</td>\n",
       "      <td>one</td>\n",
       "      <td>mile</td>\n",
       "      <td>make</td>\n",
       "    </tr>\n",
       "    <tr>\n",
       "      <th>15</th>\n",
       "      <td>one</td>\n",
       "      <td>use</td>\n",
       "      <td>buy</td>\n",
       "      <td>time</td>\n",
       "    </tr>\n",
       "    <tr>\n",
       "      <th>16</th>\n",
       "      <td>feature</td>\n",
       "      <td>make</td>\n",
       "      <td>go</td>\n",
       "      <td>good</td>\n",
       "    </tr>\n",
       "    <tr>\n",
       "      <th>17</th>\n",
       "      <td>buy</td>\n",
       "      <td>ride</td>\n",
       "      <td>mileage</td>\n",
       "      <td>hyundai</td>\n",
       "    </tr>\n",
       "    <tr>\n",
       "      <th>18</th>\n",
       "      <td>new</td>\n",
       "      <td>time</td>\n",
       "      <td>back</td>\n",
       "      <td>mpg</td>\n",
       "    </tr>\n",
       "    <tr>\n",
       "      <th>19</th>\n",
       "      <td>truck</td>\n",
       "      <td>feature</td>\n",
       "      <td>feature</td>\n",
       "      <td>love</td>\n",
       "    </tr>\n",
       "  </tbody>\n",
       "</table>\n",
       "</div>"
      ],
      "text/plain": [
       "        Topic 1      Topic 2  Topic 3  Topic 4\n",
       "0           car          car      car      car\n",
       "1         great        drive      get    drive\n",
       "2          love         love    drive      get\n",
       "3          good      vehicle     like  vehicle\n",
       "4         drive        great     seat     mile\n",
       "5       vehicle         seat     good     like\n",
       "6           get         like    great    great\n",
       "7          well          get     well       go\n",
       "8           gas         well  vehicle      buy\n",
       "9          look  comfortable      gas      new\n",
       "10      mileage      hyundai      one      one\n",
       "11  comfortable         good     love     well\n",
       "12         ride         back      mpg   toyota\n",
       "13      hyundai         look     look     year\n",
       "14         like          one     mile     make\n",
       "15          one          use      buy     time\n",
       "16      feature         make       go     good\n",
       "17          buy         ride  mileage  hyundai\n",
       "18          new         time     back      mpg\n",
       "19        truck      feature  feature     love"
      ]
     },
     "execution_count": 33,
     "metadata": {},
     "output_type": "execute_result"
    }
   ],
   "source": [
    "TOP_N_WORDS = 100\n",
    "DMM_LDA_Top_words = TOP_N_WORDS_df(DMM_LDA, TOP_N_WORDS, [f'Topic {i}' for i in range(1,5)])\n",
    "DMM_LDA_Top_words.iloc[:20,:]"
   ]
  },
  {
   "cell_type": "code",
   "execution_count": 34,
   "metadata": {},
   "outputs": [
    {
     "data": {
      "text/plain": [
       "[5758.651933982371,\n",
       " 4743.643975855394,\n",
       " 4741.550794991352,\n",
       " 4741.254252601297,\n",
       " 4740.998772353899,\n",
       " 4740.959271022596,\n",
       " 4740.828607141327,\n",
       " 4740.827821522816,\n",
       " 4740.827452564663,\n",
       " 4740.827351686921,\n",
       " 4740.827351162218]"
      ]
     },
     "execution_count": 34,
     "metadata": {},
     "output_type": "execute_result"
    }
   ],
   "source": [
    "DMM_LDA.perplexity"
   ]
  },
  {
   "cell_type": "markdown",
   "metadata": {},
   "source": [
    "## DMM-CLDA Result"
   ]
  },
  {
   "cell_type": "code",
   "execution_count": 35,
   "metadata": {},
   "outputs": [
    {
     "data": {
      "text/html": [
       "<div>\n",
       "<style scoped>\n",
       "    .dataframe tbody tr th:only-of-type {\n",
       "        vertical-align: middle;\n",
       "    }\n",
       "\n",
       "    .dataframe tbody tr th {\n",
       "        vertical-align: top;\n",
       "    }\n",
       "\n",
       "    .dataframe thead th {\n",
       "        text-align: right;\n",
       "    }\n",
       "</style>\n",
       "<table border=\"1\" class=\"dataframe\">\n",
       "  <thead>\n",
       "    <tr style=\"text-align: right;\">\n",
       "      <th></th>\n",
       "      <th>interior/exterior</th>\n",
       "      <th>seat</th>\n",
       "      <th>engine</th>\n",
       "      <th>technology</th>\n",
       "    </tr>\n",
       "  </thead>\n",
       "  <tbody>\n",
       "    <tr>\n",
       "      <th>0</th>\n",
       "      <td>car</td>\n",
       "      <td>car</td>\n",
       "      <td>car</td>\n",
       "      <td>car</td>\n",
       "    </tr>\n",
       "    <tr>\n",
       "      <th>1</th>\n",
       "      <td>great</td>\n",
       "      <td>seat</td>\n",
       "      <td>drive</td>\n",
       "      <td>drive</td>\n",
       "    </tr>\n",
       "    <tr>\n",
       "      <th>2</th>\n",
       "      <td>love</td>\n",
       "      <td>drive</td>\n",
       "      <td>get</td>\n",
       "      <td>feature</td>\n",
       "    </tr>\n",
       "    <tr>\n",
       "      <th>3</th>\n",
       "      <td>drive</td>\n",
       "      <td>comfortable</td>\n",
       "      <td>good</td>\n",
       "      <td>get</td>\n",
       "    </tr>\n",
       "    <tr>\n",
       "      <th>4</th>\n",
       "      <td>good</td>\n",
       "      <td>love</td>\n",
       "      <td>like</td>\n",
       "      <td>vehicle</td>\n",
       "    </tr>\n",
       "    <tr>\n",
       "      <th>5</th>\n",
       "      <td>vehicle</td>\n",
       "      <td>vehicle</td>\n",
       "      <td>great</td>\n",
       "      <td>like</td>\n",
       "    </tr>\n",
       "    <tr>\n",
       "      <th>6</th>\n",
       "      <td>hyundai</td>\n",
       "      <td>great</td>\n",
       "      <td>well</td>\n",
       "      <td>mile</td>\n",
       "    </tr>\n",
       "    <tr>\n",
       "      <th>7</th>\n",
       "      <td>get</td>\n",
       "      <td>passenger</td>\n",
       "      <td>vehicle</td>\n",
       "      <td>technology</td>\n",
       "    </tr>\n",
       "    <tr>\n",
       "      <th>8</th>\n",
       "      <td>gas</td>\n",
       "      <td>get</td>\n",
       "      <td>seat</td>\n",
       "      <td>great</td>\n",
       "    </tr>\n",
       "    <tr>\n",
       "      <th>9</th>\n",
       "      <td>look</td>\n",
       "      <td>like</td>\n",
       "      <td>love</td>\n",
       "      <td>tech</td>\n",
       "    </tr>\n",
       "    <tr>\n",
       "      <th>10</th>\n",
       "      <td>well</td>\n",
       "      <td>back</td>\n",
       "      <td>one</td>\n",
       "      <td>electronic</td>\n",
       "    </tr>\n",
       "    <tr>\n",
       "      <th>11</th>\n",
       "      <td>mileage</td>\n",
       "      <td>backseat</td>\n",
       "      <td>mile</td>\n",
       "      <td>equipment</td>\n",
       "    </tr>\n",
       "    <tr>\n",
       "      <th>12</th>\n",
       "      <td>interior</td>\n",
       "      <td>chair</td>\n",
       "      <td>gas</td>\n",
       "      <td>software</td>\n",
       "    </tr>\n",
       "    <tr>\n",
       "      <th>13</th>\n",
       "      <td>comfortable</td>\n",
       "      <td>legroom</td>\n",
       "      <td>go</td>\n",
       "      <td>new</td>\n",
       "    </tr>\n",
       "    <tr>\n",
       "      <th>14</th>\n",
       "      <td>style</td>\n",
       "      <td>lumbar</td>\n",
       "      <td>transmission</td>\n",
       "      <td>well</td>\n",
       "    </tr>\n",
       "    <tr>\n",
       "      <th>15</th>\n",
       "      <td>ride</td>\n",
       "      <td>seating</td>\n",
       "      <td>buy</td>\n",
       "      <td>go</td>\n",
       "    </tr>\n",
       "    <tr>\n",
       "      <th>16</th>\n",
       "      <td>one</td>\n",
       "      <td>headrest</td>\n",
       "      <td>look</td>\n",
       "      <td>gadget</td>\n",
       "    </tr>\n",
       "    <tr>\n",
       "      <th>17</th>\n",
       "      <td>like</td>\n",
       "      <td>well</td>\n",
       "      <td>mpg</td>\n",
       "      <td>hightech</td>\n",
       "    </tr>\n",
       "    <tr>\n",
       "      <th>18</th>\n",
       "      <td>color</td>\n",
       "      <td>occupant</td>\n",
       "      <td>mileage</td>\n",
       "      <td>toyota</td>\n",
       "    </tr>\n",
       "    <tr>\n",
       "      <th>19</th>\n",
       "      <td>feature</td>\n",
       "      <td>setback</td>\n",
       "      <td>truck</td>\n",
       "      <td>musthave</td>\n",
       "    </tr>\n",
       "  </tbody>\n",
       "</table>\n",
       "</div>"
      ],
      "text/plain": [
       "   interior/exterior         seat        engine  technology\n",
       "0                car          car           car         car\n",
       "1              great         seat         drive       drive\n",
       "2               love        drive           get     feature\n",
       "3              drive  comfortable          good         get\n",
       "4               good         love          like     vehicle\n",
       "5            vehicle      vehicle         great        like\n",
       "6            hyundai        great          well        mile\n",
       "7                get    passenger       vehicle  technology\n",
       "8                gas          get          seat       great\n",
       "9               look         like          love        tech\n",
       "10              well         back           one  electronic\n",
       "11           mileage     backseat          mile   equipment\n",
       "12          interior        chair           gas    software\n",
       "13       comfortable      legroom            go         new\n",
       "14             style       lumbar  transmission        well\n",
       "15              ride      seating           buy          go\n",
       "16               one     headrest          look      gadget\n",
       "17              like         well           mpg    hightech\n",
       "18             color     occupant       mileage      toyota\n",
       "19           feature      setback         truck    musthave"
      ]
     },
     "execution_count": 35,
     "metadata": {},
     "output_type": "execute_result"
    }
   ],
   "source": [
    "dir_model = '/Users/shinbo/Desktop/metting/LDA/paper/experiments/car/model/CDMM_result.pkl'\n",
    "DMM_CLDA = pickle.load(open(dir_model,'rb'))\n",
    "DMM_CLDA_lam =  [DMM_CLDA.components_[k,:] for k in range(4)]\n",
    "TOP_N_WORDS = 100\n",
    "DMM_CLDA_Top_words = TOP_N_WORDS_df(DMM_CLDA, TOP_N_WORDS, ['interior/exterior','seat','engine','technology'] )\n",
    "# DMM_CLDA_Top_words.iloc[:20,].to_csv('/Users/shinbo/Desktop/metting/LDA/meeting materials/21.05.03/DMM_CLDA.csv', index=False)\n",
    "DMM_CLDA_Top_words.iloc[:20,:]"
   ]
  },
  {
   "cell_type": "code",
   "execution_count": 36,
   "metadata": {},
   "outputs": [
    {
     "data": {
      "text/plain": [
       "[5741.483676435864,\n",
       " 5078.835969575386,\n",
       " 5062.36134608448,\n",
       " 5057.237993382419,\n",
       " 5055.190169228761,\n",
       " 5053.674410167468,\n",
       " 5052.787120501556,\n",
       " 5051.334631668527,\n",
       " 5050.735515061504,\n",
       " 5050.662555487965,\n",
       " 5050.661841961357,\n",
       " 5050.5231006965205,\n",
       " 5050.455496526494,\n",
       " 5050.396899576233,\n",
       " 5050.394995920674,\n",
       " 5050.39499584388]"
      ]
     },
     "execution_count": 36,
     "metadata": {},
     "output_type": "execute_result"
    }
   ],
   "source": [
    "DMM_CLDA.perplexity"
   ]
  },
  {
   "cell_type": "markdown",
   "metadata": {},
   "source": [
    "## source result"
   ]
  },
  {
   "cell_type": "code",
   "execution_count": 37,
   "metadata": {},
   "outputs": [
    {
     "data": {
      "text/html": [
       "<div>\n",
       "<style scoped>\n",
       "    .dataframe tbody tr th:only-of-type {\n",
       "        vertical-align: middle;\n",
       "    }\n",
       "\n",
       "    .dataframe tbody tr th {\n",
       "        vertical-align: top;\n",
       "    }\n",
       "\n",
       "    .dataframe thead th {\n",
       "        text-align: right;\n",
       "    }\n",
       "</style>\n",
       "<table border=\"1\" class=\"dataframe\">\n",
       "  <thead>\n",
       "    <tr style=\"text-align: right;\">\n",
       "      <th></th>\n",
       "      <th>Topic 1</th>\n",
       "      <th>Topic 2</th>\n",
       "      <th>Topic 3</th>\n",
       "      <th>Topic 4</th>\n",
       "    </tr>\n",
       "  </thead>\n",
       "  <tbody>\n",
       "    <tr>\n",
       "      <th>0</th>\n",
       "      <td>car</td>\n",
       "      <td>car</td>\n",
       "      <td>car</td>\n",
       "      <td>car</td>\n",
       "    </tr>\n",
       "    <tr>\n",
       "      <th>1</th>\n",
       "      <td>good</td>\n",
       "      <td>drive</td>\n",
       "      <td>get</td>\n",
       "      <td>drive</td>\n",
       "    </tr>\n",
       "    <tr>\n",
       "      <th>2</th>\n",
       "      <td>truck</td>\n",
       "      <td>great</td>\n",
       "      <td>drive</td>\n",
       "      <td>get</td>\n",
       "    </tr>\n",
       "    <tr>\n",
       "      <th>3</th>\n",
       "      <td>great</td>\n",
       "      <td>love</td>\n",
       "      <td>seat</td>\n",
       "      <td>vehicle</td>\n",
       "    </tr>\n",
       "    <tr>\n",
       "      <th>4</th>\n",
       "      <td>get</td>\n",
       "      <td>vehicle</td>\n",
       "      <td>like</td>\n",
       "      <td>like</td>\n",
       "    </tr>\n",
       "    <tr>\n",
       "      <th>5</th>\n",
       "      <td>engine</td>\n",
       "      <td>good</td>\n",
       "      <td>good</td>\n",
       "      <td>mile</td>\n",
       "    </tr>\n",
       "    <tr>\n",
       "      <th>6</th>\n",
       "      <td>love</td>\n",
       "      <td>get</td>\n",
       "      <td>great</td>\n",
       "      <td>great</td>\n",
       "    </tr>\n",
       "    <tr>\n",
       "      <th>7</th>\n",
       "      <td>well</td>\n",
       "      <td>hyundai</td>\n",
       "      <td>well</td>\n",
       "      <td>go</td>\n",
       "    </tr>\n",
       "    <tr>\n",
       "      <th>8</th>\n",
       "      <td>power</td>\n",
       "      <td>well</td>\n",
       "      <td>vehicle</td>\n",
       "      <td>new</td>\n",
       "    </tr>\n",
       "    <tr>\n",
       "      <th>9</th>\n",
       "      <td>drive</td>\n",
       "      <td>comfortable</td>\n",
       "      <td>love</td>\n",
       "      <td>buy</td>\n",
       "    </tr>\n",
       "    <tr>\n",
       "      <th>10</th>\n",
       "      <td>gas</td>\n",
       "      <td>look</td>\n",
       "      <td>gas</td>\n",
       "      <td>well</td>\n",
       "    </tr>\n",
       "    <tr>\n",
       "      <th>11</th>\n",
       "      <td>ride</td>\n",
       "      <td>like</td>\n",
       "      <td>one</td>\n",
       "      <td>one</td>\n",
       "    </tr>\n",
       "    <tr>\n",
       "      <th>12</th>\n",
       "      <td>look</td>\n",
       "      <td>gas</td>\n",
       "      <td>back</td>\n",
       "      <td>toyota</td>\n",
       "    </tr>\n",
       "    <tr>\n",
       "      <th>13</th>\n",
       "      <td>one</td>\n",
       "      <td>mileage</td>\n",
       "      <td>look</td>\n",
       "      <td>use</td>\n",
       "    </tr>\n",
       "    <tr>\n",
       "      <th>14</th>\n",
       "      <td>like</td>\n",
       "      <td>ride</td>\n",
       "      <td>mile</td>\n",
       "      <td>make</td>\n",
       "    </tr>\n",
       "    <tr>\n",
       "      <th>15</th>\n",
       "      <td>vehicle</td>\n",
       "      <td>one</td>\n",
       "      <td>mpg</td>\n",
       "      <td>year</td>\n",
       "    </tr>\n",
       "    <tr>\n",
       "      <th>16</th>\n",
       "      <td>new</td>\n",
       "      <td>seat</td>\n",
       "      <td>buy</td>\n",
       "      <td>time</td>\n",
       "    </tr>\n",
       "    <tr>\n",
       "      <th>17</th>\n",
       "      <td>need</td>\n",
       "      <td>feature</td>\n",
       "      <td>go</td>\n",
       "      <td>hyundai</td>\n",
       "    </tr>\n",
       "    <tr>\n",
       "      <th>18</th>\n",
       "      <td>use</td>\n",
       "      <td>buy</td>\n",
       "      <td>mileage</td>\n",
       "      <td>good</td>\n",
       "    </tr>\n",
       "    <tr>\n",
       "      <th>19</th>\n",
       "      <td>mileage</td>\n",
       "      <td>new</td>\n",
       "      <td>feature</td>\n",
       "      <td>purchase</td>\n",
       "    </tr>\n",
       "  </tbody>\n",
       "</table>\n",
       "</div>"
      ],
      "text/plain": [
       "    Topic 1      Topic 2  Topic 3   Topic 4\n",
       "0       car          car      car       car\n",
       "1      good        drive      get     drive\n",
       "2     truck        great    drive       get\n",
       "3     great         love     seat   vehicle\n",
       "4       get      vehicle     like      like\n",
       "5    engine         good     good      mile\n",
       "6      love          get    great     great\n",
       "7      well      hyundai     well        go\n",
       "8     power         well  vehicle       new\n",
       "9     drive  comfortable     love       buy\n",
       "10      gas         look      gas      well\n",
       "11     ride         like      one       one\n",
       "12     look          gas     back    toyota\n",
       "13      one      mileage     look       use\n",
       "14     like         ride     mile      make\n",
       "15  vehicle          one      mpg      year\n",
       "16      new         seat      buy      time\n",
       "17     need      feature       go   hyundai\n",
       "18      use          buy  mileage      good\n",
       "19  mileage          new  feature  purchase"
      ]
     },
     "execution_count": 37,
     "metadata": {},
     "output_type": "execute_result"
    }
   ],
   "source": [
    "dir_model = f'/Users/shinbo/Desktop/metting/LDA/paper/experiments/car/model/DMM_source_result.pkl'\n",
    "DMM_source = pickle.load(open(dir_model,'rb'))\n",
    "DMM_source_lam =  [DMM_source.components_[k,:] for k in range(4)]\n",
    "TOP_N_WORDS = 100\n",
    "DMM_source_Top_words = TOP_N_WORDS_df(DMM_source, TOP_N_WORDS, [f'Topic {i}' for i in range(1,5)])\n",
    "# DMM_source_Top_words.iloc[:20,].to_csv(\n",
    "#     '/Users/shinbo/Desktop/metting/LDA/meeting materials/21.05.03/lambda_1.csv',\n",
    "#     index=False\n",
    "# )\n",
    "DMM_source_Top_words.iloc[:20,:]"
   ]
  },
  {
   "cell_type": "code",
   "execution_count": 38,
   "metadata": {},
   "outputs": [
    {
     "data": {
      "text/plain": [
       "[9652.905762586222,\n",
       " 6175.42771315452,\n",
       " 6159.336700865537,\n",
       " 6157.095788003708,\n",
       " 6156.771859330399,\n",
       " 6156.707096916834,\n",
       " 6156.683192116745,\n",
       " 6156.683191561489]"
      ]
     },
     "execution_count": 38,
     "metadata": {},
     "output_type": "execute_result"
    }
   ],
   "source": [
    "DMM_source.perplexity"
   ]
  },
  {
   "cell_type": "code",
   "execution_count": 67,
   "metadata": {},
   "outputs": [
    {
     "name": "stdout",
     "output_type": "stream",
     "text": [
      "0\n",
      "10\n",
      "20\n",
      "30\n",
      "40\n",
      "50\n",
      "60\n",
      "70\n"
     ]
    }
   ],
   "source": [
    "for i in range(0,10*(len(DMM_source.perplexity)-1)+1,10):\n",
    "    print(i)"
   ]
  },
  {
   "cell_type": "code",
   "execution_count": 70,
   "metadata": {},
   "outputs": [
    {
     "data": {
      "image/png": "[encoded data removed]",
      "text/plain": [
       "<Figure size 432x288 with 1 Axes>"
      ]
     },
     "metadata": {
      "needs_background": "light"
     },
     "output_type": "display_data"
    }
   ],
   "source": [
    "import matplotlib.pyplot as plt\n",
    "import seaborn as sns\n",
    "a = pd.DataFrame({'model':'DMM-LDA','perplexity':DMM_LDA.perplexity,'n':range(0,10*(len(DMM_LDA.perplexity)-1)+1,10) })\n",
    "b = pd.DataFrame({'model':'DMM-source','perplexity':DMM_source.perplexity,'n':range(0,10*(len(DMM_source.perplexity)-1)+1,10)})\n",
    "c = pd.DataFrame({'model':'DMM-CLDA','perplexity':DMM_CLDA.perplexity,'n':range(0,10*(len(DMM_CLDA.perplexity)-1)+1,10)})\n",
    "perplexity = pd.concat([a,b,c], axis=0)\n",
    "sns.lineplot(x='n',y='perplexity',hue='model',data=perplexity)\n",
    "plt.savefig('/Users/shinbo/Desktop/metting/LDA/paper/experiments/car/fig/BC.png')\n",
    "plt.show()"
   ]
  },
  {
   "cell_type": "code",
   "execution_count": 24,
   "metadata": {},
   "outputs": [
    {
     "data": {
      "text/plain": [
       "(0.38, 95)"
      ]
     },
     "execution_count": 24,
     "metadata": {},
     "output_type": "execute_result"
    }
   ],
   "source": [
    "import pandas as pd\n",
    "import numpy as np\n",
    "from collections import Counter\n",
    "def top_20_words_for_topics(CLDA_lam,CDMM, aux=None, n=50):\n",
    "    if aux is True:\n",
    "        K = len(CLDA_lam)-1\n",
    "    else:\n",
    "        K = len(CLDA_lam)\n",
    "    words = {}\n",
    "    unique_words = []\n",
    "    for k in range(K):\n",
    "        CLDA_lam_word = pd.DataFrame({'word':cv.get_feature_names(), 'lam':CDMM.components_[k,:] }).sort_values(by='lam', ascending=False)\n",
    "        top_words = CLDA_lam_word.iloc[:n,:]['word'].tolist()\n",
    "        words[k] = CLDA_lam_word.iloc[:n,:].set_index('word').to_dict()['lam']\n",
    "        unique_words += top_words\n",
    "        \n",
    "    c = Counter(unique_words)\n",
    "    words_all_appear = []\n",
    "    for k,v in c.items():\n",
    "        if v == K:\n",
    "            words_all_appear.append(k)\n",
    "    \n",
    "    \n",
    "    \n",
    "    words_degree = []\n",
    "    for k in range(K):\n",
    "        for w,d in words[k].items():\n",
    "            if w in words_all_appear:\n",
    "                words_degree.append(d)\n",
    "        \n",
    "    return words_all_appear, len(set(unique_words)) / (K*n), len(set(unique_words)) , np.mean(words_degree)\n",
    "words_, uq_words_ratio, uq_words_nums, asso_deg = top_20_words_for_topics(DMM_LDA_lam,DMM_LDA, n=50)\n",
    "uq_words_ratio, uq_words_nums"
   ]
  },
  {
   "cell_type": "code",
   "execution_count": 25,
   "metadata": {},
   "outputs": [
    {
     "data": {
      "text/plain": [
       "(0.46, 115)"
      ]
     },
     "execution_count": 25,
     "metadata": {},
     "output_type": "execute_result"
    }
   ],
   "source": [
    "words_, uq_words_ratio, uq_words_nums, asso_deg = top_20_words_for_topics(DMM_CLDA_lam,DMM_CLDA, n=50)\n",
    "uq_words_ratio, uq_words_nums"
   ]
  },
  {
   "cell_type": "code",
   "execution_count": 56,
   "metadata": {},
   "outputs": [
    {
     "data": {
      "text/plain": [
       "(0.632, 158)"
      ]
     },
     "execution_count": 56,
     "metadata": {},
     "output_type": "execute_result"
    }
   ],
   "source": [
    "words_, uq_words_ratio, uq_words_nums, asso_deg = top_20_words_for_topics(DMM_source_lam,DMM_source, n=50)\n",
    "uq_words_ratio, uq_words_nums"
   ]
  },
  {
   "cell_type": "markdown",
   "metadata": {},
   "source": [
    "## n 변화시켜가며 비율 살펴보기"
   ]
  },
  {
   "cell_type": "code",
   "execution_count": 9,
   "metadata": {},
   "outputs": [],
   "source": [
    "def varying_n(lam,mod):\n",
    "    result = {}\n",
    "    for n in range(10,51,10):\n",
    "        words_, uq_words_ratio, uq_words_nums, asso_deg = top_20_words_for_topics(lam, mod, n=n)\n",
    "        result[n] = (uq_words_ratio, uq_words_nums)\n",
    "    return result"
   ]
  },
  {
   "cell_type": "code",
   "execution_count": 10,
   "metadata": {},
   "outputs": [
    {
     "data": {
      "text/plain": [
       "{10: (0.575, 23),\n",
       " 20: (0.4625, 37),\n",
       " 30: (0.4166666666666667, 50),\n",
       " 40: (0.4375, 70),\n",
       " 50: (0.43, 86)}"
      ]
     },
     "execution_count": 10,
     "metadata": {},
     "output_type": "execute_result"
    }
   ],
   "source": [
    "varying_n(DMM_LDA_lam,DMM_LDA)"
   ]
  },
  {
   "cell_type": "code",
   "execution_count": 11,
   "metadata": {},
   "outputs": [
    {
     "name": "stderr",
     "output_type": "stream",
     "text": [
      "/Users/shinbo/opt/anaconda3/lib/python3.7/site-packages/numpy/core/fromnumeric.py:3335: RuntimeWarning: Mean of empty slice.\n",
      "  out=out, **kwargs)\n",
      "/Users/shinbo/opt/anaconda3/lib/python3.7/site-packages/numpy/core/_methods.py:161: RuntimeWarning: invalid value encountered in double_scalars\n",
      "  ret = ret.dtype.type(ret / rcount)\n"
     ]
    },
    {
     "data": {
      "text/plain": [
       "{10: (0.9, 36),\n",
       " 20: (0.85, 68),\n",
       " 30: (0.65, 78),\n",
       " 40: (0.575, 92),\n",
       " 50: (0.535, 107)}"
      ]
     },
     "execution_count": 11,
     "metadata": {},
     "output_type": "execute_result"
    }
   ],
   "source": [
    "varying_n(DMM_CLDA_lam,DMM_CLDA)"
   ]
  },
  {
   "cell_type": "code",
   "execution_count": 31,
   "metadata": {},
   "outputs": [
    {
     "name": "stderr",
     "output_type": "stream",
     "text": [
      "/Users/shinbo/opt/anaconda3/lib/python3.7/site-packages/numpy/core/fromnumeric.py:3335: RuntimeWarning: Mean of empty slice.\n",
      "  out=out, **kwargs)\n",
      "/Users/shinbo/opt/anaconda3/lib/python3.7/site-packages/numpy/core/_methods.py:161: RuntimeWarning: invalid value encountered in double_scalars\n",
      "  ret = ret.dtype.type(ret / rcount)\n"
     ]
    },
    {
     "data": {
      "text/plain": [
       "{10: (0.825, 33),\n",
       " 20: (0.7625, 61),\n",
       " 30: (0.75, 90),\n",
       " 40: (0.74375, 119),\n",
       " 50: (0.745, 149)}"
      ]
     },
     "execution_count": 31,
     "metadata": {},
     "output_type": "execute_result"
    }
   ],
   "source": [
    "varying_n(DMM_source_lam,DMM_source)"
   ]
  },
  {
   "cell_type": "code",
   "execution_count": 32,
   "metadata": {},
   "outputs": [
    {
     "data": {
      "text/plain": [
       "[15683.33882455813, 4862.665228800802, 4862.573836663506, 4862.573774702469]"
      ]
     },
     "execution_count": 32,
     "metadata": {},
     "output_type": "execute_result"
    }
   ],
   "source": [
    "DMM_source.perplexity"
   ]
  },
  {
   "cell_type": "markdown",
   "metadata": {},
   "source": [
    "## Glove 벡터 이용"
   ]
  },
  {
   "cell_type": "code",
   "execution_count": 12,
   "metadata": {},
   "outputs": [],
   "source": [
    "n=0\n",
    "glove_dir = '/Users/shinbo/Desktop/metting/LDA/paper/word_embedding/glove.6B/glove.6B.100d.txt'\n",
    "word2glove = {}\n",
    "with open(glove_dir, encoding=\"utf8\") as f:\n",
    "\n",
    "    for line in f:\n",
    "        word_vector = line.split() # 각 줄을 읽어와서 word_vector에 저장.\n",
    "        word = word_vector[0] # word_vector에서 첫번째 값만 저장\n",
    "        word2glove[word] = np.array([float(i) for i in word_vector[1:]])"
   ]
  },
  {
   "cell_type": "code",
   "execution_count": 39,
   "metadata": {},
   "outputs": [],
   "source": [
    "from scipy.spatial.distance import cosine\n",
    "TOP_N_WORDS = 10\n",
    "DMM_LDA_Top_words = TOP_N_WORDS_df(DMM_LDA, TOP_N_WORDS, [f'Topic {i}' for i in range(1,5)])\n",
    "DMM_CLDA_Top_words = TOP_N_WORDS_df(DMM_CLDA, TOP_N_WORDS, ['interior/exterior','seat','engine','technology'] )\n",
    "DMM_source_Top_words = TOP_N_WORDS_df(DMM_source, TOP_N_WORDS, ['interior/exterior','seat','engine','technology'] )     "
   ]
  },
  {
   "cell_type": "code",
   "execution_count": 22,
   "metadata": {},
   "outputs": [
    {
     "name": "stdout",
     "output_type": "stream",
     "text": [
      "Topic 1 18.30634151716085\n",
      "Topic 2 20.692595438908235\n",
      "Topic 3 22.837739656762945\n",
      "Topic 4 21.904842424916218\n",
      "20.935379759437062\n",
      "\n",
      "price 24.96277772064167\n",
      "service 15.167980320395671\n",
      "food 19.916207420563286\n",
      "accomodation 18.910066678221664\n",
      "19.739258034955572\n"
     ]
    }
   ],
   "source": [
    "from itertools import combinations\n",
    "# 하나의 토픽 내에서 nC2\n",
    "# 큰 값이 좋은 것임\n",
    "def cosine_sim(df):\n",
    "    total = 0\n",
    "    for col in df.columns:\n",
    "        cos_val = 0\n",
    "        words = df[col].tolist()\n",
    "        for c in combinations(words,2):\n",
    "#             print(c)\n",
    "            cos_val += 1-cosine(word2glove[c[0]], word2glove[c[1]])\n",
    "#             print(c)\n",
    "#             print(cosine(word2glove[c[0]], word2glove[c[1]]))\n",
    "        print(col, cos_val)\n",
    "        total += cos_val\n",
    "\n",
    "cosine_sim(DMM_LDA_Top_words)\n",
    "print()\n",
    "cosine_sim(DMM_CLDA_Top_words)"
   ]
  },
  {
   "cell_type": "markdown",
   "metadata": {},
   "source": [
    "### word2vec 이용"
   ]
  },
  {
   "cell_type": "code",
   "execution_count": 40,
   "metadata": {},
   "outputs": [],
   "source": [
    "import gensim\n",
    "\n",
    "w2v_dir = '/Users/shinbo/Desktop/metting/LDA/paper/word_embedding/GoogleNews-vectors-negative300.bin/GoogleNews-vectors-negative300.bin'\n",
    "word2vec_model = gensim.models.keyedvectors.KeyedVectors.load_word2vec_format(\n",
    "    w2v_dir, binary=True\n",
    ")"
   ]
  },
  {
   "cell_type": "code",
   "execution_count": 42,
   "metadata": {},
   "outputs": [
    {
     "name": "stdout",
     "output_type": "stream",
     "text": [
      "Mean: 8.560708199162036\n",
      "\n",
      "Mean: 8.371545041212812\n",
      "\n",
      "Mean: 8.979767326905858\n"
     ]
    }
   ],
   "source": [
    "# 하나의 토픽 내에서 nC2\n",
    "# 큰 값이 좋은 것임\n",
    "from collections import Counter\n",
    "from itertools import combinations\n",
    "from scipy.spatial.distance import cosine\n",
    "N=10\n",
    "def cosine_sim_w2v(df,N):\n",
    "    df = df.iloc[:N,:]\n",
    "    total = 0\n",
    "    for col in df.columns:\n",
    "        cos_val = 0\n",
    "        words = df[col].tolist()\n",
    "        for c in combinations(words,2):\n",
    "#             print(c)\n",
    "            try:\n",
    "                cos_val += 1-cosine(word2vec_model.get_vector(c[0]),\n",
    "                               word2vec_model.get_vector(c[1]))\n",
    "            except:\n",
    "                pass\n",
    "#             print(c)\n",
    "#             print(cosine(word2glove[c[0]], word2glove[c[1]]))\n",
    "#         print(col, cos_val)\n",
    "        total += cos_val\n",
    "    return total\n",
    "result = cosine_sim_w2v(DMM_LDA_Top_words,N)\n",
    "print(f'Mean: {result/4}')\n",
    "print()\n",
    "result = cosine_sim_w2v(DMM_CLDA_Top_words,N)\n",
    "print(f'Mean: {result/4}')\n",
    "print()\n",
    "result = cosine_sim_w2v(DMM_source_Top_words,N)\n",
    "print(f'Mean: {result/4}')"
   ]
  },
  {
   "cell_type": "markdown",
   "metadata": {},
   "source": [
    "### topic cross"
   ]
  },
  {
   "cell_type": "code",
   "execution_count": 43,
   "metadata": {},
   "outputs": [],
   "source": [
    "from scipy.spatial.distance import cosine\n",
    "TOP_N_WORDS = 100\n",
    "DMM_LDA_Top_words = TOP_N_WORDS_df(DMM_LDA, TOP_N_WORDS, [f'Topic {i}' for i in range(1,5)])\n",
    "DMM_CLDA_Top_words = TOP_N_WORDS_df(DMM_CLDA, TOP_N_WORDS, ['interior/exterior','seat','engine','technology'] )\n",
    "DMM_source_Top_words = TOP_N_WORDS_df(DMM_source, TOP_N_WORDS, ['interior/exterior','seat','engine','technology'] )     "
   ]
  },
  {
   "cell_type": "code",
   "execution_count": 44,
   "metadata": {},
   "outputs": [],
   "source": [
    "def topic_cross(df,N):\n",
    "    df = df.iloc[:N,:]\n",
    "    cols = list(df.columns)\n",
    "    total = 0\n",
    "    result = {}\n",
    "    for col in cols:\n",
    "        result[col] = {}\n",
    "        rest_cols = list(set(cols) - set([col]))\n",
    "        for word in df[col].tolist():\n",
    "            # cosine sim within topic\n",
    "            cos_val_intrinsic = 0\n",
    "            for intra_word in list( set(df[col].tolist()) - set([word]) ):\n",
    "                try:\n",
    "                    cos_val_intrinsic += 1-cosine(word2vec_model.get_vector(word),\n",
    "                           word2vec_model.get_vector(intra_word))\n",
    "                except:\n",
    "                    pass\n",
    "            # cosin sim between topic\n",
    "            max_cos_val_between = 1e-10\n",
    "            for cross_col in rest_cols:\n",
    "                cos_val_between = 0\n",
    "                for cross_word in df[cross_col].tolist():\n",
    "                    try:\n",
    "                        cos_val_between += 1-cosine(word2vec_model.get_vector(word),\n",
    "                               word2vec_model.get_vector(cross_word))\n",
    "                    except:\n",
    "                        pass\n",
    "                if max_cos_val_between < cos_val_between:\n",
    "                    max_cos_val_between = cos_val_between\n",
    "            # compare within topic vs between topic\n",
    "            if cos_val_intrinsic < max_cos_val_between:\n",
    "                result[col][word] = 0\n",
    "            else:\n",
    "                result[col][word] = 1\n",
    "    val = 0\n",
    "    for topic in result.keys():\n",
    "        for word in result[topic].keys():\n",
    "            val += result[topic][word]\n",
    "#         print(topic, f' :{val}')\n",
    "    return val\n",
    "        \n",
    "# topic_cross(DMM_LDA_Top_words,N=50)\n",
    "# print()\n",
    "# topic_cross(DMM_CLDA_Top_words,N=50)\n",
    "# print()\n",
    "# topic_cross(DMM_source_Top_words,N=50)"
   ]
  },
  {
   "cell_type": "code",
   "execution_count": 45,
   "metadata": {},
   "outputs": [],
   "source": [
    "result_LDA = pd.DataFrame()\n",
    "for n in range(10,101,10):\n",
    "    a = cosine_sim_w2v(DMM_LDA_Top_words,n)\n",
    "    b = topic_cross(DMM_LDA_Top_words,n)\n",
    "    row = [n,'DMM_LDA',a,b]\n",
    "    result_LDA = pd.concat([result_LDA, pd.DataFrame(row).T])\n",
    "\n",
    "result_CLDA = pd.DataFrame()\n",
    "for n in range(10,101,10):\n",
    "    a = cosine_sim_w2v(DMM_CLDA_Top_words,n)\n",
    "    b = topic_cross(DMM_CLDA_Top_words,n)\n",
    "    row = [n,'DMM_CLDA',a,b]\n",
    "    result_CLDA = pd.concat([result_CLDA, pd.DataFrame(row).T])\n",
    "\n",
    "result_source = pd.DataFrame()\n",
    "for n in range(10,101,10):\n",
    "    a = cosine_sim_w2v(DMM_source_Top_words,n)\n",
    "    b = topic_cross(DMM_source_Top_words,n)\n",
    "    row = [n,'DMM_source',a,b]\n",
    "    result_source = pd.concat([result_source, pd.DataFrame(row).T])\n",
    "    \n",
    "result = pd.concat([result_LDA,result_CLDA,result_source])\n",
    "result.columns = ['n','model','intrinsic','cross']\n",
    "\n",
    "result['intrinsic'] = result['intrinsic'].astype(float)\n",
    "result['cross'] = result['cross'].astype(float)"
   ]
  },
  {
   "cell_type": "code",
   "execution_count": 46,
   "metadata": {},
   "outputs": [],
   "source": [
    "df_diff_1 = pd.DataFrame({'n':[i for i in range(10,101,10)]})\n",
    "df_diff_1['intrinsic'] = list(result_CLDA.iloc[:,2] - result_LDA.iloc[:,2])\n",
    "df_diff_1['model'] = 'CLDA-LDA'\n",
    "\n",
    "df_diff_2 = pd.DataFrame({'n':[i for i in range(10,101,10)]})\n",
    "df_diff_2['intrinsic'] = list(result_CLDA.iloc[:,2] - result_source.iloc[:,2])\n",
    "df_diff_2['model'] = 'CLDA-source'\n",
    "\n",
    "df_diff = pd.concat([df_diff_1,df_diff_2])"
   ]
  },
  {
   "cell_type": "code",
   "execution_count": 71,
   "metadata": {},
   "outputs": [
    {
     "data": {
      "text/plain": [
       "<function matplotlib.pyplot.show(*args, **kw)>"
      ]
     },
     "execution_count": 71,
     "metadata": {},
     "output_type": "execute_result"
    },
    {
     "data": {
      "image/png": "[encoded data removed]",
      "text/plain": [
       "<Figure size 432x288 with 1 Axes>"
      ]
     },
     "metadata": {
      "needs_background": "light"
     },
     "output_type": "display_data"
    }
   ],
   "source": [
    "import matplotlib.pyplot as plt\n",
    "import seaborn as sns\n",
    "sns.lineplot(x='n',y='intrinsic',hue='model',data=df_diff)\n",
    "plt.show"
   ]
  },
  {
   "cell_type": "code",
   "execution_count": 49,
   "metadata": {},
   "outputs": [
    {
     "data": {
      "text/plain": [
       "<function matplotlib.pyplot.show(*args, **kw)>"
      ]
     },
     "execution_count": 49,
     "metadata": {},
     "output_type": "execute_result"
    },
    {
     "data": {
      "image/png": "[encoded data removed]",
      "text/plain": [
       "<Figure size 432x288 with 1 Axes>"
      ]
     },
     "metadata": {
      "needs_background": "light"
     },
     "output_type": "display_data"
    }
   ],
   "source": [
    "sns.lineplot(x='n',y='intrinsic',hue='model',data=result)\n",
    "plt.show"
   ]
  },
  {
   "cell_type": "code",
   "execution_count": 72,
   "metadata": {},
   "outputs": [
    {
     "data": {
      "image/png": "[encoded data removed]",
      "text/plain": [
       "<Figure size 432x288 with 1 Axes>"
      ]
     },
     "metadata": {
      "needs_background": "light"
     },
     "output_type": "display_data"
    }
   ],
   "source": [
    "import matplotlib.pyplot as plt\n",
    "import seaborn as sns\n",
    "sns.lineplot(x='n',y='cross',hue='model',data=result)\n",
    "plt.savefig('/Users/shinbo/Desktop/metting/LDA/paper/experiments/car/fig/BC.png')\n",
    "plt.show()"
   ]
  },
  {
   "cell_type": "code",
   "execution_count": 73,
   "metadata": {},
   "outputs": [
    {
     "data": {
      "text/html": [
       "<div>\n",
       "<style scoped>\n",
       "    .dataframe tbody tr th:only-of-type {\n",
       "        vertical-align: middle;\n",
       "    }\n",
       "\n",
       "    .dataframe tbody tr th {\n",
       "        vertical-align: top;\n",
       "    }\n",
       "\n",
       "    .dataframe thead th {\n",
       "        text-align: right;\n",
       "    }\n",
       "</style>\n",
       "<table border=\"1\" class=\"dataframe\">\n",
       "  <thead>\n",
       "    <tr style=\"text-align: right;\">\n",
       "      <th></th>\n",
       "      <th>DMM_LDA</th>\n",
       "      <th>DMM_source</th>\n",
       "      <th>DMM_CLDA</th>\n",
       "      <th>n</th>\n",
       "    </tr>\n",
       "  </thead>\n",
       "  <tbody>\n",
       "    <tr>\n",
       "      <th>0</th>\n",
       "      <td>0.0</td>\n",
       "      <td>0.0</td>\n",
       "      <td>4.0</td>\n",
       "      <td>10</td>\n",
       "    </tr>\n",
       "    <tr>\n",
       "      <th>1</th>\n",
       "      <td>1.0</td>\n",
       "      <td>3.0</td>\n",
       "      <td>19.0</td>\n",
       "      <td>20</td>\n",
       "    </tr>\n",
       "    <tr>\n",
       "      <th>2</th>\n",
       "      <td>4.0</td>\n",
       "      <td>7.0</td>\n",
       "      <td>33.0</td>\n",
       "      <td>30</td>\n",
       "    </tr>\n",
       "    <tr>\n",
       "      <th>3</th>\n",
       "      <td>4.0</td>\n",
       "      <td>4.0</td>\n",
       "      <td>39.0</td>\n",
       "      <td>40</td>\n",
       "    </tr>\n",
       "    <tr>\n",
       "      <th>4</th>\n",
       "      <td>4.0</td>\n",
       "      <td>13.0</td>\n",
       "      <td>55.0</td>\n",
       "      <td>50</td>\n",
       "    </tr>\n",
       "    <tr>\n",
       "      <th>5</th>\n",
       "      <td>15.0</td>\n",
       "      <td>25.0</td>\n",
       "      <td>62.0</td>\n",
       "      <td>60</td>\n",
       "    </tr>\n",
       "    <tr>\n",
       "      <th>6</th>\n",
       "      <td>16.0</td>\n",
       "      <td>28.0</td>\n",
       "      <td>59.0</td>\n",
       "      <td>70</td>\n",
       "    </tr>\n",
       "    <tr>\n",
       "      <th>7</th>\n",
       "      <td>23.0</td>\n",
       "      <td>31.0</td>\n",
       "      <td>66.0</td>\n",
       "      <td>80</td>\n",
       "    </tr>\n",
       "    <tr>\n",
       "      <th>8</th>\n",
       "      <td>24.0</td>\n",
       "      <td>41.0</td>\n",
       "      <td>70.0</td>\n",
       "      <td>90</td>\n",
       "    </tr>\n",
       "    <tr>\n",
       "      <th>9</th>\n",
       "      <td>27.0</td>\n",
       "      <td>46.0</td>\n",
       "      <td>72.0</td>\n",
       "      <td>100</td>\n",
       "    </tr>\n",
       "  </tbody>\n",
       "</table>\n",
       "</div>"
      ],
      "text/plain": [
       "   DMM_LDA  DMM_source  DMM_CLDA    n\n",
       "0      0.0         0.0       4.0   10\n",
       "1      1.0         3.0      19.0   20\n",
       "2      4.0         7.0      33.0   30\n",
       "3      4.0         4.0      39.0   40\n",
       "4      4.0        13.0      55.0   50\n",
       "5     15.0        25.0      62.0   60\n",
       "6     16.0        28.0      59.0   70\n",
       "7     23.0        31.0      66.0   80\n",
       "8     24.0        41.0      70.0   90\n",
       "9     27.0        46.0      72.0  100"
      ]
     },
     "execution_count": 73,
     "metadata": {},
     "output_type": "execute_result"
    }
   ],
   "source": [
    "tick = pd.DataFrame()\n",
    "tick['DMM_LDA'] = result[lambda x: x['model'] == 'DMM_LDA']['cross'].tolist()\n",
    "tick['DMM_source'] = result[lambda x: x['model'] == 'DMM_source']['cross'].tolist()\n",
    "tick['DMM_CLDA'] = result[lambda x: x['model'] == 'DMM_CLDA']['cross'].tolist()\n",
    "tick['n'] = range(10,101,10)\n",
    "tick"
   ]
  },
  {
   "cell_type": "code",
   "execution_count": 25,
   "metadata": {},
   "outputs": [],
   "source": [
    "from scipy.spatial.distance import cosine\n",
    "TOP_N_WORDS = 100\n",
    "DMM_LDA_Top_words = TOP_N_WORDS_df(DMM_LDA, TOP_N_WORDS, [f'Topic {i}' for i in range(1,6)])\n",
    "DMM_CLDA_Top_words = TOP_N_WORDS_df(DMM_CLDA, TOP_N_WORDS, ['seats','exterior/interior','engine','driving experience','technology'] )\n",
    "DMM_source_Top_words = TOP_N_WORDS_df(DMM_source, TOP_N_WORDS, ['seats','exterior/interior','engine','driving experience','technology'])     "
   ]
  },
  {
   "cell_type": "code",
   "execution_count": 26,
   "metadata": {},
   "outputs": [],
   "source": [
    "from collections import Counter\n",
    "words = []\n",
    "for review in data:\n",
    "    words += review\n",
    "words_counter = Counter(words)\n",
    "\n",
    "from collections import Counter\n",
    "words = []\n",
    "for review in data:\n",
    "    words += review\n",
    "words_counter = Counter(words)"
   ]
  },
  {
   "cell_type": "code",
   "execution_count": 28,
   "metadata": {},
   "outputs": [
    {
     "name": "stdout",
     "output_type": "stream",
     "text": [
      "black\n",
      "(100, 4) LDA\n",
      "(100, 4) LDA\n",
      "(100, 4) LDA\n",
      "(100, 4) LDA\n",
      "(100, 4) LDA\n",
      "red\n",
      "(100, 4) SLDA\n",
      "(100, 4) SLDA\n",
      "(100, 4) SLDA\n"
     ]
    },
    {
     "name": "stderr",
     "output_type": "stream",
     "text": [
      "No handles with labels found to put in legend.\n"
     ]
    },
    {
     "name": "stdout",
     "output_type": "stream",
     "text": [
      "(100, 4) SLDA\n",
      "(100, 4) SLDA\n",
      "blue\n",
      "(100, 4) CLDA\n",
      "(100, 4) CLDA\n",
      "(100, 4) CLDA\n",
      "(100, 4) CLDA\n",
      "(100, 4) CLDA\n"
     ]
    },
    {
     "data": {
      "text/plain": [
       "<matplotlib.legend.Legend at 0x7ff558a5f110>"
      ]
     },
     "execution_count": 28,
     "metadata": {},
     "output_type": "execute_result"
    },
    {
     "data": {
      "image/png": "[encoded data removed]",
      "text/plain": [
       "<Figure size 432x288 with 1 Axes>"
      ]
     },
     "metadata": {
      "needs_background": "light"
     },
     "output_type": "display_data"
    }
   ],
   "source": [
    "import matplotlib.pyplot as plt\n",
    "import seaborn as sns\n",
    "result = pd.DataFrame()\n",
    "for column in DMM_LDA_Top_words.columns:\n",
    "    temp = pd.DataFrame()\n",
    "    words_ = DMM_LDA_Top_words[column].tolist()\n",
    "    freq = []\n",
    "    for word in words_:\n",
    "        freq.append( words_counter[word] / len(words) )\n",
    "    temp['relative_freq'] = np.cumsum(freq)\n",
    "    temp['rank'] = [i for i in range(100)]\n",
    "    temp['topics'] = column\n",
    "    \n",
    "    result = pd.concat([result,temp], axis=0)\n",
    "    \n",
    "# sns.lineplot(x='rank',y='relative_freq',hue='topics',data=result)\n",
    "# plt.show\n",
    "\n",
    "import matplotlib.pyplot as plt\n",
    "import seaborn as sns\n",
    "import numpy as np\n",
    "# result = pd.DataFrame()\n",
    "for column in DMM_source_Top_words.columns:\n",
    "    temp = pd.DataFrame()\n",
    "    words_ = DMM_source_Top_words[column].tolist()\n",
    "    freq = []\n",
    "    for word in words_:\n",
    "        freq.append( words_counter[word] / len(words) )\n",
    "    temp['relative_freq'] = np.cumsum(freq)\n",
    "    temp['rank'] = [i for i in range(100)]\n",
    "    temp['topics'] = column\n",
    "    \n",
    "    result = pd.concat([result,temp], axis=0)\n",
    "    \n",
    "# sns.lineplot(x='rank',y='relative_freq',hue='topics',data=result)\n",
    "# plt.show\n",
    "\n",
    "import matplotlib.pyplot as plt\n",
    "import seaborn as sns\n",
    "# result = pd.DataFrame()\n",
    "for column in DMM_CLDA_Top_words.columns:\n",
    "    temp = pd.DataFrame()\n",
    "    words_ = DMM_CLDA_Top_words[column].tolist()\n",
    "    freq = []\n",
    "    for word in words_:\n",
    "        freq.append( words_counter[word] / len(words) )\n",
    "    temp['relative_freq'] = np.cumsum(freq)\n",
    "    temp['rank'] = [i for i in range(100)]\n",
    "    temp['topics'] = column\n",
    "    \n",
    "    result = pd.concat([result,temp], axis=0)\n",
    "    \n",
    "# sns.lineplot(x='rank',y='relative_freq',hue='topics',data=result)\n",
    "# plt.show\n",
    "result['model'] = ['LDA']*500 + ['SLDA']*500 + ['CLDA']*500\n",
    "\n",
    "model2topics = {\n",
    "    'LDA':['Topic 1','Topic 2','Topic 3','Topic 4','Topic 5'],\n",
    "    'SLDA':['seats','exterior/interior','engine','driving experience','technology'],\n",
    "    'CLDA':['seats','exterior/interior','engine','driving experience','technology'],\n",
    "}\n",
    "colors = {\n",
    "    'LDA':'black',\n",
    "    'SLDA':'red',\n",
    "    'CLDA':'blue',\n",
    "}\n",
    "\n",
    "for model in model2topics.keys():\n",
    "    color = colors[model]\n",
    "    print(color)\n",
    "    for topic in model2topics[model]:\n",
    "        temp = result[lambda x: (x['model'] == model) & (x['topics'] == topic)]\n",
    "        print(temp.shape,model)\n",
    "        sns.lineplot(x='rank',y='relative_freq',data=temp, color=color)\n",
    "plt.legend()"
   ]
  },
  {
   "cell_type": "code",
   "execution_count": 29,
   "metadata": {},
   "outputs": [
    {
     "data": {
      "text/html": [
       "<div>\n",
       "<style scoped>\n",
       "    .dataframe tbody tr th:only-of-type {\n",
       "        vertical-align: middle;\n",
       "    }\n",
       "\n",
       "    .dataframe tbody tr th {\n",
       "        vertical-align: top;\n",
       "    }\n",
       "\n",
       "    .dataframe thead th {\n",
       "        text-align: right;\n",
       "    }\n",
       "</style>\n",
       "<table border=\"1\" class=\"dataframe\">\n",
       "  <thead>\n",
       "    <tr style=\"text-align: right;\">\n",
       "      <th></th>\n",
       "      <th>relative_freq</th>\n",
       "      <th>rank</th>\n",
       "      <th>topics</th>\n",
       "      <th>model</th>\n",
       "    </tr>\n",
       "  </thead>\n",
       "  <tbody>\n",
       "    <tr>\n",
       "      <th>0</th>\n",
       "      <td>0.000286</td>\n",
       "      <td>0</td>\n",
       "      <td>seats</td>\n",
       "      <td>CLDA</td>\n",
       "    </tr>\n",
       "    <tr>\n",
       "      <th>1</th>\n",
       "      <td>0.000370</td>\n",
       "      <td>1</td>\n",
       "      <td>seats</td>\n",
       "      <td>CLDA</td>\n",
       "    </tr>\n",
       "    <tr>\n",
       "      <th>2</th>\n",
       "      <td>0.000488</td>\n",
       "      <td>2</td>\n",
       "      <td>seats</td>\n",
       "      <td>CLDA</td>\n",
       "    </tr>\n",
       "    <tr>\n",
       "      <th>3</th>\n",
       "      <td>0.000664</td>\n",
       "      <td>3</td>\n",
       "      <td>seats</td>\n",
       "      <td>CLDA</td>\n",
       "    </tr>\n",
       "    <tr>\n",
       "      <th>4</th>\n",
       "      <td>0.000739</td>\n",
       "      <td>4</td>\n",
       "      <td>seats</td>\n",
       "      <td>CLDA</td>\n",
       "    </tr>\n",
       "    <tr>\n",
       "      <th>...</th>\n",
       "      <td>...</td>\n",
       "      <td>...</td>\n",
       "      <td>...</td>\n",
       "      <td>...</td>\n",
       "    </tr>\n",
       "    <tr>\n",
       "      <th>95</th>\n",
       "      <td>0.374181</td>\n",
       "      <td>95</td>\n",
       "      <td>technology</td>\n",
       "      <td>CLDA</td>\n",
       "    </tr>\n",
       "    <tr>\n",
       "      <th>96</th>\n",
       "      <td>0.376936</td>\n",
       "      <td>96</td>\n",
       "      <td>technology</td>\n",
       "      <td>CLDA</td>\n",
       "    </tr>\n",
       "    <tr>\n",
       "      <th>97</th>\n",
       "      <td>0.378360</td>\n",
       "      <td>97</td>\n",
       "      <td>technology</td>\n",
       "      <td>CLDA</td>\n",
       "    </tr>\n",
       "    <tr>\n",
       "      <th>98</th>\n",
       "      <td>0.380177</td>\n",
       "      <td>98</td>\n",
       "      <td>technology</td>\n",
       "      <td>CLDA</td>\n",
       "    </tr>\n",
       "    <tr>\n",
       "      <th>99</th>\n",
       "      <td>0.382889</td>\n",
       "      <td>99</td>\n",
       "      <td>technology</td>\n",
       "      <td>CLDA</td>\n",
       "    </tr>\n",
       "  </tbody>\n",
       "</table>\n",
       "<p>500 rows × 4 columns</p>\n",
       "</div>"
      ],
      "text/plain": [
       "    relative_freq  rank      topics model\n",
       "0        0.000286     0       seats  CLDA\n",
       "1        0.000370     1       seats  CLDA\n",
       "2        0.000488     2       seats  CLDA\n",
       "3        0.000664     3       seats  CLDA\n",
       "4        0.000739     4       seats  CLDA\n",
       "..            ...   ...         ...   ...\n",
       "95       0.374181    95  technology  CLDA\n",
       "96       0.376936    96  technology  CLDA\n",
       "97       0.378360    97  technology  CLDA\n",
       "98       0.380177    98  technology  CLDA\n",
       "99       0.382889    99  technology  CLDA\n",
       "\n",
       "[500 rows x 4 columns]"
      ]
     },
     "execution_count": 29,
     "metadata": {},
     "output_type": "execute_result"
    }
   ],
   "source": [
    "result[lambda x: x['model'] == 'CLDA']"
   ]
  },
  {
   "cell_type": "code",
   "execution_count": null,
   "metadata": {},
   "outputs": [],
   "source": []
  }
 ],
 "metadata": {
  "kernelspec": {
   "display_name": "Python 3",
   "language": "python",
   "name": "python3"
  },
  "language_info": {
   "codemirror_mode": {
    "name": "ipython",
    "version": 3
   },
   "file_extension": ".py",
   "mimetype": "text/x-python",
   "name": "python",
   "nbconvert_exporter": "python",
   "pygments_lexer": "ipython3",
   "version": "3.7.6"
  }
 },
 "nbformat": 4,
 "nbformat_minor": 4
}
