{
 "cells": [
  {
   "cell_type": "markdown",
   "metadata": {},
   "source": [
    "\n",
    "## load data"
   ]
  },
  {
   "cell_type": "code",
   "execution_count": 1,
   "metadata": {},
   "outputs": [],
   "source": [
    "import pandas as pd\n",
    "dir_ = '/Users/shinbo/Downloads/yelp_review.csv'\n",
    "data = pd.read_csv(dir_)\n",
    "\n",
    "import numpy as np\n",
    "# np.random.seed(1)\n",
    "# index = np.random.choice(data.shape[0], 10000, replace=False)\n",
    "# data.iloc[index,:].to_csv('/Users/shinbo/Desktop/metting/LDA/meeting materials/21.05.13/yelp_restaurant_sampled.csv',index=False)"
   ]
  },
  {
   "cell_type": "code",
   "execution_count": 2,
   "metadata": {},
   "outputs": [
    {
     "data": {
      "text/plain": [
       "(5261668, 9)"
      ]
     },
     "execution_count": 2,
     "metadata": {},
     "output_type": "execute_result"
    }
   ],
   "source": [
    "data.shape"
   ]
  },
  {
   "cell_type": "code",
   "execution_count": null,
   "metadata": {},
   "outputs": [],
   "source": []
  },
  {
   "cell_type": "code",
   "execution_count": 3,
   "metadata": {},
   "outputs": [],
   "source": [
    "dir_ = '/Users/shinbo/Desktop/metting/LDA/meeting materials/21.05.13/yelp_restaurant_sampled.csv'\n",
    "rest = pd.read_csv(dir_)"
   ]
  },
  {
   "cell_type": "code",
   "execution_count": 4,
   "metadata": {},
   "outputs": [
    {
     "data": {
      "text/html": [
       "<div>\n",
       "<style scoped>\n",
       "    .dataframe tbody tr th:only-of-type {\n",
       "        vertical-align: middle;\n",
       "    }\n",
       "\n",
       "    .dataframe tbody tr th {\n",
       "        vertical-align: top;\n",
       "    }\n",
       "\n",
       "    .dataframe thead th {\n",
       "        text-align: right;\n",
       "    }\n",
       "</style>\n",
       "<table border=\"1\" class=\"dataframe\">\n",
       "  <thead>\n",
       "    <tr style=\"text-align: right;\">\n",
       "      <th></th>\n",
       "      <th>review_id</th>\n",
       "      <th>user_id</th>\n",
       "      <th>business_id</th>\n",
       "      <th>stars</th>\n",
       "      <th>date</th>\n",
       "      <th>text</th>\n",
       "      <th>useful</th>\n",
       "      <th>funny</th>\n",
       "      <th>cool</th>\n",
       "    </tr>\n",
       "  </thead>\n",
       "  <tbody>\n",
       "    <tr>\n",
       "      <th>0</th>\n",
       "      <td>I6xTlLkMn2fQV0H46O25uQ</td>\n",
       "      <td>bm0GV0ylqyBitQlz8voIiw</td>\n",
       "      <td>LiSt3sVWELm7nfVIKJs0MA</td>\n",
       "      <td>2</td>\n",
       "      <td>2017-08-02</td>\n",
       "      <td>My office is close so we have been there a few...</td>\n",
       "      <td>0</td>\n",
       "      <td>0</td>\n",
       "      <td>0</td>\n",
       "    </tr>\n",
       "    <tr>\n",
       "      <th>1</th>\n",
       "      <td>1FJPW9lB3rvw_2fEgrxjyg</td>\n",
       "      <td>AhhfownYf49B7AaqONU7tg</td>\n",
       "      <td>6aDfalYZOkWzwtVRA2wYaA</td>\n",
       "      <td>4</td>\n",
       "      <td>2014-01-30</td>\n",
       "      <td>Good food, great naan, fair prices. It is a ho...</td>\n",
       "      <td>0</td>\n",
       "      <td>0</td>\n",
       "      <td>0</td>\n",
       "    </tr>\n",
       "    <tr>\n",
       "      <th>2</th>\n",
       "      <td>BVMQPEUd-xqxCYEA44KVYQ</td>\n",
       "      <td>Txj_r1G7HGwvBlEIDeICqg</td>\n",
       "      <td>L2iT7pipc455Tgpbo35_mw</td>\n",
       "      <td>2</td>\n",
       "      <td>2017-05-22</td>\n",
       "      <td>CASA was once one of my favorite places in all...</td>\n",
       "      <td>2</td>\n",
       "      <td>1</td>\n",
       "      <td>0</td>\n",
       "    </tr>\n",
       "    <tr>\n",
       "      <th>3</th>\n",
       "      <td>D4-Bj105MorBwwT-6PpVKg</td>\n",
       "      <td>JUN6ulfdluN1XMDqZznoDg</td>\n",
       "      <td>rbH0HuTcBvZBbiAnqufRqQ</td>\n",
       "      <td>5</td>\n",
       "      <td>2014-08-25</td>\n",
       "      <td>Nothing comes close to this place! If you enjo...</td>\n",
       "      <td>1</td>\n",
       "      <td>0</td>\n",
       "      <td>0</td>\n",
       "    </tr>\n",
       "    <tr>\n",
       "      <th>4</th>\n",
       "      <td>I3s31Zz7INZ-GJAO20TOSg</td>\n",
       "      <td>v81uefRu-Nz8a4YiVaA8JQ</td>\n",
       "      <td>R68SX1-FFLvv6BqsK9-Alw</td>\n",
       "      <td>4</td>\n",
       "      <td>2014-12-04</td>\n",
       "      <td>Really enjoyed going here for dinner.  I had f...</td>\n",
       "      <td>0</td>\n",
       "      <td>0</td>\n",
       "      <td>0</td>\n",
       "    </tr>\n",
       "  </tbody>\n",
       "</table>\n",
       "</div>"
      ],
      "text/plain": [
       "                review_id                 user_id             business_id  \\\n",
       "0  I6xTlLkMn2fQV0H46O25uQ  bm0GV0ylqyBitQlz8voIiw  LiSt3sVWELm7nfVIKJs0MA   \n",
       "1  1FJPW9lB3rvw_2fEgrxjyg  AhhfownYf49B7AaqONU7tg  6aDfalYZOkWzwtVRA2wYaA   \n",
       "2  BVMQPEUd-xqxCYEA44KVYQ  Txj_r1G7HGwvBlEIDeICqg  L2iT7pipc455Tgpbo35_mw   \n",
       "3  D4-Bj105MorBwwT-6PpVKg  JUN6ulfdluN1XMDqZznoDg  rbH0HuTcBvZBbiAnqufRqQ   \n",
       "4  I3s31Zz7INZ-GJAO20TOSg  v81uefRu-Nz8a4YiVaA8JQ  R68SX1-FFLvv6BqsK9-Alw   \n",
       "\n",
       "   stars        date                                               text  \\\n",
       "0      2  2017-08-02  My office is close so we have been there a few...   \n",
       "1      4  2014-01-30  Good food, great naan, fair prices. It is a ho...   \n",
       "2      2  2017-05-22  CASA was once one of my favorite places in all...   \n",
       "3      5  2014-08-25  Nothing comes close to this place! If you enjo...   \n",
       "4      4  2014-12-04  Really enjoyed going here for dinner.  I had f...   \n",
       "\n",
       "   useful  funny  cool  \n",
       "0       0      0     0  \n",
       "1       0      0     0  \n",
       "2       2      1     0  \n",
       "3       1      0     0  \n",
       "4       0      0     0  "
      ]
     },
     "execution_count": 4,
     "metadata": {},
     "output_type": "execute_result"
    }
   ],
   "source": [
    "rest.head()"
   ]
  },
  {
   "cell_type": "markdown",
   "metadata": {},
   "source": [
    "## setting seed words"
   ]
  },
  {
   "cell_type": "code",
   "execution_count": 6,
   "metadata": {},
   "outputs": [],
   "source": [
    "import gensim\n",
    "\n",
    "w2v_dir = '/Users/shinbo/Desktop/metting/LDA/paper/word_embedding/GoogleNews-vectors-negative300.bin/GoogleNews-vectors-negative300.bin'\n",
    "word2vec_model = gensim.models.keyedvectors.KeyedVectors.load_word2vec_format(\n",
    "    w2v_dir, binary=True\n",
    ")"
   ]
  },
  {
   "cell_type": "code",
   "execution_count": 33,
   "metadata": {},
   "outputs": [],
   "source": [
    "topics = ['food','drink','ambience','price','service']\n",
    "seed_words = pd.DataFrame()\n",
    "for topic in topics:\n",
    "    a = word2vec_model.most_similar(topic, topn = 500)\n",
    "    seed_words[topic] = [i[0] for i in a]\n",
    "seed_words.to_csv('/Users/shinbo/Desktop/metting/LDA/meeting materials/21.05.13/seed_words.csv',index=False)"
   ]
  },
  {
   "cell_type": "code",
   "execution_count": 6,
   "metadata": {},
   "outputs": [],
   "source": [
    "import sys\n",
    "import pandas as pd\n",
    "sys.path.append('/Users/shinbo/PycharmProjects/paper/LDA')\n",
    "\n",
    "def print_top_words(lam, feature_names, n_top_words):\n",
    "    for topic_id, topic in enumerate(lam):\n",
    "        print('\\nTopic Nr.%d:' % int(topic_id + 1))\n",
    "        print(''.join([feature_names[i] + ' ' + str(round(topic[i], 2))\n",
    "                       + ' | ' for i in topic.argsort()[:-n_top_words - 1:-1]]))\n",
    "        \n",
    "def TOP_N_WORDS_df(MODEL, TOP_N_WORDS, col_names):\n",
    "    DMM_LDA_Top_words = pd.DataFrame()\n",
    "    for i in range(5):\n",
    "        temp = pd.DataFrame({'words':cv.get_feature_names(), 'lambda':MODEL.components_[i,:]})\n",
    "        temp = temp.sort_values(by='lambda', ascending=False).iloc[:TOP_N_WORDS,:]\n",
    "        DMM_LDA_Top_words[i] = temp['words'].tolist()\n",
    "    DMM_LDA_Top_words.columns = col_names\n",
    "    return DMM_LDA_Top_words"
   ]
  },
  {
   "cell_type": "code",
   "execution_count": 13,
   "metadata": {},
   "outputs": [],
   "source": [
    "import pickle\n",
    "from sklearn.feature_extraction.text import CountVectorizer\n",
    "\n",
    "dir_ = '/Users/shinbo/Desktop/metting/LDA/paper/experiments/yelp/prepare/proproc.pkl'\n",
    "data = pickle.load(open(dir_, 'rb'))\n",
    "stop_words = ['the','and','to','it','be','have','in','for','of','this','that',\n",
    "              'go','get','place','time','come',\n",
    "              'take','make','back','really','say','one','even','well','look',\n",
    "              'back','also']\n",
    "for i in range(len(data)):\n",
    "    data[i] = [w for w in data[i] if w not in stop_words]\n",
    "\n",
    "data_join = [' '.join(doc) for doc in data]\n",
    "cv = CountVectorizer()\n",
    "X = cv.fit_transform(data_join).toarray()"
   ]
  },
  {
   "cell_type": "markdown",
   "metadata": {},
   "source": [
    "## DMM-LDA Result"
   ]
  },
  {
   "cell_type": "code",
   "execution_count": 37,
   "metadata": {},
   "outputs": [
    {
     "name": "stdout",
     "output_type": "stream",
     "text": [
      "\n",
      "Topic Nr.1:\n",
      "good 1438.75 | food 1165.81 | service 1030.5 | order 935.25 | great 851.48 | like 733.23 | wait 675.33 | try 613.54 | first 443.83 | give 434.47 | hour 416.01 | ask 402.09 | drink 397.61 | know 395.17 | love 392.94 | table 392.38 | people 390.99 | price 383.85 | nice 383.33 | pizza 383.07 | \n",
      "\n",
      "Topic Nr.2:\n",
      "like 698.99 | room 546.84 | good 525.29 | service 510.96 | great 457.89 | give 413.9 | need 390.56 | car 364.67 | food 356.75 | price 355.39 | want 330.39 | tell 320.35 | people 320.01 | much 319.61 | hotel 317.37 | wait 313.37 | know 310.37 | find 299.07 | check 296.26 | see 289.73 | \n",
      "\n",
      "Topic Nr.3:\n",
      "good 1293.05 | great 1222.05 | food 1208.84 | like 818.22 | love 759.24 | order 738.58 | service 706.07 | try 699.31 | nice 598.12 | little 455.64 | menu 454.47 | staff 450.05 | friendly 431.86 | think 430.16 | give 422.85 | delicious 417.78 | always 407.15 | best 404.37 | definitely 391.04 | price 389.63 | \n",
      "\n",
      "Topic Nr.4:\n",
      "food 1917.89 | good 1629.67 | like 1165.52 | great 1070.76 | order 934.98 | service 913.91 | restaurant 704.18 | try 681.32 | chicken 579.92 | love 542.08 | price 502.56 | best 499.55 | burger 478.5 | menu 476.99 | fry 453.13 | taste 437.58 | nice 437.02 | eat 422.47 | always 410.27 | want 404.21 | \n",
      "\n",
      "Topic Nr.5:\n",
      "great 957.86 | service 641.61 | like 604.09 | food 550.75 | good 487.29 | work 441.56 | experience 359.75 | never 351.83 | tell 341.5 | need 333.62 | recommend 326.39 | order 323.21 | day 318.03 | staff 317.06 | customer 316.5 | ask 312.57 | give 303.49 | know 299.16 | call 297.99 | year 293.23 | \n"
     ]
    }
   ],
   "source": [
    "dir_model = f'/Users/shinbo/Desktop/metting/LDA/paper/experiments/yelp/model/DMM_result.pkl'\n",
    "DMM_LDA = pickle.load(open(dir_model,'rb'))\n",
    "TOP_N_WORDS = 100\n",
    "DMM_LDA_Top_words = TOP_N_WORDS_df(DMM_LDA, TOP_N_WORDS, [f'Topic {i}' for i in range(1,6)])\n",
    "\n",
    "DMM_LDA_lam =  [DMM_LDA.components_[k,:] for k in range(5)]\n",
    "print_top_words(DMM_LDA_lam, list(cv.get_feature_names()), 20)"
   ]
  },
  {
   "cell_type": "markdown",
   "metadata": {},
   "source": [
    "# TOP_N_WORDS = 100"
   ]
  },
  {
   "cell_type": "code",
   "execution_count": 38,
   "metadata": {},
   "outputs": [
    {
     "data": {
      "text/html": [
       "<div>\n",
       "<style scoped>\n",
       "    .dataframe tbody tr th:only-of-type {\n",
       "        vertical-align: middle;\n",
       "    }\n",
       "\n",
       "    .dataframe tbody tr th {\n",
       "        vertical-align: top;\n",
       "    }\n",
       "\n",
       "    .dataframe thead th {\n",
       "        text-align: right;\n",
       "    }\n",
       "</style>\n",
       "<table border=\"1\" class=\"dataframe\">\n",
       "  <thead>\n",
       "    <tr style=\"text-align: right;\">\n",
       "      <th></th>\n",
       "      <th>Topic 1</th>\n",
       "      <th>Topic 2</th>\n",
       "      <th>Topic 3</th>\n",
       "      <th>Topic 4</th>\n",
       "      <th>Topic 5</th>\n",
       "    </tr>\n",
       "  </thead>\n",
       "  <tbody>\n",
       "    <tr>\n",
       "      <th>0</th>\n",
       "      <td>good</td>\n",
       "      <td>like</td>\n",
       "      <td>good</td>\n",
       "      <td>food</td>\n",
       "      <td>great</td>\n",
       "    </tr>\n",
       "    <tr>\n",
       "      <th>1</th>\n",
       "      <td>food</td>\n",
       "      <td>room</td>\n",
       "      <td>great</td>\n",
       "      <td>good</td>\n",
       "      <td>service</td>\n",
       "    </tr>\n",
       "    <tr>\n",
       "      <th>2</th>\n",
       "      <td>service</td>\n",
       "      <td>good</td>\n",
       "      <td>food</td>\n",
       "      <td>like</td>\n",
       "      <td>like</td>\n",
       "    </tr>\n",
       "    <tr>\n",
       "      <th>3</th>\n",
       "      <td>order</td>\n",
       "      <td>service</td>\n",
       "      <td>like</td>\n",
       "      <td>great</td>\n",
       "      <td>food</td>\n",
       "    </tr>\n",
       "    <tr>\n",
       "      <th>4</th>\n",
       "      <td>great</td>\n",
       "      <td>great</td>\n",
       "      <td>love</td>\n",
       "      <td>order</td>\n",
       "      <td>good</td>\n",
       "    </tr>\n",
       "    <tr>\n",
       "      <th>5</th>\n",
       "      <td>like</td>\n",
       "      <td>give</td>\n",
       "      <td>order</td>\n",
       "      <td>service</td>\n",
       "      <td>work</td>\n",
       "    </tr>\n",
       "    <tr>\n",
       "      <th>6</th>\n",
       "      <td>wait</td>\n",
       "      <td>need</td>\n",
       "      <td>service</td>\n",
       "      <td>restaurant</td>\n",
       "      <td>experience</td>\n",
       "    </tr>\n",
       "    <tr>\n",
       "      <th>7</th>\n",
       "      <td>try</td>\n",
       "      <td>car</td>\n",
       "      <td>try</td>\n",
       "      <td>try</td>\n",
       "      <td>never</td>\n",
       "    </tr>\n",
       "    <tr>\n",
       "      <th>8</th>\n",
       "      <td>first</td>\n",
       "      <td>food</td>\n",
       "      <td>nice</td>\n",
       "      <td>chicken</td>\n",
       "      <td>tell</td>\n",
       "    </tr>\n",
       "    <tr>\n",
       "      <th>9</th>\n",
       "      <td>give</td>\n",
       "      <td>price</td>\n",
       "      <td>little</td>\n",
       "      <td>love</td>\n",
       "      <td>need</td>\n",
       "    </tr>\n",
       "    <tr>\n",
       "      <th>10</th>\n",
       "      <td>hour</td>\n",
       "      <td>want</td>\n",
       "      <td>menu</td>\n",
       "      <td>price</td>\n",
       "      <td>recommend</td>\n",
       "    </tr>\n",
       "    <tr>\n",
       "      <th>11</th>\n",
       "      <td>ask</td>\n",
       "      <td>tell</td>\n",
       "      <td>staff</td>\n",
       "      <td>best</td>\n",
       "      <td>order</td>\n",
       "    </tr>\n",
       "    <tr>\n",
       "      <th>12</th>\n",
       "      <td>drink</td>\n",
       "      <td>people</td>\n",
       "      <td>friendly</td>\n",
       "      <td>burger</td>\n",
       "      <td>day</td>\n",
       "    </tr>\n",
       "    <tr>\n",
       "      <th>13</th>\n",
       "      <td>know</td>\n",
       "      <td>much</td>\n",
       "      <td>think</td>\n",
       "      <td>menu</td>\n",
       "      <td>staff</td>\n",
       "    </tr>\n",
       "    <tr>\n",
       "      <th>14</th>\n",
       "      <td>love</td>\n",
       "      <td>hotel</td>\n",
       "      <td>give</td>\n",
       "      <td>fry</td>\n",
       "      <td>customer</td>\n",
       "    </tr>\n",
       "    <tr>\n",
       "      <th>15</th>\n",
       "      <td>table</td>\n",
       "      <td>wait</td>\n",
       "      <td>delicious</td>\n",
       "      <td>taste</td>\n",
       "      <td>ask</td>\n",
       "    </tr>\n",
       "    <tr>\n",
       "      <th>16</th>\n",
       "      <td>people</td>\n",
       "      <td>know</td>\n",
       "      <td>always</td>\n",
       "      <td>nice</td>\n",
       "      <td>give</td>\n",
       "    </tr>\n",
       "    <tr>\n",
       "      <th>17</th>\n",
       "      <td>price</td>\n",
       "      <td>find</td>\n",
       "      <td>best</td>\n",
       "      <td>eat</td>\n",
       "      <td>know</td>\n",
       "    </tr>\n",
       "    <tr>\n",
       "      <th>18</th>\n",
       "      <td>nice</td>\n",
       "      <td>check</td>\n",
       "      <td>definitely</td>\n",
       "      <td>always</td>\n",
       "      <td>call</td>\n",
       "    </tr>\n",
       "    <tr>\n",
       "      <th>19</th>\n",
       "      <td>pizza</td>\n",
       "      <td>see</td>\n",
       "      <td>price</td>\n",
       "      <td>want</td>\n",
       "      <td>year</td>\n",
       "    </tr>\n",
       "  </tbody>\n",
       "</table>\n",
       "</div>"
      ],
      "text/plain": [
       "    Topic 1  Topic 2     Topic 3     Topic 4     Topic 5\n",
       "0      good     like        good        food       great\n",
       "1      food     room       great        good     service\n",
       "2   service     good        food        like        like\n",
       "3     order  service        like       great        food\n",
       "4     great    great        love       order        good\n",
       "5      like     give       order     service        work\n",
       "6      wait     need     service  restaurant  experience\n",
       "7       try      car         try         try       never\n",
       "8     first     food        nice     chicken        tell\n",
       "9      give    price      little        love        need\n",
       "10     hour     want        menu       price   recommend\n",
       "11      ask     tell       staff        best       order\n",
       "12    drink   people    friendly      burger         day\n",
       "13     know     much       think        menu       staff\n",
       "14     love    hotel        give         fry    customer\n",
       "15    table     wait   delicious       taste         ask\n",
       "16   people     know      always        nice        give\n",
       "17    price     find        best         eat        know\n",
       "18     nice    check  definitely      always        call\n",
       "19    pizza      see       price        want        year"
      ]
     },
     "execution_count": 38,
     "metadata": {},
     "output_type": "execute_result"
    }
   ],
   "source": [
    "DMM_LDA_Top_words = TOP_N_WORDS_df(DMM_LDA, TOP_N_WORDS, [f'Topic {i}' for i in range(1,6)])\n",
    "DMM_LDA_Top_words.iloc[:20,:]"
   ]
  },
  {
   "cell_type": "code",
   "execution_count": 39,
   "metadata": {},
   "outputs": [
    {
     "data": {
      "text/plain": [
       "[24962.372882038024,\n",
       " 15785.045206960667,\n",
       " 15782.422420948513,\n",
       " 15782.106116615261,\n",
       " 15781.646970360089,\n",
       " 15781.546045885398,\n",
       " 15781.546036841712]"
      ]
     },
     "execution_count": 39,
     "metadata": {},
     "output_type": "execute_result"
    }
   ],
   "source": [
    "DMM_LDA.perplexity"
   ]
  },
  {
   "cell_type": "markdown",
   "metadata": {},
   "source": [
    "## DMM-CLDA Result"
   ]
  },
  {
   "cell_type": "code",
   "execution_count": 40,
   "metadata": {},
   "outputs": [
    {
     "data": {
      "text/html": [
       "<div>\n",
       "<style scoped>\n",
       "    .dataframe tbody tr th:only-of-type {\n",
       "        vertical-align: middle;\n",
       "    }\n",
       "\n",
       "    .dataframe tbody tr th {\n",
       "        vertical-align: top;\n",
       "    }\n",
       "\n",
       "    .dataframe thead th {\n",
       "        text-align: right;\n",
       "    }\n",
       "</style>\n",
       "<table border=\"1\" class=\"dataframe\">\n",
       "  <thead>\n",
       "    <tr style=\"text-align: right;\">\n",
       "      <th></th>\n",
       "      <th>price</th>\n",
       "      <th>food</th>\n",
       "      <th>drink</th>\n",
       "      <th>service</th>\n",
       "      <th>ambience</th>\n",
       "    </tr>\n",
       "  </thead>\n",
       "  <tbody>\n",
       "    <tr>\n",
       "      <th>0</th>\n",
       "      <td>good</td>\n",
       "      <td>restaurant</td>\n",
       "      <td>drink</td>\n",
       "      <td>service</td>\n",
       "      <td>music</td>\n",
       "    </tr>\n",
       "    <tr>\n",
       "      <th>1</th>\n",
       "      <td>food</td>\n",
       "      <td>meal</td>\n",
       "      <td>bar</td>\n",
       "      <td>food</td>\n",
       "      <td>decor</td>\n",
       "    </tr>\n",
       "    <tr>\n",
       "      <th>2</th>\n",
       "      <td>price</td>\n",
       "      <td>buffet</td>\n",
       "      <td>beer</td>\n",
       "      <td>good</td>\n",
       "      <td>cozy</td>\n",
       "    </tr>\n",
       "    <tr>\n",
       "      <th>3</th>\n",
       "      <td>service</td>\n",
       "      <td>fajitas</td>\n",
       "      <td>good</td>\n",
       "      <td>friendly</td>\n",
       "      <td>ambience</td>\n",
       "    </tr>\n",
       "    <tr>\n",
       "      <th>4</th>\n",
       "      <td>great</td>\n",
       "      <td>michelin</td>\n",
       "      <td>great</td>\n",
       "      <td>staff</td>\n",
       "      <td>romantic</td>\n",
       "    </tr>\n",
       "    <tr>\n",
       "      <th>5</th>\n",
       "      <td>order</td>\n",
       "      <td>jajangmyun</td>\n",
       "      <td>food</td>\n",
       "      <td>like</td>\n",
       "      <td>dimly</td>\n",
       "    </tr>\n",
       "    <tr>\n",
       "      <th>6</th>\n",
       "      <td>like</td>\n",
       "      <td>like</td>\n",
       "      <td>bartender</td>\n",
       "      <td>customer</td>\n",
       "      <td>parisian</td>\n",
       "    </tr>\n",
       "    <tr>\n",
       "      <th>7</th>\n",
       "      <td>cheap</td>\n",
       "      <td>salsas</td>\n",
       "      <td>cocktail</td>\n",
       "      <td>waiter</td>\n",
       "      <td>decorative</td>\n",
       "    </tr>\n",
       "    <tr>\n",
       "      <th>8</th>\n",
       "      <td>reasonable</td>\n",
       "      <td>brushetta</td>\n",
       "      <td>refill</td>\n",
       "      <td>great</td>\n",
       "      <td>nostalgic</td>\n",
       "    </tr>\n",
       "    <tr>\n",
       "      <th>9</th>\n",
       "      <td>expensive</td>\n",
       "      <td>pubs</td>\n",
       "      <td>margarita</td>\n",
       "      <td>attentive</td>\n",
       "      <td>minimalist</td>\n",
       "    </tr>\n",
       "    <tr>\n",
       "      <th>10</th>\n",
       "      <td>try</td>\n",
       "      <td>saltado</td>\n",
       "      <td>alcohol</td>\n",
       "      <td>prompt</td>\n",
       "      <td>whimsical</td>\n",
       "    </tr>\n",
       "    <tr>\n",
       "      <th>11</th>\n",
       "      <td>pricey</td>\n",
       "      <td>good</td>\n",
       "      <td>beverage</td>\n",
       "      <td>courteous</td>\n",
       "      <td>homely</td>\n",
       "    </tr>\n",
       "    <tr>\n",
       "      <th>12</th>\n",
       "      <td>cost</td>\n",
       "      <td>service</td>\n",
       "      <td>drinks</td>\n",
       "      <td>cleanliness</td>\n",
       "      <td>shabby</td>\n",
       "    </tr>\n",
       "    <tr>\n",
       "      <th>13</th>\n",
       "      <td>value</td>\n",
       "      <td>great</td>\n",
       "      <td>alcoholic</td>\n",
       "      <td>speedy</td>\n",
       "      <td>great</td>\n",
       "    </tr>\n",
       "    <tr>\n",
       "      <th>14</th>\n",
       "      <td>fair</td>\n",
       "      <td>room</td>\n",
       "      <td>soju</td>\n",
       "      <td>inattentive</td>\n",
       "      <td>like</td>\n",
       "    </tr>\n",
       "    <tr>\n",
       "      <th>15</th>\n",
       "      <td>affordable</td>\n",
       "      <td>give</td>\n",
       "      <td>blender</td>\n",
       "      <td>mismanage</td>\n",
       "      <td>food</td>\n",
       "    </tr>\n",
       "    <tr>\n",
       "      <th>16</th>\n",
       "      <td>reasonably</td>\n",
       "      <td>need</td>\n",
       "      <td>thirst</td>\n",
       "      <td>communicator</td>\n",
       "      <td>service</td>\n",
       "    </tr>\n",
       "    <tr>\n",
       "      <th>17</th>\n",
       "      <td>tax</td>\n",
       "      <td>food</td>\n",
       "      <td>pomegranate</td>\n",
       "      <td>unresponsive</td>\n",
       "      <td>good</td>\n",
       "    </tr>\n",
       "    <tr>\n",
       "      <th>18</th>\n",
       "      <td>pricing</td>\n",
       "      <td>car</td>\n",
       "      <td>like</td>\n",
       "      <td>interpersonal</td>\n",
       "      <td>work</td>\n",
       "    </tr>\n",
       "    <tr>\n",
       "      <th>19</th>\n",
       "      <td>wait</td>\n",
       "      <td>price</td>\n",
       "      <td>love</td>\n",
       "      <td>receptive</td>\n",
       "      <td>experience</td>\n",
       "    </tr>\n",
       "  </tbody>\n",
       "</table>\n",
       "</div>"
      ],
      "text/plain": [
       "         price        food        drink        service    ambience\n",
       "0         good  restaurant        drink        service       music\n",
       "1         food        meal          bar           food       decor\n",
       "2        price      buffet         beer           good        cozy\n",
       "3      service     fajitas         good       friendly    ambience\n",
       "4        great    michelin        great          staff    romantic\n",
       "5        order  jajangmyun         food           like       dimly\n",
       "6         like        like    bartender       customer    parisian\n",
       "7        cheap      salsas     cocktail         waiter  decorative\n",
       "8   reasonable   brushetta       refill          great   nostalgic\n",
       "9    expensive        pubs    margarita      attentive  minimalist\n",
       "10         try     saltado      alcohol         prompt   whimsical\n",
       "11      pricey        good     beverage      courteous      homely\n",
       "12        cost     service       drinks    cleanliness      shabby\n",
       "13       value       great    alcoholic         speedy       great\n",
       "14        fair        room         soju    inattentive        like\n",
       "15  affordable        give      blender      mismanage        food\n",
       "16  reasonably        need       thirst   communicator     service\n",
       "17         tax        food  pomegranate   unresponsive        good\n",
       "18     pricing         car         like  interpersonal        work\n",
       "19        wait       price         love      receptive  experience"
      ]
     },
     "execution_count": 40,
     "metadata": {},
     "output_type": "execute_result"
    }
   ],
   "source": [
    "dir_model = f'/Users/shinbo/Desktop/metting/LDA/paper/experiments/yelp/model/CDMM_result.pkl'\n",
    "DMM_CLDA = pickle.load(open(dir_model,'rb'))\n",
    "DMM_CLDA_lam =  [DMM_CLDA.components_[k,:] for k in range(5)]\n",
    "TOP_N_WORDS = 100\n",
    "DMM_CLDA_Top_words = TOP_N_WORDS_df(DMM_CLDA, TOP_N_WORDS, ['price','food','drink','service','ambience'] )\n",
    "DMM_CLDA_Top_words.iloc[:20,]"
   ]
  },
  {
   "cell_type": "code",
   "execution_count": 41,
   "metadata": {},
   "outputs": [
    {
     "data": {
      "text/plain": [
       "[36755.37443603391,\n",
       " 23081.00572437283,\n",
       " 23076.095123339303,\n",
       " 23075.557729473745,\n",
       " 23075.243816938913,\n",
       " 23075.24086624404,\n",
       " 23075.064450137423,\n",
       " 23074.979892985837,\n",
       " 23074.979103521266,\n",
       " 23074.979103353537]"
      ]
     },
     "execution_count": 41,
     "metadata": {},
     "output_type": "execute_result"
    }
   ],
   "source": [
    "DMM_CLDA.perplexity"
   ]
  },
  {
   "cell_type": "markdown",
   "metadata": {},
   "source": [
    "## source result"
   ]
  },
  {
   "cell_type": "code",
   "execution_count": 42,
   "metadata": {},
   "outputs": [
    {
     "data": {
      "text/plain": [
       "dict_keys(['ambience', 'drink', 'food', 'price', 'service'])"
      ]
     },
     "execution_count": 42,
     "metadata": {},
     "output_type": "execute_result"
    }
   ],
   "source": [
    "dir_ = '/Users/shinbo/Desktop/metting/LDA/paper/experiments/yelp/prepare/source.pkl'\n",
    "source = pickle.load(open(dir_,'rb'))\n",
    "source.keys()"
   ]
  },
  {
   "cell_type": "code",
   "execution_count": 43,
   "metadata": {},
   "outputs": [
    {
     "name": "stdout",
     "output_type": "stream",
     "text": [
      "food& food& like& great& good \\\n",
      "good& good& room& service& food \\\n",
      "like& like& drink& like& great \\\n",
      "great& great& good& food& service \\\n",
      "order& restaurant& wine& good& order \\\n",
      "service& rice& tea& work& like \\\n",
      "try& meat& service& staff& try \\\n",
      "restaurant& order& use& experience& wait \\\n",
      "price& sushi& great& tell& love \\\n",
      "love& love& need& never& give \\\n",
      "chicken& eat& give& customer& nice \\\n",
      "best& use& know& give& staff \\\n",
      "menu& store& much& recommend& friendly \\\n",
      "burger& try& beer& order& always \\\n",
      "fry& nice& price& need& first \\\n",
      "nice& roll& food& day& pizza \\\n",
      "want& service& new& ask& best \\\n",
      "taste& find& car& know& menu \\\n",
      "eat& fish& people& always& price \\\n",
      "always& many& year& call& drink \\\n"
     ]
    }
   ],
   "source": [
    "dir_model = f'/Users/shinbo/Desktop/metting/LDA/paper/experiments/yelp/model/DMM_source_result.pkl'\n",
    "DMM_source = pickle.load(open(dir_model,'rb'))\n",
    "DMM_source_lam =  [DMM_source.components_[k,:] for k in range(5)]\n",
    "TOP_N_WORDS = 100\n",
    "DMM_source_Top_words = TOP_N_WORDS_df(DMM_source, TOP_N_WORDS, ['ambience', 'drink', 'food', 'price', 'service'])\n",
    "# DMM_source_Top_words.iloc[:20,].to_csv(\n",
    "#     '/Users/shinbo/Desktop/metting/LDA/meeting materials/21.05.20/lambda_1.csv',\n",
    "#     index=False\n",
    "# )\n",
    "result = DMM_source_Top_words.iloc[:20,][['price','food','drink','service','ambience']]\n",
    "for i in range(20):\n",
    "    row = list(result.iloc[i,:])\n",
    "    print('& '.join(row) + ' \\\\')"
   ]
  },
  {
   "cell_type": "code",
   "execution_count": 44,
   "metadata": {},
   "outputs": [
    {
     "data": {
      "text/plain": [
       "[87569.15233972018,\n",
       " 27753.567370085304,\n",
       " 27747.20172076535,\n",
       " 27745.702794035245,\n",
       " 27745.670403157645]"
      ]
     },
     "execution_count": 44,
     "metadata": {},
     "output_type": "execute_result"
    }
   ],
   "source": [
    "DMM_source.perplexity"
   ]
  },
  {
   "cell_type": "code",
   "execution_count": 8,
   "metadata": {},
   "outputs": [
    {
     "data": {
      "text/plain": [
       "(0.43, 86)"
      ]
     },
     "execution_count": 8,
     "metadata": {},
     "output_type": "execute_result"
    }
   ],
   "source": [
    "import pandas as pd\n",
    "import numpy as np\n",
    "from collections import Counter\n",
    "def top_20_words_for_topics(CLDA_lam,CDMM, aux=None, n=50):\n",
    "    if aux is True:\n",
    "        K = len(CLDA_lam)-1\n",
    "    else:\n",
    "        K = len(CLDA_lam)\n",
    "    words = {}\n",
    "    unique_words = []\n",
    "    for k in range(K):\n",
    "        CLDA_lam_word = pd.DataFrame({'word':cv.get_feature_names(), 'lam':CDMM.components_[k,:] }).sort_values(by='lam', ascending=False)\n",
    "        top_words = CLDA_lam_word.iloc[:n,:]['word'].tolist()\n",
    "        words[k] = CLDA_lam_word.iloc[:n,:].set_index('word').to_dict()['lam']\n",
    "        unique_words += top_words\n",
    "        \n",
    "    c = Counter(unique_words)\n",
    "    words_all_appear = []\n",
    "    for k,v in c.items():\n",
    "        if v == K:\n",
    "            words_all_appear.append(k)\n",
    "    \n",
    "    \n",
    "    \n",
    "    words_degree = []\n",
    "    for k in range(K):\n",
    "        for w,d in words[k].items():\n",
    "            if w in words_all_appear:\n",
    "                words_degree.append(d)\n",
    "        \n",
    "    return words_all_appear, len(set(unique_words)) / (K*n), len(set(unique_words)) , np.mean(words_degree)\n",
    "words_, uq_words_ratio, uq_words_nums, asso_deg = top_20_words_for_topics(DMM_LDA_lam,DMM_LDA, n=50)\n",
    "uq_words_ratio, uq_words_nums"
   ]
  },
  {
   "cell_type": "code",
   "execution_count": 9,
   "metadata": {},
   "outputs": [
    {
     "data": {
      "text/plain": [
       "(0.535, 107)"
      ]
     },
     "execution_count": 9,
     "metadata": {},
     "output_type": "execute_result"
    }
   ],
   "source": [
    "words_, uq_words_ratio, uq_words_nums, asso_deg = top_20_words_for_topics(DMM_CLDA_lam,DMM_CLDA, n=50)\n",
    "uq_words_ratio, uq_words_nums"
   ]
  },
  {
   "cell_type": "code",
   "execution_count": 10,
   "metadata": {},
   "outputs": [
    {
     "data": {
      "text/plain": [
       "(0.745, 149)"
      ]
     },
     "execution_count": 10,
     "metadata": {},
     "output_type": "execute_result"
    }
   ],
   "source": [
    "words_, uq_words_ratio, uq_words_nums, asso_deg = top_20_words_for_topics(DMM_source_lam,DMM_source, n=50)\n",
    "uq_words_ratio, uq_words_nums"
   ]
  },
  {
   "cell_type": "markdown",
   "metadata": {},
   "source": [
    "## n 변화시켜가며 비율 살펴보기"
   ]
  },
  {
   "cell_type": "code",
   "execution_count": 11,
   "metadata": {},
   "outputs": [],
   "source": [
    "def varying_n(lam,mod):\n",
    "    result = {}\n",
    "    for n in range(10,51,10):\n",
    "        words_, uq_words_ratio, uq_words_nums, asso_deg = top_20_words_for_topics(lam, mod, n=n)\n",
    "        result[n] = (uq_words_ratio, uq_words_nums)\n",
    "    return result"
   ]
  },
  {
   "cell_type": "code",
   "execution_count": 12,
   "metadata": {},
   "outputs": [
    {
     "data": {
      "text/plain": [
       "{10: (0.575, 23),\n",
       " 20: (0.4625, 37),\n",
       " 30: (0.4166666666666667, 50),\n",
       " 40: (0.4375, 70),\n",
       " 50: (0.43, 86)}"
      ]
     },
     "execution_count": 12,
     "metadata": {},
     "output_type": "execute_result"
    }
   ],
   "source": [
    "varying_n(DMM_LDA_lam,DMM_LDA)"
   ]
  },
  {
   "cell_type": "code",
   "execution_count": 13,
   "metadata": {},
   "outputs": [
    {
     "name": "stderr",
     "output_type": "stream",
     "text": [
      "/Users/shinbo/opt/anaconda3/lib/python3.7/site-packages/numpy/core/fromnumeric.py:3335: RuntimeWarning: Mean of empty slice.\n",
      "  out=out, **kwargs)\n",
      "/Users/shinbo/opt/anaconda3/lib/python3.7/site-packages/numpy/core/_methods.py:161: RuntimeWarning: invalid value encountered in double_scalars\n",
      "  ret = ret.dtype.type(ret / rcount)\n"
     ]
    },
    {
     "data": {
      "text/plain": [
       "{10: (0.9, 36),\n",
       " 20: (0.85, 68),\n",
       " 30: (0.65, 78),\n",
       " 40: (0.575, 92),\n",
       " 50: (0.535, 107)}"
      ]
     },
     "execution_count": 13,
     "metadata": {},
     "output_type": "execute_result"
    }
   ],
   "source": [
    "varying_n(DMM_CLDA_lam,DMM_CLDA)"
   ]
  },
  {
   "cell_type": "code",
   "execution_count": 14,
   "metadata": {},
   "outputs": [
    {
     "data": {
      "text/plain": [
       "{10: (0.825, 33),\n",
       " 20: (0.7625, 61),\n",
       " 30: (0.75, 90),\n",
       " 40: (0.74375, 119),\n",
       " 50: (0.745, 149)}"
      ]
     },
     "execution_count": 14,
     "metadata": {},
     "output_type": "execute_result"
    }
   ],
   "source": [
    "varying_n(DMM_source_lam,DMM_source)"
   ]
  },
  {
   "cell_type": "code",
   "execution_count": 15,
   "metadata": {},
   "outputs": [
    {
     "data": {
      "text/plain": [
       "[15683.33882455813, 4862.665228800802, 4862.573836663506, 4862.573774702469]"
      ]
     },
     "execution_count": 15,
     "metadata": {},
     "output_type": "execute_result"
    }
   ],
   "source": [
    "DMM_source.perplexity"
   ]
  },
  {
   "cell_type": "markdown",
   "metadata": {},
   "source": [
    "## Glove 벡터 이용"
   ]
  },
  {
   "cell_type": "code",
   "execution_count": 12,
   "metadata": {},
   "outputs": [],
   "source": [
    "n=0\n",
    "glove_dir = '/Users/shinbo/Desktop/metting/LDA/paper/word_embedding/glove.6B/glove.6B.100d.txt'\n",
    "word2glove = {}\n",
    "with open(glove_dir, encoding=\"utf8\") as f:\n",
    "\n",
    "    for line in f:\n",
    "        word_vector = line.split() # 각 줄을 읽어와서 word_vector에 저장.\n",
    "        word = word_vector[0] # word_vector에서 첫번째 값만 저장\n",
    "        word2glove[word] = np.array([float(i) for i in word_vector[1:]])"
   ]
  },
  {
   "cell_type": "code",
   "execution_count": 47,
   "metadata": {},
   "outputs": [],
   "source": [
    "from scipy.spatial.distance import cosine\n",
    "TOP_N_WORDS = 10\n",
    "DMM_LDA_Top_words = TOP_N_WORDS_df(DMM_LDA, TOP_N_WORDS, [f'Topic {i}' for i in range(1,6)])\n",
    "DMM_CLDA_Top_words = TOP_N_WORDS_df(DMM_CLDA, TOP_N_WORDS, ['price','food','drink','service','ambience'] )\n",
    "DMM_source_Top_words = TOP_N_WORDS_df(DMM_source, TOP_N_WORDS, ['price','food','drink','service','ambience'])     "
   ]
  },
  {
   "cell_type": "code",
   "execution_count": 48,
   "metadata": {},
   "outputs": [
    {
     "ename": "NameError",
     "evalue": "name 'word2glove' is not defined",
     "output_type": "error",
     "traceback": [
      "\u001b[0;31m---------------------------------------------------------------------------\u001b[0m",
      "\u001b[0;31mNameError\u001b[0m                                 Traceback (most recent call last)",
      "\u001b[0;32m<ipython-input-48-5c41ba2e3343>\u001b[0m in \u001b[0;36m<module>\u001b[0;34m\u001b[0m\n\u001b[1;32m     15\u001b[0m         \u001b[0mtotal\u001b[0m \u001b[0;34m+=\u001b[0m \u001b[0mcos_val\u001b[0m\u001b[0;34m\u001b[0m\u001b[0;34m\u001b[0m\u001b[0m\n\u001b[1;32m     16\u001b[0m     \u001b[0mprint\u001b[0m\u001b[0;34m(\u001b[0m\u001b[0mtotal\u001b[0m\u001b[0;34m/\u001b[0m\u001b[0;36m4\u001b[0m\u001b[0;34m)\u001b[0m\u001b[0;34m\u001b[0m\u001b[0;34m\u001b[0m\u001b[0m\n\u001b[0;32m---> 17\u001b[0;31m \u001b[0mcosine_sim\u001b[0m\u001b[0;34m(\u001b[0m\u001b[0mDMM_LDA_Top_words\u001b[0m\u001b[0;34m)\u001b[0m\u001b[0;34m\u001b[0m\u001b[0;34m\u001b[0m\u001b[0m\n\u001b[0m\u001b[1;32m     18\u001b[0m \u001b[0mprint\u001b[0m\u001b[0;34m(\u001b[0m\u001b[0;34m)\u001b[0m\u001b[0;34m\u001b[0m\u001b[0;34m\u001b[0m\u001b[0m\n\u001b[1;32m     19\u001b[0m \u001b[0mcosine_sim\u001b[0m\u001b[0;34m(\u001b[0m\u001b[0mDMM_CLDA_Top_words\u001b[0m\u001b[0;34m)\u001b[0m\u001b[0;34m\u001b[0m\u001b[0;34m\u001b[0m\u001b[0m\n",
      "\u001b[0;32m<ipython-input-48-5c41ba2e3343>\u001b[0m in \u001b[0;36mcosine_sim\u001b[0;34m(df)\u001b[0m\n\u001b[1;32m      9\u001b[0m         \u001b[0;32mfor\u001b[0m \u001b[0mc\u001b[0m \u001b[0;32min\u001b[0m \u001b[0mcombinations\u001b[0m\u001b[0;34m(\u001b[0m\u001b[0mwords\u001b[0m\u001b[0;34m,\u001b[0m\u001b[0;36m2\u001b[0m\u001b[0;34m)\u001b[0m\u001b[0;34m:\u001b[0m\u001b[0;34m\u001b[0m\u001b[0;34m\u001b[0m\u001b[0m\n\u001b[1;32m     10\u001b[0m \u001b[0;31m#             print(c)\u001b[0m\u001b[0;34m\u001b[0m\u001b[0;34m\u001b[0m\u001b[0;34m\u001b[0m\u001b[0m\n\u001b[0;32m---> 11\u001b[0;31m             \u001b[0mcos_val\u001b[0m \u001b[0;34m+=\u001b[0m \u001b[0;36m1\u001b[0m\u001b[0;34m-\u001b[0m\u001b[0mcosine\u001b[0m\u001b[0;34m(\u001b[0m\u001b[0mword2glove\u001b[0m\u001b[0;34m[\u001b[0m\u001b[0mc\u001b[0m\u001b[0;34m[\u001b[0m\u001b[0;36m0\u001b[0m\u001b[0;34m]\u001b[0m\u001b[0;34m]\u001b[0m\u001b[0;34m,\u001b[0m \u001b[0mword2glove\u001b[0m\u001b[0;34m[\u001b[0m\u001b[0mc\u001b[0m\u001b[0;34m[\u001b[0m\u001b[0;36m1\u001b[0m\u001b[0;34m]\u001b[0m\u001b[0;34m]\u001b[0m\u001b[0;34m)\u001b[0m\u001b[0;34m\u001b[0m\u001b[0;34m\u001b[0m\u001b[0m\n\u001b[0m\u001b[1;32m     12\u001b[0m \u001b[0;31m#             print(c)\u001b[0m\u001b[0;34m\u001b[0m\u001b[0;34m\u001b[0m\u001b[0;34m\u001b[0m\u001b[0m\n\u001b[1;32m     13\u001b[0m \u001b[0;31m#             print(cosine(word2glove[c[0]], word2glove[c[1]]))\u001b[0m\u001b[0;34m\u001b[0m\u001b[0;34m\u001b[0m\u001b[0;34m\u001b[0m\u001b[0m\n",
      "\u001b[0;31mNameError\u001b[0m: name 'word2glove' is not defined"
     ]
    }
   ],
   "source": [
    "from itertools import combinations\n",
    "# 하나의 토픽 내에서 nC2\n",
    "# 큰 값이 좋은 것임\n",
    "def cosine_sim(df):\n",
    "    total = 0\n",
    "    for col in df.columns:\n",
    "        cos_val = 0\n",
    "        words = df[col].tolist()\n",
    "        for c in combinations(words,2):\n",
    "#             print(c)\n",
    "            cos_val += 1-cosine(word2glove[c[0]], word2glove[c[1]])\n",
    "#             print(c)\n",
    "#             print(cosine(word2glove[c[0]], word2glove[c[1]]))\n",
    "        print(col, cos_val)\n",
    "        total += cos_val\n",
    "    print(total/4)\n",
    "cosine_sim(DMM_LDA_Top_words)\n",
    "print()\n",
    "cosine_sim(DMM_CLDA_Top_words)"
   ]
  },
  {
   "cell_type": "code",
   "execution_count": 23,
   "metadata": {},
   "outputs": [
    {
     "name": "stdout",
     "output_type": "stream",
     "text": [
      "Topic 1 139.9889984932741\n",
      "Topic 2 146.08137672283598\n",
      "Topic 3 146.14787236591397\n",
      "Topic 4 145.0820424201924\n",
      "144.32507250055409\n",
      "\n",
      "price 102.36063631059497\n",
      "service 103.70896641408386\n",
      "food 100.42500140438251\n",
      "accomodation 107.43641007958207\n",
      "103.48275355216084\n"
     ]
    }
   ],
   "source": [
    "# 토픽별로 cross similarity\n",
    "# 작은 값이 좋은 것임\n",
    "def cosine_sim_cross_topic(df):\n",
    "    cols = list(df.columns)\n",
    "    total = 0\n",
    "    for col in cols:\n",
    "        cos_val = 0\n",
    "        target_words = df[col].tolist()\n",
    "        rest_cols = list(set(cols) - set([col]))\n",
    "        for not_col in rest_cols:\n",
    "#             print(col, not_col)\n",
    "            cross_words = df[not_col].tolist()\n",
    "            for target_word in target_words:\n",
    "                for cross_word in cross_words:\n",
    "#                     print(target_word, cross_word)\n",
    "                    cos_val += 1-cosine(word2glove[target_word],\n",
    "                               word2glove[cross_word])\n",
    "        print(col, cos_val)\n",
    "        total += cos_val\n",
    "    print(total/4)\n",
    "cosine_sim_cross_topic(DMM_LDA_Top_words)\n",
    "print()\n",
    "cosine_sim_cross_topic(DMM_CLDA_Top_words)"
   ]
  },
  {
   "cell_type": "markdown",
   "metadata": {},
   "source": [
    "### word2vec 이용"
   ]
  },
  {
   "cell_type": "code",
   "execution_count": 49,
   "metadata": {},
   "outputs": [],
   "source": [
    "import gensim\n",
    "\n",
    "w2v_dir = '/Users/shinbo/Desktop/metting/LDA/paper/word_embedding/GoogleNews-vectors-negative300.bin/GoogleNews-vectors-negative300.bin'\n",
    "word2vec_model = gensim.models.keyedvectors.KeyedVectors.load_word2vec_format(\n",
    "    w2v_dir, binary=True\n",
    ")"
   ]
  },
  {
   "cell_type": "code",
   "execution_count": 52,
   "metadata": {},
   "outputs": [
    {
     "name": "stdout",
     "output_type": "stream",
     "text": [
      "Mean: 8.581041695550084\n",
      "\n",
      "Mean: 9.156357607850804\n",
      "\n",
      "Mean: 8.246128985472023\n"
     ]
    }
   ],
   "source": [
    "# 하나의 토픽 내에서 nC2\n",
    "# 큰 값이 좋은 것임\n",
    "from collections import Counter\n",
    "from itertools import combinations\n",
    "from scipy.spatial.distance import cosine\n",
    "N=20\n",
    "def cosine_sim_w2v(df,N):\n",
    "    df = df.iloc[:N,:]\n",
    "    total = 0\n",
    "    for col in df.columns:\n",
    "        cos_val = 0\n",
    "        words = df[col].tolist()\n",
    "        for c in combinations(words,2):\n",
    "#             print(c)\n",
    "            try:\n",
    "                cos_val += 1-cosine(word2vec_model.get_vector(c[0]),\n",
    "                               word2vec_model.get_vector(c[1]))\n",
    "            except:\n",
    "                pass\n",
    "#             print(c)\n",
    "#             print(cosine(word2glove[c[0]], word2glove[c[1]]))\n",
    "#         print(col, cos_val)\n",
    "        total += cos_val\n",
    "    return total\n",
    "result = cosine_sim_w2v(DMM_LDA_Top_words,N)\n",
    "print(f'Mean: {result/5}')\n",
    "print()\n",
    "result = cosine_sim_w2v(DMM_CLDA_Top_words,N)\n",
    "print(f'Mean: {result/5}')\n",
    "print()\n",
    "result = cosine_sim_w2v(DMM_source_Top_words,N)\n",
    "print(f'Mean: {result/5}')"
   ]
  },
  {
   "cell_type": "code",
   "execution_count": 35,
   "metadata": {},
   "outputs": [
    {
     "name": "stdout",
     "output_type": "stream",
     "text": [
      "Topic 1 57.16011403314769\n",
      "Topic 2 58.74213494709693\n",
      "Topic 3 52.35971114039421\n",
      "Topic 4 55.431902976939455\n",
      "223.6938630975783\n",
      "\n",
      "price 31.277103207539767\n",
      "service 39.33417551475577\n",
      "food 35.5444508001674\n",
      "accomodation 39.11769031314179\n",
      "145.27341983560473\n",
      "\n",
      "price 33.499387064250186\n",
      "service 33.94938659033505\n",
      "food 29.342106708092615\n",
      "accomodation 37.30153795069782\n",
      "134.09241831337567\n"
     ]
    }
   ],
   "source": [
    "# 토픽별로 cross similarity\n",
    "# 작은 값이 좋은 것임\n",
    "def cosine_sim_w2v_cross_topic(df):\n",
    "    cols = list(df.columns)\n",
    "    total = 0\n",
    "    for col in cols:\n",
    "        cos_val = 0\n",
    "        target_words = df[col].tolist()\n",
    "        rest_cols = list(set(cols) - set([col]))\n",
    "        for not_col in rest_cols:\n",
    "#             print(col, not_col)\n",
    "            cross_words = df[not_col].tolist()\n",
    "            for target_word in target_words:\n",
    "                for cross_word in cross_words:\n",
    "#                     print(target_word, cross_word)\n",
    "                    cos_val += 1-cosine(word2vec_model.get_vector(target_word),\n",
    "                               word2vec_model.get_vector(cross_word))\n",
    "        print(col, cos_val)\n",
    "        total += cos_val\n",
    "    print(total)\n",
    "cosine_sim_w2v_cross_topic(DMM_LDA_Top_words)\n",
    "print()\n",
    "cosine_sim_w2v_cross_topic(DMM_CLDA_Top_words)\n",
    "print()\n",
    "cosine_sim_w2v_cross_topic(DMM_source_Top_words)"
   ]
  },
  {
   "cell_type": "markdown",
   "metadata": {},
   "source": [
    "## n=10,20,50,100"
   ]
  },
  {
   "cell_type": "code",
   "execution_count": 69,
   "metadata": {},
   "outputs": [],
   "source": [
    "from scipy.spatial.distance import cosine\n",
    "from scipy.spatial.distance import cosine\n",
    "TOP_N_WORDS = 100\n",
    "DMM_LDA_Top_words = TOP_N_WORDS_df(DMM_LDA, TOP_N_WORDS, [f'Topic {i}' for i in range(1,6)])\n",
    "DMM_CLDA_Top_words = TOP_N_WORDS_df(DMM_CLDA, TOP_N_WORDS, ['price','food','drink','service','ambience'] )\n",
    "DMM_source_Top_words = TOP_N_WORDS_df(DMM_source, TOP_N_WORDS, ['price','food','drink','service','ambience'])         "
   ]
  },
  {
   "cell_type": "code",
   "execution_count": 70,
   "metadata": {},
   "outputs": [],
   "source": [
    "def topic_cross(df,N):\n",
    "    df = df.iloc[:N,:]\n",
    "    cols = list(df.columns)\n",
    "    total = 0\n",
    "    result = {}\n",
    "    for col in cols:\n",
    "        result[col] = {}\n",
    "        rest_cols = list(set(cols) - set([col]))\n",
    "        for word in df[col].tolist():\n",
    "            # cosine sim within topic\n",
    "            cos_val_intrinsic = 0\n",
    "            for intra_word in list( set(df[col].tolist()) - set([word]) ):\n",
    "                try:\n",
    "                    cos_val_intrinsic += 1-cosine(word2vec_model.get_vector(word),\n",
    "                           word2vec_model.get_vector(intra_word))\n",
    "                except KeyError:\n",
    "                    pass\n",
    "            # cosin sim between topic\n",
    "            max_cos_val_between = 1e-10\n",
    "            for cross_col in rest_cols:\n",
    "                cos_val_between = 0\n",
    "                for cross_word in df[cross_col].tolist():\n",
    "                    try:\n",
    "                        cos_val_between += 1-cosine(word2vec_model.get_vector(word),\n",
    "                               word2vec_model.get_vector(cross_word))\n",
    "                    except KeyError:\n",
    "                        pass\n",
    "                if max_cos_val_between < cos_val_between:\n",
    "                    max_cos_val_between = cos_val_between\n",
    "            # compare within topic vs between topic\n",
    "            if cos_val_intrinsic < max_cos_val_between:\n",
    "                result[col][word] = 0\n",
    "            else:\n",
    "                result[col][word] = 1\n",
    "    val = 0\n",
    "#     print(result)\n",
    "    for topic in result.keys():\n",
    "        for word in result[topic].keys():\n",
    "            val += result[topic][word]\n",
    "#     print(val)\n",
    "    return val\n",
    "\n",
    "        \n",
    "# topic_cross(DMM_LDA_Top_words,N=10)\n",
    "# print()\n",
    "# topic_cross(DMM_CLDA_Top_words,N=10)\n",
    "# print()\n",
    "# topic_cross(DMM_source_Top_words,N=10)"
   ]
  },
  {
   "cell_type": "code",
   "execution_count": 87,
   "metadata": {},
   "outputs": [],
   "source": [
    "result_LDA = pd.DataFrame()\n",
    "for n in range(10,101,10):\n",
    "    a = cosine_sim_w2v(DMM_LDA_Top_words,n)\n",
    "    b = topic_cross(DMM_LDA_Top_words,n)\n",
    "    print(a,b)\n",
    "    row = [n,'DMM_LDA',a,b]\n",
    "    result_LDA = pd.concat([result_LDA, pd.DataFrame(row).T])\n",
    "\n",
    "result_CLDA = pd.DataFrame()\n",
    "for n in range(10,101,10):\n",
    "    a = cosine_sim_w2v(DMM_CLDA_Top_words,n)\n",
    "    b = topic_cross(DMM_CLDA_Top_words,n)\n",
    "    row = [n,'DMM_CLDA',a,b]\n",
    "    result_CLDA = pd.concat([result_CLDA, pd.DataFrame(row).T])\n",
    "\n",
    "result_source = pd.DataFrame()\n",
    "for n in range(10,101,10):\n",
    "    a = cosine_sim_w2v(DMM_source_Top_words,n)\n",
    "    b = topic_cross(DMM_source_Top_words,n)\n",
    "    row = [n,'DMM_source',a,b]\n",
    "    result_source = pd.concat([result_source, pd.DataFrame(row).T])\n",
    "    \n",
    "result = pd.concat([result_LDA,result_CLDA,result_source])\n",
    "result.columns = ['n','model','intrinsic','cross']\n",
    "\n",
    "result['intrinsic'] = result['intrinsic'].astype(float)\n",
    "result['cross'] = result['cross'].astype(float)"
   ]
  },
  {
   "cell_type": "code",
   "execution_count": 88,
   "metadata": {},
   "outputs": [],
   "source": [
    "df_diff_1 = pd.DataFrame({'n':[i for i in range(10,101,10)]})\n",
    "df_diff_1['intrinsic'] = list(result_CLDA.iloc[:,2] - result_LDA.iloc[:,2])\n",
    "df_diff_1['model'] = 'CLDA-LDA'\n",
    "\n",
    "df_diff_2 = pd.DataFrame({'n':[i for i in range(10,101,10)]})\n",
    "df_diff_2['intrinsic'] = list(result_CLDA.iloc[:,2] - result_source.iloc[:,2])\n",
    "df_diff_2['model'] = 'CLDA-source'\n",
    "\n",
    "df_diff = pd.concat([df_diff_1,df_diff_2])"
   ]
  },
  {
   "cell_type": "code",
   "execution_count": 89,
   "metadata": {},
   "outputs": [
    {
     "data": {
      "text/plain": [
       "<function matplotlib.pyplot.show(*args, **kw)>"
      ]
     },
     "execution_count": 89,
     "metadata": {},
     "output_type": "execute_result"
    },
    {
     "data": {
      "image/png": "[encoded data removed]",
      "text/plain": [
       "<Figure size 432x288 with 1 Axes>"
      ]
     },
     "metadata": {
      "needs_background": "light"
     },
     "output_type": "display_data"
    }
   ],
   "source": [
    "import matplotlib.pyplot as plt\n",
    "import seaborn as sns\n",
    "sns.lineplot(x='n',y='intrinsic',hue='model',data=df_diff)\n",
    "plt.show"
   ]
  },
  {
   "cell_type": "code",
   "execution_count": 90,
   "metadata": {},
   "outputs": [
    {
     "data": {
      "text/plain": [
       "<function matplotlib.pyplot.show(*args, **kw)>"
      ]
     },
     "execution_count": 90,
     "metadata": {},
     "output_type": "execute_result"
    },
    {
     "data": {
      "image/png": "[encoded data removed]",
      "text/plain": [
       "<Figure size 432x288 with 1 Axes>"
      ]
     },
     "metadata": {
      "needs_background": "light"
     },
     "output_type": "display_data"
    }
   ],
   "source": [
    "sns.lineplot(x='n',y='intrinsic',hue='model',data=result)\n",
    "plt.show"
   ]
  },
  {
   "cell_type": "code",
   "execution_count": 94,
   "metadata": {},
   "outputs": [
    {
     "data": {
      "text/plain": [
       "<function matplotlib.pyplot.show(*args, **kw)>"
      ]
     },
     "execution_count": 94,
     "metadata": {},
     "output_type": "execute_result"
    },
    {
     "data": {
      "image/png": "[encoded data removed]",
      "text/plain": [
       "<Figure size 432x288 with 1 Axes>"
      ]
     },
     "metadata": {
      "needs_background": "light"
     },
     "output_type": "display_data"
    }
   ],
   "source": [
    "sns.lineplot(x='n',y='cross',hue='model',data=result)\n",
    "plt.savefig('/Users/shinbo/Desktop/metting/LDA/paper/experiments/yelp/fig/BC.png')\n",
    "plt.show"
   ]
  },
  {
   "cell_type": "code",
   "execution_count": 95,
   "metadata": {},
   "outputs": [
    {
     "data": {
      "text/html": [
       "<div>\n",
       "<style scoped>\n",
       "    .dataframe tbody tr th:only-of-type {\n",
       "        vertical-align: middle;\n",
       "    }\n",
       "\n",
       "    .dataframe tbody tr th {\n",
       "        vertical-align: top;\n",
       "    }\n",
       "\n",
       "    .dataframe thead th {\n",
       "        text-align: right;\n",
       "    }\n",
       "</style>\n",
       "<table border=\"1\" class=\"dataframe\">\n",
       "  <thead>\n",
       "    <tr style=\"text-align: right;\">\n",
       "      <th></th>\n",
       "      <th>DMM_LDA</th>\n",
       "      <th>DMM_source</th>\n",
       "      <th>DMM_CLDA</th>\n",
       "      <th>n</th>\n",
       "    </tr>\n",
       "  </thead>\n",
       "  <tbody>\n",
       "    <tr>\n",
       "      <th>0</th>\n",
       "      <td>4.0</td>\n",
       "      <td>6.0</td>\n",
       "      <td>24.0</td>\n",
       "      <td>10</td>\n",
       "    </tr>\n",
       "    <tr>\n",
       "      <th>1</th>\n",
       "      <td>18.0</td>\n",
       "      <td>15.0</td>\n",
       "      <td>52.0</td>\n",
       "      <td>20</td>\n",
       "    </tr>\n",
       "    <tr>\n",
       "      <th>2</th>\n",
       "      <td>14.0</td>\n",
       "      <td>10.0</td>\n",
       "      <td>54.0</td>\n",
       "      <td>30</td>\n",
       "    </tr>\n",
       "    <tr>\n",
       "      <th>3</th>\n",
       "      <td>12.0</td>\n",
       "      <td>14.0</td>\n",
       "      <td>53.0</td>\n",
       "      <td>40</td>\n",
       "    </tr>\n",
       "    <tr>\n",
       "      <th>4</th>\n",
       "      <td>6.0</td>\n",
       "      <td>26.0</td>\n",
       "      <td>52.0</td>\n",
       "      <td>50</td>\n",
       "    </tr>\n",
       "    <tr>\n",
       "      <th>5</th>\n",
       "      <td>6.0</td>\n",
       "      <td>26.0</td>\n",
       "      <td>56.0</td>\n",
       "      <td>60</td>\n",
       "    </tr>\n",
       "    <tr>\n",
       "      <th>6</th>\n",
       "      <td>11.0</td>\n",
       "      <td>31.0</td>\n",
       "      <td>64.0</td>\n",
       "      <td>70</td>\n",
       "    </tr>\n",
       "    <tr>\n",
       "      <th>7</th>\n",
       "      <td>25.0</td>\n",
       "      <td>37.0</td>\n",
       "      <td>62.0</td>\n",
       "      <td>80</td>\n",
       "    </tr>\n",
       "    <tr>\n",
       "      <th>8</th>\n",
       "      <td>37.0</td>\n",
       "      <td>37.0</td>\n",
       "      <td>55.0</td>\n",
       "      <td>90</td>\n",
       "    </tr>\n",
       "    <tr>\n",
       "      <th>9</th>\n",
       "      <td>50.0</td>\n",
       "      <td>55.0</td>\n",
       "      <td>61.0</td>\n",
       "      <td>100</td>\n",
       "    </tr>\n",
       "  </tbody>\n",
       "</table>\n",
       "</div>"
      ],
      "text/plain": [
       "   DMM_LDA  DMM_source  DMM_CLDA    n\n",
       "0      4.0         6.0      24.0   10\n",
       "1     18.0        15.0      52.0   20\n",
       "2     14.0        10.0      54.0   30\n",
       "3     12.0        14.0      53.0   40\n",
       "4      6.0        26.0      52.0   50\n",
       "5      6.0        26.0      56.0   60\n",
       "6     11.0        31.0      64.0   70\n",
       "7     25.0        37.0      62.0   80\n",
       "8     37.0        37.0      55.0   90\n",
       "9     50.0        55.0      61.0  100"
      ]
     },
     "execution_count": 95,
     "metadata": {},
     "output_type": "execute_result"
    }
   ],
   "source": [
    "tick = pd.DataFrame()\n",
    "tick['DMM_LDA'] = result[lambda x: x['model'] == 'DMM_LDA']['cross'].tolist()\n",
    "tick['DMM_source'] = result[lambda x: x['model'] == 'DMM_source']['cross'].tolist()\n",
    "tick['DMM_CLDA'] = result[lambda x: x['model'] == 'DMM_CLDA']['cross'].tolist()\n",
    "tick['n'] = range(10,101,10)\n",
    "tick"
   ]
  },
  {
   "cell_type": "code",
   "execution_count": null,
   "metadata": {},
   "outputs": [],
   "source": []
  },
  {
   "cell_type": "code",
   "execution_count": 87,
   "metadata": {},
   "outputs": [
    {
     "data": {
      "text/plain": [
       "(3370, 3)"
      ]
     },
     "execution_count": 87,
     "metadata": {},
     "output_type": "execute_result"
    }
   ],
   "source": [
    "data.shape"
   ]
  },
  {
   "cell_type": "code",
   "execution_count": 46,
   "metadata": {},
   "outputs": [],
   "source": [
    "TOP_N_WORDS = 100\n",
    "DMM_LDA_Top_words = TOP_N_WORDS_df(DMM_LDA, TOP_N_WORDS, [f'Topic {i}' for i in range(1,6)])\n",
    "DMM_CLDA_Top_words = TOP_N_WORDS_df(DMM_CLDA, TOP_N_WORDS, ['food','drink','ambience','price','service'] )\n",
    "DMM_source_Top_words = TOP_N_WORDS_df(DMM_source, TOP_N_WORDS, ['food','drink','ambience','price','service'])     "
   ]
  },
  {
   "cell_type": "code",
   "execution_count": 47,
   "metadata": {},
   "outputs": [],
   "source": [
    "from collections import Counter\n",
    "words = []\n",
    "for review in data:\n",
    "    words += review\n",
    "words_counter = Counter(words)"
   ]
  },
  {
   "cell_type": "code",
   "execution_count": 48,
   "metadata": {},
   "outputs": [
    {
     "data": {
      "text/plain": [
       "<function matplotlib.pyplot.show(*args, **kw)>"
      ]
     },
     "execution_count": 48,
     "metadata": {},
     "output_type": "execute_result"
    },
    {
     "data": {
      "image/png": "[encoded data removed]",
      "text/plain": [
       "<Figure size 432x288 with 1 Axes>"
      ]
     },
     "metadata": {
      "needs_background": "light"
     },
     "output_type": "display_data"
    }
   ],
   "source": [
    "import matplotlib.pyplot as plt\n",
    "import seaborn as sns\n",
    "result = pd.DataFrame()\n",
    "for column in DMM_LDA_Top_words.columns:\n",
    "    temp = pd.DataFrame()\n",
    "    words_ = DMM_LDA_Top_words[column].tolist()\n",
    "    freq = []\n",
    "    for word in words_:\n",
    "        freq.append( words_counter[word] / len(words) )\n",
    "    temp['relative_freq'] = np.cumsum(freq)\n",
    "    temp['rank'] = [i for i in range(100)]\n",
    "    temp['topics'] = column\n",
    "    \n",
    "    result = pd.concat([result,temp], axis=0)\n",
    "    \n",
    "sns.lineplot(x='rank',y='relative_freq',hue='topics',data=result)\n",
    "plt.show"
   ]
  },
  {
   "cell_type": "code",
   "execution_count": 49,
   "metadata": {},
   "outputs": [
    {
     "name": "stderr",
     "output_type": "stream",
     "text": [
      "No handles with labels found to put in legend.\n"
     ]
    },
    {
     "data": {
      "text/plain": [
       "<matplotlib.legend.Legend at 0x7fa93f883650>"
      ]
     },
     "execution_count": 49,
     "metadata": {},
     "output_type": "execute_result"
    },
    {
     "data": {
      "image/png": "[encoded data removed]",
      "text/plain": [
       "<Figure size 432x288 with 1 Axes>"
      ]
     },
     "metadata": {
      "needs_background": "light"
     },
     "output_type": "display_data"
    }
   ],
   "source": [
    "import matplotlib.pyplot as plt\n",
    "import seaborn as sns\n",
    "# result = pd.DataFrame()\n",
    "for column in DMM_source_Top_words.columns:\n",
    "    temp = pd.DataFrame()\n",
    "    words_ = DMM_source_Top_words[column].tolist()\n",
    "    freq = []\n",
    "    for word in words_:\n",
    "        freq.append( words_counter[word] / len(words) )\n",
    "    temp['relative_freq'] = np.cumsum(freq)\n",
    "    temp['rank'] = [i for i in range(100)]\n",
    "    temp['topics'] = column\n",
    "    \n",
    "    result = pd.concat([result,temp], axis=0)\n",
    "    \n",
    "# sns.lineplot(x='rank',y='relative_freq',hue='topics',data=result)\n",
    "# plt.show\n",
    "\n",
    "import matplotlib.pyplot as plt\n",
    "import seaborn as sns\n",
    "# result = pd.DataFrame()\n",
    "for column in DMM_CLDA_Top_words.columns:\n",
    "    temp = pd.DataFrame()\n",
    "    words_ = DMM_CLDA_Top_words[column].tolist()\n",
    "    freq = []\n",
    "    for word in words_:\n",
    "        freq.append( words_counter[word] / len(words) )\n",
    "    temp['relative_freq'] = np.cumsum(freq)\n",
    "    temp['rank'] = [i for i in range(100)]\n",
    "    temp['topics'] = column\n",
    "    \n",
    "    result = pd.concat([result,temp], axis=0)\n",
    "    \n",
    "# sns.lineplot(x='rank',y='relative_freq',hue='topics',data=result)\n",
    "# plt.show\n",
    "result['model'] = ['LDA']*500 + ['SLDA']*500 + ['CLDA']*500\n",
    "\n",
    "model2topics = {\n",
    "    'LDA':['Topic 1','Topic 2','Topic 3','Topic 4','Topic 5'],\n",
    "    'SLDA':['price','service','food','ambience','accomodation'],\n",
    "    'CLDA':['price','service','food','ambience','accomodation'],\n",
    "}\n",
    "colors = {\n",
    "    'LDA':'black',\n",
    "    'SLDA':'red',\n",
    "    'CLDA':'blue',\n",
    "}\n",
    "\n",
    "for model in model2topics.keys():\n",
    "    color = colors[model]\n",
    "    for topic in model2topics[model]:\n",
    "        temp = result[lambda x: (x['model'] == model) & (x['topics'] == topic)]\n",
    "        sns.lineplot(x='rank',y='relative_freq',data=temp, color=color)\n",
    "plt.legend()"
   ]
  },
  {
   "cell_type": "code",
   "execution_count": 50,
   "metadata": {},
   "outputs": [
    {
     "data": {
      "text/html": [
       "<div>\n",
       "<style scoped>\n",
       "    .dataframe tbody tr th:only-of-type {\n",
       "        vertical-align: middle;\n",
       "    }\n",
       "\n",
       "    .dataframe tbody tr th {\n",
       "        vertical-align: top;\n",
       "    }\n",
       "\n",
       "    .dataframe thead th {\n",
       "        text-align: right;\n",
       "    }\n",
       "</style>\n",
       "<table border=\"1\" class=\"dataframe\">\n",
       "  <thead>\n",
       "    <tr style=\"text-align: right;\">\n",
       "      <th></th>\n",
       "      <th>relative_freq</th>\n",
       "      <th>rank</th>\n",
       "      <th>topics</th>\n",
       "      <th>model</th>\n",
       "    </tr>\n",
       "  </thead>\n",
       "  <tbody>\n",
       "    <tr>\n",
       "      <th>99</th>\n",
       "      <td>0.031400</td>\n",
       "      <td>99</td>\n",
       "      <td>drink</td>\n",
       "      <td>CLDA</td>\n",
       "    </tr>\n",
       "    <tr>\n",
       "      <th>99</th>\n",
       "      <td>0.064536</td>\n",
       "      <td>99</td>\n",
       "      <td>ambience</td>\n",
       "      <td>CLDA</td>\n",
       "    </tr>\n",
       "  </tbody>\n",
       "</table>\n",
       "</div>"
      ],
      "text/plain": [
       "    relative_freq  rank    topics model\n",
       "99       0.031400    99     drink  CLDA\n",
       "99       0.064536    99  ambience  CLDA"
      ]
     },
     "execution_count": 50,
     "metadata": {},
     "output_type": "execute_result"
    }
   ],
   "source": [
    "result[lambda x: (x['model'] == 'CLDA') & (x['relative_freq'] <= 0.1) & (x['rank'] == 99)]"
   ]
  },
  {
   "cell_type": "code",
   "execution_count": 52,
   "metadata": {},
   "outputs": [
    {
     "data": {
      "text/html": [
       "<div>\n",
       "<style scoped>\n",
       "    .dataframe tbody tr th:only-of-type {\n",
       "        vertical-align: middle;\n",
       "    }\n",
       "\n",
       "    .dataframe tbody tr th {\n",
       "        vertical-align: top;\n",
       "    }\n",
       "\n",
       "    .dataframe thead th {\n",
       "        text-align: right;\n",
       "    }\n",
       "</style>\n",
       "<table border=\"1\" class=\"dataframe\">\n",
       "  <thead>\n",
       "    <tr style=\"text-align: right;\">\n",
       "      <th></th>\n",
       "      <th>drink</th>\n",
       "      <th>ambience</th>\n",
       "    </tr>\n",
       "  </thead>\n",
       "  <tbody>\n",
       "    <tr>\n",
       "      <th>0</th>\n",
       "      <td>beer</td>\n",
       "      <td>flavor</td>\n",
       "    </tr>\n",
       "    <tr>\n",
       "      <th>1</th>\n",
       "      <td>bev</td>\n",
       "      <td>dining</td>\n",
       "    </tr>\n",
       "    <tr>\n",
       "      <th>2</th>\n",
       "      <td>sangria</td>\n",
       "      <td>greenery</td>\n",
       "    </tr>\n",
       "    <tr>\n",
       "      <th>3</th>\n",
       "      <td>pints</td>\n",
       "      <td>ambiance</td>\n",
       "    </tr>\n",
       "    <tr>\n",
       "      <th>4</th>\n",
       "      <td>cocktails</td>\n",
       "      <td>crunchiness</td>\n",
       "    </tr>\n",
       "    <tr>\n",
       "      <th>5</th>\n",
       "      <td>brew</td>\n",
       "      <td>texture</td>\n",
       "    </tr>\n",
       "    <tr>\n",
       "      <th>6</th>\n",
       "      <td>martini</td>\n",
       "      <td>milieu</td>\n",
       "    </tr>\n",
       "    <tr>\n",
       "      <th>7</th>\n",
       "      <td>alcohol</td>\n",
       "      <td>acoustics</td>\n",
       "    </tr>\n",
       "    <tr>\n",
       "      <th>8</th>\n",
       "      <td>drank</td>\n",
       "      <td>ambient</td>\n",
       "    </tr>\n",
       "    <tr>\n",
       "      <th>9</th>\n",
       "      <td>brewsky</td>\n",
       "      <td>freshness</td>\n",
       "    </tr>\n",
       "    <tr>\n",
       "      <th>10</th>\n",
       "      <td>imbibe</td>\n",
       "      <td>tasteful</td>\n",
       "    </tr>\n",
       "    <tr>\n",
       "      <th>11</th>\n",
       "      <td>carbonated</td>\n",
       "      <td>divey</td>\n",
       "    </tr>\n",
       "    <tr>\n",
       "      <th>12</th>\n",
       "      <td>milkshakes</td>\n",
       "      <td>charm</td>\n",
       "    </tr>\n",
       "    <tr>\n",
       "      <th>13</th>\n",
       "      <td>vodka</td>\n",
       "      <td>aroma</td>\n",
       "    </tr>\n",
       "    <tr>\n",
       "      <th>14</th>\n",
       "      <td>whiskey</td>\n",
       "      <td>serene</td>\n",
       "    </tr>\n",
       "    <tr>\n",
       "      <th>15</th>\n",
       "      <td>overindulge</td>\n",
       "      <td>surroundings</td>\n",
       "    </tr>\n",
       "    <tr>\n",
       "      <th>16</th>\n",
       "      <td>martinis</td>\n",
       "      <td>décor</td>\n",
       "    </tr>\n",
       "    <tr>\n",
       "      <th>17</th>\n",
       "      <td>soda</td>\n",
       "      <td>spiciness</td>\n",
       "    </tr>\n",
       "    <tr>\n",
       "      <th>18</th>\n",
       "      <td>sodas</td>\n",
       "      <td>aesthetically</td>\n",
       "    </tr>\n",
       "    <tr>\n",
       "      <th>19</th>\n",
       "      <td>bottles</td>\n",
       "      <td>aesthetic</td>\n",
       "    </tr>\n",
       "  </tbody>\n",
       "</table>\n",
       "</div>"
      ],
      "text/plain": [
       "          drink       ambience\n",
       "0          beer         flavor\n",
       "1           bev         dining\n",
       "2       sangria       greenery\n",
       "3         pints       ambiance\n",
       "4     cocktails    crunchiness\n",
       "5          brew        texture\n",
       "6       martini         milieu\n",
       "7       alcohol      acoustics\n",
       "8         drank        ambient\n",
       "9       brewsky      freshness\n",
       "10       imbibe       tasteful\n",
       "11   carbonated          divey\n",
       "12   milkshakes          charm\n",
       "13        vodka          aroma\n",
       "14      whiskey         serene\n",
       "15  overindulge   surroundings\n",
       "16     martinis          décor\n",
       "17         soda      spiciness\n",
       "18        sodas  aesthetically\n",
       "19      bottles      aesthetic"
      ]
     },
     "execution_count": 52,
     "metadata": {},
     "output_type": "execute_result"
    }
   ],
   "source": [
    "DMM_CLDA_Top_words[['drink','ambience']].head(20)"
   ]
  },
  {
   "cell_type": "code",
   "execution_count": null,
   "metadata": {},
   "outputs": [],
   "source": []
  }
 ],
 "metadata": {
  "kernelspec": {
   "display_name": "Python 3",
   "language": "python",
   "name": "python3"
  },
  "language_info": {
   "codemirror_mode": {
    "name": "ipython",
    "version": 3
   },
   "file_extension": ".py",
   "mimetype": "text/x-python",
   "name": "python",
   "nbconvert_exporter": "python",
   "pygments_lexer": "ipython3",
   "version": "3.7.6"
  }
 },
 "nbformat": 4,
 "nbformat_minor": 4
}
