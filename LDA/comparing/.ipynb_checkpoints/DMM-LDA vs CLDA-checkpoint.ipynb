{
 "cells": [
  {
   "cell_type": "markdown",
   "metadata": {},
   "source": [
    "\n",
    "## load data"
   ]
  },
  {
   "cell_type": "code",
   "execution_count": 1,
   "metadata": {},
   "outputs": [],
   "source": [
    "def print_top_words(lam, feature_names, n_top_words):\n",
    "    for topic_id, topic in enumerate(lam):\n",
    "        print('\\nTopic Nr.%d:' % int(topic_id + 1))\n",
    "        print(''.join([feature_names[i] + ' ' + str(round(topic[i], 2))\n",
    "                       + ' | ' for i in topic.argsort()[:-n_top_words - 1:-1]]))"
   ]
  },
  {
   "cell_type": "code",
   "execution_count": 2,
   "metadata": {},
   "outputs": [],
   "source": [
    "import pickle\n",
    "from sklearn.feature_extraction.text import CountVectorizer\n",
    "\n",
    "type_ = 'first_data'\n",
    "dir_ = f'/Users/shinbo/Desktop/metting/LDA/0. data/hotel data/preproc/{type_}_preproc.pkl'\n",
    "\n",
    "data = pickle.load(open(dir_, 'rb'))\n",
    "data_join = [' '.join(doc) for doc in data]\n",
    "cv = CountVectorizer()\n",
    "X = cv.fit_transform(data_join).toarray()"
   ]
  },
  {
   "cell_type": "markdown",
   "metadata": {},
   "source": [
    "## DMM-LDA Result"
   ]
  },
  {
   "cell_type": "code",
   "execution_count": 3,
   "metadata": {},
   "outputs": [
    {
     "ename": "ModuleNotFoundError",
     "evalue": "No module named 'WORKING_DMM_lda'",
     "output_type": "error",
     "traceback": [
      "\u001b[0;31m---------------------------------------------------------------------------\u001b[0m",
      "\u001b[0;31mModuleNotFoundError\u001b[0m                       Traceback (most recent call last)",
      "\u001b[0;32m<ipython-input-3-7f7031b2fc05>\u001b[0m in \u001b[0;36m<module>\u001b[0;34m\u001b[0m\n\u001b[1;32m      1\u001b[0m \u001b[0mdir_model\u001b[0m \u001b[0;34m=\u001b[0m \u001b[0;34mf'/Users/shinbo/PycharmProjects/model_lda/{type_}/DMM_result_{type_}.pkl'\u001b[0m\u001b[0;34m\u001b[0m\u001b[0;34m\u001b[0m\u001b[0m\n\u001b[0;32m----> 2\u001b[0;31m \u001b[0mCDMM\u001b[0m \u001b[0;34m=\u001b[0m \u001b[0mpickle\u001b[0m\u001b[0;34m.\u001b[0m\u001b[0mload\u001b[0m\u001b[0;34m(\u001b[0m\u001b[0mopen\u001b[0m\u001b[0;34m(\u001b[0m\u001b[0mdir_model\u001b[0m\u001b[0;34m,\u001b[0m\u001b[0;34m'rb'\u001b[0m\u001b[0;34m)\u001b[0m\u001b[0;34m)\u001b[0m\u001b[0;34m\u001b[0m\u001b[0;34m\u001b[0m\u001b[0m\n\u001b[0m\u001b[1;32m      3\u001b[0m \u001b[0mCDMM_lam\u001b[0m \u001b[0;34m=\u001b[0m  \u001b[0;34m[\u001b[0m\u001b[0mCDMM\u001b[0m\u001b[0;34m.\u001b[0m\u001b[0mcomponents_\u001b[0m\u001b[0;34m[\u001b[0m\u001b[0mk\u001b[0m\u001b[0;34m,\u001b[0m\u001b[0;34m:\u001b[0m\u001b[0;34m]\u001b[0m \u001b[0;32mfor\u001b[0m \u001b[0mk\u001b[0m \u001b[0;32min\u001b[0m \u001b[0mrange\u001b[0m\u001b[0;34m(\u001b[0m\u001b[0;36m4\u001b[0m\u001b[0;34m)\u001b[0m\u001b[0;34m]\u001b[0m\u001b[0;34m\u001b[0m\u001b[0;34m\u001b[0m\u001b[0m\n\u001b[1;32m      4\u001b[0m \u001b[0mprint_top_words\u001b[0m\u001b[0;34m(\u001b[0m\u001b[0mCDMM_lam\u001b[0m\u001b[0;34m,\u001b[0m \u001b[0mlist\u001b[0m\u001b[0;34m(\u001b[0m\u001b[0mcv\u001b[0m\u001b[0;34m.\u001b[0m\u001b[0mget_feature_names\u001b[0m\u001b[0;34m(\u001b[0m\u001b[0;34m)\u001b[0m\u001b[0;34m)\u001b[0m\u001b[0;34m,\u001b[0m \u001b[0;36m20\u001b[0m\u001b[0;34m)\u001b[0m\u001b[0;34m\u001b[0m\u001b[0;34m\u001b[0m\u001b[0m\n",
      "\u001b[0;31mModuleNotFoundError\u001b[0m: No module named 'WORKING_DMM_lda'"
     ]
    }
   ],
   "source": [
    "dir_model = f'/Users/shinbo/PycharmProjects/model_lda/{type_}/DMM_result_{type_}.pkl'\n",
    "CDMM = pickle.load(open(dir_model,'rb'))\n",
    "CDMM_lam =  [CDMM.components_[k,:] for k in range(4)]\n",
    "print_top_words(CDMM_lam, list(cv.get_feature_names()), 20)"
   ]
  },
  {
   "cell_type": "markdown",
   "metadata": {},
   "source": [
    "## DMM-CLDA Result (one phase)"
   ]
  },
  {
   "cell_type": "code",
   "execution_count": 22,
   "metadata": {},
   "outputs": [
    {
     "name": "stdout",
     "output_type": "stream",
     "text": [
      "\n",
      "Topic Nr.1:\n",
      "pay 1002.0 | fee 1002.0 | charge 1002.0 | price 1002.0 | rate 1001.0 | reasonably 1001.0 | money 1000.0 | value 1000.0 | cost 1000.0 | pricey 1000.0 | cheaper 1000.0 | cheap 1000.0 | expensive 1000.0 | paid 1000.0 | hotel 8.1 | stay 4.0 | center 2.1 | moana 2.1 | one 2.1 | waikiki 2.1 | \n",
      "\n",
      "Topic Nr.2:\n",
      "service 1004.0 | pool 1004.0 | friendly 1003.34 | offer 1003.0 | staff 1001.53 | help 1001.0 | manager 1001.0 | solve 1001.0 | valet 1001.0 | helpful 1000.53 | courteous 1000.19 | check 1000.0 | desk 1000.0 | welcoming 1000.0 | solved 1000.0 | offered 1000.0 | serviced 1000.0 | towels 1000.0 | parking 1000.0 | serve 1000.0 | \n",
      "\n",
      "Topic Nr.3:\n",
      "drink 1002.0 | water 1002.0 | fruit 1002.0 | food 1001.0 | breakfast 1001.0 | tea 1001.0 | cafe 1000.0 | cafes 1000.0 | beverage 1000.0 | beverages 1000.0 | dinner 1000.0 | coffee 1000.0 | restaurant 1000.0 | coconut 1000.0 | starbucks 1000.0 | restaurants 1000.0 | fruits 1000.0 | martini 4.1 | say 4.1 | hotel 4.1 | \n",
      "\n",
      "Topic Nr.4:\n",
      "hotel 16020.1 | room 15274.1 | stay 10937.1 | beach 8447.1 | great 7752.1 | staff 7430.57 | waikiki 5838.1 | view 5212.1 | location 4918.1 | good 4331.1 | pool 4301.1 | nice 4104.1 | clean 4008.1 | night 3826.1 | get 3818.1 | time 3744.1 | friendly 3654.76 | walk 3527.1 | restaurant 3494.1 | service 3460.1 | \n"
     ]
    }
   ],
   "source": [
    "dir_model = f'/Users/shinbo/PycharmProjects/model_lda/{type_}/CDMM_result_{type_}.pkl'\n",
    "CDMM = pickle.load(open(dir_model,'rb'))\n",
    "CDMM_lam =  [CDMM.components_[k,:] for k in range(4)]\n",
    "print_top_words(CDMM_lam, list(cv.get_feature_names()), 20)"
   ]
  },
  {
   "cell_type": "markdown",
   "metadata": {},
   "source": [
    "## DMM-CLDA Result (two phase)"
   ]
  },
  {
   "cell_type": "code",
   "execution_count": 106,
   "metadata": {},
   "outputs": [
    {
     "name": "stdout",
     "output_type": "stream",
     "text": [
      "\n",
      "Topic Nr.1:\n",
      "pay 1079.08 | charge 1070.03 | fee 1069.21 | price 1064.93 | rate 1034.0 | cost 1033.74 | money 1025.6 | value 1023.94 | expensive 1020.05 | cheap 1007.0 | cheaper 1005.0 | reasonably 1004.9 | pricey 1004.0 | paid 1001.0 | fees 1001.0 | priced 1000.0 | room 442.94 | hotel 371.14 | stay 205.2 | one 152.11 | \n",
      "\n",
      "Topic Nr.2:\n",
      "room 5021.83 | hotel 4718.54 | beach 3236.78 | stay 2963.78 | staff 2933.38 | great 2686.82 | pool 2483.51 | view 2437.29 | service 2334.06 | waikiki 2330.47 | friendly 2090.22 | helpful 1852.73 | location 1745.25 | check 1671.38 | nice 1580.42 | parking 1539.6 | desk 1531.49 | offer 1410.86 | valet 1372.82 | clean 1258.58 | \n",
      "\n",
      "Topic Nr.3:\n",
      "hotel 3275.77 | great 2881.5 | room 2242.14 | restaurant 1922.88 | location 1905.46 | stay 1757.62 | beach 1712.54 | breakfast 1669.84 | good 1452.04 | food 1451.32 | coffee 1382.1 | staff 1375.04 | water 1322.32 | drink 1155.24 | tea 1120.52 | fruit 1116.91 | starbucks 1114.45 | waikiki 1095.58 | dinner 1092.39 | cafe 1085.53 | \n",
      "\n",
      "Topic Nr.4:\n",
      "location 1374.13 | front 1198.79 | elevator 1159.65 | balcony 1128.1 | bathroom 1126.4 | close 1125.09 | lobby 1075.32 | towel 1067.74 | room 1052.79 | far 1048.35 | bathrooms 1001.0 | stay 558.01 | hotel 403.11 | view 388.73 | great 341.57 | beach 327.68 | staff 323.66 | get 298.98 | ocean 249.64 | pool 208.28 | \n",
      "\n",
      "Topic Nr.5:\n",
      "hotel 8531.44 | stay 6584.4 | room 5560.3 | great 4443.48 | staff 3865.92 | beach 2963.47 | waikiki 2911.88 | location 2747.08 | time 2145.82 | place 1914.58 | service 1868.05 | view 1789.96 | good 1786.93 | nice 1737.73 | friendly 1647.69 | get 1627.02 | clean 1615.35 | make 1580.47 | pool 1511.76 | go 1510.42 | \n"
     ]
    }
   ],
   "source": [
    "CLDA = pickle.load(open('../../model_lda/CDMM_two_phase_result.pkl','rb'))\n",
    "CLDA_lam =  [CLDA.components_[k,:] for k in range(5)]\n",
    "print_top_words(CLDA_lam, list(cv.get_feature_names()), 20)"
   ]
  },
  {
   "cell_type": "code",
   "execution_count": 107,
   "metadata": {},
   "outputs": [
    {
     "data": {
      "text/plain": [
       "(0.525, 105)"
      ]
     },
     "execution_count": 107,
     "metadata": {},
     "output_type": "execute_result"
    }
   ],
   "source": [
    "import pandas as pd\n",
    "import numpy as np\n",
    "from collections import Counter\n",
    "def top_20_words_for_topics(CLDA_lam, n=50):\n",
    "    K = len(CLDA_lam)\n",
    "    words = {}\n",
    "    unique_words = []\n",
    "    for k in range(K):\n",
    "        CLDA_lam_word = pd.DataFrame({'word':cv.get_feature_names(), 'lam':CLDA.components_[k,:] }).sort_values(by='lam', ascending=False)\n",
    "        top_words = CLDA_lam_word.iloc[:n,:]['word'].tolist()\n",
    "        words[k] = CLDA_lam_word.iloc[:n,:].set_index('word').to_dict()['lam']\n",
    "        unique_words += top_words\n",
    "        \n",
    "    c = Counter(unique_words)\n",
    "    words_all_appear = []\n",
    "    for k,v in c.items():\n",
    "        if v == K:\n",
    "            words_all_appear.append(k)\n",
    "    \n",
    "    \n",
    "    \n",
    "    words_degree = []\n",
    "    for k in range(K):\n",
    "        for w,d in words[k].items():\n",
    "            if w in words_all_appear:\n",
    "                words_degree.append(d)\n",
    "        \n",
    "    return words, len(set(unique_words)) / (K*n), len(set(unique_words)) , np.mean(words_degree)\n",
    "words_, a, b, c = top_20_words_for_topics(CLDA_lam)\n",
    "a, b"
   ]
  },
  {
   "cell_type": "code",
   "execution_count": null,
   "metadata": {},
   "outputs": [],
   "source": []
  }
 ],
 "metadata": {
  "kernelspec": {
   "display_name": "Python 3",
   "language": "python",
   "name": "python3"
  },
  "language_info": {
   "codemirror_mode": {
    "name": "ipython",
    "version": 3
   },
   "file_extension": ".py",
   "mimetype": "text/x-python",
   "name": "python",
   "nbconvert_exporter": "python",
   "pygments_lexer": "ipython3",
   "version": "3.7.6"
  }
 },
 "nbformat": 4,
 "nbformat_minor": 4
}
