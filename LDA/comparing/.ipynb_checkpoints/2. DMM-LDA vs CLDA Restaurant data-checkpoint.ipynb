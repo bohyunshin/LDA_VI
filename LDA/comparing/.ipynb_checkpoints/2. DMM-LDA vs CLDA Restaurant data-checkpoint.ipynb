{
 "cells": [
  {
   "cell_type": "markdown",
   "metadata": {},
   "source": [
    "\n",
    "## load data"
   ]
  },
  {
   "cell_type": "code",
   "execution_count": 1,
   "metadata": {},
   "outputs": [
    {
     "ename": "JSONDecodeError",
     "evalue": "Extra data: line 2 column 1 (char 1444)",
     "output_type": "error",
     "traceback": [
      "\u001b[0;31m---------------------------------------------------------------------------\u001b[0m",
      "\u001b[0;31mJSONDecodeError\u001b[0m                           Traceback (most recent call last)",
      "\u001b[0;32m<ipython-input-1-0ab154dfc2ea>\u001b[0m in \u001b[0;36m<module>\u001b[0;34m\u001b[0m\n\u001b[1;32m      2\u001b[0m \u001b[0mdir_\u001b[0m \u001b[0;34m=\u001b[0m \u001b[0;34m'/Users/shinbo/Downloads/yelp_dataset/yelp_academic_dataset_business.json'\u001b[0m\u001b[0;34m\u001b[0m\u001b[0;34m\u001b[0m\u001b[0m\n\u001b[1;32m      3\u001b[0m \u001b[0;32mwith\u001b[0m \u001b[0mopen\u001b[0m\u001b[0;34m(\u001b[0m\u001b[0mdir_\u001b[0m\u001b[0;34m)\u001b[0m \u001b[0;32mas\u001b[0m \u001b[0mjson_file\u001b[0m\u001b[0;34m:\u001b[0m\u001b[0;34m\u001b[0m\u001b[0;34m\u001b[0m\u001b[0m\n\u001b[0;32m----> 4\u001b[0;31m     \u001b[0mdata\u001b[0m \u001b[0;34m=\u001b[0m \u001b[0mjson\u001b[0m\u001b[0;34m.\u001b[0m\u001b[0mload\u001b[0m\u001b[0;34m(\u001b[0m\u001b[0mjson_file\u001b[0m\u001b[0;34m)\u001b[0m\u001b[0;34m\u001b[0m\u001b[0;34m\u001b[0m\u001b[0m\n\u001b[0m",
      "\u001b[0;32m~/opt/anaconda3/lib/python3.7/json/__init__.py\u001b[0m in \u001b[0;36mload\u001b[0;34m(fp, cls, object_hook, parse_float, parse_int, parse_constant, object_pairs_hook, **kw)\u001b[0m\n\u001b[1;32m    294\u001b[0m         \u001b[0mcls\u001b[0m\u001b[0;34m=\u001b[0m\u001b[0mcls\u001b[0m\u001b[0;34m,\u001b[0m \u001b[0mobject_hook\u001b[0m\u001b[0;34m=\u001b[0m\u001b[0mobject_hook\u001b[0m\u001b[0;34m,\u001b[0m\u001b[0;34m\u001b[0m\u001b[0;34m\u001b[0m\u001b[0m\n\u001b[1;32m    295\u001b[0m         \u001b[0mparse_float\u001b[0m\u001b[0;34m=\u001b[0m\u001b[0mparse_float\u001b[0m\u001b[0;34m,\u001b[0m \u001b[0mparse_int\u001b[0m\u001b[0;34m=\u001b[0m\u001b[0mparse_int\u001b[0m\u001b[0;34m,\u001b[0m\u001b[0;34m\u001b[0m\u001b[0;34m\u001b[0m\u001b[0m\n\u001b[0;32m--> 296\u001b[0;31m         parse_constant=parse_constant, object_pairs_hook=object_pairs_hook, **kw)\n\u001b[0m\u001b[1;32m    297\u001b[0m \u001b[0;34m\u001b[0m\u001b[0m\n\u001b[1;32m    298\u001b[0m \u001b[0;34m\u001b[0m\u001b[0m\n",
      "\u001b[0;32m~/opt/anaconda3/lib/python3.7/json/__init__.py\u001b[0m in \u001b[0;36mloads\u001b[0;34m(s, encoding, cls, object_hook, parse_float, parse_int, parse_constant, object_pairs_hook, **kw)\u001b[0m\n\u001b[1;32m    346\u001b[0m             \u001b[0mparse_int\u001b[0m \u001b[0;32mis\u001b[0m \u001b[0;32mNone\u001b[0m \u001b[0;32mand\u001b[0m \u001b[0mparse_float\u001b[0m \u001b[0;32mis\u001b[0m \u001b[0;32mNone\u001b[0m \u001b[0;32mand\u001b[0m\u001b[0;34m\u001b[0m\u001b[0;34m\u001b[0m\u001b[0m\n\u001b[1;32m    347\u001b[0m             parse_constant is None and object_pairs_hook is None and not kw):\n\u001b[0;32m--> 348\u001b[0;31m         \u001b[0;32mreturn\u001b[0m \u001b[0m_default_decoder\u001b[0m\u001b[0;34m.\u001b[0m\u001b[0mdecode\u001b[0m\u001b[0;34m(\u001b[0m\u001b[0ms\u001b[0m\u001b[0;34m)\u001b[0m\u001b[0;34m\u001b[0m\u001b[0;34m\u001b[0m\u001b[0m\n\u001b[0m\u001b[1;32m    349\u001b[0m     \u001b[0;32mif\u001b[0m \u001b[0mcls\u001b[0m \u001b[0;32mis\u001b[0m \u001b[0;32mNone\u001b[0m\u001b[0;34m:\u001b[0m\u001b[0;34m\u001b[0m\u001b[0;34m\u001b[0m\u001b[0m\n\u001b[1;32m    350\u001b[0m         \u001b[0mcls\u001b[0m \u001b[0;34m=\u001b[0m \u001b[0mJSONDecoder\u001b[0m\u001b[0;34m\u001b[0m\u001b[0;34m\u001b[0m\u001b[0m\n",
      "\u001b[0;32m~/opt/anaconda3/lib/python3.7/json/decoder.py\u001b[0m in \u001b[0;36mdecode\u001b[0;34m(self, s, _w)\u001b[0m\n\u001b[1;32m    338\u001b[0m         \u001b[0mend\u001b[0m \u001b[0;34m=\u001b[0m \u001b[0m_w\u001b[0m\u001b[0;34m(\u001b[0m\u001b[0ms\u001b[0m\u001b[0;34m,\u001b[0m \u001b[0mend\u001b[0m\u001b[0;34m)\u001b[0m\u001b[0;34m.\u001b[0m\u001b[0mend\u001b[0m\u001b[0;34m(\u001b[0m\u001b[0;34m)\u001b[0m\u001b[0;34m\u001b[0m\u001b[0;34m\u001b[0m\u001b[0m\n\u001b[1;32m    339\u001b[0m         \u001b[0;32mif\u001b[0m \u001b[0mend\u001b[0m \u001b[0;34m!=\u001b[0m \u001b[0mlen\u001b[0m\u001b[0;34m(\u001b[0m\u001b[0ms\u001b[0m\u001b[0;34m)\u001b[0m\u001b[0;34m:\u001b[0m\u001b[0;34m\u001b[0m\u001b[0;34m\u001b[0m\u001b[0m\n\u001b[0;32m--> 340\u001b[0;31m             \u001b[0;32mraise\u001b[0m \u001b[0mJSONDecodeError\u001b[0m\u001b[0;34m(\u001b[0m\u001b[0;34m\"Extra data\"\u001b[0m\u001b[0;34m,\u001b[0m \u001b[0ms\u001b[0m\u001b[0;34m,\u001b[0m \u001b[0mend\u001b[0m\u001b[0;34m)\u001b[0m\u001b[0;34m\u001b[0m\u001b[0;34m\u001b[0m\u001b[0m\n\u001b[0m\u001b[1;32m    341\u001b[0m         \u001b[0;32mreturn\u001b[0m \u001b[0mobj\u001b[0m\u001b[0;34m\u001b[0m\u001b[0;34m\u001b[0m\u001b[0m\n\u001b[1;32m    342\u001b[0m \u001b[0;34m\u001b[0m\u001b[0m\n",
      "\u001b[0;31mJSONDecodeError\u001b[0m: Extra data: line 2 column 1 (char 1444)"
     ]
    }
   ],
   "source": [
    "import json\n",
    "dir_ = '/Users/shinbo/Downloads/yelp_dataset/yelp_academic_dataset_business.json'\n",
    "with open(dir_) as json_file:\n",
    "    data = json.load(json_file)"
   ]
  },
  {
   "cell_type": "code",
   "execution_count": null,
   "metadata": {},
   "outputs": [],
   "source": []
  },
  {
   "cell_type": "code",
   "execution_count": 1,
   "metadata": {},
   "outputs": [],
   "source": [
    "import sys\n",
    "import pandas as pd\n",
    "sys.path.append('/Users/shinbo/PycharmProjects/paper/LDA')\n",
    "\n",
    "def print_top_words(lam, feature_names, n_top_words):\n",
    "    for topic_id, topic in enumerate(lam):\n",
    "        print('\\nTopic Nr.%d:' % int(topic_id + 1))\n",
    "        print(''.join([feature_names[i] + ' ' + str(round(topic[i], 2))\n",
    "                       + ' | ' for i in topic.argsort()[:-n_top_words - 1:-1]]))\n",
    "        \n",
    "def TOP_N_WORDS_df(MODEL, TOP_N_WORDS, col_names):\n",
    "    DMM_LDA_Top_words = pd.DataFrame()\n",
    "    for i in range(4):\n",
    "        temp = pd.DataFrame({'words':cv.get_feature_names(), 'lambda':MODEL.components_[i,:]})\n",
    "        temp = temp.sort_values(by='lambda', ascending=False).iloc[:TOP_N_WORDS,:]\n",
    "        DMM_LDA_Top_words[i] = temp['words'].tolist()\n",
    "    DMM_LDA_Top_words.columns = col_names\n",
    "    return DMM_LDA_Top_words"
   ]
  },
  {
   "cell_type": "code",
   "execution_count": 2,
   "metadata": {},
   "outputs": [],
   "source": [
    "import pickle\n",
    "from sklearn.feature_extraction.text import CountVectorizer\n",
    "\n",
    "type_ = 'first_data'\n",
    "dir_ = f'/Users/shinbo/Desktop/metting/LDA/0. data/hotel data/preproc/{type_}_preproc.pkl'\n",
    "\n",
    "data = pickle.load(open(dir_, 'rb'))\n",
    "stop_words = ['hotel','stay','room','waikiki']\n",
    "for i in range(len(data)):\n",
    "    data[i] = [w for w in data[i] if w not in stop_words]\n",
    "\n",
    "data_join = [' '.join(doc) for doc in data]\n",
    "cv = CountVectorizer()\n",
    "X = cv.fit_transform(data_join).toarray()"
   ]
  },
  {
   "cell_type": "markdown",
   "metadata": {},
   "source": [
    "## DMM-LDA Result"
   ]
  },
  {
   "cell_type": "code",
   "execution_count": 3,
   "metadata": {},
   "outputs": [
    {
     "name": "stdout",
     "output_type": "stream",
     "text": [
      "\n",
      "Topic Nr.1:\n",
      "beach 3359.82 | great 3228.55 | staff 3222.41 | location 2458.22 | clean 2032.93 | friendly 1825.39 | good 1811.61 | walk 1649.29 | restaurant 1489.3 | nice 1442.68 | view 1424.18 | helpful 1321.38 | breakfast 1258.95 | service 1216.73 | night 1140.3 | close 1110.85 | shop 1041.45 | well 1016.19 | pool 1012.64 | place 929.97 | \n",
      "\n",
      "Topic Nr.2:\n",
      "beach 1841.58 | pool 1505.23 | view 1489.95 | great 1411.31 | get 1241.47 | nice 1150.12 | staff 1148.54 | bed 1083.14 | day 1029.29 | good 1015.36 | one 1001.14 | night 922.41 | location 870.38 | check 865.59 | clean 855.14 | time 847.16 | ocean 831.89 | floor 830.88 | small 829.07 | also 812.53 | \n",
      "\n",
      "Topic Nr.3:\n",
      "staff 2256.86 | great 1581.0 | time 1240.68 | make 1195.98 | view 1152.37 | check 1147.07 | beach 1117.37 | service 1112.23 | go 1036.38 | night 1001.41 | get 900.0 | friendly 836.67 | day 804.57 | one 794.59 | front 793.48 | pool 775.64 | place 750.84 | nice 736.44 | desk 717.65 | like 692.1 | \n",
      "\n",
      "Topic Nr.4:\n",
      "beach 2130.63 | great 1534.54 | view 1146.9 | pool 1013.89 | location 910.3 | good 883.98 | resort 873.42 | restaurant 861.19 | time 824.78 | place 809.23 | get 804.73 | staff 804.58 | go 793.95 | walk 793.05 | nice 777.16 | night 764.28 | one 736.6 | day 719.67 | ocean 591.66 | tower 583.02 | \n"
     ]
    }
   ],
   "source": [
    "dir_model = f'/Users/shinbo/PycharmProjects/model_lda/{type_}/DMM_result_{type_}_stop_words.pkl'\n",
    "DMM_LDA = pickle.load(open(dir_model,'rb'))\n",
    "TOP_N_WORDS = 100\n",
    "DMM_LDA_Top_words = TOP_N_WORDS_df(DMM_LDA, TOP_N_WORDS, [f'Topic {i}' for i in range(1,5)])\n",
    "\n",
    "DMM_LDA_lam =  [DMM_LDA.components_[k,:] for k in range(4)]\n",
    "print_top_words(DMM_LDA_lam, list(cv.get_feature_names()), 20)"
   ]
  },
  {
   "cell_type": "code",
   "execution_count": 4,
   "metadata": {},
   "outputs": [],
   "source": [
    "TOP_N_WORDS = 100\n",
    "DMM_LDA_Top_words = TOP_N_WORDS_df(DMM_LDA, TOP_N_WORDS, [f'Topic {i}' for i in range(1,5)])"
   ]
  },
  {
   "cell_type": "code",
   "execution_count": 5,
   "metadata": {},
   "outputs": [
    {
     "data": {
      "text/html": [
       "<div>\n",
       "<style scoped>\n",
       "    .dataframe tbody tr th:only-of-type {\n",
       "        vertical-align: middle;\n",
       "    }\n",
       "\n",
       "    .dataframe tbody tr th {\n",
       "        vertical-align: top;\n",
       "    }\n",
       "\n",
       "    .dataframe thead th {\n",
       "        text-align: right;\n",
       "    }\n",
       "</style>\n",
       "<table border=\"1\" class=\"dataframe\">\n",
       "  <thead>\n",
       "    <tr style=\"text-align: right;\">\n",
       "      <th></th>\n",
       "      <th>Topic 1</th>\n",
       "      <th>Topic 2</th>\n",
       "      <th>Topic 3</th>\n",
       "      <th>Topic 4</th>\n",
       "    </tr>\n",
       "  </thead>\n",
       "  <tbody>\n",
       "    <tr>\n",
       "      <th>0</th>\n",
       "      <td>beach</td>\n",
       "      <td>beach</td>\n",
       "      <td>staff</td>\n",
       "      <td>beach</td>\n",
       "    </tr>\n",
       "    <tr>\n",
       "      <th>1</th>\n",
       "      <td>great</td>\n",
       "      <td>pool</td>\n",
       "      <td>great</td>\n",
       "      <td>great</td>\n",
       "    </tr>\n",
       "    <tr>\n",
       "      <th>2</th>\n",
       "      <td>staff</td>\n",
       "      <td>view</td>\n",
       "      <td>time</td>\n",
       "      <td>view</td>\n",
       "    </tr>\n",
       "    <tr>\n",
       "      <th>3</th>\n",
       "      <td>location</td>\n",
       "      <td>great</td>\n",
       "      <td>make</td>\n",
       "      <td>pool</td>\n",
       "    </tr>\n",
       "    <tr>\n",
       "      <th>4</th>\n",
       "      <td>clean</td>\n",
       "      <td>get</td>\n",
       "      <td>view</td>\n",
       "      <td>location</td>\n",
       "    </tr>\n",
       "    <tr>\n",
       "      <th>5</th>\n",
       "      <td>friendly</td>\n",
       "      <td>nice</td>\n",
       "      <td>check</td>\n",
       "      <td>good</td>\n",
       "    </tr>\n",
       "    <tr>\n",
       "      <th>6</th>\n",
       "      <td>good</td>\n",
       "      <td>staff</td>\n",
       "      <td>beach</td>\n",
       "      <td>resort</td>\n",
       "    </tr>\n",
       "    <tr>\n",
       "      <th>7</th>\n",
       "      <td>walk</td>\n",
       "      <td>bed</td>\n",
       "      <td>service</td>\n",
       "      <td>restaurant</td>\n",
       "    </tr>\n",
       "    <tr>\n",
       "      <th>8</th>\n",
       "      <td>restaurant</td>\n",
       "      <td>day</td>\n",
       "      <td>go</td>\n",
       "      <td>time</td>\n",
       "    </tr>\n",
       "    <tr>\n",
       "      <th>9</th>\n",
       "      <td>nice</td>\n",
       "      <td>good</td>\n",
       "      <td>night</td>\n",
       "      <td>place</td>\n",
       "    </tr>\n",
       "    <tr>\n",
       "      <th>10</th>\n",
       "      <td>view</td>\n",
       "      <td>one</td>\n",
       "      <td>get</td>\n",
       "      <td>get</td>\n",
       "    </tr>\n",
       "    <tr>\n",
       "      <th>11</th>\n",
       "      <td>helpful</td>\n",
       "      <td>night</td>\n",
       "      <td>friendly</td>\n",
       "      <td>staff</td>\n",
       "    </tr>\n",
       "    <tr>\n",
       "      <th>12</th>\n",
       "      <td>breakfast</td>\n",
       "      <td>location</td>\n",
       "      <td>day</td>\n",
       "      <td>go</td>\n",
       "    </tr>\n",
       "    <tr>\n",
       "      <th>13</th>\n",
       "      <td>service</td>\n",
       "      <td>check</td>\n",
       "      <td>one</td>\n",
       "      <td>walk</td>\n",
       "    </tr>\n",
       "    <tr>\n",
       "      <th>14</th>\n",
       "      <td>night</td>\n",
       "      <td>clean</td>\n",
       "      <td>front</td>\n",
       "      <td>nice</td>\n",
       "    </tr>\n",
       "    <tr>\n",
       "      <th>15</th>\n",
       "      <td>close</td>\n",
       "      <td>time</td>\n",
       "      <td>pool</td>\n",
       "      <td>night</td>\n",
       "    </tr>\n",
       "    <tr>\n",
       "      <th>16</th>\n",
       "      <td>shop</td>\n",
       "      <td>ocean</td>\n",
       "      <td>place</td>\n",
       "      <td>one</td>\n",
       "    </tr>\n",
       "    <tr>\n",
       "      <th>17</th>\n",
       "      <td>well</td>\n",
       "      <td>floor</td>\n",
       "      <td>nice</td>\n",
       "      <td>day</td>\n",
       "    </tr>\n",
       "    <tr>\n",
       "      <th>18</th>\n",
       "      <td>pool</td>\n",
       "      <td>small</td>\n",
       "      <td>desk</td>\n",
       "      <td>ocean</td>\n",
       "    </tr>\n",
       "    <tr>\n",
       "      <th>19</th>\n",
       "      <td>place</td>\n",
       "      <td>also</td>\n",
       "      <td>like</td>\n",
       "      <td>tower</td>\n",
       "    </tr>\n",
       "  </tbody>\n",
       "</table>\n",
       "</div>"
      ],
      "text/plain": [
       "       Topic 1   Topic 2   Topic 3     Topic 4\n",
       "0        beach     beach     staff       beach\n",
       "1        great      pool     great       great\n",
       "2        staff      view      time        view\n",
       "3     location     great      make        pool\n",
       "4        clean       get      view    location\n",
       "5     friendly      nice     check        good\n",
       "6         good     staff     beach      resort\n",
       "7         walk       bed   service  restaurant\n",
       "8   restaurant       day        go        time\n",
       "9         nice      good     night       place\n",
       "10        view       one       get         get\n",
       "11     helpful     night  friendly       staff\n",
       "12   breakfast  location       day          go\n",
       "13     service     check       one        walk\n",
       "14       night     clean     front        nice\n",
       "15       close      time      pool       night\n",
       "16        shop     ocean     place         one\n",
       "17        well     floor      nice         day\n",
       "18        pool     small      desk       ocean\n",
       "19       place      also      like       tower"
      ]
     },
     "execution_count": 5,
     "metadata": {},
     "output_type": "execute_result"
    }
   ],
   "source": [
    "DMM_LDA_Top_words.iloc[:20,:]"
   ]
  },
  {
   "cell_type": "markdown",
   "metadata": {},
   "source": [
    "## DMM-CLDA Result"
   ]
  },
  {
   "cell_type": "code",
   "execution_count": 6,
   "metadata": {},
   "outputs": [
    {
     "data": {
      "text/html": [
       "<div>\n",
       "<style scoped>\n",
       "    .dataframe tbody tr th:only-of-type {\n",
       "        vertical-align: middle;\n",
       "    }\n",
       "\n",
       "    .dataframe tbody tr th {\n",
       "        vertical-align: top;\n",
       "    }\n",
       "\n",
       "    .dataframe thead th {\n",
       "        text-align: right;\n",
       "    }\n",
       "</style>\n",
       "<table border=\"1\" class=\"dataframe\">\n",
       "  <thead>\n",
       "    <tr style=\"text-align: right;\">\n",
       "      <th></th>\n",
       "      <th>Topic 1</th>\n",
       "      <th>Topic 2</th>\n",
       "      <th>Topic 3</th>\n",
       "      <th>Topic 4</th>\n",
       "    </tr>\n",
       "  </thead>\n",
       "  <tbody>\n",
       "    <tr>\n",
       "      <th>0</th>\n",
       "      <td>pay</td>\n",
       "      <td>staff</td>\n",
       "      <td>staff</td>\n",
       "      <td>beach</td>\n",
       "    </tr>\n",
       "    <tr>\n",
       "      <th>1</th>\n",
       "      <td>price</td>\n",
       "      <td>check</td>\n",
       "      <td>breakfast</td>\n",
       "      <td>great</td>\n",
       "    </tr>\n",
       "    <tr>\n",
       "      <th>2</th>\n",
       "      <td>fee</td>\n",
       "      <td>service</td>\n",
       "      <td>restaurant</td>\n",
       "      <td>location</td>\n",
       "    </tr>\n",
       "    <tr>\n",
       "      <th>3</th>\n",
       "      <td>charge</td>\n",
       "      <td>pool</td>\n",
       "      <td>food</td>\n",
       "      <td>staff</td>\n",
       "    </tr>\n",
       "    <tr>\n",
       "      <th>4</th>\n",
       "      <td>rate</td>\n",
       "      <td>friendly</td>\n",
       "      <td>great</td>\n",
       "      <td>view</td>\n",
       "    </tr>\n",
       "    <tr>\n",
       "      <th>5</th>\n",
       "      <td>money</td>\n",
       "      <td>desk</td>\n",
       "      <td>coffee</td>\n",
       "      <td>good</td>\n",
       "    </tr>\n",
       "    <tr>\n",
       "      <th>6</th>\n",
       "      <td>value</td>\n",
       "      <td>helpful</td>\n",
       "      <td>water</td>\n",
       "      <td>pool</td>\n",
       "    </tr>\n",
       "    <tr>\n",
       "      <th>7</th>\n",
       "      <td>expensive</td>\n",
       "      <td>valet</td>\n",
       "      <td>drink</td>\n",
       "      <td>nice</td>\n",
       "    </tr>\n",
       "    <tr>\n",
       "      <th>8</th>\n",
       "      <td>cost</td>\n",
       "      <td>help</td>\n",
       "      <td>dinner</td>\n",
       "      <td>walk</td>\n",
       "    </tr>\n",
       "    <tr>\n",
       "      <th>9</th>\n",
       "      <td>cheap</td>\n",
       "      <td>offer</td>\n",
       "      <td>fruit</td>\n",
       "      <td>clean</td>\n",
       "    </tr>\n",
       "    <tr>\n",
       "      <th>10</th>\n",
       "      <td>reasonably</td>\n",
       "      <td>manager</td>\n",
       "      <td>tea</td>\n",
       "      <td>restaurant</td>\n",
       "    </tr>\n",
       "    <tr>\n",
       "      <th>11</th>\n",
       "      <td>pricey</td>\n",
       "      <td>parking</td>\n",
       "      <td>coconut</td>\n",
       "      <td>close</td>\n",
       "    </tr>\n",
       "    <tr>\n",
       "      <th>12</th>\n",
       "      <td>cheaper</td>\n",
       "      <td>serve</td>\n",
       "      <td>cafe</td>\n",
       "      <td>night</td>\n",
       "    </tr>\n",
       "    <tr>\n",
       "      <th>13</th>\n",
       "      <td>paid</td>\n",
       "      <td>courteous</td>\n",
       "      <td>starbucks</td>\n",
       "      <td>friendly</td>\n",
       "    </tr>\n",
       "    <tr>\n",
       "      <th>14</th>\n",
       "      <td>night</td>\n",
       "      <td>welcoming</td>\n",
       "      <td>beverage</td>\n",
       "      <td>get</td>\n",
       "    </tr>\n",
       "    <tr>\n",
       "      <th>15</th>\n",
       "      <td>staff</td>\n",
       "      <td>solve</td>\n",
       "      <td>make</td>\n",
       "      <td>time</td>\n",
       "    </tr>\n",
       "    <tr>\n",
       "      <th>16</th>\n",
       "      <td>get</td>\n",
       "      <td>towels</td>\n",
       "      <td>restaurants</td>\n",
       "      <td>one</td>\n",
       "    </tr>\n",
       "    <tr>\n",
       "      <th>17</th>\n",
       "      <td>good</td>\n",
       "      <td>serviced</td>\n",
       "      <td>cafes</td>\n",
       "      <td>place</td>\n",
       "    </tr>\n",
       "    <tr>\n",
       "      <th>18</th>\n",
       "      <td>day</td>\n",
       "      <td>offered</td>\n",
       "      <td>beverages</td>\n",
       "      <td>front</td>\n",
       "    </tr>\n",
       "    <tr>\n",
       "      <th>19</th>\n",
       "      <td>beach</td>\n",
       "      <td>solved</td>\n",
       "      <td>fruits</td>\n",
       "      <td>day</td>\n",
       "    </tr>\n",
       "  </tbody>\n",
       "</table>\n",
       "</div>"
      ],
      "text/plain": [
       "       Topic 1    Topic 2      Topic 3     Topic 4\n",
       "0          pay      staff        staff       beach\n",
       "1        price      check    breakfast       great\n",
       "2          fee    service   restaurant    location\n",
       "3       charge       pool         food       staff\n",
       "4         rate   friendly        great        view\n",
       "5        money       desk       coffee        good\n",
       "6        value    helpful        water        pool\n",
       "7    expensive      valet        drink        nice\n",
       "8         cost       help       dinner        walk\n",
       "9        cheap      offer        fruit       clean\n",
       "10  reasonably    manager          tea  restaurant\n",
       "11      pricey    parking      coconut       close\n",
       "12     cheaper      serve         cafe       night\n",
       "13        paid  courteous    starbucks    friendly\n",
       "14       night  welcoming     beverage         get\n",
       "15       staff      solve         make        time\n",
       "16         get     towels  restaurants         one\n",
       "17        good   serviced        cafes       place\n",
       "18         day    offered    beverages       front\n",
       "19       beach     solved       fruits         day"
      ]
     },
     "execution_count": 6,
     "metadata": {},
     "output_type": "execute_result"
    }
   ],
   "source": [
    "dir_model = f'/Users/shinbo/PycharmProjects/model_lda/{type_}/CDMM_result_{type_}_800_stop_words.pkl'\n",
    "DMM_CLDA = pickle.load(open(dir_model,'rb'))\n",
    "DMM_CLDA_lam =  [DMM_CLDA.components_[k,:] for k in range(4)]\n",
    "TOP_N_WORDS = 100\n",
    "DMM_CLDA_Top_words = TOP_N_WORDS_df(DMM_CLDA, TOP_N_WORDS, [f'Topic {i}' for i in range(1,5)])\n",
    "DMM_CLDA_Top_words.iloc[:20,]"
   ]
  },
  {
   "cell_type": "markdown",
   "metadata": {},
   "source": [
    "## source result"
   ]
  },
  {
   "cell_type": "code",
   "execution_count": 31,
   "metadata": {},
   "outputs": [],
   "source": [
    "dir_model = f'/Users/shinbo/Desktop/metting/LDA/meeting materials/21.04.29/result_with_lam_1.pkl'\n",
    "DMM_source = pickle.load(open(dir_model,'rb'))\n",
    "DMM_source_lam =  [DMM_source.components_[k,:] for k in range(4)]\n",
    "TOP_N_WORDS = 100\n",
    "DMM_source_Top_words = TOP_N_WORDS_df(DMM_source, TOP_N_WORDS, ['accomodation','food','price','service'])\n",
    "DMM_source_Top_words.iloc[:20,].to_csv(\n",
    "    '/Users/shinbo/Desktop/metting/LDA/meeting materials/21.04.29/lambda_1.csv',\n",
    "    index=False\n",
    ")"
   ]
  },
  {
   "cell_type": "code",
   "execution_count": 8,
   "metadata": {},
   "outputs": [
    {
     "data": {
      "text/plain": [
       "(0.43, 86)"
      ]
     },
     "execution_count": 8,
     "metadata": {},
     "output_type": "execute_result"
    }
   ],
   "source": [
    "import pandas as pd\n",
    "import numpy as np\n",
    "from collections import Counter\n",
    "def top_20_words_for_topics(CLDA_lam,CDMM, aux=None, n=50):\n",
    "    if aux is True:\n",
    "        K = len(CLDA_lam)-1\n",
    "    else:\n",
    "        K = len(CLDA_lam)\n",
    "    words = {}\n",
    "    unique_words = []\n",
    "    for k in range(K):\n",
    "        CLDA_lam_word = pd.DataFrame({'word':cv.get_feature_names(), 'lam':CDMM.components_[k,:] }).sort_values(by='lam', ascending=False)\n",
    "        top_words = CLDA_lam_word.iloc[:n,:]['word'].tolist()\n",
    "        words[k] = CLDA_lam_word.iloc[:n,:].set_index('word').to_dict()['lam']\n",
    "        unique_words += top_words\n",
    "        \n",
    "    c = Counter(unique_words)\n",
    "    words_all_appear = []\n",
    "    for k,v in c.items():\n",
    "        if v == K:\n",
    "            words_all_appear.append(k)\n",
    "    \n",
    "    \n",
    "    \n",
    "    words_degree = []\n",
    "    for k in range(K):\n",
    "        for w,d in words[k].items():\n",
    "            if w in words_all_appear:\n",
    "                words_degree.append(d)\n",
    "        \n",
    "    return words_all_appear, len(set(unique_words)) / (K*n), len(set(unique_words)) , np.mean(words_degree)\n",
    "words_, uq_words_ratio, uq_words_nums, asso_deg = top_20_words_for_topics(DMM_LDA_lam,DMM_LDA, n=50)\n",
    "uq_words_ratio, uq_words_nums"
   ]
  },
  {
   "cell_type": "code",
   "execution_count": 9,
   "metadata": {},
   "outputs": [
    {
     "data": {
      "text/plain": [
       "(0.535, 107)"
      ]
     },
     "execution_count": 9,
     "metadata": {},
     "output_type": "execute_result"
    }
   ],
   "source": [
    "words_, uq_words_ratio, uq_words_nums, asso_deg = top_20_words_for_topics(DMM_CLDA_lam,DMM_CLDA, n=50)\n",
    "uq_words_ratio, uq_words_nums"
   ]
  },
  {
   "cell_type": "code",
   "execution_count": 10,
   "metadata": {},
   "outputs": [
    {
     "data": {
      "text/plain": [
       "(0.745, 149)"
      ]
     },
     "execution_count": 10,
     "metadata": {},
     "output_type": "execute_result"
    }
   ],
   "source": [
    "words_, uq_words_ratio, uq_words_nums, asso_deg = top_20_words_for_topics(DMM_source_lam,DMM_source, n=50)\n",
    "uq_words_ratio, uq_words_nums"
   ]
  },
  {
   "cell_type": "markdown",
   "metadata": {},
   "source": [
    "## n 변화시켜가며 비율 살펴보기"
   ]
  },
  {
   "cell_type": "code",
   "execution_count": 11,
   "metadata": {},
   "outputs": [],
   "source": [
    "def varying_n(lam,mod):\n",
    "    result = {}\n",
    "    for n in range(10,51,10):\n",
    "        words_, uq_words_ratio, uq_words_nums, asso_deg = top_20_words_for_topics(lam, mod, n=n)\n",
    "        result[n] = (uq_words_ratio, uq_words_nums)\n",
    "    return result"
   ]
  },
  {
   "cell_type": "code",
   "execution_count": 12,
   "metadata": {},
   "outputs": [
    {
     "data": {
      "text/plain": [
       "{10: (0.575, 23),\n",
       " 20: (0.4625, 37),\n",
       " 30: (0.4166666666666667, 50),\n",
       " 40: (0.4375, 70),\n",
       " 50: (0.43, 86)}"
      ]
     },
     "execution_count": 12,
     "metadata": {},
     "output_type": "execute_result"
    }
   ],
   "source": [
    "varying_n(DMM_LDA_lam,DMM_LDA)"
   ]
  },
  {
   "cell_type": "code",
   "execution_count": 13,
   "metadata": {},
   "outputs": [
    {
     "name": "stderr",
     "output_type": "stream",
     "text": [
      "/Users/shinbo/opt/anaconda3/lib/python3.7/site-packages/numpy/core/fromnumeric.py:3335: RuntimeWarning: Mean of empty slice.\n",
      "  out=out, **kwargs)\n",
      "/Users/shinbo/opt/anaconda3/lib/python3.7/site-packages/numpy/core/_methods.py:161: RuntimeWarning: invalid value encountered in double_scalars\n",
      "  ret = ret.dtype.type(ret / rcount)\n"
     ]
    },
    {
     "data": {
      "text/plain": [
       "{10: (0.9, 36),\n",
       " 20: (0.85, 68),\n",
       " 30: (0.65, 78),\n",
       " 40: (0.575, 92),\n",
       " 50: (0.535, 107)}"
      ]
     },
     "execution_count": 13,
     "metadata": {},
     "output_type": "execute_result"
    }
   ],
   "source": [
    "varying_n(DMM_CLDA_lam,DMM_CLDA)"
   ]
  },
  {
   "cell_type": "code",
   "execution_count": 14,
   "metadata": {},
   "outputs": [
    {
     "data": {
      "text/plain": [
       "{10: (0.825, 33),\n",
       " 20: (0.7625, 61),\n",
       " 30: (0.75, 90),\n",
       " 40: (0.74375, 119),\n",
       " 50: (0.745, 149)}"
      ]
     },
     "execution_count": 14,
     "metadata": {},
     "output_type": "execute_result"
    }
   ],
   "source": [
    "varying_n(DMM_source_lam,DMM_source)"
   ]
  },
  {
   "cell_type": "code",
   "execution_count": 15,
   "metadata": {},
   "outputs": [
    {
     "data": {
      "text/plain": [
       "[15683.33882455813, 4862.665228800802, 4862.573836663506, 4862.573774702469]"
      ]
     },
     "execution_count": 15,
     "metadata": {},
     "output_type": "execute_result"
    }
   ],
   "source": [
    "DMM_source.perplexity"
   ]
  },
  {
   "cell_type": "markdown",
   "metadata": {},
   "source": [
    "## Glove 벡터 이용"
   ]
  },
  {
   "cell_type": "code",
   "execution_count": 12,
   "metadata": {},
   "outputs": [],
   "source": [
    "n=0\n",
    "glove_dir = '/Users/shinbo/Desktop/metting/LDA/paper/word_embedding/glove.6B/glove.6B.100d.txt'\n",
    "word2glove = {}\n",
    "with open(glove_dir, encoding=\"utf8\") as f:\n",
    "\n",
    "    for line in f:\n",
    "        word_vector = line.split() # 각 줄을 읽어와서 word_vector에 저장.\n",
    "        word = word_vector[0] # word_vector에서 첫번째 값만 저장\n",
    "        word2glove[word] = np.array([float(i) for i in word_vector[1:]])"
   ]
  },
  {
   "cell_type": "code",
   "execution_count": 33,
   "metadata": {},
   "outputs": [],
   "source": [
    "from scipy.spatial.distance import cosine\n",
    "TOP_N_WORDS = 10\n",
    "DMM_LDA_Top_words = TOP_N_WORDS_df(DMM_LDA, TOP_N_WORDS, [f'Topic {i}' for i in range(1,5)])\n",
    "DMM_CLDA_Top_words = TOP_N_WORDS_df(DMM_CLDA, TOP_N_WORDS, ['price','service','food','accomodation'] )\n",
    "DMM_source_Top_words = TOP_N_WORDS_df(DMM_source, TOP_N_WORDS, ['price','service','food','accomodation'])     "
   ]
  },
  {
   "cell_type": "code",
   "execution_count": 22,
   "metadata": {},
   "outputs": [
    {
     "name": "stdout",
     "output_type": "stream",
     "text": [
      "Topic 1 18.30634151716085\n",
      "Topic 2 20.692595438908235\n",
      "Topic 3 22.837739656762945\n",
      "Topic 4 21.904842424916218\n",
      "20.935379759437062\n",
      "\n",
      "price 24.96277772064167\n",
      "service 15.167980320395671\n",
      "food 19.916207420563286\n",
      "accomodation 18.910066678221664\n",
      "19.739258034955572\n"
     ]
    }
   ],
   "source": [
    "from itertools import combinations\n",
    "# 하나의 토픽 내에서 nC2\n",
    "# 큰 값이 좋은 것임\n",
    "def cosine_sim(df):\n",
    "    total = 0\n",
    "    for col in df.columns:\n",
    "        cos_val = 0\n",
    "        words = df[col].tolist()\n",
    "        for c in combinations(words,2):\n",
    "#             print(c)\n",
    "            cos_val += 1-cosine(word2glove[c[0]], word2glove[c[1]])\n",
    "#             print(c)\n",
    "#             print(cosine(word2glove[c[0]], word2glove[c[1]]))\n",
    "        print(col, cos_val)\n",
    "        total += cos_val\n",
    "    print(total/4)\n",
    "cosine_sim(DMM_LDA_Top_words)\n",
    "print()\n",
    "cosine_sim(DMM_CLDA_Top_words)"
   ]
  },
  {
   "cell_type": "code",
   "execution_count": 23,
   "metadata": {},
   "outputs": [
    {
     "name": "stdout",
     "output_type": "stream",
     "text": [
      "Topic 1 139.9889984932741\n",
      "Topic 2 146.08137672283598\n",
      "Topic 3 146.14787236591397\n",
      "Topic 4 145.0820424201924\n",
      "144.32507250055409\n",
      "\n",
      "price 102.36063631059497\n",
      "service 103.70896641408386\n",
      "food 100.42500140438251\n",
      "accomodation 107.43641007958207\n",
      "103.48275355216084\n"
     ]
    }
   ],
   "source": [
    "# 토픽별로 cross similarity\n",
    "# 작은 값이 좋은 것임\n",
    "def cosine_sim_cross_topic(df):\n",
    "    cols = list(df.columns)\n",
    "    total = 0\n",
    "    for col in cols:\n",
    "        cos_val = 0\n",
    "        target_words = df[col].tolist()\n",
    "        rest_cols = list(set(cols) - set([col]))\n",
    "        for not_col in rest_cols:\n",
    "#             print(col, not_col)\n",
    "            cross_words = df[not_col].tolist()\n",
    "            for target_word in target_words:\n",
    "                for cross_word in cross_words:\n",
    "#                     print(target_word, cross_word)\n",
    "                    cos_val += 1-cosine(word2glove[target_word],\n",
    "                               word2glove[cross_word])\n",
    "        print(col, cos_val)\n",
    "        total += cos_val\n",
    "    print(total/4)\n",
    "cosine_sim_cross_topic(DMM_LDA_Top_words)\n",
    "print()\n",
    "cosine_sim_cross_topic(DMM_CLDA_Top_words)"
   ]
  },
  {
   "cell_type": "markdown",
   "metadata": {},
   "source": [
    "### word2vec 이용"
   ]
  },
  {
   "cell_type": "code",
   "execution_count": 22,
   "metadata": {},
   "outputs": [],
   "source": [
    "import gensim\n",
    "\n",
    "w2v_dir = '/Users/shinbo/Desktop/metting/LDA/paper/word_embedding/GoogleNews-vectors-negative300.bin/GoogleNews-vectors-negative300.bin'\n",
    "word2vec_model = gensim.models.keyedvectors.KeyedVectors.load_word2vec_format(\n",
    "    w2v_dir, binary=True\n",
    ")"
   ]
  },
  {
   "cell_type": "code",
   "execution_count": 25,
   "metadata": {},
   "outputs": [],
   "source": [
    "# 하나의 토픽 내에서 nC2\n",
    "# 큰 값이 좋은 것임\n",
    "from collections import Counter\n",
    "from itertools import combinations\n",
    "from scipy.spatial.distance import cosine\n",
    "\n",
    "def cosine_sim_w2v(df,N):\n",
    "    df = df.iloc[:N,:]\n",
    "    total = 0\n",
    "    for col in df.columns:\n",
    "        cos_val = 0\n",
    "        words = df[col].tolist()\n",
    "        for c in combinations(words,2):\n",
    "#             print(c)\n",
    "            try:\n",
    "                cos_val += 1-cosine(word2vec_model.get_vector(c[0]),\n",
    "                               word2vec_model.get_vector(c[1]))\n",
    "            except:\n",
    "                pass\n",
    "#             print(c)\n",
    "#             print(cosine(word2glove[c[0]], word2glove[c[1]]))\n",
    "#         print(col, cos_val)\n",
    "        total += cos_val\n",
    "    return total\n",
    "# cosine_sim_w2v(DMM_LDA_Top_words)\n",
    "# print()\n",
    "# cosine_sim_w2v(DMM_CLDA_Top_words)\n",
    "# print()\n",
    "# cosine_sim_w2v(DMM_source_Top_words)"
   ]
  },
  {
   "cell_type": "code",
   "execution_count": 35,
   "metadata": {},
   "outputs": [
    {
     "name": "stdout",
     "output_type": "stream",
     "text": [
      "Topic 1 57.16011403314769\n",
      "Topic 2 58.74213494709693\n",
      "Topic 3 52.35971114039421\n",
      "Topic 4 55.431902976939455\n",
      "223.6938630975783\n",
      "\n",
      "price 31.277103207539767\n",
      "service 39.33417551475577\n",
      "food 35.5444508001674\n",
      "accomodation 39.11769031314179\n",
      "145.27341983560473\n",
      "\n",
      "price 33.499387064250186\n",
      "service 33.94938659033505\n",
      "food 29.342106708092615\n",
      "accomodation 37.30153795069782\n",
      "134.09241831337567\n"
     ]
    }
   ],
   "source": [
    "# 토픽별로 cross similarity\n",
    "# 작은 값이 좋은 것임\n",
    "def cosine_sim_w2v_cross_topic(df):\n",
    "    cols = list(df.columns)\n",
    "    total = 0\n",
    "    for col in cols:\n",
    "        cos_val = 0\n",
    "        target_words = df[col].tolist()\n",
    "        rest_cols = list(set(cols) - set([col]))\n",
    "        for not_col in rest_cols:\n",
    "#             print(col, not_col)\n",
    "            cross_words = df[not_col].tolist()\n",
    "            for target_word in target_words:\n",
    "                for cross_word in cross_words:\n",
    "#                     print(target_word, cross_word)\n",
    "                    cos_val += 1-cosine(word2vec_model.get_vector(target_word),\n",
    "                               word2vec_model.get_vector(cross_word))\n",
    "        print(col, cos_val)\n",
    "        total += cos_val\n",
    "    print(total)\n",
    "cosine_sim_w2v_cross_topic(DMM_LDA_Top_words)\n",
    "print()\n",
    "cosine_sim_w2v_cross_topic(DMM_CLDA_Top_words)\n",
    "print()\n",
    "cosine_sim_w2v_cross_topic(DMM_source_Top_words)"
   ]
  },
  {
   "cell_type": "markdown",
   "metadata": {},
   "source": [
    "## n=10,20,50,100"
   ]
  },
  {
   "cell_type": "code",
   "execution_count": 18,
   "metadata": {},
   "outputs": [],
   "source": [
    "from scipy.spatial.distance import cosine\n",
    "TOP_N_WORDS = 100\n",
    "DMM_LDA_Top_words = TOP_N_WORDS_df(DMM_LDA, TOP_N_WORDS, [f'Topic {i}' for i in range(1,5)])\n",
    "DMM_CLDA_Top_words = TOP_N_WORDS_df(DMM_CLDA, TOP_N_WORDS, ['price','service','food','accomodation'] )\n",
    "DMM_source_Top_words = TOP_N_WORDS_df(DMM_source, TOP_N_WORDS, ['price','service','food','accomodation'])     "
   ]
  },
  {
   "cell_type": "code",
   "execution_count": 30,
   "metadata": {},
   "outputs": [
    {
     "data": {
      "text/plain": [
       "21"
      ]
     },
     "execution_count": 30,
     "metadata": {},
     "output_type": "execute_result"
    }
   ],
   "source": [
    "def topic_cross(df,N):\n",
    "    df = df.iloc[:N,:]\n",
    "    cols = list(df.columns)\n",
    "    total = 0\n",
    "    result = {}\n",
    "    for col in cols:\n",
    "        result[col] = {}\n",
    "        rest_cols = list(set(cols) - set([col]))\n",
    "        for word in df[col].tolist():\n",
    "            # cosine sim within topic\n",
    "            cos_val_intrinsic = 0\n",
    "            for intra_word in list( set(df[col].tolist()) - set([word]) ):\n",
    "                try:\n",
    "                    cos_val_intrinsic += 1-cosine(word2vec_model.get_vector(word),\n",
    "                           word2vec_model.get_vector(intra_word))\n",
    "                except:\n",
    "                    pass\n",
    "            # cosin sim between topic\n",
    "            max_cos_val_between = 1e-10\n",
    "            for cross_col in rest_cols:\n",
    "                cos_val_between = 0\n",
    "                for cross_word in df[cross_col].tolist():\n",
    "                    try:\n",
    "                        cos_val_between += 1-cosine(word2vec_model.get_vector(word),\n",
    "                               word2vec_model.get_vector(cross_word))\n",
    "                    except:\n",
    "                        pass\n",
    "                if max_cos_val_between < cos_val_between:\n",
    "                    max_cos_val_between = cos_val_between\n",
    "            # compare within topic vs between topic\n",
    "            if cos_val_intrinsic < max_cos_val_between:\n",
    "                result[col][word] = 0\n",
    "            else:\n",
    "                result[col][word] = 1\n",
    "    val = 0\n",
    "#     print(result)\n",
    "    for topic in result.keys():\n",
    "        for word in result[topic].keys():\n",
    "            val += result[topic][word]\n",
    "#     print(val)\n",
    "    return val\n",
    "\n",
    "        \n",
    "# topic_cross(DMM_LDA_Top_words,N=10)\n",
    "# print()\n",
    "# topic_cross(DMM_CLDA_Top_words,N=10)\n",
    "# print()\n",
    "topic_cross(DMM_source_Top_words,N=10)"
   ]
  },
  {
   "cell_type": "code",
   "execution_count": 62,
   "metadata": {},
   "outputs": [],
   "source": [
    "result_LDA = pd.DataFrame()\n",
    "for n in range(10,101,10):\n",
    "    a = cosine_sim_w2v(DMM_LDA_Top_words,n)\n",
    "    b = topic_cross(DMM_LDA_Top_words,n)\n",
    "    row = [n,'DMM_LDA',a,b]\n",
    "    result_LDA = pd.concat([result_LDA, pd.DataFrame(row).T])\n",
    "\n",
    "result_CLDA = pd.DataFrame()\n",
    "for n in range(10,101,10):\n",
    "    a = cosine_sim_w2v(DMM_CLDA_Top_words,n)\n",
    "    b = topic_cross(DMM_CLDA_Top_words,n)\n",
    "    row = [n,'DMM_CLDA',a,b]\n",
    "    result_CLDA = pd.concat([result_CLDA, pd.DataFrame(row).T])\n",
    "\n",
    "result_source = pd.DataFrame()\n",
    "for n in range(10,101,10):\n",
    "    a = cosine_sim_w2v(DMM_source_Top_words,n)\n",
    "    b = topic_cross(DMM_source_Top_words,n)\n",
    "    row = [n,'DMM_source',a,b]\n",
    "    result_source = pd.concat([result_source, pd.DataFrame(row).T])\n",
    "    \n",
    "result = pd.concat([result_LDA,result_CLDA,result_source])\n",
    "result.columns = ['n','model','intrinsic','cross']\n",
    "\n",
    "result['intrinsic'] = result['intrinsic'].astype(float)\n",
    "result['cross'] = result['cross'].astype(float)"
   ]
  },
  {
   "cell_type": "code",
   "execution_count": 74,
   "metadata": {},
   "outputs": [],
   "source": [
    "df_diff_1 = pd.DataFrame({'n':[i for i in range(10,101,10)]})\n",
    "df_diff_1['intrinsic'] = list(result_CLDA.iloc[:,2] - result_LDA.iloc[:,2])\n",
    "df_diff_1['model'] = 'CLDA-LDA'\n",
    "\n",
    "df_diff_2 = pd.DataFrame({'n':[i for i in range(10,101,10)]})\n",
    "df_diff_2['intrinsic'] = list(result_CLDA.iloc[:,2] - result_source.iloc[:,2])\n",
    "df_diff_2['model'] = 'CLDA-source'\n",
    "\n",
    "df_diff = pd.concat([df_diff_1,df_diff_2])"
   ]
  },
  {
   "cell_type": "code",
   "execution_count": 75,
   "metadata": {},
   "outputs": [
    {
     "data": {
      "text/plain": [
       "<function matplotlib.pyplot.show(*args, **kw)>"
      ]
     },
     "execution_count": 75,
     "metadata": {},
     "output_type": "execute_result"
    },
    {
     "data": {
      "image/png": "[encoded data removed]",
      "text/plain": [
       "<Figure size 432x288 with 1 Axes>"
      ]
     },
     "metadata": {
      "needs_background": "light"
     },
     "output_type": "display_data"
    }
   ],
   "source": [
    "sns.lineplot(x='n',y='intrinsic',hue='model',data=df_diff)\n",
    "plt.show"
   ]
  },
  {
   "cell_type": "code",
   "execution_count": 38,
   "metadata": {},
   "outputs": [],
   "source": [
    "import matplotlib.pyplot as plt\n",
    "import seaborn as sns"
   ]
  },
  {
   "cell_type": "code",
   "execution_count": 63,
   "metadata": {},
   "outputs": [
    {
     "data": {
      "text/plain": [
       "<function matplotlib.pyplot.show(*args, **kw)>"
      ]
     },
     "execution_count": 63,
     "metadata": {},
     "output_type": "execute_result"
    },
    {
     "data": {
      "image/png": "[encoded data removed]",
      "text/plain": [
       "<Figure size 432x288 with 1 Axes>"
      ]
     },
     "metadata": {
      "needs_background": "light"
     },
     "output_type": "display_data"
    }
   ],
   "source": [
    "sns.lineplot(x='n',y='intrinsic',hue='model',data=result)\n",
    "plt.show"
   ]
  },
  {
   "cell_type": "code",
   "execution_count": 53,
   "metadata": {},
   "outputs": [
    {
     "data": {
      "text/plain": [
       "<function matplotlib.pyplot.show(*args, **kw)>"
      ]
     },
     "execution_count": 53,
     "metadata": {},
     "output_type": "execute_result"
    },
    {
     "data": {
      "image/png": "[encoded data removed]",
      "text/plain": [
       "<Figure size 432x288 with 1 Axes>"
      ]
     },
     "metadata": {
      "needs_background": "light"
     },
     "output_type": "display_data"
    }
   ],
   "source": [
    "sns.lineplot(x='n',y='cross',hue='model',data=result)\n",
    "plt.show"
   ]
  },
  {
   "cell_type": "code",
   "execution_count": 59,
   "metadata": {},
   "outputs": [],
   "source": [
    "a = pickle.load(open('/Users/shinbo/Desktop/metting/LDA/meeting materials/21.05.06/restaurant1.pickle','rb'))"
   ]
  },
  {
   "cell_type": "code",
   "execution_count": 86,
   "metadata": {},
   "outputs": [],
   "source": [
    "data = pd.read_csv('/Users/shinbo/Downloads/CLDA-Dataset (1)/laptop1.csv',encoding='utf-8')"
   ]
  },
  {
   "cell_type": "code",
   "execution_count": 87,
   "metadata": {},
   "outputs": [
    {
     "data": {
      "text/plain": [
       "(3370, 3)"
      ]
     },
     "execution_count": 87,
     "metadata": {},
     "output_type": "execute_result"
    }
   ],
   "source": [
    "data.shape"
   ]
  },
  {
   "cell_type": "code",
   "execution_count": null,
   "metadata": {},
   "outputs": [],
   "source": []
  }
 ],
 "metadata": {
  "kernelspec": {
   "display_name": "Python 3",
   "language": "python",
   "name": "python3"
  },
  "language_info": {
   "codemirror_mode": {
    "name": "ipython",
    "version": 3
   },
   "file_extension": ".py",
   "mimetype": "text/x-python",
   "name": "python",
   "nbconvert_exporter": "python",
   "pygments_lexer": "ipython3",
   "version": "3.7.6"
  }
 },
 "nbformat": 4,
 "nbformat_minor": 4
}
