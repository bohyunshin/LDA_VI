{
 "cells": [
  {
   "cell_type": "markdown",
   "metadata": {},
   "source": [
    "\n",
    "## load data"
   ]
  },
  {
   "cell_type": "code",
   "execution_count": 1,
   "metadata": {},
   "outputs": [],
   "source": [
    "import sys\n",
    "import pandas as pd\n",
    "import numpy as np\n",
    "sys.path.append('/Users/shinbo/PycharmProjects/paper/LDA')\n",
    "\n",
    "def print_top_words(lam, feature_names, n_top_words):\n",
    "    for topic_id, topic in enumerate(lam):\n",
    "        print('\\nTopic Nr.%d:' % int(topic_id + 1))\n",
    "        print(''.join([feature_names[i] + ' ' + str(round(topic[i], 2))\n",
    "                       + ' | ' for i in topic.argsort()[:-n_top_words - 1:-1]]))\n",
    "        \n",
    "def TOP_N_WORDS_df(MODEL, TOP_N_WORDS, col_names):\n",
    "    DMM_LDA_Top_words = pd.DataFrame()\n",
    "    for i in range(4):\n",
    "        temp = pd.DataFrame({'words':cv.get_feature_names(), 'lambda':MODEL.components_[i,:]})\n",
    "        temp = temp.sort_values(by='lambda', ascending=False).iloc[:TOP_N_WORDS,:]\n",
    "        DMM_LDA_Top_words[i] = temp['words'].tolist()\n",
    "    DMM_LDA_Top_words.columns = col_names\n",
    "    return DMM_LDA_Top_words"
   ]
  },
  {
   "cell_type": "code",
   "execution_count": 2,
   "metadata": {},
   "outputs": [],
   "source": [
    "import pickle\n",
    "from sklearn.feature_extraction.text import CountVectorizer\n",
    "\n",
    "dir_ = '/Users/shinbo/Desktop/metting/LDA/paper/experiments/hotel/prepare/preproc.pkl'\n",
    "\n",
    "data = pickle.load(open(dir_, 'rb'))\n",
    "stop_words = ['hotel','stay','room','waikiki']\n",
    "for i in range(len(data)):\n",
    "    data[i] = [w for w in data[i] if w not in stop_words]\n",
    "\n",
    "data_join = [' '.join(doc) for doc in data]\n",
    "cv = CountVectorizer()\n",
    "X = cv.fit_transform(data_join).toarray()"
   ]
  },
  {
   "cell_type": "markdown",
   "metadata": {},
   "source": [
    "## DMM-LDA Result"
   ]
  },
  {
   "cell_type": "code",
   "execution_count": 3,
   "metadata": {},
   "outputs": [
    {
     "name": "stdout",
     "output_type": "stream",
     "text": [
      "\n",
      "Topic Nr.1:\n",
      "beach 1633.19 | get 1451.54 | staff 1404.28 | good 1375.08 | check 1360.6 | great 1269.18 | one 1198.33 | night 1151.11 | pool 1085.88 | go 1082.93 | location 1078.52 | time 1034.53 | nice 1007.71 | day 943.78 | clean 806.92 | place 787.86 | view 782.84 | service 782.84 | make 723.18 | breakfast 690.8 | \n",
      "\n",
      "Topic Nr.2:\n",
      "beach 2104.17 | view 1721.39 | great 1610.8 | pool 1248.61 | staff 1181.51 | ocean 1001.74 | restaurant 907.77 | night 888.79 | nice 885.76 | location 816.43 | day 799.56 | get 776.69 | walk 775.95 | time 753.0 | well 736.47 | bed 735.27 | clean 717.82 | good 712.1 | tower 707.04 | go 701.05 | \n",
      "\n",
      "Topic Nr.3:\n",
      "staff 1393.33 | great 850.57 | make 704.31 | time 685.75 | service 618.92 | night 589.28 | friendly 555.52 | clean 538.28 | go 511.63 | beach 480.51 | helpful 455.23 | view 451.87 | bed 448.41 | get 415.09 | place 414.32 | like 409.1 | nice 405.71 | back 398.09 | one 395.07 | day 394.75 | \n",
      "\n",
      "Topic Nr.4:\n",
      "beach 4231.16 | great 4024.49 | staff 3452.91 | location 2657.83 | view 2256.93 | clean 1945.03 | good 1929.74 | walk 1845.53 | nice 1806.87 | friendly 1791.72 | restaurant 1676.21 | pool 1639.96 | service 1493.66 | breakfast 1333.56 | time 1272.76 | helpful 1254.16 | place 1200.34 | night 1198.85 | day 1189.95 | close 1185.38 | \n"
     ]
    }
   ],
   "source": [
    "dir_model = '/Users/shinbo/Desktop/metting/LDA/paper/experiments/hotel/model/DMM_result.pkl'\n",
    "DMM_LDA = pickle.load(open(dir_model,'rb'))\n",
    "TOP_N_WORDS = 100\n",
    "DMM_LDA_Top_words = TOP_N_WORDS_df(DMM_LDA, TOP_N_WORDS, [f'Topic {i}' for i in range(1,5)])\n",
    "\n",
    "DMM_LDA_lam =  [DMM_LDA.components_[k,:] for k in range(4)]\n",
    "print_top_words(DMM_LDA_lam, list(cv.get_feature_names()), 20)"
   ]
  },
  {
   "cell_type": "code",
   "execution_count": 4,
   "metadata": {},
   "outputs": [],
   "source": [
    "TOP_N_WORDS = 100\n",
    "DMM_LDA_Top_words = TOP_N_WORDS_df(DMM_LDA, TOP_N_WORDS, [f'Topic {i}' for i in range(1,5)])"
   ]
  },
  {
   "cell_type": "code",
   "execution_count": 5,
   "metadata": {},
   "outputs": [
    {
     "data": {
      "text/html": [
       "<div>\n",
       "<style scoped>\n",
       "    .dataframe tbody tr th:only-of-type {\n",
       "        vertical-align: middle;\n",
       "    }\n",
       "\n",
       "    .dataframe tbody tr th {\n",
       "        vertical-align: top;\n",
       "    }\n",
       "\n",
       "    .dataframe thead th {\n",
       "        text-align: right;\n",
       "    }\n",
       "</style>\n",
       "<table border=\"1\" class=\"dataframe\">\n",
       "  <thead>\n",
       "    <tr style=\"text-align: right;\">\n",
       "      <th></th>\n",
       "      <th>Topic 1</th>\n",
       "      <th>Topic 2</th>\n",
       "      <th>Topic 3</th>\n",
       "      <th>Topic 4</th>\n",
       "    </tr>\n",
       "  </thead>\n",
       "  <tbody>\n",
       "    <tr>\n",
       "      <th>0</th>\n",
       "      <td>beach</td>\n",
       "      <td>beach</td>\n",
       "      <td>staff</td>\n",
       "      <td>beach</td>\n",
       "    </tr>\n",
       "    <tr>\n",
       "      <th>1</th>\n",
       "      <td>get</td>\n",
       "      <td>view</td>\n",
       "      <td>great</td>\n",
       "      <td>great</td>\n",
       "    </tr>\n",
       "    <tr>\n",
       "      <th>2</th>\n",
       "      <td>staff</td>\n",
       "      <td>great</td>\n",
       "      <td>make</td>\n",
       "      <td>staff</td>\n",
       "    </tr>\n",
       "    <tr>\n",
       "      <th>3</th>\n",
       "      <td>good</td>\n",
       "      <td>pool</td>\n",
       "      <td>time</td>\n",
       "      <td>location</td>\n",
       "    </tr>\n",
       "    <tr>\n",
       "      <th>4</th>\n",
       "      <td>check</td>\n",
       "      <td>staff</td>\n",
       "      <td>service</td>\n",
       "      <td>view</td>\n",
       "    </tr>\n",
       "    <tr>\n",
       "      <th>5</th>\n",
       "      <td>great</td>\n",
       "      <td>ocean</td>\n",
       "      <td>night</td>\n",
       "      <td>clean</td>\n",
       "    </tr>\n",
       "    <tr>\n",
       "      <th>6</th>\n",
       "      <td>one</td>\n",
       "      <td>restaurant</td>\n",
       "      <td>friendly</td>\n",
       "      <td>good</td>\n",
       "    </tr>\n",
       "    <tr>\n",
       "      <th>7</th>\n",
       "      <td>night</td>\n",
       "      <td>night</td>\n",
       "      <td>clean</td>\n",
       "      <td>walk</td>\n",
       "    </tr>\n",
       "    <tr>\n",
       "      <th>8</th>\n",
       "      <td>pool</td>\n",
       "      <td>nice</td>\n",
       "      <td>go</td>\n",
       "      <td>nice</td>\n",
       "    </tr>\n",
       "    <tr>\n",
       "      <th>9</th>\n",
       "      <td>go</td>\n",
       "      <td>location</td>\n",
       "      <td>beach</td>\n",
       "      <td>friendly</td>\n",
       "    </tr>\n",
       "    <tr>\n",
       "      <th>10</th>\n",
       "      <td>location</td>\n",
       "      <td>day</td>\n",
       "      <td>helpful</td>\n",
       "      <td>restaurant</td>\n",
       "    </tr>\n",
       "    <tr>\n",
       "      <th>11</th>\n",
       "      <td>time</td>\n",
       "      <td>get</td>\n",
       "      <td>view</td>\n",
       "      <td>pool</td>\n",
       "    </tr>\n",
       "    <tr>\n",
       "      <th>12</th>\n",
       "      <td>nice</td>\n",
       "      <td>walk</td>\n",
       "      <td>bed</td>\n",
       "      <td>service</td>\n",
       "    </tr>\n",
       "    <tr>\n",
       "      <th>13</th>\n",
       "      <td>day</td>\n",
       "      <td>time</td>\n",
       "      <td>get</td>\n",
       "      <td>breakfast</td>\n",
       "    </tr>\n",
       "    <tr>\n",
       "      <th>14</th>\n",
       "      <td>clean</td>\n",
       "      <td>well</td>\n",
       "      <td>place</td>\n",
       "      <td>time</td>\n",
       "    </tr>\n",
       "    <tr>\n",
       "      <th>15</th>\n",
       "      <td>place</td>\n",
       "      <td>bed</td>\n",
       "      <td>like</td>\n",
       "      <td>helpful</td>\n",
       "    </tr>\n",
       "    <tr>\n",
       "      <th>16</th>\n",
       "      <td>view</td>\n",
       "      <td>clean</td>\n",
       "      <td>nice</td>\n",
       "      <td>place</td>\n",
       "    </tr>\n",
       "    <tr>\n",
       "      <th>17</th>\n",
       "      <td>service</td>\n",
       "      <td>good</td>\n",
       "      <td>back</td>\n",
       "      <td>night</td>\n",
       "    </tr>\n",
       "    <tr>\n",
       "      <th>18</th>\n",
       "      <td>make</td>\n",
       "      <td>tower</td>\n",
       "      <td>one</td>\n",
       "      <td>day</td>\n",
       "    </tr>\n",
       "    <tr>\n",
       "      <th>19</th>\n",
       "      <td>breakfast</td>\n",
       "      <td>go</td>\n",
       "      <td>day</td>\n",
       "      <td>close</td>\n",
       "    </tr>\n",
       "  </tbody>\n",
       "</table>\n",
       "</div>"
      ],
      "text/plain": [
       "      Topic 1     Topic 2   Topic 3     Topic 4\n",
       "0       beach       beach     staff       beach\n",
       "1         get        view     great       great\n",
       "2       staff       great      make       staff\n",
       "3        good        pool      time    location\n",
       "4       check       staff   service        view\n",
       "5       great       ocean     night       clean\n",
       "6         one  restaurant  friendly        good\n",
       "7       night       night     clean        walk\n",
       "8        pool        nice        go        nice\n",
       "9          go    location     beach    friendly\n",
       "10   location         day   helpful  restaurant\n",
       "11       time         get      view        pool\n",
       "12       nice        walk       bed     service\n",
       "13        day        time       get   breakfast\n",
       "14      clean        well     place        time\n",
       "15      place         bed      like     helpful\n",
       "16       view       clean      nice       place\n",
       "17    service        good      back       night\n",
       "18       make       tower       one         day\n",
       "19  breakfast          go       day       close"
      ]
     },
     "execution_count": 5,
     "metadata": {},
     "output_type": "execute_result"
    }
   ],
   "source": [
    "DMM_LDA_Top_words.iloc[:20,:]"
   ]
  },
  {
   "cell_type": "code",
   "execution_count": 26,
   "metadata": {},
   "outputs": [
    {
     "data": {
      "text/plain": [
       "[3997.602680638743,\n",
       " 3310.303976890171,\n",
       " 3308.050633475034,\n",
       " 3307.817189562972,\n",
       " 3307.7790328116425,\n",
       " 3307.7575063189547,\n",
       " 3307.7573885891857,\n",
       " 3307.7554309519237,\n",
       " 3307.7265073618746,\n",
       " 3307.7265037552274]"
      ]
     },
     "execution_count": 26,
     "metadata": {},
     "output_type": "execute_result"
    }
   ],
   "source": [
    "DMM_LDA.perplexity"
   ]
  },
  {
   "cell_type": "markdown",
   "metadata": {},
   "source": [
    "## DMM-CLDA Result"
   ]
  },
  {
   "cell_type": "code",
   "execution_count": 7,
   "metadata": {},
   "outputs": [
    {
     "data": {
      "text/html": [
       "<div>\n",
       "<style scoped>\n",
       "    .dataframe tbody tr th:only-of-type {\n",
       "        vertical-align: middle;\n",
       "    }\n",
       "\n",
       "    .dataframe tbody tr th {\n",
       "        vertical-align: top;\n",
       "    }\n",
       "\n",
       "    .dataframe thead th {\n",
       "        text-align: right;\n",
       "    }\n",
       "</style>\n",
       "<table border=\"1\" class=\"dataframe\">\n",
       "  <thead>\n",
       "    <tr style=\"text-align: right;\">\n",
       "      <th></th>\n",
       "      <th>price</th>\n",
       "      <th>food</th>\n",
       "      <th>drink</th>\n",
       "      <th>service</th>\n",
       "    </tr>\n",
       "  </thead>\n",
       "  <tbody>\n",
       "    <tr>\n",
       "      <th>0</th>\n",
       "      <td>price</td>\n",
       "      <td>restaurant</td>\n",
       "      <td>bar</td>\n",
       "      <td>staff</td>\n",
       "    </tr>\n",
       "    <tr>\n",
       "      <th>1</th>\n",
       "      <td>get</td>\n",
       "      <td>beach</td>\n",
       "      <td>drink</td>\n",
       "      <td>beach</td>\n",
       "    </tr>\n",
       "    <tr>\n",
       "      <th>2</th>\n",
       "      <td>beach</td>\n",
       "      <td>breakfast</td>\n",
       "      <td>cocktail</td>\n",
       "      <td>great</td>\n",
       "    </tr>\n",
       "    <tr>\n",
       "      <th>3</th>\n",
       "      <td>check</td>\n",
       "      <td>great</td>\n",
       "      <td>wine</td>\n",
       "      <td>location</td>\n",
       "    </tr>\n",
       "    <tr>\n",
       "      <th>4</th>\n",
       "      <td>rate</td>\n",
       "      <td>food</td>\n",
       "      <td>beer</td>\n",
       "      <td>friendly</td>\n",
       "    </tr>\n",
       "    <tr>\n",
       "      <th>5</th>\n",
       "      <td>expensive</td>\n",
       "      <td>view</td>\n",
       "      <td>beverage</td>\n",
       "      <td>view</td>\n",
       "    </tr>\n",
       "    <tr>\n",
       "      <th>6</th>\n",
       "      <td>money</td>\n",
       "      <td>pool</td>\n",
       "      <td>nibble</td>\n",
       "      <td>service</td>\n",
       "    </tr>\n",
       "    <tr>\n",
       "      <th>7</th>\n",
       "      <td>good</td>\n",
       "      <td>staff</td>\n",
       "      <td>alcoholic</td>\n",
       "      <td>clean</td>\n",
       "    </tr>\n",
       "    <tr>\n",
       "      <th>8</th>\n",
       "      <td>value</td>\n",
       "      <td>dinner</td>\n",
       "      <td>drinking</td>\n",
       "      <td>good</td>\n",
       "    </tr>\n",
       "    <tr>\n",
       "      <th>9</th>\n",
       "      <td>one</td>\n",
       "      <td>meal</td>\n",
       "      <td>tonic</td>\n",
       "      <td>nice</td>\n",
       "    </tr>\n",
       "    <tr>\n",
       "      <th>10</th>\n",
       "      <td>cost</td>\n",
       "      <td>delicious</td>\n",
       "      <td>teas</td>\n",
       "      <td>pool</td>\n",
       "    </tr>\n",
       "    <tr>\n",
       "      <th>11</th>\n",
       "      <td>cheap</td>\n",
       "      <td>lunch</td>\n",
       "      <td>lattes</td>\n",
       "      <td>walk</td>\n",
       "    </tr>\n",
       "    <tr>\n",
       "      <th>12</th>\n",
       "      <td>staff</td>\n",
       "      <td>sushi</td>\n",
       "      <td>lemonade</td>\n",
       "      <td>time</td>\n",
       "    </tr>\n",
       "    <tr>\n",
       "      <th>13</th>\n",
       "      <td>reasonable</td>\n",
       "      <td>steakhouse</td>\n",
       "      <td>tangueray</td>\n",
       "      <td>restaurant</td>\n",
       "    </tr>\n",
       "    <tr>\n",
       "      <th>14</th>\n",
       "      <td>night</td>\n",
       "      <td>pickle</td>\n",
       "      <td>staff</td>\n",
       "      <td>night</td>\n",
       "    </tr>\n",
       "    <tr>\n",
       "      <th>15</th>\n",
       "      <td>budget</td>\n",
       "      <td>chicken</td>\n",
       "      <td>great</td>\n",
       "      <td>get</td>\n",
       "    </tr>\n",
       "    <tr>\n",
       "      <th>16</th>\n",
       "      <td>great</td>\n",
       "      <td>hamburger</td>\n",
       "      <td>night</td>\n",
       "      <td>helpful</td>\n",
       "    </tr>\n",
       "    <tr>\n",
       "      <th>17</th>\n",
       "      <td>affordable</td>\n",
       "      <td>desserts</td>\n",
       "      <td>beach</td>\n",
       "      <td>day</td>\n",
       "    </tr>\n",
       "    <tr>\n",
       "      <th>18</th>\n",
       "      <td>reasonably</td>\n",
       "      <td>nice</td>\n",
       "      <td>time</td>\n",
       "      <td>place</td>\n",
       "    </tr>\n",
       "    <tr>\n",
       "      <th>19</th>\n",
       "      <td>overprice</td>\n",
       "      <td>night</td>\n",
       "      <td>make</td>\n",
       "      <td>well</td>\n",
       "    </tr>\n",
       "  </tbody>\n",
       "</table>\n",
       "</div>"
      ],
      "text/plain": [
       "         price        food      drink     service\n",
       "0        price  restaurant        bar       staff\n",
       "1          get       beach      drink       beach\n",
       "2        beach   breakfast   cocktail       great\n",
       "3        check       great       wine    location\n",
       "4         rate        food       beer    friendly\n",
       "5    expensive        view   beverage        view\n",
       "6        money        pool     nibble     service\n",
       "7         good       staff  alcoholic       clean\n",
       "8        value      dinner   drinking        good\n",
       "9          one        meal      tonic        nice\n",
       "10        cost   delicious       teas        pool\n",
       "11       cheap       lunch     lattes        walk\n",
       "12       staff       sushi   lemonade        time\n",
       "13  reasonable  steakhouse  tangueray  restaurant\n",
       "14       night      pickle      staff       night\n",
       "15      budget     chicken      great         get\n",
       "16       great   hamburger      night     helpful\n",
       "17  affordable    desserts      beach         day\n",
       "18  reasonably        nice       time       place\n",
       "19   overprice       night       make        well"
      ]
     },
     "execution_count": 7,
     "metadata": {},
     "output_type": "execute_result"
    }
   ],
   "source": [
    "dir_model = '/Users/shinbo/Desktop/metting/LDA/paper/experiments/hotel/model/CDMM_result.pkl'\n",
    "DMM_CLDA = pickle.load(open(dir_model,'rb'))\n",
    "DMM_CLDA_lam =  [DMM_CLDA.components_[k,:] for k in range(4)]\n",
    "TOP_N_WORDS = 100\n",
    "DMM_CLDA_Top_words = TOP_N_WORDS_df(DMM_CLDA, TOP_N_WORDS, ['price','food','drink','service'])\n",
    "DMM_CLDA_Top_words.iloc[:20,]"
   ]
  },
  {
   "cell_type": "code",
   "execution_count": 27,
   "metadata": {},
   "outputs": [
    {
     "data": {
      "text/plain": [
       "[5312.157321611085,\n",
       " 4250.994982117806,\n",
       " 4248.609339607975,\n",
       " 4248.17269579065,\n",
       " 4247.983014406924,\n",
       " 4247.980029707097,\n",
       " 4247.955951923405,\n",
       " 4247.954716858862,\n",
       " 4247.954584323888,\n",
       " 4247.954584219408]"
      ]
     },
     "execution_count": 27,
     "metadata": {},
     "output_type": "execute_result"
    }
   ],
   "source": [
    "DMM_CLDA.perplexity"
   ]
  },
  {
   "cell_type": "markdown",
   "metadata": {},
   "source": [
    "## source result"
   ]
  },
  {
   "cell_type": "code",
   "execution_count": 25,
   "metadata": {},
   "outputs": [
    {
     "data": {
      "text/html": [
       "<div>\n",
       "<style scoped>\n",
       "    .dataframe tbody tr th:only-of-type {\n",
       "        vertical-align: middle;\n",
       "    }\n",
       "\n",
       "    .dataframe tbody tr th {\n",
       "        vertical-align: top;\n",
       "    }\n",
       "\n",
       "    .dataframe thead th {\n",
       "        text-align: right;\n",
       "    }\n",
       "</style>\n",
       "<table border=\"1\" class=\"dataframe\">\n",
       "  <thead>\n",
       "    <tr style=\"text-align: right;\">\n",
       "      <th></th>\n",
       "      <th>price</th>\n",
       "      <th>food</th>\n",
       "      <th>drink</th>\n",
       "      <th>service</th>\n",
       "    </tr>\n",
       "  </thead>\n",
       "  <tbody>\n",
       "    <tr>\n",
       "      <th>0</th>\n",
       "      <td>staff</td>\n",
       "      <td>food</td>\n",
       "      <td>beach</td>\n",
       "      <td>beach</td>\n",
       "    </tr>\n",
       "    <tr>\n",
       "      <th>1</th>\n",
       "      <td>great</td>\n",
       "      <td>beach</td>\n",
       "      <td>get</td>\n",
       "      <td>great</td>\n",
       "    </tr>\n",
       "    <tr>\n",
       "      <th>2</th>\n",
       "      <td>time</td>\n",
       "      <td>restaurant</td>\n",
       "      <td>check</td>\n",
       "      <td>staff</td>\n",
       "    </tr>\n",
       "    <tr>\n",
       "      <th>3</th>\n",
       "      <td>night</td>\n",
       "      <td>also</td>\n",
       "      <td>staff</td>\n",
       "      <td>view</td>\n",
       "    </tr>\n",
       "    <tr>\n",
       "      <th>4</th>\n",
       "      <td>make</td>\n",
       "      <td>great</td>\n",
       "      <td>great</td>\n",
       "      <td>location</td>\n",
       "    </tr>\n",
       "    <tr>\n",
       "      <th>5</th>\n",
       "      <td>service</td>\n",
       "      <td>use</td>\n",
       "      <td>one</td>\n",
       "      <td>good</td>\n",
       "    </tr>\n",
       "    <tr>\n",
       "      <th>6</th>\n",
       "      <td>go</td>\n",
       "      <td>pool</td>\n",
       "      <td>good</td>\n",
       "      <td>nice</td>\n",
       "    </tr>\n",
       "    <tr>\n",
       "      <th>7</th>\n",
       "      <td>view</td>\n",
       "      <td>day</td>\n",
       "      <td>pool</td>\n",
       "      <td>pool</td>\n",
       "    </tr>\n",
       "    <tr>\n",
       "      <th>8</th>\n",
       "      <td>clean</td>\n",
       "      <td>view</td>\n",
       "      <td>go</td>\n",
       "      <td>clean</td>\n",
       "    </tr>\n",
       "    <tr>\n",
       "      <th>9</th>\n",
       "      <td>beach</td>\n",
       "      <td>staff</td>\n",
       "      <td>night</td>\n",
       "      <td>walk</td>\n",
       "    </tr>\n",
       "    <tr>\n",
       "      <th>10</th>\n",
       "      <td>one</td>\n",
       "      <td>time</td>\n",
       "      <td>time</td>\n",
       "      <td>friendly</td>\n",
       "    </tr>\n",
       "    <tr>\n",
       "      <th>11</th>\n",
       "      <td>get</td>\n",
       "      <td>rice</td>\n",
       "      <td>day</td>\n",
       "      <td>restaurant</td>\n",
       "    </tr>\n",
       "    <tr>\n",
       "      <th>12</th>\n",
       "      <td>bed</td>\n",
       "      <td>well</td>\n",
       "      <td>location</td>\n",
       "      <td>service</td>\n",
       "    </tr>\n",
       "    <tr>\n",
       "      <th>13</th>\n",
       "      <td>day</td>\n",
       "      <td>make</td>\n",
       "      <td>nice</td>\n",
       "      <td>time</td>\n",
       "    </tr>\n",
       "    <tr>\n",
       "      <th>14</th>\n",
       "      <td>friendly</td>\n",
       "      <td>one</td>\n",
       "      <td>make</td>\n",
       "      <td>night</td>\n",
       "    </tr>\n",
       "    <tr>\n",
       "      <th>15</th>\n",
       "      <td>nice</td>\n",
       "      <td>include</td>\n",
       "      <td>place</td>\n",
       "      <td>get</td>\n",
       "    </tr>\n",
       "    <tr>\n",
       "      <th>16</th>\n",
       "      <td>like</td>\n",
       "      <td>many</td>\n",
       "      <td>also</td>\n",
       "      <td>place</td>\n",
       "    </tr>\n",
       "    <tr>\n",
       "      <th>17</th>\n",
       "      <td>good</td>\n",
       "      <td>eat</td>\n",
       "      <td>view</td>\n",
       "      <td>ocean</td>\n",
       "    </tr>\n",
       "    <tr>\n",
       "      <th>18</th>\n",
       "      <td>place</td>\n",
       "      <td>get</td>\n",
       "      <td>breakfast</td>\n",
       "      <td>day</td>\n",
       "    </tr>\n",
       "    <tr>\n",
       "      <th>19</th>\n",
       "      <td>book</td>\n",
       "      <td>meat</td>\n",
       "      <td>service</td>\n",
       "      <td>helpful</td>\n",
       "    </tr>\n",
       "  </tbody>\n",
       "</table>\n",
       "</div>"
      ],
      "text/plain": [
       "       price        food      drink     service\n",
       "0      staff        food      beach       beach\n",
       "1      great       beach        get       great\n",
       "2       time  restaurant      check       staff\n",
       "3      night        also      staff        view\n",
       "4       make       great      great    location\n",
       "5    service         use        one        good\n",
       "6         go        pool       good        nice\n",
       "7       view         day       pool        pool\n",
       "8      clean        view         go       clean\n",
       "9      beach       staff      night        walk\n",
       "10       one        time       time    friendly\n",
       "11       get        rice        day  restaurant\n",
       "12       bed        well   location     service\n",
       "13       day        make       nice        time\n",
       "14  friendly         one       make       night\n",
       "15      nice     include      place         get\n",
       "16      like        many       also       place\n",
       "17      good         eat       view       ocean\n",
       "18     place         get  breakfast         day\n",
       "19      book        meat    service     helpful"
      ]
     },
     "execution_count": 25,
     "metadata": {},
     "output_type": "execute_result"
    }
   ],
   "source": [
    "dir_model = '/Users/shinbo/Desktop/metting/LDA/paper/experiments/hotel/model/DMM_source_result.pkl'\n",
    "DMM_source = pickle.load(open(dir_model,'rb'))\n",
    "DMM_source_lam =  [DMM_source.components_[k,:] for k in range(4)]\n",
    "TOP_N_WORDS = 100\n",
    "DMM_source_Top_words = TOP_N_WORDS_df(DMM_source, TOP_N_WORDS, ['drink', 'food', 'price', 'service'])\n",
    "DMM_source_Top_words.iloc[:20,][['price','food','drink','service']]"
   ]
  },
  {
   "cell_type": "code",
   "execution_count": 28,
   "metadata": {},
   "outputs": [
    {
     "data": {
      "text/plain": [
       "[6910.476752204513,\n",
       " 4393.570007715152,\n",
       " 4391.971928124759,\n",
       " 4391.777907189779,\n",
       " 4391.700960299492,\n",
       " 4391.698413914095]"
      ]
     },
     "execution_count": 28,
     "metadata": {},
     "output_type": "execute_result"
    }
   ],
   "source": [
    "DMM_source.perplexity"
   ]
  },
  {
   "cell_type": "code",
   "execution_count": 12,
   "metadata": {},
   "outputs": [
    {
     "data": {
      "text/plain": [
       "dict_keys(['drink', 'food', 'price', 'service'])"
      ]
     },
     "execution_count": 12,
     "metadata": {},
     "output_type": "execute_result"
    }
   ],
   "source": [
    "dir_ = '/Users/shinbo/Desktop/metting/LDA/paper/experiments/hotel/prepare/source.pkl'\n",
    "source = pickle.load(open(dir_,'rb'))\n",
    "source.keys()"
   ]
  },
  {
   "cell_type": "code",
   "execution_count": 8,
   "metadata": {},
   "outputs": [
    {
     "data": {
      "text/plain": [
       "(0.43, 86)"
      ]
     },
     "execution_count": 8,
     "metadata": {},
     "output_type": "execute_result"
    }
   ],
   "source": [
    "import pandas as pd\n",
    "import numpy as np\n",
    "from collections import Counter\n",
    "def top_20_words_for_topics(CLDA_lam,CDMM, aux=None, n=50):\n",
    "    if aux is True:\n",
    "        K = len(CLDA_lam)-1\n",
    "    else:\n",
    "        K = len(CLDA_lam)\n",
    "    words = {}\n",
    "    unique_words = []\n",
    "    for k in range(K):\n",
    "        CLDA_lam_word = pd.DataFrame({'word':cv.get_feature_names(), 'lam':CDMM.components_[k,:] }).sort_values(by='lam', ascending=False)\n",
    "        top_words = CLDA_lam_word.iloc[:n,:]['word'].tolist()\n",
    "        words[k] = CLDA_lam_word.iloc[:n,:].set_index('word').to_dict()['lam']\n",
    "        unique_words += top_words\n",
    "        \n",
    "    c = Counter(unique_words)\n",
    "    words_all_appear = []\n",
    "    for k,v in c.items():\n",
    "        if v == K:\n",
    "            words_all_appear.append(k)\n",
    "    \n",
    "    \n",
    "    \n",
    "    words_degree = []\n",
    "    for k in range(K):\n",
    "        for w,d in words[k].items():\n",
    "            if w in words_all_appear:\n",
    "                words_degree.append(d)\n",
    "        \n",
    "    return words_all_appear, len(set(unique_words)) / (K*n), len(set(unique_words)) , np.mean(words_degree)\n",
    "words_, uq_words_ratio, uq_words_nums, asso_deg = top_20_words_for_topics(DMM_LDA_lam,DMM_LDA, n=50)\n",
    "uq_words_ratio, uq_words_nums"
   ]
  },
  {
   "cell_type": "code",
   "execution_count": 9,
   "metadata": {},
   "outputs": [
    {
     "data": {
      "text/plain": [
       "(0.535, 107)"
      ]
     },
     "execution_count": 9,
     "metadata": {},
     "output_type": "execute_result"
    }
   ],
   "source": [
    "words_, uq_words_ratio, uq_words_nums, asso_deg = top_20_words_for_topics(DMM_CLDA_lam,DMM_CLDA, n=50)\n",
    "uq_words_ratio, uq_words_nums"
   ]
  },
  {
   "cell_type": "code",
   "execution_count": 10,
   "metadata": {},
   "outputs": [
    {
     "data": {
      "text/plain": [
       "(0.745, 149)"
      ]
     },
     "execution_count": 10,
     "metadata": {},
     "output_type": "execute_result"
    }
   ],
   "source": [
    "words_, uq_words_ratio, uq_words_nums, asso_deg = top_20_words_for_topics(DMM_source_lam,DMM_source, n=50)\n",
    "uq_words_ratio, uq_words_nums"
   ]
  },
  {
   "cell_type": "markdown",
   "metadata": {},
   "source": [
    "## n 변화시켜가며 비율 살펴보기"
   ]
  },
  {
   "cell_type": "code",
   "execution_count": 11,
   "metadata": {},
   "outputs": [],
   "source": [
    "def varying_n(lam,mod):\n",
    "    result = {}\n",
    "    for n in range(10,51,10):\n",
    "        words_, uq_words_ratio, uq_words_nums, asso_deg = top_20_words_for_topics(lam, mod, n=n)\n",
    "        result[n] = (uq_words_ratio, uq_words_nums)\n",
    "    return result"
   ]
  },
  {
   "cell_type": "code",
   "execution_count": 12,
   "metadata": {},
   "outputs": [
    {
     "data": {
      "text/plain": [
       "{10: (0.575, 23),\n",
       " 20: (0.4625, 37),\n",
       " 30: (0.4166666666666667, 50),\n",
       " 40: (0.4375, 70),\n",
       " 50: (0.43, 86)}"
      ]
     },
     "execution_count": 12,
     "metadata": {},
     "output_type": "execute_result"
    }
   ],
   "source": [
    "varying_n(DMM_LDA_lam,DMM_LDA)"
   ]
  },
  {
   "cell_type": "code",
   "execution_count": 13,
   "metadata": {},
   "outputs": [
    {
     "name": "stderr",
     "output_type": "stream",
     "text": [
      "/Users/shinbo/opt/anaconda3/lib/python3.7/site-packages/numpy/core/fromnumeric.py:3335: RuntimeWarning: Mean of empty slice.\n",
      "  out=out, **kwargs)\n",
      "/Users/shinbo/opt/anaconda3/lib/python3.7/site-packages/numpy/core/_methods.py:161: RuntimeWarning: invalid value encountered in double_scalars\n",
      "  ret = ret.dtype.type(ret / rcount)\n"
     ]
    },
    {
     "data": {
      "text/plain": [
       "{10: (0.9, 36),\n",
       " 20: (0.85, 68),\n",
       " 30: (0.65, 78),\n",
       " 40: (0.575, 92),\n",
       " 50: (0.535, 107)}"
      ]
     },
     "execution_count": 13,
     "metadata": {},
     "output_type": "execute_result"
    }
   ],
   "source": [
    "varying_n(DMM_CLDA_lam,DMM_CLDA)"
   ]
  },
  {
   "cell_type": "code",
   "execution_count": 14,
   "metadata": {},
   "outputs": [
    {
     "data": {
      "text/plain": [
       "{10: (0.825, 33),\n",
       " 20: (0.7625, 61),\n",
       " 30: (0.75, 90),\n",
       " 40: (0.74375, 119),\n",
       " 50: (0.745, 149)}"
      ]
     },
     "execution_count": 14,
     "metadata": {},
     "output_type": "execute_result"
    }
   ],
   "source": [
    "varying_n(DMM_source_lam,DMM_source)"
   ]
  },
  {
   "cell_type": "code",
   "execution_count": 15,
   "metadata": {},
   "outputs": [
    {
     "data": {
      "text/plain": [
       "[15683.33882455813, 4862.665228800802, 4862.573836663506, 4862.573774702469]"
      ]
     },
     "execution_count": 15,
     "metadata": {},
     "output_type": "execute_result"
    }
   ],
   "source": [
    "DMM_source.perplexity"
   ]
  },
  {
   "cell_type": "markdown",
   "metadata": {},
   "source": [
    "## Glove 벡터 이용"
   ]
  },
  {
   "cell_type": "code",
   "execution_count": 12,
   "metadata": {},
   "outputs": [],
   "source": [
    "n=0\n",
    "glove_dir = '/Users/shinbo/Desktop/metting/LDA/paper/word_embedding/glove.6B/glove.6B.100d.txt'\n",
    "word2glove = {}\n",
    "with open(glove_dir, encoding=\"utf8\") as f:\n",
    "\n",
    "    for line in f:\n",
    "        word_vector = line.split() # 각 줄을 읽어와서 word_vector에 저장.\n",
    "        word = word_vector[0] # word_vector에서 첫번째 값만 저장\n",
    "        word2glove[word] = np.array([float(i) for i in word_vector[1:]])"
   ]
  },
  {
   "cell_type": "code",
   "execution_count": 33,
   "metadata": {},
   "outputs": [],
   "source": [
    "from scipy.spatial.distance import cosine\n",
    "TOP_N_WORDS = 10\n",
    "DMM_LDA_Top_words = TOP_N_WORDS_df(DMM_LDA, TOP_N_WORDS, [f'Topic {i}' for i in range(1,5)])\n",
    "DMM_CLDA_Top_words = TOP_N_WORDS_df(DMM_CLDA, TOP_N_WORDS, ['price','service','food','accomodation'] )\n",
    "DMM_source_Top_words = TOP_N_WORDS_df(DMM_source, TOP_N_WORDS, ['price','service','food','accomodation'])     "
   ]
  },
  {
   "cell_type": "code",
   "execution_count": 22,
   "metadata": {},
   "outputs": [
    {
     "name": "stdout",
     "output_type": "stream",
     "text": [
      "Topic 1 18.30634151716085\n",
      "Topic 2 20.692595438908235\n",
      "Topic 3 22.837739656762945\n",
      "Topic 4 21.904842424916218\n",
      "20.935379759437062\n",
      "\n",
      "price 24.96277772064167\n",
      "service 15.167980320395671\n",
      "food 19.916207420563286\n",
      "accomodation 18.910066678221664\n",
      "19.739258034955572\n"
     ]
    }
   ],
   "source": [
    "from itertools import combinations\n",
    "# 하나의 토픽 내에서 nC2\n",
    "# 큰 값이 좋은 것임\n",
    "def cosine_sim(df):\n",
    "    total = 0\n",
    "    for col in df.columns:\n",
    "        cos_val = 0\n",
    "        words = df[col].tolist()\n",
    "        for c in combinations(words,2):\n",
    "#             print(c)\n",
    "            cos_val += 1-cosine(word2glove[c[0]], word2glove[c[1]])\n",
    "#             print(c)\n",
    "#             print(cosine(word2glove[c[0]], word2glove[c[1]]))\n",
    "        print(col, cos_val)\n",
    "        total += cos_val\n",
    "    print(total/4)\n",
    "cosine_sim(DMM_LDA_Top_words)\n",
    "print()\n",
    "cosine_sim(DMM_CLDA_Top_words)"
   ]
  },
  {
   "cell_type": "code",
   "execution_count": 23,
   "metadata": {},
   "outputs": [
    {
     "name": "stdout",
     "output_type": "stream",
     "text": [
      "Topic 1 139.9889984932741\n",
      "Topic 2 146.08137672283598\n",
      "Topic 3 146.14787236591397\n",
      "Topic 4 145.0820424201924\n",
      "144.32507250055409\n",
      "\n",
      "price 102.36063631059497\n",
      "service 103.70896641408386\n",
      "food 100.42500140438251\n",
      "accomodation 107.43641007958207\n",
      "103.48275355216084\n"
     ]
    }
   ],
   "source": [
    "# 토픽별로 cross similarity\n",
    "# 작은 값이 좋은 것임\n",
    "def cosine_sim_cross_topic(df):\n",
    "    cols = list(df.columns)\n",
    "    total = 0\n",
    "    for col in cols:\n",
    "        cos_val = 0\n",
    "        target_words = df[col].tolist()\n",
    "        rest_cols = list(set(cols) - set([col]))\n",
    "        for not_col in rest_cols:\n",
    "#             print(col, not_col)\n",
    "            cross_words = df[not_col].tolist()\n",
    "            for target_word in target_words:\n",
    "                for cross_word in cross_words:\n",
    "#                     print(target_word, cross_word)\n",
    "                    cos_val += 1-cosine(word2glove[target_word],\n",
    "                               word2glove[cross_word])\n",
    "        print(col, cos_val)\n",
    "        total += cos_val\n",
    "    print(total/4)\n",
    "cosine_sim_cross_topic(DMM_LDA_Top_words)\n",
    "print()\n",
    "cosine_sim_cross_topic(DMM_CLDA_Top_words)"
   ]
  },
  {
   "cell_type": "markdown",
   "metadata": {},
   "source": [
    "### word2vec 이용"
   ]
  },
  {
   "cell_type": "code",
   "execution_count": 14,
   "metadata": {},
   "outputs": [],
   "source": [
    "import gensim\n",
    "\n",
    "w2v_dir = '/Users/shinbo/Desktop/metting/LDA/paper/word_embedding/GoogleNews-vectors-negative300.bin/GoogleNews-vectors-negative300.bin'\n",
    "word2vec_model = gensim.models.keyedvectors.KeyedVectors.load_word2vec_format(\n",
    "    w2v_dir, binary=True\n",
    ")"
   ]
  },
  {
   "cell_type": "code",
   "execution_count": 15,
   "metadata": {},
   "outputs": [],
   "source": [
    "from scipy.spatial.distance import cosine\n",
    "TOP_N_WORDS = 100\n",
    "DMM_LDA_Top_words = TOP_N_WORDS_df(DMM_LDA, TOP_N_WORDS, [f'Topic {i}' for i in range(1,5)])\n",
    "DMM_CLDA_Top_words = TOP_N_WORDS_df(DMM_CLDA, TOP_N_WORDS, ['price','food','drink','service'] )\n",
    "DMM_source_Top_words = TOP_N_WORDS_df(DMM_source, TOP_N_WORDS, ['drink', 'food', 'price', 'service'])     "
   ]
  },
  {
   "cell_type": "code",
   "execution_count": 29,
   "metadata": {},
   "outputs": [
    {
     "name": "stdout",
     "output_type": "stream",
     "text": [
      "Topic 1 31.422694358276203\n",
      "Topic 2 28.624239805852994\n",
      "Topic 3 32.8285785370972\n",
      "Topic 4 29.2586907541845\n",
      "Mean: 30.533550863852724\n",
      "\n",
      "price 30.533806861611083\n",
      "food 46.421893528371584\n",
      "drink 33.69151895621326\n",
      "service 29.608605235582218\n",
      "Mean: 35.063956145444536\n",
      "\n",
      "drink 31.254484691889957\n",
      "food 26.35529838805087\n",
      "price 32.05942946462892\n",
      "service 28.503534842049703\n",
      "Mean: 29.543186846654862\n"
     ]
    }
   ],
   "source": [
    "# 하나의 토픽 내에서 nC2\n",
    "# 큰 값이 좋은 것임\n",
    "from collections import Counter\n",
    "from itertools import combinations\n",
    "from scipy.spatial.distance import cosine\n",
    "N=20\n",
    "def cosine_sim_w2v(df,N):\n",
    "    df = df.iloc[:N,:]\n",
    "    total = 0\n",
    "    for col in df.columns:\n",
    "        cos_val = 0\n",
    "        words = df[col].tolist()\n",
    "        for c in combinations(words,2):\n",
    "#             print(c)\n",
    "            try:\n",
    "                cos_val += 1-cosine(word2vec_model.get_vector(c[0]),\n",
    "                               word2vec_model.get_vector(c[1]))\n",
    "            except:\n",
    "                pass\n",
    "#             print(c)\n",
    "#             print(cosine(word2glove[c[0]], word2glove[c[1]]))\n",
    "        print(col, cos_val)\n",
    "        total += cos_val\n",
    "    return total\n",
    "result = cosine_sim_w2v(DMM_LDA_Top_words,N)\n",
    "print(f'Mean: {result/4}')\n",
    "print()\n",
    "result = cosine_sim_w2v(DMM_CLDA_Top_words,N)\n",
    "print(f'Mean: {result/4}')\n",
    "print()\n",
    "result = cosine_sim_w2v(DMM_source_Top_words,N)\n",
    "print(f'Mean: {result/4}')"
   ]
  },
  {
   "cell_type": "code",
   "execution_count": 35,
   "metadata": {},
   "outputs": [
    {
     "name": "stdout",
     "output_type": "stream",
     "text": [
      "Topic 1 57.16011403314769\n",
      "Topic 2 58.74213494709693\n",
      "Topic 3 52.35971114039421\n",
      "Topic 4 55.431902976939455\n",
      "223.6938630975783\n",
      "\n",
      "price 31.277103207539767\n",
      "service 39.33417551475577\n",
      "food 35.5444508001674\n",
      "accomodation 39.11769031314179\n",
      "145.27341983560473\n",
      "\n",
      "price 33.499387064250186\n",
      "service 33.94938659033505\n",
      "food 29.342106708092615\n",
      "accomodation 37.30153795069782\n",
      "134.09241831337567\n"
     ]
    }
   ],
   "source": [
    "# 토픽별로 cross similarity\n",
    "# 작은 값이 좋은 것임\n",
    "def cosine_sim_w2v_cross_topic(df):\n",
    "    cols = list(df.columns)\n",
    "    total = 0\n",
    "    for col in cols:\n",
    "        cos_val = 0\n",
    "        target_words = df[col].tolist()\n",
    "        rest_cols = list(set(cols) - set([col]))\n",
    "        for not_col in rest_cols:\n",
    "#             print(col, not_col)\n",
    "            cross_words = df[not_col].tolist()\n",
    "            for target_word in target_words:\n",
    "                for cross_word in cross_words:\n",
    "#                     print(target_word, cross_word)\n",
    "                    cos_val += 1-cosine(word2vec_model.get_vector(target_word),\n",
    "                               word2vec_model.get_vector(cross_word))\n",
    "        print(col, cos_val)\n",
    "        total += cos_val\n",
    "    print(total)\n",
    "cosine_sim_w2v_cross_topic(DMM_LDA_Top_words)\n",
    "print()\n",
    "cosine_sim_w2v_cross_topic(DMM_CLDA_Top_words)\n",
    "print()\n",
    "cosine_sim_w2v_cross_topic(DMM_source_Top_words)"
   ]
  },
  {
   "cell_type": "markdown",
   "metadata": {},
   "source": [
    "## n=10,20,50,100"
   ]
  },
  {
   "cell_type": "code",
   "execution_count": 31,
   "metadata": {},
   "outputs": [
    {
     "data": {
      "text/plain": [
       "0"
      ]
     },
     "execution_count": 31,
     "metadata": {},
     "output_type": "execute_result"
    }
   ],
   "source": [
    "def topic_cross(df,N):\n",
    "    df = df.iloc[:N,:]\n",
    "    cols = list(df.columns)\n",
    "    total = 0\n",
    "    result = {}\n",
    "    for col in cols:\n",
    "        result[col] = {}\n",
    "        rest_cols = list(set(cols) - set([col]))\n",
    "        for word in df[col].tolist():\n",
    "            # cosine sim within topic\n",
    "            cos_val_intrinsic = 0\n",
    "            for intra_word in list( set(df[col].tolist()) - set([word]) ):\n",
    "                try:\n",
    "                    cos_val_intrinsic += 1-cosine(word2vec_model.get_vector(word),\n",
    "                           word2vec_model.get_vector(intra_word))\n",
    "                except:\n",
    "                    pass\n",
    "            # cosin sim between topic\n",
    "            max_cos_val_between = 1e-10\n",
    "            for cross_col in rest_cols:\n",
    "                cos_val_between = 0\n",
    "                for cross_word in df[cross_col].tolist():\n",
    "                    try:\n",
    "                        cos_val_between += 1-cosine(word2vec_model.get_vector(word),\n",
    "                               word2vec_model.get_vector(cross_word))\n",
    "                    except:\n",
    "                        pass\n",
    "                if max_cos_val_between < cos_val_between:\n",
    "                    max_cos_val_between = cos_val_between\n",
    "            # compare within topic vs between topic\n",
    "            if cos_val_intrinsic < max_cos_val_between:\n",
    "                result[col][word] = 0\n",
    "            else:\n",
    "                result[col][word] = 1\n",
    "    val = 0\n",
    "#     print(result)\n",
    "    for topic in result.keys():\n",
    "        for word in result[topic].keys():\n",
    "            val += result[topic][word]\n",
    "#     print(val)\n",
    "    return val\n",
    "\n",
    "        \n",
    "# topic_cross(DMM_LDA_Top_words,N=10)\n",
    "# print()\n",
    "# topic_cross(DMM_CLDA_Top_words,N=10)\n",
    "# print()\n",
    "topic_cross(DMM_source_Top_words,N=10)"
   ]
  },
  {
   "cell_type": "code",
   "execution_count": 32,
   "metadata": {
    "scrolled": true
   },
   "outputs": [
    {
     "name": "stdout",
     "output_type": "stream",
     "text": [
      "Topic 1 7.640535716898739\n",
      "Topic 2 6.151866195490584\n",
      "Topic 3 6.484835809096694\n",
      "Topic 4 7.588791444897652\n",
      "Topic 1 31.422694358276203\n",
      "Topic 2 28.624239805852994\n",
      "Topic 3 32.8285785370972\n",
      "Topic 4 29.2586907541845\n",
      "Topic 1 67.36444631894119\n",
      "Topic 2 58.97734083310934\n",
      "Topic 3 72.79534639022313\n",
      "Topic 4 67.61800379795022\n",
      "Topic 1 121.40021664556116\n",
      "Topic 2 108.52468267799122\n",
      "Topic 3 118.41357972845435\n",
      "Topic 4 120.53225090331398\n",
      "Topic 1 184.79988240648527\n",
      "Topic 2 169.38500596833182\n",
      "Topic 3 183.92746729645296\n",
      "Topic 4 207.5147232444724\n",
      "Topic 1 261.4280152095016\n",
      "Topic 2 244.76845584687544\n",
      "Topic 3 280.4619222149049\n",
      "Topic 4 283.2271716193063\n",
      "Topic 1 340.89327811740804\n",
      "Topic 2 324.0627390013324\n",
      "Topic 3 383.26909996739414\n",
      "Topic 4 380.763341293321\n",
      "Topic 1 446.6507009571651\n",
      "Topic 2 421.50372419100313\n",
      "Topic 3 487.5952042676654\n",
      "Topic 4 481.25359086325625\n",
      "Topic 1 575.7170201982954\n",
      "Topic 2 546.9954640019714\n",
      "Topic 3 605.2841615069046\n",
      "Topic 4 582.9004007065523\n",
      "Topic 1 697.9071955383406\n",
      "Topic 2 683.1551205587602\n",
      "Topic 3 715.337184443415\n",
      "Topic 4 690.739576602602\n",
      "price 6.694910005433485\n",
      "food 8.736862846184522\n",
      "drink 15.253382267430425\n",
      "service 7.426732145249844\n",
      "price 30.533806861611083\n",
      "food 46.421893528371584\n",
      "drink 33.69151895621326\n",
      "service 29.608605235582218\n",
      "price 59.3005648329854\n",
      "food 80.41217523039086\n",
      "drink 64.31358251185156\n",
      "service 67.3436178828124\n",
      "price 104.12311052333098\n",
      "food 121.73193586769048\n",
      "drink 111.20551645132218\n",
      "service 123.33903809008189\n",
      "price 160.2846239983337\n",
      "food 179.36424893082585\n",
      "drink 171.98119882880565\n",
      "service 181.94101258704904\n",
      "price 236.44108952663373\n",
      "food 252.48847133060917\n",
      "drink 240.75942006348487\n",
      "service 278.5469075080473\n",
      "price 322.23738249833696\n",
      "food 339.54678324004635\n",
      "drink 320.71900669801835\n",
      "service 352.28185138557456\n",
      "price 413.1777566356759\n",
      "food 437.17871113852743\n",
      "drink 425.1044905401286\n",
      "service 455.60529750972637\n",
      "price 521.0416335016198\n",
      "food 556.3037735489561\n",
      "drink 531.6361315986942\n",
      "service 556.1054019452567\n",
      "price 642.7727281395055\n",
      "food 652.5190566570564\n",
      "drink 654.1315846560392\n",
      "service 661.2583624157269\n",
      "drink 7.640535716898739\n",
      "food 4.850937875220552\n",
      "price 5.892415137728676\n",
      "service 7.000471843406558\n",
      "drink 31.254484691889957\n",
      "food 26.35529838805087\n",
      "price 32.05942946462892\n",
      "service 28.503534842049703\n",
      "drink 66.56068431958556\n",
      "food 60.07431878615171\n",
      "price 65.2508629001677\n",
      "service 66.74510670662858\n",
      "drink 114.74318240652792\n",
      "food 109.84438668994699\n",
      "price 121.1364352433011\n",
      "service 125.0428682656493\n",
      "drink 175.21576187416213\n",
      "food 159.8616408717353\n",
      "price 181.76682890672237\n",
      "service 193.61813763191458\n",
      "drink 256.9822588201496\n",
      "food 233.73257879333687\n",
      "price 258.8639024455333\n",
      "service 283.19215261901263\n",
      "drink 340.1281230863533\n",
      "food 313.5261505943781\n",
      "price 350.3197921019455\n",
      "service 393.9039336236965\n",
      "drink 434.80493129743263\n",
      "food 414.45998620722094\n",
      "price 450.41871794947656\n",
      "service 488.8462204999014\n",
      "drink 542.9859405306634\n",
      "food 527.9488194284131\n",
      "price 567.11838483467\n",
      "service 573.3436669134317\n",
      "drink 678.6947106416046\n",
      "food 640.1257335261107\n",
      "price 730.0470510744344\n",
      "service 679.7967814630829\n"
     ]
    }
   ],
   "source": [
    "result_LDA = pd.DataFrame()\n",
    "for n in range(10,101,10):\n",
    "    a = cosine_sim_w2v(DMM_LDA_Top_words,n)\n",
    "    b = topic_cross(DMM_LDA_Top_words,n)\n",
    "    row = [n,'DMM_LDA',a,b]\n",
    "    result_LDA = pd.concat([result_LDA, pd.DataFrame(row).T])\n",
    "\n",
    "result_CLDA = pd.DataFrame()\n",
    "for n in range(10,101,10):\n",
    "    a = cosine_sim_w2v(DMM_CLDA_Top_words,n)\n",
    "    b = topic_cross(DMM_CLDA_Top_words,n)\n",
    "    row = [n,'DMM_CLDA',a,b]\n",
    "    result_CLDA = pd.concat([result_CLDA, pd.DataFrame(row).T])\n",
    "\n",
    "result_source = pd.DataFrame()\n",
    "for n in range(10,101,10):\n",
    "    a = cosine_sim_w2v(DMM_source_Top_words,n)\n",
    "    b = topic_cross(DMM_source_Top_words,n)\n",
    "    row = [n,'DMM_source',a,b]\n",
    "    result_source = pd.concat([result_source, pd.DataFrame(row).T])\n",
    "    \n",
    "result = pd.concat([result_LDA,result_CLDA,result_source])\n",
    "result.columns = ['n','model','intrinsic','cross']\n",
    "\n",
    "result['intrinsic'] = result['intrinsic'].astype(float)\n",
    "result['cross'] = result['cross'].astype(float)"
   ]
  },
  {
   "cell_type": "code",
   "execution_count": 33,
   "metadata": {},
   "outputs": [],
   "source": [
    "df_diff_1 = pd.DataFrame({'n':[i for i in range(10,101,10)]})\n",
    "df_diff_1['intrinsic'] = list(result_CLDA.iloc[:,2] - result_LDA.iloc[:,2])\n",
    "df_diff_1['model'] = 'CLDA-LDA'\n",
    "\n",
    "df_diff_2 = pd.DataFrame({'n':[i for i in range(10,101,10)]})\n",
    "df_diff_2['intrinsic'] = list(result_CLDA.iloc[:,2] - result_source.iloc[:,2])\n",
    "df_diff_2['model'] = 'CLDA-source'\n",
    "\n",
    "df_diff = pd.concat([df_diff_1,df_diff_2])"
   ]
  },
  {
   "cell_type": "code",
   "execution_count": 34,
   "metadata": {},
   "outputs": [
    {
     "data": {
      "text/plain": [
       "<function matplotlib.pyplot.show(*args, **kw)>"
      ]
     },
     "execution_count": 34,
     "metadata": {},
     "output_type": "execute_result"
    },
    {
     "data": {
      "image/png": "[encoded data removed]",
      "text/plain": [
       "<Figure size 432x288 with 1 Axes>"
      ]
     },
     "metadata": {
      "needs_background": "light"
     },
     "output_type": "display_data"
    }
   ],
   "source": [
    "import seaborn as sns\n",
    "import matplotlib.pyplot as plt\n",
    "sns.lineplot(x='n',y='intrinsic',hue='model',data=df_diff)\n",
    "plt.show"
   ]
  },
  {
   "cell_type": "code",
   "execution_count": 35,
   "metadata": {},
   "outputs": [],
   "source": [
    "import matplotlib.pyplot as plt\n",
    "import seaborn as sns"
   ]
  },
  {
   "cell_type": "code",
   "execution_count": 36,
   "metadata": {},
   "outputs": [
    {
     "data": {
      "text/plain": [
       "<function matplotlib.pyplot.show(*args, **kw)>"
      ]
     },
     "execution_count": 36,
     "metadata": {},
     "output_type": "execute_result"
    },
    {
     "data": {
      "image/png": "[encoded data removed]",
      "text/plain": [
       "<Figure size 432x288 with 1 Axes>"
      ]
     },
     "metadata": {
      "needs_background": "light"
     },
     "output_type": "display_data"
    }
   ],
   "source": [
    "sns.lineplot(x='n',y='intrinsic',hue='model',data=result)\n",
    "plt.show"
   ]
  },
  {
   "cell_type": "code",
   "execution_count": 42,
   "metadata": {},
   "outputs": [
    {
     "data": {
      "text/plain": [
       "<function matplotlib.pyplot.show(*args, **kw)>"
      ]
     },
     "execution_count": 42,
     "metadata": {},
     "output_type": "execute_result"
    },
    {
     "data": {
      "image/png": "[encoded data removed]",
      "text/plain": [
       "<Figure size 432x288 with 1 Axes>"
      ]
     },
     "metadata": {
      "needs_background": "light"
     },
     "output_type": "display_data"
    }
   ],
   "source": [
    "sns.lineplot(x='n',y='cross',hue='model',data=result)\n",
    "plt.savefig('/Users/shinbo/Desktop/metting/LDA/paper/experiments/hotel/fig/BC.png')\n",
    "plt.show"
   ]
  },
  {
   "cell_type": "code",
   "execution_count": 48,
   "metadata": {},
   "outputs": [],
   "source": [
    "tick = pd.DataFrame()\n",
    "tick['DMM_LDA'] = result[lambda x: x['model'] == 'DMM_LDA']['cross'].tolist()\n",
    "tick['DMM_source'] = result[lambda x: x['model'] == 'DMM_source']['cross'].tolist()\n",
    "tick['DMM_CLDA'] = result[lambda x: x['model'] == 'DMM_CLDA']['cross'].tolist()\n",
    "tick['n'] = range(10,101,10)"
   ]
  },
  {
   "cell_type": "code",
   "execution_count": 49,
   "metadata": {},
   "outputs": [
    {
     "data": {
      "text/html": [
       "<div>\n",
       "<style scoped>\n",
       "    .dataframe tbody tr th:only-of-type {\n",
       "        vertical-align: middle;\n",
       "    }\n",
       "\n",
       "    .dataframe tbody tr th {\n",
       "        vertical-align: top;\n",
       "    }\n",
       "\n",
       "    .dataframe thead th {\n",
       "        text-align: right;\n",
       "    }\n",
       "</style>\n",
       "<table border=\"1\" class=\"dataframe\">\n",
       "  <thead>\n",
       "    <tr style=\"text-align: right;\">\n",
       "      <th></th>\n",
       "      <th>DMM_LDA</th>\n",
       "      <th>DMM_source</th>\n",
       "      <th>DMM_CLDA</th>\n",
       "      <th>n</th>\n",
       "    </tr>\n",
       "  </thead>\n",
       "  <tbody>\n",
       "    <tr>\n",
       "      <th>0</th>\n",
       "      <td>2.0</td>\n",
       "      <td>0.0</td>\n",
       "      <td>19.0</td>\n",
       "      <td>10</td>\n",
       "    </tr>\n",
       "    <tr>\n",
       "      <th>1</th>\n",
       "      <td>4.0</td>\n",
       "      <td>6.0</td>\n",
       "      <td>38.0</td>\n",
       "      <td>20</td>\n",
       "    </tr>\n",
       "    <tr>\n",
       "      <th>2</th>\n",
       "      <td>3.0</td>\n",
       "      <td>4.0</td>\n",
       "      <td>46.0</td>\n",
       "      <td>30</td>\n",
       "    </tr>\n",
       "    <tr>\n",
       "      <th>3</th>\n",
       "      <td>3.0</td>\n",
       "      <td>12.0</td>\n",
       "      <td>53.0</td>\n",
       "      <td>40</td>\n",
       "    </tr>\n",
       "    <tr>\n",
       "      <th>4</th>\n",
       "      <td>18.0</td>\n",
       "      <td>22.0</td>\n",
       "      <td>57.0</td>\n",
       "      <td>50</td>\n",
       "    </tr>\n",
       "    <tr>\n",
       "      <th>5</th>\n",
       "      <td>18.0</td>\n",
       "      <td>37.0</td>\n",
       "      <td>62.0</td>\n",
       "      <td>60</td>\n",
       "    </tr>\n",
       "    <tr>\n",
       "      <th>6</th>\n",
       "      <td>28.0</td>\n",
       "      <td>44.0</td>\n",
       "      <td>75.0</td>\n",
       "      <td>70</td>\n",
       "    </tr>\n",
       "    <tr>\n",
       "      <th>7</th>\n",
       "      <td>22.0</td>\n",
       "      <td>53.0</td>\n",
       "      <td>72.0</td>\n",
       "      <td>80</td>\n",
       "    </tr>\n",
       "    <tr>\n",
       "      <th>8</th>\n",
       "      <td>21.0</td>\n",
       "      <td>48.0</td>\n",
       "      <td>78.0</td>\n",
       "      <td>90</td>\n",
       "    </tr>\n",
       "    <tr>\n",
       "      <th>9</th>\n",
       "      <td>31.0</td>\n",
       "      <td>56.0</td>\n",
       "      <td>73.0</td>\n",
       "      <td>100</td>\n",
       "    </tr>\n",
       "  </tbody>\n",
       "</table>\n",
       "</div>"
      ],
      "text/plain": [
       "   DMM_LDA  DMM_source  DMM_CLDA    n\n",
       "0      2.0         0.0      19.0   10\n",
       "1      4.0         6.0      38.0   20\n",
       "2      3.0         4.0      46.0   30\n",
       "3      3.0        12.0      53.0   40\n",
       "4     18.0        22.0      57.0   50\n",
       "5     18.0        37.0      62.0   60\n",
       "6     28.0        44.0      75.0   70\n",
       "7     22.0        53.0      72.0   80\n",
       "8     21.0        48.0      78.0   90\n",
       "9     31.0        56.0      73.0  100"
      ]
     },
     "execution_count": 49,
     "metadata": {},
     "output_type": "execute_result"
    }
   ],
   "source": [
    "tick"
   ]
  },
  {
   "cell_type": "code",
   "execution_count": null,
   "metadata": {},
   "outputs": [],
   "source": []
  },
  {
   "cell_type": "markdown",
   "metadata": {},
   "source": [
    "### 상대 도수"
   ]
  },
  {
   "cell_type": "code",
   "execution_count": 55,
   "metadata": {},
   "outputs": [],
   "source": [
    "TOP_N_WORDS = 100\n",
    "DMM_LDA_Top_words = TOP_N_WORDS_df(DMM_LDA, TOP_N_WORDS, [f'Topic {i}' for i in range(1,5)])\n",
    "DMM_CLDA_Top_words = TOP_N_WORDS_df(DMM_CLDA, TOP_N_WORDS, ['price','service','food','accomodation'] )\n",
    "DMM_source_Top_words = TOP_N_WORDS_df(DMM_source, TOP_N_WORDS, ['price','service','food','accomodation'])     "
   ]
  },
  {
   "cell_type": "code",
   "execution_count": 59,
   "metadata": {},
   "outputs": [],
   "source": [
    "from collections import Counter\n",
    "words = []\n",
    "for review in data:\n",
    "    words += review\n",
    "words_counter = Counter(words)"
   ]
  },
  {
   "cell_type": "code",
   "execution_count": 93,
   "metadata": {},
   "outputs": [
    {
     "data": {
      "text/plain": [
       "<function matplotlib.pyplot.show(*args, **kw)>"
      ]
     },
     "execution_count": 93,
     "metadata": {},
     "output_type": "execute_result"
    },
    {
     "data": {
      "image/png": "[encoded data removed]",
      "text/plain": [
       "<Figure size 432x288 with 1 Axes>"
      ]
     },
     "metadata": {
      "needs_background": "light"
     },
     "output_type": "display_data"
    }
   ],
   "source": [
    "import matplotlib.pyplot as plt\n",
    "import seaborn as sns\n",
    "result = pd.DataFrame()\n",
    "for column in DMM_LDA_Top_words.columns:\n",
    "    temp = pd.DataFrame()\n",
    "    words_ = DMM_LDA_Top_words[column].tolist()\n",
    "    freq = []\n",
    "    for word in words_:\n",
    "        freq.append( words_counter[word] / len(words) )\n",
    "    temp['relative_freq'] = np.cumsum(freq)\n",
    "    temp['rank'] = [i for i in range(100)]\n",
    "    temp['topics'] = column\n",
    "    \n",
    "    result = pd.concat([result,temp], axis=0)\n",
    "    \n",
    "sns.lineplot(x='rank',y='relative_freq',hue='topics',data=result)\n",
    "plt.show"
   ]
  },
  {
   "cell_type": "code",
   "execution_count": 94,
   "metadata": {},
   "outputs": [],
   "source": [
    "import matplotlib.pyplot as plt\n",
    "import seaborn as sns\n",
    "# result = pd.DataFrame()\n",
    "for column in DMM_source_Top_words.columns:\n",
    "    temp = pd.DataFrame()\n",
    "    words_ = DMM_source_Top_words[column].tolist()\n",
    "    freq = []\n",
    "    for word in words_:\n",
    "        freq.append( words_counter[word] / len(words) )\n",
    "    temp['relative_freq'] = np.cumsum(freq)\n",
    "    temp['rank'] = [i for i in range(100)]\n",
    "    temp['topics'] = column\n",
    "    \n",
    "    result = pd.concat([result,temp], axis=0)\n",
    "    \n",
    "# sns.lineplot(x='rank',y='relative_freq',hue='topics',data=result)\n",
    "# plt.show"
   ]
  },
  {
   "cell_type": "code",
   "execution_count": 95,
   "metadata": {},
   "outputs": [],
   "source": [
    "import matplotlib.pyplot as plt\n",
    "import seaborn as sns\n",
    "# result = pd.DataFrame()\n",
    "for column in DMM_CLDA_Top_words.columns:\n",
    "    temp = pd.DataFrame()\n",
    "    words_ = DMM_CLDA_Top_words[column].tolist()\n",
    "    freq = []\n",
    "    for word in words_:\n",
    "        freq.append( words_counter[word] / len(words) )\n",
    "    temp['relative_freq'] = np.cumsum(freq)\n",
    "    temp['rank'] = [i for i in range(100)]\n",
    "    temp['topics'] = column\n",
    "    \n",
    "    result = pd.concat([result,temp], axis=0)\n",
    "    \n",
    "# sns.lineplot(x='rank',y='relative_freq',hue='topics',data=result)\n",
    "# plt.show\n",
    "result['model'] = ['LDA']*400 + ['SLDA']*400 + ['CLDA']*400"
   ]
  },
  {
   "cell_type": "code",
   "execution_count": 105,
   "metadata": {},
   "outputs": [],
   "source": [
    "model2topics = {\n",
    "    'LDA':['Topic 1','Topic 2','Topic 3','Topic 4'],\n",
    "    'SLDA':['price','food','service','accomodation'],\n",
    "    'CLDA':['price','food','service','accomodation'],\n",
    "}\n",
    "colors = {\n",
    "    'LDA':'black',\n",
    "    'SLDA':'red',\n",
    "    'CLDA':'blue',\n",
    "}"
   ]
  },
  {
   "cell_type": "code",
   "execution_count": 111,
   "metadata": {},
   "outputs": [
    {
     "name": "stderr",
     "output_type": "stream",
     "text": [
      "No handles with labels found to put in legend.\n"
     ]
    },
    {
     "data": {
      "text/plain": [
       "<matplotlib.legend.Legend at 0x7fa2b9c9bdd0>"
      ]
     },
     "execution_count": 111,
     "metadata": {},
     "output_type": "execute_result"
    },
    {
     "data": {
      "image/png": "[encoded data removed]",
      "text/plain": [
       "<Figure size 432x288 with 1 Axes>"
      ]
     },
     "metadata": {
      "needs_background": "light"
     },
     "output_type": "display_data"
    }
   ],
   "source": [
    "for model in model2topics.keys():\n",
    "    color = colors[model]\n",
    "    for topic in model2topics[model]:\n",
    "        temp = result[lambda x: (x['model'] == model) & (x['topics'] == topic)]\n",
    "        sns.lineplot(x='rank',y='relative_freq',data=temp, color=color)\n",
    "plt.legend()"
   ]
  },
  {
   "cell_type": "code",
   "execution_count": null,
   "metadata": {},
   "outputs": [],
   "source": []
  }
 ],
 "metadata": {
  "kernelspec": {
   "display_name": "Python 3",
   "language": "python",
   "name": "python3"
  },
  "language_info": {
   "codemirror_mode": {
    "name": "ipython",
    "version": 3
   },
   "file_extension": ".py",
   "mimetype": "text/x-python",
   "name": "python",
   "nbconvert_exporter": "python",
   "pygments_lexer": "ipython3",
   "version": "3.7.6"
  }
 },
 "nbformat": 4,
 "nbformat_minor": 4
}
