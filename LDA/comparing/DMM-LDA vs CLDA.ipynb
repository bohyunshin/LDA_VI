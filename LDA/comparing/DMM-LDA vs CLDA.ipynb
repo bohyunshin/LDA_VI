{
 "cells": [
  {
   "cell_type": "markdown",
   "metadata": {},
   "source": [
    "\n",
    "## load data"
   ]
  },
  {
   "cell_type": "code",
   "execution_count": 5,
   "metadata": {},
   "outputs": [],
   "source": [
    "import sys\n",
    "sys.path.append('/Users/shinbo/PycharmProjects/paper/LDA')\n",
    "def print_top_words(lam, feature_names, n_top_words):\n",
    "    for topic_id, topic in enumerate(lam):\n",
    "        print('\\nTopic Nr.%d:' % int(topic_id + 1))\n",
    "        print(''.join([feature_names[i] + ' ' + str(round(topic[i], 2))\n",
    "                       + ' | ' for i in topic.argsort()[:-n_top_words - 1:-1]]))"
   ]
  },
  {
   "cell_type": "code",
   "execution_count": 2,
   "metadata": {},
   "outputs": [],
   "source": [
    "import pickle\n",
    "from sklearn.feature_extraction.text import CountVectorizer\n",
    "\n",
    "type_ = 'first_data'\n",
    "dir_ = f'/Users/shinbo/Desktop/metting/LDA/0. data/hotel data/preproc/{type_}_preproc.pkl'\n",
    "\n",
    "data = pickle.load(open(dir_, 'rb'))\n",
    "data_join = [' '.join(doc) for doc in data]\n",
    "cv = CountVectorizer()\n",
    "X = cv.fit_transform(data_join).toarray()"
   ]
  },
  {
   "cell_type": "markdown",
   "metadata": {},
   "source": [
    "## DMM-LDA Result"
   ]
  },
  {
   "cell_type": "code",
   "execution_count": 83,
   "metadata": {},
   "outputs": [
    {
     "name": "stdout",
     "output_type": "stream",
     "text": [
      "\n",
      "Topic Nr.1:\n",
      "beach 3359.82 | great 3228.55 | staff 3222.41 | location 2458.22 | clean 2032.93 | friendly 1825.39 | good 1811.61 | waliking 1649.29 | restaurant 1489.3 | nice 1442.68 | vietnamese 1424.18 | helpful 1321.38 | breakfast 1258.95 | service 1216.73 | night 1140.3 | close 1110.85 | shop 1041.45 | welcoming 1016.19 | pool 1012.64 | place 929.97 | \n",
      "\n",
      "Topic Nr.2:\n",
      "beach 1841.58 | pool 1505.23 | vietnamese 1489.95 | great 1411.31 | get 1241.47 | nice 1150.12 | staff 1148.54 | bed 1083.14 | day 1029.29 | good 1015.36 | one 1001.14 | night 922.41 | location 870.38 | check 865.59 | clean 855.14 | timber 847.16 | ocean 831.89 | floor 830.88 | small 829.07 | also 812.53 | \n",
      "\n",
      "Topic Nr.3:\n",
      "staff 2256.86 | great 1581.0 | timber 1240.68 | make 1195.98 | vietnamese 1152.37 | check 1147.07 | beach 1117.37 | service 1112.23 | go 1036.38 | night 1001.41 | get 900.0 | friendly 836.67 | day 804.57 | one 794.59 | front 793.48 | pool 775.64 | place 750.84 | nice 736.44 | desk 717.65 | like 692.1 | \n",
      "\n",
      "Topic Nr.4:\n",
      "beach 2130.63 | great 1534.54 | vietnamese 1146.9 | pool 1013.89 | location 910.3 | good 883.98 | resort 873.42 | restaurant 861.19 | timber 824.78 | place 809.23 | get 804.73 | staff 804.58 | go 793.95 | waliking 793.05 | nice 777.16 | night 764.28 | one 736.6 | day 719.67 | ocean 591.66 | towels 583.02 | \n"
     ]
    }
   ],
   "source": [
    "dir_model = f'/Users/shinbo/PycharmProjects/model_lda/{type_}/DMM_result_{type_}_stop_words.pkl'\n",
    "DMM_LDA = pickle.load(open(dir_model,'rb'))\n",
    "DMM_LDA_lam =  [DMM_LDA.components_[k,:] for k in range(4)]\n",
    "print_top_words(DMM_LDA_lam, list(cv.get_feature_names()), 20)"
   ]
  },
  {
   "cell_type": "code",
   "execution_count": 81,
   "metadata": {},
   "outputs": [
    {
     "data": {
      "text/plain": [
       "<WORKING_LDA.WORKING_DMM_lda.LDA_VI at 0x7fb8abb55110>"
      ]
     },
     "execution_count": 81,
     "metadata": {},
     "output_type": "execute_result"
    }
   ],
   "source": [
    "DMM_LDA"
   ]
  },
  {
   "cell_type": "markdown",
   "metadata": {},
   "source": [
    "## DMM-CLDA Result (one phase)"
   ]
  },
  {
   "cell_type": "code",
   "execution_count": 82,
   "metadata": {},
   "outputs": [
    {
     "name": "stdout",
     "output_type": "stream",
     "text": [
      "\n",
      "Topic Nr.1:\n",
      "pay 1129.09 | price 1096.82 | fee 1085.14 | charge 1051.34 | rate 963.47 | money 942.38 | valuable 927.81 | expensive 911.55 | cost 905.84 | cheap 877.54 | reasonably 827.52 | pricey 826.62 | cheaper 804.89 | paid 803.0 | night 573.45 | staff 571.49 | get 519.39 | good 439.69 | day 427.5 | beach 395.28 | \n",
      "\n",
      "Topic Nr.2:\n",
      "staff 1508.61 | check 1421.53 | service 1344.34 | pool 1315.45 | friendly 1192.89 | desk 1153.43 | helpful 1077.19 | valentine 1018.62 | help 999.93 | offer 959.15 | manager 920.0 | parking 860.83 | serve 846.83 | courteous 842.51 | welcomes 815.07 | solve 808.03 | towells 807.01 | serviced 804.39 | offered 801.95 | solved 800.0 | \n",
      "\n",
      "Topic Nr.3:\n",
      "staff 1517.71 | breakfast 1219.07 | restaurant 1200.02 | food 1199.85 | great 1054.11 | coffee 964.51 | watchman 949.35 | drink 944.46 | dinner 925.95 | fruit 900.82 | te 888.09 | coconut 884.03 | cafe 837.28 | starbucks 829.57 | beverage 820.97 | make 817.67 | restaurants 804.26 | cafes 801.31 | beverages 801.0 | fruits 800.0 | \n",
      "\n",
      "Topic Nr.4:\n",
      "beach 7051.63 | great 5802.95 | location 4752.6 | staff 4634.19 | vietnamese 4074.86 | good 3267.75 | pool 3205.48 | nice 3167.11 | waliking 2999.85 | clean 2993.7 | restaurant 2763.13 | close 2619.95 | night 2554.86 | friendly 2500.46 | get 2388.84 | timber 2366.98 | one 2217.72 | place 2186.22 | front 2131.03 | day 2032.43 | \n"
     ]
    }
   ],
   "source": [
    "dir_model = f'/Users/shinbo/PycharmProjects/model_lda/{type_}/CDMM_result_{type_}_800_stop_words.pkl'\n",
    "DMM_CLDA_one = pickle.load(open(dir_model,'rb'))\n",
    "DMM_CLDA_one_lam =  [DMM_CLDA_one.components_[k,:] for k in range(4)]\n",
    "print_top_words(DMM_CLDA_one_lam, list(cv.get_feature_names()), 20)"
   ]
  },
  {
   "cell_type": "code",
   "execution_count": 79,
   "metadata": {},
   "outputs": [
    {
     "data": {
      "text/plain": [
       "array([[1.02500071e-014, 4.43590455e-027, 0.00000000e+000,\n",
       "        1.00000000e+000],\n",
       "       [1.92627026e-021, 3.44802951e-039, 0.00000000e+000,\n",
       "        1.00000000e+000],\n",
       "       [1.16123678e-021, 2.78053284e-014, 0.00000000e+000,\n",
       "        1.00000000e+000],\n",
       "       ...,\n",
       "       [2.12548668e-003, 8.26718961e-006, 1.15063454e-034,\n",
       "        9.97866246e-001],\n",
       "       [3.61038599e-026, 4.86933592e-031, 4.58868502e-128,\n",
       "        1.00000000e+000],\n",
       "       [1.57296650e-002, 1.10489345e-002, 8.10553872e-014,\n",
       "        9.73221400e-001]])"
      ]
     },
     "execution_count": 79,
     "metadata": {},
     "output_type": "execute_result"
    }
   ],
   "source": [
    "DMM_CLDA_one.phi"
   ]
  },
  {
   "cell_type": "code",
   "execution_count": 71,
   "metadata": {},
   "outputs": [
    {
     "data": {
      "text/plain": [
       "[3684.799014891219,\n",
       " 3280.0857743158354,\n",
       " 3270.185542832801,\n",
       " 3265.089038240223,\n",
       " 3262.527151504616,\n",
       " 3260.6849210258583,\n",
       " 3258.344153733219,\n",
       " 3257.02865466266,\n",
       " 3255.4823643249906,\n",
       " 3254.522139582257,\n",
       " 3253.750341085777,\n",
       " 3252.679552895603,\n",
       " 3252.4789124279487,\n",
       " 3251.952740894209,\n",
       " 3251.756577418257,\n",
       " 3251.7380007876727,\n",
       " 3251.7034521971136,\n",
       " 3251.666176316472,\n",
       " 3251.566972995454,\n",
       " 3251.5583401187014,\n",
       " 3251.491579482139,\n",
       " 3251.4914658404764,\n",
       " 3251.4901569101075,\n",
       " 3251.4900091920335,\n",
       " 3251.489985289713]"
      ]
     },
     "execution_count": 71,
     "metadata": {},
     "output_type": "execute_result"
    }
   ],
   "source": [
    "DMM_CLDA_one.perplexity"
   ]
  },
  {
   "cell_type": "markdown",
   "metadata": {},
   "source": [
    "## DMM-CLDA Result (two phase)"
   ]
  },
  {
   "cell_type": "code",
   "execution_count": 62,
   "metadata": {},
   "outputs": [
    {
     "name": "stdout",
     "output_type": "stream",
     "text": [
      "\n",
      "Topic Nr.1:\n",
      "hotel 1406.3 | room 915.84 | price 641.1 | fee 595.02 | pay 577.58 | charge 573.66 | stay 567.08 | value 519.74 | rate 505.27 | money 503.5 | expensive 487.69 | cost 480.34 | cheap 476.82 | good 447.71 | reasonably 431.42 | pricey 428.6 | night 410.57 | cheaper 405.0 | paid 402.98 | beach 377.45 | \n",
      "\n",
      "Topic Nr.2:\n",
      "staff 552.04 | service 544.03 | desk 530.87 | friendly 519.65 | helpful 502.36 | pool 485.21 | help 474.88 | check 470.29 | valet 461.15 | manager 442.95 | offer 420.93 | serve 412.42 | courteous 409.83 | parking 407.82 | welcoming 404.0 | towels 401.01 | offered 401.0 | solve 401.0 | serviced 400.0 | solved 400.0 | \n",
      "\n",
      "Topic Nr.3:\n",
      "water 409.0 | breakfast 404.0 | food 402.0 | drink 402.0 | tea 402.0 | fruit 402.0 | fruits 401.0 | coffee 401.0 | coconut 400.0 | beverages 400.0 | beverage 400.0 | cafes 400.0 | cafe 400.0 | restaurant 400.0 | starbucks 400.0 | restaurants 400.0 | dinner 400.0 | hotel 14.0 | make 9.1 | day 8.1 | \n",
      "\n",
      "Topic Nr.4:\n",
      "room 7663.19 | hotel 7282.51 | beach 5136.26 | stay 4141.05 | great 3854.55 | view 3245.36 | location 3218.83 | staff 3164.04 | waikiki 2829.06 | nice 2340.16 | good 2233.04 | pool 2213.16 | clean 2206.24 | walk 2205.37 | restaurant 2043.18 | close 1787.41 | friendly 1754.39 | night 1607.88 | ocean 1603.41 | bed 1588.02 | \n",
      "\n",
      "Topic Nr.5:\n",
      "hotel 7397.65 | room 6990.75 | stay 6452.18 | staff 3741.47 | great 3430.19 | waikiki 3004.52 | beach 2843.93 | time 2318.99 | get 1977.5 | service 1932.0 | check 1930.49 | go 1910.69 | pool 1900.64 | day 1871.62 | make 1860.89 | view 1775.07 | location 1755.99 | night 1748.91 | place 1641.71 | good 1588.38 | \n"
     ]
    }
   ],
   "source": [
    "dir_model = f'/Users/shinbo/PycharmProjects/model_lda/{type_}/CDMM_result_{type_}_two_phase_400.pkl'\n",
    "DMM_CLDA_two = pickle.load(open(dir_model,'rb'))\n",
    "DMM_CLDA_two_lam =  [DMM_CLDA_two.components_[k,:] for k in range(5)]\n",
    "print_top_words(DMM_CLDA_two_lam, list(cv.get_feature_names()), 20)"
   ]
  },
  {
   "cell_type": "code",
   "execution_count": 72,
   "metadata": {},
   "outputs": [
    {
     "data": {
      "text/plain": [
       "[3764.7524934700205,\n",
       " 3194.8735401492213,\n",
       " 3176.788563995097,\n",
       " 3169.409205448408,\n",
       " 3162.504969102499,\n",
       " 3159.2353768796875,\n",
       " 3157.3213741830455,\n",
       " 3155.3645959676137,\n",
       " 3153.840712337679,\n",
       " 3153.047207225841,\n",
       " 3152.3061607999357,\n",
       " 3152.1242463930794,\n",
       " 3152.0338620502307,\n",
       " 3151.9971536586877,\n",
       " 3151.9156724014433,\n",
       " 3151.8436558489416,\n",
       " 3151.836214064446,\n",
       " 3151.787669497321,\n",
       " 3151.7047701454317,\n",
       " 3151.70463268222,\n",
       " 3151.7046038992244]"
      ]
     },
     "execution_count": 72,
     "metadata": {},
     "output_type": "execute_result"
    }
   ],
   "source": [
    "DMM_CLDA_two.perplexity"
   ]
  },
  {
   "cell_type": "code",
   "execution_count": 52,
   "metadata": {},
   "outputs": [
    {
     "data": {
      "text/plain": [
       "(0.455, 91)"
      ]
     },
     "execution_count": 52,
     "metadata": {},
     "output_type": "execute_result"
    }
   ],
   "source": [
    "import pandas as pd\n",
    "import numpy as np\n",
    "from collections import Counter\n",
    "def top_20_words_for_topics(CLDA_lam,CDMM, aux=None, n=50):\n",
    "    if aux is True:\n",
    "        K = len(CLDA_lam)-1\n",
    "    else:\n",
    "        K = len(CLDA_lam)\n",
    "    words = {}\n",
    "    unique_words = []\n",
    "    for k in range(K):\n",
    "        CLDA_lam_word = pd.DataFrame({'word':cv.get_feature_names(), 'lam':CDMM.components_[k,:] }).sort_values(by='lam', ascending=False)\n",
    "        top_words = CLDA_lam_word.iloc[:n,:]['word'].tolist()\n",
    "        words[k] = CLDA_lam_word.iloc[:n,:].set_index('word').to_dict()['lam']\n",
    "        unique_words += top_words\n",
    "        \n",
    "    c = Counter(unique_words)\n",
    "    words_all_appear = []\n",
    "    for k,v in c.items():\n",
    "        if v == K:\n",
    "            words_all_appear.append(k)\n",
    "    \n",
    "    \n",
    "    \n",
    "    words_degree = []\n",
    "    for k in range(K):\n",
    "        for w,d in words[k].items():\n",
    "            if w in words_all_appear:\n",
    "                words_degree.append(d)\n",
    "        \n",
    "    return words_all_appear, len(set(unique_words)) / (K*n), len(set(unique_words)) , np.mean(words_degree)\n",
    "words_, uq_words_ratio, uq_words_nums, asso_deg = top_20_words_for_topics(DMM_LDA_lam,DMM_LDA, n=50)\n",
    "uq_words_ratio, uq_words_nums"
   ]
  },
  {
   "cell_type": "code",
   "execution_count": 53,
   "metadata": {},
   "outputs": [
    {
     "data": {
      "text/plain": [
       "(0.58, 116)"
      ]
     },
     "execution_count": 53,
     "metadata": {},
     "output_type": "execute_result"
    }
   ],
   "source": [
    "words_, uq_words_ratio, uq_words_nums, asso_deg = top_20_words_for_topics(DMM_CLDA_one_lam,DMM_CLDA_one, n=50)\n",
    "uq_words_ratio, uq_words_nums"
   ]
  },
  {
   "cell_type": "code",
   "execution_count": 45,
   "metadata": {},
   "outputs": [
    {
     "data": {
      "text/plain": [
       "(0.89, 178)"
      ]
     },
     "execution_count": 45,
     "metadata": {},
     "output_type": "execute_result"
    }
   ],
   "source": [
    "words_, uq_words_ratio, uq_words_nums, asso_deg = top_20_words_for_topics(DMM_CLDA_two_lam,DMM_CLDA_two,aux=True, n=50)\n",
    "uq_words_ratio, uq_words_nums"
   ]
  },
  {
   "cell_type": "markdown",
   "metadata": {},
   "source": [
    "## n 변화시켜가며 비율 살펴보기"
   ]
  },
  {
   "cell_type": "code",
   "execution_count": 66,
   "metadata": {},
   "outputs": [],
   "source": [
    "def varying_n(lam,mod):\n",
    "    result = {}\n",
    "    for n in range(10,51,10):\n",
    "        words_, uq_words_ratio, uq_words_nums, asso_deg = top_20_words_for_topics(lam, mod, n=n)\n",
    "        result[n] = (uq_words_ratio, uq_words_nums)\n",
    "    return result"
   ]
  },
  {
   "cell_type": "code",
   "execution_count": 67,
   "metadata": {},
   "outputs": [
    {
     "data": {
      "text/plain": [
       "{10: (0.475, 19),\n",
       " 20: (0.45, 36),\n",
       " 30: (0.425, 51),\n",
       " 40: (0.4625, 74),\n",
       " 50: (0.455, 91)}"
      ]
     },
     "execution_count": 67,
     "metadata": {},
     "output_type": "execute_result"
    }
   ],
   "source": [
    "varying_n(DMM_LDA_lam,DMM_LDA)"
   ]
  },
  {
   "cell_type": "code",
   "execution_count": 68,
   "metadata": {},
   "outputs": [
    {
     "data": {
      "text/plain": [
       "{10: (0.7, 28),\n",
       " 20: (0.6625, 53),\n",
       " 30: (0.575, 69),\n",
       " 40: (0.55625, 89),\n",
       " 50: (0.54, 108)}"
      ]
     },
     "execution_count": 68,
     "metadata": {},
     "output_type": "execute_result"
    }
   ],
   "source": [
    "varying_n(DMM_CLDA_one_lam,DMM_CLDA_one)"
   ]
  },
  {
   "cell_type": "code",
   "execution_count": 69,
   "metadata": {},
   "outputs": [
    {
     "data": {
      "text/plain": [
       "{10: (0.76, 38),\n",
       " 20: (0.73, 73),\n",
       " 30: (0.58, 87),\n",
       " 40: (0.555, 111),\n",
       " 50: (0.512, 128)}"
      ]
     },
     "execution_count": 69,
     "metadata": {},
     "output_type": "execute_result"
    }
   ],
   "source": [
    "varying_n(DMM_CLDA_two_lam,DMM_CLDA_two)"
   ]
  },
  {
   "cell_type": "code",
   "execution_count": null,
   "metadata": {},
   "outputs": [],
   "source": []
  }
 ],
 "metadata": {
  "kernelspec": {
   "display_name": "Python 3",
   "language": "python",
   "name": "python3"
  },
  "language_info": {
   "codemirror_mode": {
    "name": "ipython",
    "version": 3
   },
   "file_extension": ".py",
   "mimetype": "text/x-python",
   "name": "python",
   "nbconvert_exporter": "python",
   "pygments_lexer": "ipython3",
   "version": "3.7.6"
  }
 },
 "nbformat": 4,
 "nbformat_minor": 4
}
