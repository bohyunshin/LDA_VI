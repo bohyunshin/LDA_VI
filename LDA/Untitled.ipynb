{
 "cells": [
  {
   "cell_type": "code",
   "execution_count": 1,
   "metadata": {},
   "outputs": [],
   "source": [
    "from sklearn.feature_extraction.text import CountVectorizer\n",
    "from sklearn.decomposition import LatentDirichletAllocation\n",
    "import pickle\n",
    "import numpy as np\n",
    "\n",
    "cv = CountVectorizer()\n",
    "_dir = \"/Users/shinbo/Desktop/metting/LDA/0. data/20news-bydate/newsgroup_preprocessed.pickle\"\n",
    "\n",
    "\n",
    "class LDA_sklearn:\n",
    "    def __init__(self, path_data, alpha, eta, K):\n",
    "        # loading data\n",
    "        self.data = pickle.load(open(path_data, 'rb'))\n",
    "        np.random.seed(0)\n",
    "        idx = np.random.choice(len(self.data), 1000, replace=False)\n",
    "        self.data = [j for i, j in enumerate(self.data) if i in idx]\n",
    "        self.K = K\n",
    "        self.alpha = alpha\n",
    "        self.eta = eta\n",
    "\n",
    "    def _make_vocab(self):\n",
    "        self.vocab = []\n",
    "        for lst in self.data:\n",
    "            self.vocab += lst\n",
    "        self.vocab = sorted(list(set(self.vocab)))\n",
    "        self.w2idx = {j: i for i, j in enumerate(self.vocab)}\n",
    "        self.idx2w = {val: key for key, val in self.w2idx.items()}\n",
    "        self.doc2idx = [[self.w2idx[word] for word in doc] for doc in self.data]\n",
    "        self.data = [' '.join(doc) for doc in self.data]\n",
    "\n",
    "    def _cv(self):\n",
    "        self._make_vocab()\n",
    "        self.cv = CountVectorizer()\n",
    "        self.df = self.cv.fit_transform(self.data)\n",
    "\n",
    "    def _train(self):\n",
    "        self._make_vocab\n",
    "        self._cv()\n",
    "        lda = LatentDirichletAllocation(n_components=self.K, \n",
    "                                        doc_topic_prior=self.alpha, topic_word_prior=self.eta,\n",
    "                                        learning_method='batch', max_iter=1000)\n",
    "        lda.fit(self.df)\n",
    "        return lda"
   ]
  },
  {
   "cell_type": "code",
   "execution_count": 2,
   "metadata": {},
   "outputs": [],
   "source": [
    "review = pickle.load(open('/Users/shinbo/PycharmProjects/paper/LDA/preprocessed_review.pickle','rb'))"
   ]
  },
  {
   "cell_type": "code",
   "execution_count": 10,
   "metadata": {},
   "outputs": [],
   "source": [
    "np.random.seed(0)\n",
    "idx = np.random.choice(len(review), 1000, replace=False)\n",
    "review = [j for i,j in enumerate(review) if i in idx]"
   ]
  },
  {
   "cell_type": "code",
   "execution_count": 12,
   "metadata": {},
   "outputs": [
    {
     "name": "stdout",
     "output_type": "stream",
     "text": [
      "20 ['fault', 'place', 'location', 'good', 'hotel', 'amenity', 'great', 'laundry', 'gym', 'etc', 'breakfast', 'great', 'eating', 'expensive', 'hawaii', 'fill', 'boot', 'buffet', 'breakfast', 'omelette', 'chef', 'nice', 'manager', 'reception', 'nightgreat', 'limitation', 'drink', 'just', 'unwritten', 'rule', 'tip', 'barman', 'problem', 'free', 'pour', 'generously']\n",
      "\n",
      "\n",
      "25 ['old', 'hotel', 'normal', 'hilton', 'standard', 'hotel', 'staff', 'great', 'coffee', 'shop', 'staff', 'awesome', 'restaurant', 'front', 'staff', 'unengaged', 'expensive', 'helpful', 'bed', 'terrible', 'hvac', 'terrible', 'porch', 'great', 'touch', 'enjoy', 'view', 'sun']\n",
      "\n",
      "\n",
      "28 ['disappointing', 'choice', 'let', 'begin', 'note', 'general', 'disappointment', 'waikiki', 'hawaii', 'family', 'holiday', 'destination', 'weather', 'perfect', 'opinion', 'turn', 'nothing', 'expensive', 'tourist', 'trap', 'service', 'generally', 'poor', 'overall', 'ambiance', 'place', 'tired', 'welcoming']\n",
      "\n",
      "\n",
      "46 ['view', 'waikiki', 'great', 'staff', 'location', 'make', 'great', 'place', 'relax', 'among', 'hustle', 'bustle', 'waikiki', 'walk', 'across', 'street', 'beach', 'swim', 'stroll', 'board', 'walk', 'beautiful', 'grounds', 'location', 'make', 'great', 'place', 'stay', 'downsideday', 'valet', 'parkingday', 'resort', 'fee', 'think', 'fee', 'expensive', 'absorb', 'fee', 'location', 'make', 'pricing']\n",
      "\n",
      "\n",
      "88 ['great', 'family', 'like', 'take', 'easy', 'a', 'large', 'complex', 'pool', 'room', 'restaurant', 'store', 'village', 'really', 'family', 'people', 'appreciate', 'everything', 'doorstep', 'pool', 'beach', 'activity', 'mean', 'anything', 'want', 'without', 'ever', 'get', 'car', 'plenty', 'variety', 'keep', 'everyone', 'happy', 'wish', 'first', 'experience', 'waikiki', 'kid', 'palm', 'flower', 'bird', 'ocean', 'etc', 'everything', 'expect', 'first', 'trip', 'hawaii', 'enjoy', 'hotel', 'visit', 'business', 'trip', 'husband', 'prefer', 'stay', 'previous', 'vacation', 'kid', 'hotel', 'waikiki', 'strip', 'walk', 'across', 'street', 'just', 'touch', 'sand', 'staff', 'helpful', 'friendly', 'although', 'place', 'crowd', 'check', 'check', 'effortless', 'designate', 'area', 'put', 'bag', 'either', 'check', 'check', 'need', 'food', 'extra', 'get', 'expensive', 'hey', 'vacation', 'paradise', 'entrance', 'hotel', 'small', 'roundabout', 'ala', 'moana', 'blvd', 'get', 'fairly', 'busy', 'save', 'time', 'meet', 'someone', 'uber', 'plan', 'meet', 'main', 'street', 'wonderful', 'stay', '']\n",
      "\n",
      "\n",
      "90 ['nice', 'room', 'miss', 'level', 'room', 'clean', 'modern', 'nice', 'bathroom', 'clean', 'decent', 'size', 'shower', 'bath', 'lobby', 'large', 'bar', 'impressive', 'pool', 'look', 'much', 'better', 'photo', 'website', 'roof', 'small', 'also', 'small', 'hot', 'tub', 'pool', 'least', 'impressive', 'feature', 'restaurant', 'expensive', 'like', 'many', 'area', 'food', 'decent', 'amazing', 'large', 'portion', 'stay', 'two', 'week', 'eattime', 'price', 'eat', 'anywhere', 'else', 'view', 'room', 'pretty', 'good', 'starbucks', 'lobby', 'convenient', 'customer', 'service', 'hotel', 'great']\n",
      "\n",
      "\n",
      "135 ['great', 'value', 'expensive', 'resort', 'waikiki', 'certainly', 'one', 'best', 'location', 'room', 'large', 'building', 'quiet', 'clean', 'minute', 'away', 'excellent', 'restaurant', 'park', 'beach', 'excellent']\n",
      "\n",
      "\n",
      "163 ['spend', 'enjoyable', 'week', 'anniversary', 'last', 'year', 'new', 'otani', 'several', 'time', 'year', 'ago', 'glad', 'find', 'remain', 'excellently', 'located', 'reasonablypriced', 'hotel', 'near', 'diamond', 'head', 'away', 'waikiki', 'crowd', 'close', 'enough', 'make', 'easy', 'access', 'need', 'also', 'easy', 'take', 'trip', 'around', 'island', 'avoid', 'congested', 'route', 'get', 'back', 'road', 'kaimuki', 'kahala', 'enjoy', 'day', 'travel', 'various', 'beautiful', 'spot', 'beach', 'hike', 'garden', 'museum', 'scenic', 'spot', 'like', 'pali', 'less', 'crowded', 'part', 'oahu', 'enjoy', 'year', 'always', 'curious', 'see', 'whether', 'change', 'hotel', 'restaurant', 'quite', 'expensive', 'one', 'eat', 'go', 'cafe', 'queen', 'surf', 'traditional', 'hapahaole', 'mixture', 'local', 'tourist', 'orient', 'dish', 'always', 'drive', 'kaimuki', 'kahala', 'beyond', 'wider', 'range', 'local', 'sophisticated', 'fusion', 'specialty', 'menu', 'desire', 'breakfast', 'brunch', 'hau', 'tree', 'new', 'otani', 'relax', 'change', 'much', 'still', 'nice', 'reminder', 'earlier', 'experience', 'honolulu', 'quite', 'decade', 'ago']\n",
      "\n",
      "\n",
      "211 ['need', 'upgrade', 'course', 'location', 'wonderful', 'sure', 'date', 'hotel', 'area', 'two', 'tower', 'one', 'really', 'old', 'worn', 'ok', 'food', 'average', 'best', 'expensive', 'expensive', 'place', 'around', 'area', 'eat', 'go', 'better', 'yet', 'look', 'around', 'less', 'expensive', 'place', 'eat', 'stay', 'norwegian', 'cruise', 'line', 'put', 'advise', 'representative', 'almost', 'never', 'hotel', 'specific', 'time', 'available']\n",
      "\n",
      "\n",
      "284 ['expensive', 'old', 'furniture', 'clean', 'book', 'hotel', 'christmas', 'new', 'year', 'eve', 'expect', 'great', 'time', 'worth', 'spend', 'highest', 'price', 'air', 'line', 'hotel', 'due', 'season', 'unfortunately', 'get', 'room', 'pay', 'find', 'cockroach']\n",
      "\n",
      "\n",
      "299 ['family', 'reunionhilton', 'property', 'amazing', 'sight', 'pleased', 'however', 'stand', 'line', '\\xa0', 'hour', 'checkin', 'arrive', 'grounds', 'pool', 'crowd', 'people', 'restaurant', 'shop', 'expensive', 'surround', 'communityexception', 'abc', 'store', 'tropics', 'grill', 'dailyresort', 'charge', 'thing', 'include', 'many', 'hotel', 'small', 'dot', 'size', 'bug', 'wet', 'bar', 'tub', 'area', 'wait', 'great', 'place', 'love', 'fri', 'firework', 'show', 'view', 'feel', 'secure', 'grounds', 'time', 'day', 'night', 'staff', 'friendly', 'helpful']\n",
      "\n",
      "\n",
      "304 ['impressed', 'staynight', 'twoyr', 'old', 'girl', 'good', 'value', 'expensive', 'city', 'room', 'good', 'size', 'good', 'breakfast', 'certainly', 'better', 'include', 'adequate', 'great', 'happy', 'hour', 'free', 'cocktail', 'watch', 'cocktail', 'super', 'strong', 'really', 'lovely', 'happy', 'hour', 'around', 'pool', 'kid', 'swim', 'enjoy', 'drink', 'house', 'band', 'playtime', 'week', 'fantastic']\n",
      "\n",
      "\n",
      "328 ['friday', 'night', 'fireworks', 'stay', 'overnight', 'flight', 'seattle', 'leave', 'pride', 'america', 'ncl', 'ship', 'week', 'long', 'cruise', 'busy', 'arrivepm', 'friday', 'night', 'check', 'quickly', 'upgrade', 'ocean', 'view', 'room', 'able', 'see', 'weekly', 'friday', 'night', 'firework', 'nice', 'unexpected', 'hotel', 'clean', 'relatively', 'modern', 'say', 'typical', 'hilton', 'negativeorder', 'room', 'service', 'pizza', 'traditional', 'room', 'service', 'tired', 'go', 'horrible', 'expensive', 'avoid', 'cost', 'pleasant', 'stay', 'friendly', 'helpful', 'staff']\n",
      "\n",
      "\n",
      "352 ['nothing', 'special', 'halekulani', 'nice', 'hotel', 'friendly', 'generally', 'capable', 'staff', 'however', 'fivestar', 'property', 'fivestar', 'hotel', 'personal', 'butler', 'st', 'regis', 'multiple', 'pool', 'beach', 'family', 'fun', 'facility', 'four', 'seasons', 'ritzcarlton', 'lot', 'little', 'unexpected', 'perk', 'make', 'guest', 'experience', 'memorable', 'find', 'notice', 'absence', 'fivestar', 'attribute', 'beach', 'department', 'surfboard', 'etc', 'rent', 'instructor', 'hirego', 'next', 'door', 'sheridan', 'hot', 'tub', 'pool', 'old', 'pool', 'staff', 'visibly', 'annoy', 'tip', 'daily', 'practice', 'end', 'stay', 'food', 'expensive', 'even', 'waikiki', 'standard', 'halekulani', 'hold', 'fourstar', 'property', 'price', 'room', 'accordingly', 'overlook', 'deficiency', 'earn', 'five', 'star', 'hotel', 'deliver', 'really', 'special', 'guest', 'experience', 'happen', 'stay']\n",
      "\n",
      "\n",
      "415 ['great', 'value', 'great', 'service', 'hotel', 'street', 'away', 'waikiki', 'beach', 'yet', 'near', 'expensive', 'need', 'day', 'extra', 'friendly', 'staff', 'always', 'polite', 'willing', 'help', 'jordan', 'make', 'feel', 'welcome', 'champagne', 'arrival', 'surprise', 'book', 'restaurant', 'etc']\n",
      "\n",
      "\n",
      "436 ['convient', 'location', 'start', 'waikiki', 'beach', 'stay', 'past', 'still', 'say', 'place', 'want', 'quiet', 'location', 'take', 'break', 'find', 'another', 'place', 'bit', 'quieter', 'however', 'location', 'start', 'waikiki', 'beach', 'nicein', 'beach', 'wide', 'quiet', 'standpoint', 'huge', 'lagoon', 'area', 'rent', 'paddle', 'board', 'water', 'bike', 'equipment', 'lagoon', 'deep', 'someone', 'just', 'start', 'learn', 'one', 'item', 'stay', 'rainbow', 'tower', 'th', 'floor', 'view', 'lagoon', 'marina', 'beyond', 'really', 'nice', 'room', 'bit', 'dated', 'need', 'touch', 'wall', 'scratch', 'peel', 'paint', 'bed', 'saggynight', 'town', 'business', 'partner', 'stay', 'hotel', 'family', 'otherwise', 'probably', 'pick', 'another', 'hotel', 'stay', 'new', 'tower', 'kitchenette', 'understand', 'room', 'expensive', 'super', 'swanky', 'new', 'everything', 'cleaner', 'feel', 'fresh', 'note', 'quite', 'bit', 'construction', 'around', 'tapa', 'tower', 'may', 'want', 'request', 'another', 'tower']\n",
      "\n",
      "\n",
      "461 ['bad', 'business', 'trip', 'april', 'stay', 'hilton', 'hawaiian', 'villagetime', 'good', 'location', 'check', 'little', 'hectic', 'patience', 'always', 'valuable', 'situation', 'also', 'honors', 'member', 'help', 'tapa', 'tower', 'little', 'older', 'one', 'stay', 'room', 'still', 'nice', 'fancy', 'food', 'resort', 'expensive', 'full', 'day', 'work', 'convenient', 'since', 'business', 'trip', 'use', 'many', 'amenity', 'resort', 'book', 'directly', 'hilton', 'honors', 'site', 'get', 'good', 'rate', 'valet', 'park', 'convenient', 'particularly', 'day', 'work', 'valet', 'staff', 'terrific', 'friendly', 'cheery', 'remember', 'head', 'business', 'attire', 'every', 'day', 'busy', 'hotel', 'sell', 'night', 'fireworks', 'friday', 'night', 'fun']\n",
      "\n",
      "\n",
      "540 ['great', 'location', 'seventh', 'trip', 'hawaii', 'right', 'best', 'far', 'close', 'shop', 'bar', 'restaurant', 'usually', 'stay', 'outrigger', 'beach', 'resort', 'great', 'get', 'expensive', 'negative', 'walk', 'near', 'outrigger', 'best', 'part', 'honolulu', 'beach', 'bar', 'area', 'hotel', 'stay', 'koe', 'suite', 'great', 'four', 'room', 'clean', 'everything', 'need', 'large', 'enoughpeople']\n",
      "\n",
      "\n",
      "574 ['great', 'location', 'price', 'hide', 'resort', 'fee', 'nice', 'hotel', 'lot', 'amenity', 'stay', 'one', 'night', 'comfortable', 'less', 'expensive', 'room', 'without', 'view', 'kona', 'tower', 'view', 'important', 'pay', 'extra', 'just', 'sleep', 'go', 'experience', 'honolulu']\n",
      "\n",
      "\n",
      "579 ['great', 'hotel', 'great', 'value', 'money', 'great', 'location', 'stay', 'hotel', 'first', 'three', 'night', 'stay', 'hawaii', 'pick', 'hotel', 'ideally', 'located', 'good', 'value', 'money', 'bear', 'mind', 'hotel', 'expensive', 'waikiki', 'arriving', 'late', 'fly', 'london', 'find', 'staff', 'friendly', 'helpful', 'room', 'spacious', 'well', 'appoint', 'clean', 'bed', 'comfortable', 'continental', 'breakfast', 'good', 'choice', 'always', 'fresh', 'well', 'stock', 'matter', 'time', 'arrive', 'breakfast']\n",
      "\n",
      "\n",
      "644 ['great', 'experienced', 'waikiki', 'visitors', 'wife', 'stay', 'vive', 'quick', 'day', 'trip', 'waikiki', 'impress', 'vive', 'just', 'need', 'much', 'good', 'value', 'oahu', 'know', 'get', 'room', 'basic', 'clean', 'uptodate', 'lobby', 'nice', 'amenity', 'just', 'need', 'beach', 'equipment', 'basic', 'breakfast', 'good', 'internet', 'coollooking', 'lounge', 'much', 'need', 'pool', 'lot', 'expensive', 'shop', 'hotel', 'place', 'money', 'save', 'big', 'hotel', 'rent', 'umbrella', 'beach', 'chair', 'beach', 'every', 'day', 'staff', 'friendly', 'competent', 'concierge', 'help', 'need', 'sort', 'thing', 'couple', 'block', 'beach', 'great', 'value', 'perfect', 'comfortable', 'find', 'food', 'arrange', 'beach', 'day', 'also', 'great', 'job', 'option', 'checkout', 'redeye', 'back', 'home', 'able', 'take', 'advantage', 'departure', 'room', 'let', 'shower', 'repack', 'get', 'plane', 'home', 'check']\n",
      "\n",
      "\n",
      "686 ['amazing', 'expensive', 'watch', 'fee', 'place', 'location', 'forsure', 'thinkconnection', 'fee', 'beach', 'make', 'money', 'ridiculous', 'room', 'amazing', 'hotel', 'great', 'just', 'fan', 'extravalet', 'connection', 'fee', 'include', 'guest', 'already', 'payroom', 'night', 'see', 'fine', 'print', 'will', 'take', 'responsibility', 'just', 'upset', 'even']\n",
      "\n",
      "\n",
      "696 ['cheapest', 'option', 'near', 'honolulu', 'airport', 'still', 'pricey', 'hotel', 'good', 'late', 'flight', 'arrival', 'early', 'flight', 'departure', 'honolulu', 'airportminute', 'driveshuttle', 'rideminute', 'walk', 'hotel', 'airport', 'hotel', 'situate', 'quiet', 'industrial', 'area', 'amenity', 'nearby', 'pretty', 'expensive', 'cheapest', 'option', 'near', 'honolulu', 'airport', 'the', 'cheaper', 'hotel', 'downtown', 'honolulu', 'waikiki']\n",
      "\n",
      "\n",
      "698 ['awesome', 'view', 'nice', 'room', 'family', 'stay', 'week', 'back', 'really', 'like', 'breakfastper', 'person', 'expensive', 'room', 'nice', 'great', 'room', 'great', 'view', 'lagoon', 'waikiki', 'lagoon', 'man', 'make', 'lagoon', 'sand', 'everything', 'kayak', 'paddle', 'board', 'rental', 'likebuck', 'hour', 'kind', 'rip', 'go', 'abc', 'street', 'buy', 'inner', 'tube', 'float', 'super', 'pool', 'good', 'pool', 'crowd', 'expect', 'honestly', 'overall', 'resort', 'amazing', 'outstanding', 'right', 'beach', 'good', 'ice', 'cream', 'place', 'across', 'street', 'definitely', 'recommend', 'place', 'travel', 'honolulu']\n",
      "\n",
      "\n",
      "721 ['review', 'rainbow', 'tower', 'junior', 'suite', 'ocean', 'view', 'want', 'say', 'ahead', 'time', 'review', 'junior', 'suite', 'rainbow', 'tower', 'ocean', 'view', 'staynight', 'later', 'come', 'back', 'tapa', 'tower', 'will', 'post', 'separate', 'review', 'tower', 'will', 'getstar', 'stay', 'rainbow', 'tower', 'suite', 'amazing', 'room', 'hugelarge', 'balcony', 'view', 'breathtaking', 'bathroom', 'big', 'toilet', 'separate', 'bathroom', 'door', 'shower', 'separate', 'bathtub', 'love', 'room', 'love', 'sit', 'balcony', 'drink', 'watch', 'everything', 'outside', 'relaxing', 'feel', 'like', 'really', 'hear', 'much', 'neighbor', 'hallway', 'compare', 'hotel', 'hotel', 'huge', 'complex', 'lot', 'shopping', 'nice', 'restaurant', 'although', 'expensive', 'kid', 'love', 'pool', 'slide', 'love', 'close', 'proximity', 'beach', 'rainbow', 'tower', 'all', 'amazing', 'vacation', 'love', 'go', 'back', 'soon', 'thing', 'work', 'well', 'elevator', 'probably', 'suppose', 'smart', 'elevator', 'system', 'instead', 'call', 'elevator', 'push', 'floor', 'inside', 'elevator', 'enter', 'floor', 'number', 'call', 'elevator', 'push', 'anything', 'get', 'inside', 'anymore', 'maybe', 'work', 'system', 'ask', 'many', 'people', 'party', 'since', 'busy', 'time', 'madhousepeople', 'push', 'button', 'get', 'assign', 'floorpeople', 'try', 'enter', 'elevator', 'almost', 'never', 'just', 'one', 'person', 'party', 'many', 'people', 'get', 'elevator', 'elevator', 'now', 'stop', 'floor', 'people', 'able', 'get', 'even', 'know', 'will', 'get', 'elevator', 'wait', 'one', 'come', 'get', 'leave', 'get', 'asssign', 'another', 'elevator', 'wrong', 'side', 'elevator', 'bank', 'might', 'full', 'even', 'try', 'use', 'elevator', 'firework', 'crazy', 'feel', 'bad', 'lower', 'floor', 'time', 'elevator', 'full', 'stop', 'low', 'floor', 'people', 'get', 'since', 'stair', 'alarm', 'even', 'option', 'hope', 'fix', 'somehow', 'really', 'annoying', 'thing', 'whole', 'trip']\n",
      "\n",
      "\n",
      "744 ['fabulous', 'stay', 'hyatt', 'place', 'waikiki', 'annual', 'island', 'getaway', 'pleasant', 'experience', 'begin', 'end', 'staff', 'member', 'check', 'staff', 'valet', 'staff', 'housekeeping', 'staff', 'kind', 'friendly', 'helpful', 'give', 'upgrade', 'room', 'charge', 'great', 'also', 'inform', 'less', 'expensive', 'parking', 'option', 'banyan', 'parking', 'structureit', 'clean', 'oh', 'spacious', 'close', 'waikiki', 'beach', 'hustle', 'bustle', 'kalakaua', 'strip']\n",
      "\n",
      "\n",
      "773 ['great', 'property', 'expensive', 'staynightnight', 'embassy', 'suites', 'waikiki', 'want', 'experience', 'property', 'classic', 'hawaii', 'beach', 'view', 'want', 'spend', 'time', 'oahu', 'ocean', 'front', 'room', 'rainbow', 'tower', 'view', 'beach', 'diamond', 'head', 'really', 'magnificent', 'never', 'tire', 'view', 'especially', 'room', 'th', 'floor', 'high', 'enough', 'get', 'view', 'low', 'enough', 'watch', 'beach', 'expensive', 'lot', 'people', 'great', 'atmosphere', 'check', 'ok', 'quicker', 'hilton', 'honors', 'member', 'self', 'check', 'room', 'spacious', 'clean', 'worry', 'spend', 'time', 'beach', 'right', 'front', 'hotel', 'less', 'rocky', 'near', 'lagoon', 'lagoon', 'refreshing', 'pool', 'really', 'like', 'pool', 'tapa', 'tower', 'smaller', 'crowd', 'towel', 'supply', 'food', 'wise', 'expensive', 'much', 'many', 'hotel', 'restaurant', 'waikiki', 'warn', 'line', 'starbucks', 'long', 'morning', 'make', 'good', 'use', 'abc', 'store', 'well', 'stock', 'lappert', 'ice', 'cream', 'shop', 'really', 'good', 'long', 'line', 'worth', 'wait', 'evening', 'property', 'really', 'nice', 'atmosphere', 'tiki', 'torch', 'nice', 'able', 'swim', 'ocean', 'night', 'beach', 'light', 'make', 'sure', 'friday', 'night', 'firework', 'really', 'good', 'show', 'go', 'long', 'overall', 'glad', 'stay', 'special', 'trip', 'know', 'spend', 'trip']\n",
      "\n",
      "\n",
      "810 ['great', 'location', 'great', 'staff', 'attitude', 'across', 'property', 'rate', 'higher', 'relatively', 'expensive', 'thus', 'expected', 'great', 'side', 'place', 'look', 'nice', 'beach', 'away', 'hustle', 'bustle', 'hawaiian', 'resort', 'crowded', 'try', 'chic', 'just', 'lay', 'back', 'hawaii', 'touch', 'understate', 'class', 'staff', 'pleasant', 'helpful', 'good', 'side', 'need', 'better', 'pool', 'situation', 'small', 'need', 'decent', 'adult', 'pool', 'big', 'drawback', 'ice', 'icemaker', 'guest', 'access', 'need', 'ice', 'injury', 'reason', 'difficult', 'time', 'get', 'never', 'assume', 'first', 'class', 'resort', 'ask', 'staff', 'ok', 'take', 'long', 'obviously', 'priority', 'also', 'exception', 'hoku', 'fb', 'need', 'upgrade', 'throughout', 'especially', 'plummeria', 'room', 'service']\n",
      "\n",
      "\n",
      "884 ['great', 'facility', 'staff', 'a', 'wonderful', 'experience', 'least', 'expensive', 'option', 'worth', 'every', 'penny', 'travel', 'party', 'six', 'include', 'one', 'infant', 'two', 'bedroom', 'suite', 'perfect', 'need']\n",
      "\n",
      "\n",
      "958 ['nice', 'hotel', 'great', 'location', 'reasonably', 'price', 'hotel', 'breakfast', 'include', 'similar', 'honolulu', 'hotel', 'tax', 'fee', 'parking', 'add', 'expensive', 'pedestrian', 'bridge', 'ala', 'moana', 'mall', 'convenient', 'ala', 'moana', 'park', 'short', 'walk', 'away', 'great', 'signature', 'steakhouse', 'view', 'th', 'floor', 'excellent', 'staff', 'ambiance', 'starbucks', 'lobby', 'wife', 'love']\n",
      "\n",
      "\n",
      "994 ['expensive', 'property', 'recieve', 'housekeeping', 'service', 'room', 'tapa', 'tower', 'beautiful', 'room', 'restaurant', 'service', 'property', 'high', 'price']\n",
      "\n",
      "\n"
     ]
    }
   ],
   "source": [
    "for i,lst in enumerate(review):\n",
    "    if 'expensive' in lst:\n",
    "        print(i, lst)\n",
    "        print('\\n')"
   ]
  },
  {
   "cell_type": "code",
   "execution_count": 6,
   "metadata": {},
   "outputs": [
    {
     "data": {
      "text/plain": [
       "['family',\n",
       " 'christmas',\n",
       " 'holiday',\n",
       " 'great',\n",
       " 'christmas',\n",
       " 'holiday',\n",
       " 'husband',\n",
       " 'two',\n",
       " 'boy',\n",
       " 'month',\n",
       " 'hotel',\n",
       " 'room',\n",
       " 'great',\n",
       " 'family',\n",
       " 'friendly',\n",
       " 'hotel',\n",
       " 'surrounded',\n",
       " 'fantastic',\n",
       " 'love',\n",
       " 'play',\n",
       " 'great',\n",
       " 'lawn',\n",
       " 'easy',\n",
       " 'access',\n",
       " 'beach',\n",
       " 'tip',\n",
       " 'bring',\n",
       " 'pilliow',\n",
       " 'hotel',\n",
       " 'one',\n",
       " 'really',\n",
       " 'bad']"
      ]
     },
     "execution_count": 6,
     "metadata": {},
     "output_type": "execute_result"
    }
   ],
   "source": [
    "review[0]"
   ]
  },
  {
   "cell_type": "code",
   "execution_count": null,
   "metadata": {},
   "outputs": [],
   "source": []
  },
  {
   "cell_type": "code",
   "execution_count": 23,
   "metadata": {},
   "outputs": [],
   "source": [
    "lda = LDA_sklearn(_dir, 5, 0.1, 10)\n",
    "result = lda._train() "
   ]
  },
  {
   "cell_type": "code",
   "execution_count": 24,
   "metadata": {},
   "outputs": [
    {
     "name": "stdout",
     "output_type": "stream",
     "text": [
      "\n",
      "Topic Nr.1:\n",
      "right 204.85 | game 150.91 | people 144.01 | writes 143.6 | would 141.26 | well 137.47 | year 122.36 | article 113.84 | team 105.81 | government 103.5 | \n",
      "\n",
      "Topic Nr.2:\n",
      "say 170.88 | said 165.65 | one 134.63 | go 113.25 | people 112.32 | going 96.85 | day 91.28 | dont 89.25 | time 86.39 | well 81.59 | \n",
      "\n",
      "Topic Nr.3:\n",
      "god 267.02 | think 180.35 | believe 156.47 | one 156.11 | would 147.44 | say 118.72 | people 113.65 | thing 104.36 | dont 103.54 | like 102.93 | \n",
      "\n",
      "Topic Nr.4:\n",
      "key 179.45 | system 159.33 | also 107.91 | keyboard 97.06 | one 83.19 | price 82.14 | pc 75.4 | access 74.23 | de 73.55 | use 68.74 | \n",
      "\n",
      "Topic Nr.5:\n",
      "writes 163.52 | article 141.53 | one 126.43 | israel 98.1 | subject 96.38 | israeli 90.1 | would 89.81 | like 88.32 | number 83.49 | line 76.8 | \n",
      "\n",
      "Topic Nr.6:\n",
      "or 302.1 | do 121.04 | mr 59.5 | font 57.1 | subject 52.99 | help 52.64 | um 44.1 | organization 38.8 | world 37.09 | looking 36.37 | \n",
      "\n",
      "Topic Nr.7:\n",
      "line 407.15 | organization 293.7 | subject 284.25 | nntppostinghost 231.67 | drive 174.1 | computer 127.14 | problem 126.67 | card 125.1 | university 117.31 | good 114.3 | \n",
      "\n",
      "Topic Nr.8:\n",
      "subject 345.66 | line 339.4 | organization 326.72 | university 227.72 | nntppostinghost 129.99 | writes 120.05 | would 75.49 | anyone 74.78 | article 70.45 | unit 69.87 | \n",
      "\n",
      "Topic Nr.9:\n",
      "would 188.81 | ca 122.95 | article 122.37 | one 119.88 | car 115.32 | dont 110.51 | like 106.83 | gun 101.98 | time 100.82 | people 88.69 | \n",
      "\n",
      "Topic Nr.10:\n",
      "window 302.81 | file 291.98 | image 216.1 | jpeg 208.1 | program 173.59 | get 168.17 | version 165.11 | use 129.45 | available 128.65 | information 126.61 | \n"
     ]
    }
   ],
   "source": [
    "lda_lam = [result.components_[i,:] for i in range(10)]\n",
    "\n",
    "def print_top_words(lam, feature_names, n_top_words):\n",
    "    for topic_id, topic in enumerate(lam):\n",
    "        print('\\nTopic Nr.%d:' % int(topic_id + 1))\n",
    "        print(''.join([feature_names[i] + ' ' + str(round(topic[i], 2))\n",
    "                       + ' | ' for i in topic.argsort()[:-n_top_words - 1:-1]]))\n",
    "print_top_words(lda_lam, list(lda.cv.get_feature_names()), 10)"
   ]
  },
  {
   "cell_type": "code",
   "execution_count": 4,
   "metadata": {},
   "outputs": [],
   "source": [
    "model = pickle.load(open('lda_model.pickle','rb'))"
   ]
  },
  {
   "cell_type": "code",
   "execution_count": 7,
   "metadata": {},
   "outputs": [
    {
     "name": "stdout",
     "output_type": "stream",
     "text": [
      "\n",
      "Topic Nr.1:\n",
      "line 867.85 | subject 739.78 | organization 700.42 | university 409.2 | nntppostinghost 360.69 | distribution 233.85 | anyone 216.1 | please 200.1 | computer 187.51 | new 182.84 | \n",
      "\n",
      "Topic Nr.2:\n",
      "would 634.36 | like 449.24 | good 230.19 | think 227.23 | get 218.78 | people 187.47 | im 174.78 | much 160.13 | thing 143.79 | make 132.07 | \n",
      "\n",
      "Topic Nr.3:\n",
      "question 253.1 | may 211.09 | get 170.17 | group 162.1 | one 161.26 | also 145.68 | find 134.79 | article 127.63 | course 114.1 | answer 107.1 | \n",
      "\n",
      "Topic Nr.4:\n",
      "well 212.85 | year 196.81 | right 161.84 | game 159.1 | point 143.42 | team 137.1 | second 123.1 | state 112.31 | last 100.14 | every 100.1 | \n",
      "\n",
      "Topic Nr.5:\n",
      "writes 504.76 | article 450.11 | organization 311.78 | line 292.35 | subject 273.38 | replyto 122.12 | world 110.81 | david 104.93 | space 95.32 | research 93.1 | \n",
      "\n",
      "Topic Nr.6:\n",
      "window 343.1 | file 308.1 | use 258.33 | system 224.77 | image 216.1 | program 213.1 | jpeg 208.1 | version 190.1 | information 180.1 | available 164.1 | \n",
      "\n",
      "Topic Nr.7:\n",
      "dont 344.01 | one 305.96 | go 298.1 | say 279.76 | said 224.1 | know 207.5 | still 184.1 | car 151.1 | take 143.4 | well 130.35 | \n",
      "\n",
      "Topic Nr.8:\n",
      "people 167.89 | key 166.25 | could 149.61 | government 134.1 | make 126.65 | dont 117.57 | one 115.9 | part 109.91 | give 108.32 | used 108.21 | \n",
      "\n",
      "Topic Nr.9:\n",
      "or 302.1 | drive 174.1 | problem 163.93 | do 143.1 | card 125.1 | hard 104.1 | bit 95.49 | disk 95.1 | scsi 82.1 | mr 80.1 | \n",
      "\n",
      "Topic Nr.10:\n",
      "god 272.1 | believe 167.1 | one 144.52 | ca 139.1 | science 133.1 | think 130.97 | gun 111.1 | life 110.1 | person 95.1 | word 89.35 | \n"
     ]
    }
   ],
   "source": [
    "lda_lam = [model.lam[:,k] for k in range(10)]\n",
    "def print_top_words(lam, feature_names, n_top_words):\n",
    "    for topic_id, topic in enumerate(lam):\n",
    "        print('\\nTopic Nr.%d:' % int(topic_id + 1))\n",
    "        print(''.join([feature_names[i] + ' ' + str(round(topic[i], 2))\n",
    "                       + ' | ' for i in topic.argsort()[:-n_top_words - 1:-1]]))\n",
    "print_top_words(lda_lam, list(model.cv.get_feature_names()), 10)"
   ]
  },
  {
   "cell_type": "code",
   "execution_count": 8,
   "metadata": {},
   "outputs": [
    {
     "name": "stdout",
     "output_type": "stream",
     "text": [
      "[473.5030612993274, 165.96644608870963, 164.58448665312082, 164.31820617487926, 164.2323556293911, 164.19539253285754, 164.17206435577862, 164.15392484743478, 164.14119950109372, 164.12841210838496, 164.12143814942982, 164.1196620103764, 164.11414938972212, 164.11270673994284, 164.1126734963347, 164.11266403426097]\n",
      "[-877194.2326908677, -727908.0509850737, -726717.375740957, -726486.8041059296, -726412.3866635272, -726380.334127943, -726360.1013935744, -726344.3668504879, -726333.3276133211, -726322.2336887941, -726316.1829453944, -726314.6418912802, -726309.858799906, -726308.6070410116, -726308.5781960557, -726308.569985962]\n"
     ]
    }
   ],
   "source": [
    "print(model.perplexity)\n",
    "print(model._ELBO_history)"
   ]
  },
  {
   "cell_type": "code",
   "execution_count": null,
   "metadata": {},
   "outputs": [],
   "source": []
  }
 ],
 "metadata": {
  "kernelspec": {
   "display_name": "Python 3",
   "language": "python",
   "name": "python3"
  },
  "language_info": {
   "codemirror_mode": {
    "name": "ipython",
    "version": 3
   },
   "file_extension": ".py",
   "mimetype": "text/x-python",
   "name": "python",
   "nbconvert_exporter": "python",
   "pygments_lexer": "ipython3",
   "version": "3.7.6"
  }
 },
 "nbformat": 4,
 "nbformat_minor": 4
}
