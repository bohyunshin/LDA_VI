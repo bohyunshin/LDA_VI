{
 "cells": [
  {
   "cell_type": "code",
   "execution_count": 2,
   "metadata": {},
   "outputs": [
    {
     "name": "stdout",
     "output_type": "stream",
     "text": [
      "Python Version :  3.7.6 (default, Jan  8 2020, 13:42:34) \n",
      "[Clang 4.0.1 (tags/RELEASE_401/final)]\n",
      "Joblib Version :  0.14.1\n"
     ]
    }
   ],
   "source": [
    "import joblib\n",
    "\n",
    "import sys\n",
    "import time\n",
    "\n",
    "print(\"Python Version : \", sys.version)\n",
    "print(\"Joblib Version : \", joblib.__version__)\n",
    "\n",
    "def slow_power(x, p):\n",
    "    time.sleep(1)\n",
    "    return x ** p"
   ]
  },
  {
   "cell_type": "code",
   "execution_count": 3,
   "metadata": {},
   "outputs": [
    {
     "name": "stdout",
     "output_type": "stream",
     "text": [
      "CPU times: user 836 µs, sys: 952 µs, total: 1.79 ms\n",
      "Wall time: 10 s\n"
     ]
    },
    {
     "data": {
      "text/plain": [
       "[0, 1, 32, 243, 1024, 3125, 7776, 16807, 32768, 59049]"
      ]
     },
     "execution_count": 3,
     "metadata": {},
     "output_type": "execute_result"
    }
   ],
   "source": [
    "%time [slow_power(i, 5) for i in range(10)]"
   ]
  },
  {
   "cell_type": "code",
   "execution_count": 7,
   "metadata": {},
   "outputs": [
    {
     "name": "stdout",
     "output_type": "stream",
     "text": [
      "CPU times: user 8.94 ms, sys: 2.08 ms, total: 11 ms\n",
      "Wall time: 2.04 s\n"
     ]
    },
    {
     "data": {
      "text/plain": [
       "[0, 1, 32, 243, 1024, 3125, 7776, 16807, 32768, 59049]"
      ]
     },
     "execution_count": 7,
     "metadata": {},
     "output_type": "execute_result"
    }
   ],
   "source": [
    "from joblib import Parallel, delayed, effective_n_jobs\n",
    "\n",
    "number_of_cpu = joblib.cpu_count()\n",
    "\n",
    "delayed_funcs = [delayed(slow_power)(i, 5) for i in range(10)]\n",
    "parallel_pool = Parallel(n_jobs=number_of_cpu)\n",
    "\n",
    "%time parallel_pool(delayed_funcs)"
   ]
  },
  {
   "cell_type": "code",
   "execution_count": 8,
   "metadata": {},
   "outputs": [
    {
     "name": "stdout",
     "output_type": "stream",
     "text": [
      "CPU times: user 2 µs, sys: 0 ns, total: 2 µs\n",
      "Wall time: 3.81 µs\n"
     ]
    }
   ],
   "source": [
    "%time \n",
    "a = Parallel(n_jobs=-1)([delayed(slow_power)(i, 5) for i in range(10)])"
   ]
  },
  {
   "cell_type": "code",
   "execution_count": 10,
   "metadata": {},
   "outputs": [
    {
     "name": "stdout",
     "output_type": "stream",
     "text": [
      "CPU times: user 75 µs, sys: 1e+03 ns, total: 76 µs\n",
      "Wall time: 78.9 µs\n"
     ]
    },
    {
     "data": {
      "text/plain": [
       "[(<function __main__.slow_add(a, b)>, (0, 1), {}),\n",
       " (<function __main__.slow_subtract(a, b)>, (1, 1), {}),\n",
       " (<function __main__.slow_add(a, b)>, (2, 1), {}),\n",
       " (<function __main__.slow_subtract(a, b)>, (3, 1), {}),\n",
       " (<function __main__.slow_add(a, b)>, (4, 1), {}),\n",
       " (<function __main__.slow_subtract(a, b)>, (5, 1), {}),\n",
       " (<function __main__.slow_add(a, b)>, (6, 1), {}),\n",
       " (<function __main__.slow_subtract(a, b)>, (7, 1), {}),\n",
       " (<function __main__.slow_add(a, b)>, (8, 1), {}),\n",
       " (<function __main__.slow_subtract(a, b)>, (9, 1), {})]"
      ]
     },
     "execution_count": 10,
     "metadata": {},
     "output_type": "execute_result"
    }
   ],
   "source": [
    "%%time\n",
    "\n",
    "def slow_add(a,b):\n",
    "    time.sleep(1)\n",
    "    return a+b\n",
    "def slow_subtract(a,b):\n",
    "    time.sleep(1)\n",
    "    return a-b\n",
    "\n",
    "delayed_funcs = []\n",
    "for i in range(10):\n",
    "    if i%2==0:\n",
    "        delayed_funcs.append(delayed(slow_add)(i,1))\n",
    "    else:\n",
    "        delayed_funcs.append(delayed(slow_subtract)(i,1))\n",
    "\n",
    "delayed_funcs"
   ]
  },
  {
   "cell_type": "code",
   "execution_count": 11,
   "metadata": {},
   "outputs": [
    {
     "name": "stderr",
     "output_type": "stream",
     "text": [
      "[Parallel(n_jobs=-1)]: Using backend LokyBackend with 6 concurrent workers.\n",
      "[Parallel(n_jobs=-1)]: Done   2 out of  10 | elapsed:    1.0s remaining:    4.1s\n",
      "[Parallel(n_jobs=-1)]: Done   5 out of  10 | elapsed:    1.1s remaining:    1.1s\n"
     ]
    },
    {
     "name": "stdout",
     "output_type": "stream",
     "text": [
      "CPU times: user 11 ms, sys: 2.94 ms, total: 13.9 ms\n",
      "Wall time: 2.05 s\n"
     ]
    },
    {
     "name": "stderr",
     "output_type": "stream",
     "text": [
      "[Parallel(n_jobs=-1)]: Done   8 out of  10 | elapsed:    2.0s remaining:    0.5s\n",
      "[Parallel(n_jobs=-1)]: Done  10 out of  10 | elapsed:    2.0s finished\n"
     ]
    },
    {
     "data": {
      "text/plain": [
       "[1, 0, 3, 2, 5, 4, 7, 6, 9, 8]"
      ]
     },
     "execution_count": 11,
     "metadata": {},
     "output_type": "execute_result"
    }
   ],
   "source": [
    "%time Parallel(n_jobs=-1, verbose=5)(delayed_funcs)"
   ]
  },
  {
   "cell_type": "code",
   "execution_count": 12,
   "metadata": {},
   "outputs": [],
   "source": [
    "class test:\n",
    "    def __init__(self):\n",
    "        pass\n",
    "    \n",
    "    def _update_doc(self,d):\n",
    "        print(f'This is {d}')\n",
    "        print(f'This is {d+1}')\n",
    "        return 'hi'\n",
    "        \n",
    "    def train(self, parallel=None):\n",
    "        if parallel is None:\n",
    "            parallel = Parallel(n_jobs=3)\n",
    "        result = parallel(\n",
    "            delayed(self._update_doc)(d)\n",
    "            for d in range(10)\n",
    "        )\n",
    "        return result\n",
    "        \n",
    "a = test()\n",
    "result = a.train()"
   ]
  },
  {
   "cell_type": "code",
   "execution_count": 13,
   "metadata": {},
   "outputs": [
    {
     "data": {
      "text/plain": [
       "['hi', 'hi', 'hi', 'hi', 'hi', 'hi', 'hi', 'hi', 'hi', 'hi']"
      ]
     },
     "execution_count": 13,
     "metadata": {},
     "output_type": "execute_result"
    }
   ],
   "source": [
    "result"
   ]
  },
  {
   "cell_type": "code",
   "execution_count": 15,
   "metadata": {},
   "outputs": [
    {
     "data": {
      "text/plain": [
       "6"
      ]
     },
     "execution_count": 15,
     "metadata": {},
     "output_type": "execute_result"
    }
   ],
   "source": [
    "effective_n_jobs(-1)"
   ]
  },
  {
   "cell_type": "code",
   "execution_count": 16,
   "metadata": {},
   "outputs": [
    {
     "ename": "NameError",
     "evalue": "name 'os' is not defined",
     "output_type": "error",
     "traceback": [
      "\u001b[0;31m---------------------------------------------------------------------------\u001b[0m",
      "\u001b[0;31mNameError\u001b[0m                                 Traceback (most recent call last)",
      "\u001b[0;32m<ipython-input-16-7af18389c531>\u001b[0m in \u001b[0;36m<module>\u001b[0;34m\u001b[0m\n\u001b[0;32m----> 1\u001b[0;31m \u001b[0mos\u001b[0m\u001b[0;34m.\u001b[0m\u001b[0mlistdir\u001b[0m\u001b[0;34m(\u001b[0m\u001b[0;34m'/home/jovyan/WIDE_HOME/model'\u001b[0m\u001b[0;34m)\u001b[0m\u001b[0;34m\u001b[0m\u001b[0;34m\u001b[0m\u001b[0m\n\u001b[0m",
      "\u001b[0;31mNameError\u001b[0m: name 'os' is not defined"
     ]
    }
   ],
   "source": []
  },
  {
   "cell_type": "code",
   "execution_count": null,
   "metadata": {},
   "outputs": [],
   "source": []
  }
 ],
 "metadata": {
  "kernelspec": {
   "display_name": "Python 3",
   "language": "python",
   "name": "python3"
  },
  "language_info": {
   "codemirror_mode": {
    "name": "ipython",
    "version": 3
   },
   "file_extension": ".py",
   "mimetype": "text/x-python",
   "name": "python",
   "nbconvert_exporter": "python",
   "pygments_lexer": "ipython3",
   "version": "3.7.6"
  }
 },
 "nbformat": 4,
 "nbformat_minor": 4
}
