{
 "cells": [
  {
   "cell_type": "markdown",
   "metadata": {},
   "source": [
    "## DMM Result"
   ]
  },
  {
   "cell_type": "code",
   "execution_count": 1,
   "metadata": {},
   "outputs": [
    {
     "name": "stdout",
     "output_type": "stream",
     "text": [
      "\n",
      "Topic Nr.1:\n",
      "hotel 3595.78 | stay 2803.74 | room 2764.67 | staff 1623.16 | great 1596.15 | service 1074.03 | waikiki 1015.44 | location 961.98 | beach 859.0 | place 831.88 | \n",
      "\n",
      "Topic Nr.2:\n",
      "hotel 4903.6 | room 4674.14 | beach 3114.4 | stay 3002.51 | waikiki 2391.2 | view 2289.3 | great 2059.07 | nice 1425.27 | pool 1413.63 | location 1318.82 | \n",
      "\n",
      "Topic Nr.3:\n",
      "hotel 7295.34 | great 5695.8 | room 4682.51 | stay 4162.87 | location 3840.33 | beach 3514.46 | staff 3322.45 | good 2555.8 | waikiki 2407.07 | nice 2009.29 | \n",
      "\n",
      "Topic Nr.4:\n",
      "room 2199.08 | stay 2100.28 | hotel 1505.68 | staff 1337.29 | great 1107.37 | view 1024.0 | beach 826.53 | time 807.45 | waikiki 806.7 | location 740.27 | \n"
     ]
    }
   ],
   "source": [
    "import pickle\n",
    "from sklearn.feature_extraction.text import CountVectorizer\n",
    "DMM = pickle.load(open('../../model_lda/DMM_result.pkl','rb'))\n",
    "\n",
    "data = pickle.load(open('preprocessed_review.pickle', 'rb'))\n",
    "data_join = [' '.join(doc) for doc in data]\n",
    "cv = CountVectorizer()\n",
    "X = cv.fit_transform(data_join).toarray()\n",
    "\n",
    "DMM_lam = [DMM.components_[k,:] for k in range(4)]\n",
    "def print_top_words(lam, feature_names, n_top_words):\n",
    "    for topic_id, topic in enumerate(lam):\n",
    "        print('\\nTopic Nr.%d:' % int(topic_id + 1))\n",
    "        print(''.join([feature_names[i] + ' ' + str(round(topic[i], 2))\n",
    "                       + ' | ' for i in topic.argsort()[:-n_top_words - 1:-1]]))\n",
    "print_top_words(DMM_lam, list(cv.get_feature_names()), 10)"
   ]
  },
  {
   "cell_type": "code",
   "execution_count": 10,
   "metadata": {},
   "outputs": [
    {
     "data": {
      "text/plain": [
       "[4071.136066896798,\n",
       " 3537.59900784195,\n",
       " 3533.560998627959,\n",
       " 3532.17023724283,\n",
       " 3531.920686136324,\n",
       " 3531.6917306828714,\n",
       " 3531.644966531001,\n",
       " 3531.5823865185935,\n",
       " 3531.4471804753357,\n",
       " 3531.449035749878,\n",
       " 3531.407825267577,\n",
       " 3531.4084500608674,\n",
       " 3531.408564245933,\n",
       " 3531.408585340824]"
      ]
     },
     "execution_count": 10,
     "metadata": {},
     "output_type": "execute_result"
    }
   ],
   "source": [
    "DMM.perplexity"
   ]
  },
  {
   "cell_type": "markdown",
   "metadata": {},
   "source": [
    "## CLDA Result"
   ]
  },
  {
   "cell_type": "code",
   "execution_count": 2,
   "metadata": {},
   "outputs": [
    {
     "name": "stdout",
     "output_type": "stream",
     "text": [
      "\n",
      "Topic Nr.1:\n",
      "get 3589.1 | price 2652.0 | go 2405.05 | time 2400.06 | day 2306.27 | resort 2213.1 | value 1917.0 | pay 1873.0 | fee 1791.0 | just 1709.18 | \n",
      "\n",
      "Topic Nr.2:\n",
      "staff 8591.0 | pool 4981.0 | service 4875.0 | friendly 4705.0 | helpful 3495.0 | check 3270.0 | stay 3206.75 | desk 2724.0 | make 2513.1 | parking 2103.0 | \n",
      "\n",
      "Topic Nr.3:\n",
      "great 10297.07 | beach 8314.1 | location 6861.1 | waikiki 6593.93 | restaurant 4208.0 | breakfast 3596.0 | walk 3320.1 | good 2879.16 | food 2667.0 | place 2579.82 | \n",
      "\n",
      "Topic Nr.4:\n",
      "hotel 17017.05 | room 15320.0 | stay 9862.25 | view 5256.1 | nice 4207.09 | clean 3346.04 | close 3118.0 | front 3069.0 | ocean 2423.1 | bed 2215.1 | \n"
     ]
    }
   ],
   "source": [
    "CLDA = pickle.load(open('../../model_lda/CLDA_result.pkl','rb'))\n",
    "CLDA_lam =  [CLDA.components_[k,:] for k in range(4)]\n",
    "print_top_words(CLDA_lam, list(cv.get_feature_names()), 10)"
   ]
  },
  {
   "cell_type": "markdown",
   "metadata": {},
   "source": [
    "## CDMM Result"
   ]
  },
  {
   "cell_type": "code",
   "execution_count": 8,
   "metadata": {},
   "outputs": [
    {
     "name": "stdout",
     "output_type": "stream",
     "text": [
      "\n",
      "Topic Nr.1:\n",
      "hotel 1321.47 | pay 1191.55 | price 1188.85 | fee 1167.34 | room 1163.75 | charge 1163.58 | value 1101.36 | rate 1097.24 | money 1092.0 | cost 1077.69 | expensive 1061.99 | cheap 1032.32 | cheaper 1026.83 | reasonably 1014.74 | pricey 1010.34 | fees 1001.0 | paid 1001.0 | priced 1000.98 | stay 817.48 | great 378.63 | \n",
      "\n",
      "Topic Nr.2:\n",
      "hotel 8814.65 | room 7302.46 | stay 6273.04 | staff 4934.48 | great 4729.18 | beach 4581.76 | waikiki 3944.91 | service 3477.87 | view 3319.92 | pool 3156.33 | friendly 2916.09 | location 2867.34 | helpful 2370.82 | check 2325.41 | nice 2298.6 | clean 1978.27 | time 1939.65 | get 1895.03 | desk 1889.24 | good 1882.03 | \n",
      "\n",
      "Topic Nr.3:\n",
      "hotel 5630.0 | great 4520.16 | room 3568.88 | stay 3117.61 | location 3029.76 | beach 2805.55 | restaurant 2492.46 | staff 2362.45 | good 2211.18 | breakfast 2017.49 | waikiki 1822.11 | food 1715.75 | nice 1599.1 | coffee 1473.56 | water 1456.43 | walk 1387.83 | clean 1315.62 | friendly 1297.91 | pool 1239.07 | drink 1238.17 | \n",
      "\n",
      "Topic Nr.4:\n",
      "room 3284.91 | stay 2860.87 | hotel 2533.89 | front 1433.93 | close 1257.63 | bathroom 1235.06 | elevator 1228.38 | lobby 1140.05 | towel 1123.3 | far 1111.76 | rooms 1024.85 | bathrooms 1001.0 | staff 946.4 | great 830.43 | view 745.44 | location 639.45 | time 630.19 | beach 629.73 | get 603.79 | waikiki 555.2 | \n"
     ]
    }
   ],
   "source": [
    "CLDA = pickle.load(open('../../model_lda/CDMM_result.pkl','rb'))\n",
    "CLDA_lam =  [CLDA.components_[k,:] for k in range(4)]\n",
    "print_top_words(CLDA_lam, list(cv.get_feature_names()), 20)"
   ]
  },
  {
   "cell_type": "code",
   "execution_count": 9,
   "metadata": {},
   "outputs": [
    {
     "data": {
      "text/plain": [
       "[5327.934952413525,\n",
       " 4516.49270583175,\n",
       " 4504.4485755750975,\n",
       " 4502.134875010409,\n",
       " 4501.556036467643,\n",
       " 4500.471026943269,\n",
       " 4500.339380317486,\n",
       " 4499.8820887317725,\n",
       " 4499.746422329422,\n",
       " 4499.545574818423,\n",
       " 4499.480767985283,\n",
       " 4499.443181234837,\n",
       " 4499.4473468457845,\n",
       " 4499.446479667193,\n",
       " 4499.346261944583,\n",
       " 4499.2145383856005,\n",
       " 4499.2140385238345,\n",
       " 4499.213999586309]"
      ]
     },
     "execution_count": 9,
     "metadata": {},
     "output_type": "execute_result"
    }
   ],
   "source": [
    "model = pickle.load(open('../../model_lda/LDA_PAPER_result.pkl','rb'))\n",
    "model_lam =  [model.components_[k,:] for k in range(4)]\n",
    "print_top_words(model_lam, list(cv.get_feature_names()), 20)"
   ]
  },
  {
   "cell_type": "code",
   "execution_count": 2,
   "metadata": {},
   "outputs": [],
   "source": [
    "model = pickle.load(open('../../model_lda/LDA_PAPER_result.pkl','rb'))"
   ]
  },
  {
   "cell_type": "code",
   "execution_count": 4,
   "metadata": {},
   "outputs": [
    {
     "data": {
      "text/plain": [
       "array([[1.        , 1.5       , 1.5       , ..., 1.5       , 1.5       ,\n",
       "        1.5       ],\n",
       "       [1.        , 1.        , 1.5       , ..., 1.5       , 1.        ,\n",
       "        1.5       ],\n",
       "       [1.5       , 1.        , 1.        , ..., 1.5       , 1.5       ,\n",
       "        1.5       ],\n",
       "       ...,\n",
       "       [1.5       , 1.        , 1.5       , ..., 1.5       , 1.5       ,\n",
       "        1.5       ],\n",
       "       [1.        , 1.        , 1.        , ..., 1.49999999, 1.5       ,\n",
       "        1.5       ],\n",
       "       [1.5       , 1.        , 1.5       , ..., 1.5       , 1.5       ,\n",
       "        1.5       ]])"
      ]
     },
     "execution_count": 4,
     "metadata": {},
     "output_type": "execute_result"
    }
   ],
   "source": [
    "model.delta_1"
   ]
  },
  {
   "cell_type": "code",
   "execution_count": null,
   "metadata": {},
   "outputs": [],
   "source": []
  }
 ],
 "metadata": {
  "kernelspec": {
   "display_name": "Python 3",
   "language": "python",
   "name": "python3"
  },
  "language_info": {
   "codemirror_mode": {
    "name": "ipython",
    "version": 3
   },
   "file_extension": ".py",
   "mimetype": "text/x-python",
   "name": "python",
   "nbconvert_exporter": "python",
   "pygments_lexer": "ipython3",
   "version": "3.7.6"
  }
 },
 "nbformat": 4,
 "nbformat_minor": 4
}
