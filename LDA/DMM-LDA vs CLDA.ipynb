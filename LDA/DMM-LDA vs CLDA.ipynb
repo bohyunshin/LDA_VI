{
 "cells": [
  {
   "cell_type": "markdown",
   "metadata": {},
   "source": [
    "## DMM Result"
   ]
  },
  {
   "cell_type": "code",
   "execution_count": 100,
   "metadata": {},
   "outputs": [
    {
     "name": "stdout",
     "output_type": "stream",
     "text": [
      "\n",
      "Topic Nr.1:\n",
      "hotel 3595.78 | stay 2803.74 | room 2764.67 | staff 1623.16 | great 1596.15 | service 1074.03 | waikiki 1015.44 | location 961.98 | beach 859.0 | place 831.88 | \n",
      "\n",
      "Topic Nr.2:\n",
      "hotel 4903.6 | room 4674.14 | beach 3114.4 | stay 3002.51 | waikiki 2391.2 | view 2289.3 | great 2059.07 | nice 1425.27 | pool 1413.63 | location 1318.82 | \n",
      "\n",
      "Topic Nr.3:\n",
      "hotel 7295.34 | great 5695.8 | room 4682.51 | stay 4162.87 | location 3840.33 | beach 3514.46 | staff 3322.45 | good 2555.8 | waikiki 2407.07 | nice 2009.29 | \n",
      "\n",
      "Topic Nr.4:\n",
      "room 2199.08 | stay 2100.28 | hotel 1505.68 | staff 1337.29 | great 1107.37 | view 1024.0 | beach 826.53 | time 807.45 | waikiki 806.7 | location 740.27 | \n"
     ]
    }
   ],
   "source": [
    "import pickle\n",
    "from sklearn.feature_extraction.text import CountVectorizer\n",
    "DMM = pickle.load(open('../../model_lda/DMM_result.pkl','rb'))\n",
    "\n",
    "data = pickle.load(open('preprocessed_review.pickle', 'rb'))\n",
    "data_join = [' '.join(doc) for doc in data]\n",
    "cv = CountVectorizer()\n",
    "X = cv.fit_transform(data_join).toarray()\n",
    "\n",
    "DMM_lam = [DMM.components_[k,:] for k in range(4)]\n",
    "def print_top_words(lam, feature_names, n_top_words):\n",
    "    for topic_id, topic in enumerate(lam):\n",
    "        print('\\nTopic Nr.%d:' % int(topic_id + 1))\n",
    "        print(''.join([feature_names[i] + ' ' + str(round(topic[i], 2))\n",
    "                       + ' | ' for i in topic.argsort()[:-n_top_words - 1:-1]]))\n",
    "print_top_words(DMM_lam, list(cv.get_feature_names()), 10)"
   ]
  },
  {
   "cell_type": "code",
   "execution_count": 69,
   "metadata": {},
   "outputs": [
    {
     "data": {
      "text/plain": [
       "0.525"
      ]
     },
     "execution_count": 69,
     "metadata": {},
     "output_type": "execute_result"
    }
   ],
   "source": [
    "words_, a, c = top_20_words_for_topics(DMM_lam)\n",
    "a"
   ]
  },
  {
   "cell_type": "markdown",
   "metadata": {},
   "source": [
    "## CLDA Result"
   ]
  },
  {
   "cell_type": "code",
   "execution_count": 70,
   "metadata": {},
   "outputs": [
    {
     "name": "stdout",
     "output_type": "stream",
     "text": [
      "\n",
      "Topic Nr.1:\n",
      "get 3589.1 | price 2652.0 | go 2405.05 | time 2400.06 | day 2306.27 | resort 2213.1 | value 1917.0 | pay 1873.0 | fee 1791.0 | just 1709.18 | \n",
      "\n",
      "Topic Nr.2:\n",
      "staff 8591.0 | pool 4981.0 | service 4875.0 | friendly 4705.0 | helpful 3495.0 | check 3270.0 | stay 3206.75 | desk 2724.0 | make 2513.1 | parking 2103.0 | \n",
      "\n",
      "Topic Nr.3:\n",
      "great 10297.07 | beach 8314.1 | location 6861.1 | waikiki 6593.93 | restaurant 4208.0 | breakfast 3596.0 | walk 3320.1 | good 2879.16 | food 2667.0 | place 2579.82 | \n",
      "\n",
      "Topic Nr.4:\n",
      "hotel 17017.05 | room 15320.0 | stay 9862.25 | view 5256.1 | nice 4207.09 | clean 3346.04 | close 3118.0 | front 3069.0 | ocean 2423.1 | bed 2215.1 | \n"
     ]
    }
   ],
   "source": [
    "CLDA = pickle.load(open('../../model_lda/CLDA_result.pkl','rb'))\n",
    "CLDA_lam =  [CLDA.components_[k,:] for k in range(4)]\n",
    "print_top_words(CLDA_lam, list(cv.get_feature_names()), 10)"
   ]
  },
  {
   "cell_type": "markdown",
   "metadata": {},
   "source": [
    "## CDMM Result (two phase)"
   ]
  },
  {
   "cell_type": "code",
   "execution_count": 106,
   "metadata": {},
   "outputs": [
    {
     "name": "stdout",
     "output_type": "stream",
     "text": [
      "\n",
      "Topic Nr.1:\n",
      "pay 1079.08 | charge 1070.03 | fee 1069.21 | price 1064.93 | rate 1034.0 | cost 1033.74 | money 1025.6 | value 1023.94 | expensive 1020.05 | cheap 1007.0 | cheaper 1005.0 | reasonably 1004.9 | pricey 1004.0 | paid 1001.0 | fees 1001.0 | priced 1000.0 | room 442.94 | hotel 371.14 | stay 205.2 | one 152.11 | \n",
      "\n",
      "Topic Nr.2:\n",
      "room 5021.83 | hotel 4718.54 | beach 3236.78 | stay 2963.78 | staff 2933.38 | great 2686.82 | pool 2483.51 | view 2437.29 | service 2334.06 | waikiki 2330.47 | friendly 2090.22 | helpful 1852.73 | location 1745.25 | check 1671.38 | nice 1580.42 | parking 1539.6 | desk 1531.49 | offer 1410.86 | valet 1372.82 | clean 1258.58 | \n",
      "\n",
      "Topic Nr.3:\n",
      "hotel 3275.77 | great 2881.5 | room 2242.14 | restaurant 1922.88 | location 1905.46 | stay 1757.62 | beach 1712.54 | breakfast 1669.84 | good 1452.04 | food 1451.32 | coffee 1382.1 | staff 1375.04 | water 1322.32 | drink 1155.24 | tea 1120.52 | fruit 1116.91 | starbucks 1114.45 | waikiki 1095.58 | dinner 1092.39 | cafe 1085.53 | \n",
      "\n",
      "Topic Nr.4:\n",
      "location 1374.13 | front 1198.79 | elevator 1159.65 | balcony 1128.1 | bathroom 1126.4 | close 1125.09 | lobby 1075.32 | towel 1067.74 | room 1052.79 | far 1048.35 | bathrooms 1001.0 | stay 558.01 | hotel 403.11 | view 388.73 | great 341.57 | beach 327.68 | staff 323.66 | get 298.98 | ocean 249.64 | pool 208.28 | \n",
      "\n",
      "Topic Nr.5:\n",
      "hotel 8531.44 | stay 6584.4 | room 5560.3 | great 4443.48 | staff 3865.92 | beach 2963.47 | waikiki 2911.88 | location 2747.08 | time 2145.82 | place 1914.58 | service 1868.05 | view 1789.96 | good 1786.93 | nice 1737.73 | friendly 1647.69 | get 1627.02 | clean 1615.35 | make 1580.47 | pool 1511.76 | go 1510.42 | \n"
     ]
    }
   ],
   "source": [
    "CLDA = pickle.load(open('../../model_lda/CDMM_two_phase_result.pkl','rb'))\n",
    "CLDA_lam =  [CLDA.components_[k,:] for k in range(5)]\n",
    "print_top_words(CLDA_lam, list(cv.get_feature_names()), 20)"
   ]
  },
  {
   "cell_type": "code",
   "execution_count": 107,
   "metadata": {},
   "outputs": [
    {
     "data": {
      "text/plain": [
       "(0.525, 105)"
      ]
     },
     "execution_count": 107,
     "metadata": {},
     "output_type": "execute_result"
    }
   ],
   "source": [
    "import pandas as pd\n",
    "import numpy as np\n",
    "from collections import Counter\n",
    "def top_20_words_for_topics(CLDA_lam, n=50):\n",
    "    K = len(CLDA_lam)\n",
    "    words = {}\n",
    "    unique_words = []\n",
    "    for k in range(K):\n",
    "        CLDA_lam_word = pd.DataFrame({'word':cv.get_feature_names(), 'lam':CLDA.components_[k,:] }).sort_values(by='lam', ascending=False)\n",
    "        top_words = CLDA_lam_word.iloc[:n,:]['word'].tolist()\n",
    "        words[k] = CLDA_lam_word.iloc[:n,:].set_index('word').to_dict()['lam']\n",
    "        unique_words += top_words\n",
    "        \n",
    "    c = Counter(unique_words)\n",
    "    words_all_appear = []\n",
    "    for k,v in c.items():\n",
    "        if v == K:\n",
    "            words_all_appear.append(k)\n",
    "    \n",
    "    \n",
    "    \n",
    "    words_degree = []\n",
    "    for k in range(K):\n",
    "        for w,d in words[k].items():\n",
    "            if w in words_all_appear:\n",
    "                words_degree.append(d)\n",
    "        \n",
    "    return words, len(set(unique_words)) / (K*n), len(set(unique_words)) , np.mean(words_degree)\n",
    "words_, a, b, c = top_20_words_for_topics(CLDA_lam)\n",
    "a, b"
   ]
  },
  {
   "cell_type": "markdown",
   "metadata": {},
   "source": [
    "## CDMM Result (one phase)"
   ]
  },
  {
   "cell_type": "code",
   "execution_count": 108,
   "metadata": {},
   "outputs": [
    {
     "name": "stdout",
     "output_type": "stream",
     "text": [
      "\n",
      "Topic Nr.1:\n",
      "hotel 1321.47 | pay 1191.55 | price 1188.85 | fee 1167.34 | room 1163.75 | charge 1163.58 | value 1101.36 | rate 1097.24 | money 1092.0 | cost 1077.69 | expensive 1061.99 | cheap 1032.32 | cheaper 1026.83 | reasonably 1014.74 | pricey 1010.34 | fees 1001.0 | paid 1001.0 | priced 1000.98 | stay 817.48 | great 378.63 | one 368.82 | staff 347.67 | get 335.53 | location 324.85 | place 315.03 | check 306.55 | waikiki 298.18 | beach 297.35 | night 265.62 | clean 257.63 | view 257.57 | good 257.1 | service 254.54 | book 244.36 | go 241.4 | bed 226.51 | make 220.14 | will 219.55 | also 212.14 | day 207.9 | pool 203.26 | time 198.02 | nice 193.38 | just 185.42 | desk 182.73 | even 176.97 | front 175.65 | resort 163.6 | walk 155.12 | back 154.51 | \n",
      "\n",
      "Topic Nr.2:\n",
      "hotel 8814.65 | room 7302.46 | stay 6273.04 | staff 4934.48 | great 4729.18 | beach 4581.76 | waikiki 3944.91 | service 3477.87 | view 3319.92 | pool 3156.33 | friendly 2916.09 | location 2867.34 | helpful 2370.82 | check 2325.41 | nice 2298.6 | clean 1978.27 | time 1939.65 | get 1895.03 | desk 1889.24 | good 1882.03 | parking 1665.97 | walk 1598.8 | offer 1593.52 | valet 1531.43 | place 1489.92 | help 1467.75 | make 1461.98 | go 1456.02 | one 1448.52 | ocean 1447.38 | restaurant 1423.46 | day 1388.68 | night 1373.24 | breakfast 1334.73 | just 1280.9 | manager 1248.77 | area 1213.16 | welcoming 1202.8 | bed 1180.95 | beautiful 1154.72 | courteous 1153.86 | serve 1153.44 | like 1146.46 | love 1135.44 | resort 1131.88 | excellent 1116.05 | best 1108.03 | will 1103.38 | also 1084.93 | amazing 1079.6 | \n",
      "\n",
      "Topic Nr.3:\n",
      "hotel 5630.0 | great 4520.16 | room 3568.88 | stay 3117.61 | location 3029.76 | beach 2805.55 | restaurant 2492.46 | staff 2362.45 | good 2211.18 | breakfast 2017.49 | waikiki 1822.11 | food 1715.75 | nice 1599.1 | coffee 1473.56 | water 1456.43 | walk 1387.83 | clean 1315.62 | friendly 1297.91 | pool 1239.07 | drink 1238.17 | place 1181.79 | fruit 1155.9 | tea 1144.29 | dinner 1137.42 | starbucks 1132.86 | cafe 1104.31 | coconut 1102.31 | beverage 1030.06 | restaurants 1006.0 | close 957.9 | view 933.47 | one 900.23 | just 847.77 | helpful 829.11 | also 826.37 | shopping 793.86 | go 784.31 | well 758.84 | get 755.05 | need 753.63 | time 724.54 | area 719.64 | service 717.2 | shop 714.42 | small 690.66 | comfortable 677.95 | right 676.91 | really 656.61 | love 640.0 | resort 618.23 | \n",
      "\n",
      "Topic Nr.4:\n",
      "room 3284.91 | stay 2860.87 | hotel 2533.89 | front 1433.93 | close 1257.63 | bathroom 1235.06 | elevator 1228.38 | lobby 1140.05 | towel 1123.3 | far 1111.76 | rooms 1024.85 | bathrooms 1001.0 | staff 946.4 | great 830.43 | view 745.44 | location 639.45 | time 630.19 | beach 629.73 | get 603.79 | waikiki 555.2 | place 517.66 | make 492.99 | ocean 457.03 | service 425.39 | one 424.83 | nice 413.33 | just 409.31 | go 399.67 | hilton 386.54 | will 383.42 | pool 382.34 | like 371.41 | desk 367.96 | good 367.08 | need 360.84 | floor 356.05 | clean 349.88 | friendly 340.77 | check 339.46 | family 328.07 | amazing 306.11 | property 305.09 | back 303.62 | resort 299.69 | tower 298.41 | night 279.36 | day 270.42 | first 258.99 | see 255.41 | book 255.27 | \n"
     ]
    }
   ],
   "source": [
    "CLDA = pickle.load(open('../../model_lda/CDMM_result.pkl','rb'))\n",
    "CLDA_lam =  [CLDA.components_[k,:] for k in range(4)]\n",
    "print_top_words(CLDA_lam, list(cv.get_feature_names()), 50)"
   ]
  },
  {
   "cell_type": "code",
   "execution_count": 109,
   "metadata": {},
   "outputs": [
    {
     "data": {
      "text/plain": [
       "(0.6066666666666667, 91)"
      ]
     },
     "execution_count": 109,
     "metadata": {},
     "output_type": "execute_result"
    }
   ],
   "source": [
    "words_, a, b, c = top_20_words_for_topics(CLDA_lam,n=50)\n",
    "a, b"
   ]
  },
  {
   "cell_type": "code",
   "execution_count": 88,
   "metadata": {},
   "outputs": [],
   "source": [
    "dir_ = \"/Users/shinbo/Desktop/metting/LDA/0. data/20news-bydate/newsgroup_preprocessed_corpus.pickle\"\n",
    "data = pickle.load(open(dir_, 'rb'))\n",
    "data_join = [' '.join(doc) for doc in data]\n",
    "cv = CountVectorizer()\n",
    "X = cv.fit_transform(data_join).toarray()"
   ]
  },
  {
   "cell_type": "code",
   "execution_count": 89,
   "metadata": {},
   "outputs": [
    {
     "name": "stdout",
     "output_type": "stream",
     "text": [
      "\n",
      "Topic Nr.1:\n",
      "get 379.19 | use 360.6 | university 318.36 | know 285.97 | like 283.16 | think 254.44 | make 228.8 | go 226.09 | people 196.36 | good 191.53 | time 190.17 | well 182.12 | work 176.68 | system 175.63 | problem 173.05 | writes 169.34 | see 168.37 | drive 165.27 | want 163.83 | cx 162.89 | need 160.0 | distribution 157.39 | new 157.08 | also 153.9 | look 147.29 | anyone 146.77 | ww 145.64 | thing 141.17 | window 140.65 | hz 136.57 | take 135.99 | way 131.52 | much 129.24 | uw 128.67 | computer 128.43 | year 127.94 | please 125.01 | thanks 124.9 | right 123.9 | card 123.68 | try 122.95 | find 122.37 | come 122.34 | even 122.31 | give 116.61 | question 116.6 | c_ 116.16 | run 113.36 | help 112.49 | two 109.94 | \n",
      "\n",
      "Topic Nr.2:\n",
      "go 600.02 | get 530.75 | know 520.64 | people 517.17 | like 413.69 | use 403.84 | think 400.8 | time 356.53 | take 351.59 | come 342.32 | make 323.45 | see 306.27 | well 304.21 | drive 299.63 | university 270.6 | even 258.71 | want 256.69 | tell 256.51 | thing 239.77 | good 239.36 | work 238.29 | way 236.4 | also 233.02 | look 226.09 | find 222.47 | right 219.76 | problem 217.86 | year 216.63 | system 207.56 | two 204.11 | something 201.61 | give 199.66 | call 189.77 | day 187.0 | need 184.83 | many 183.97 | first 175.88 | try 174.05 | new 167.55 | back 166.03 | start 165.76 | much 162.7 | really 158.6 | armenian 156.76 | writes 155.53 | god 153.11 | still 151.98 | anyone 151.56 | seem 151.11 | help 147.14 | \n",
      "\n",
      "Topic Nr.3:\n",
      "game 544.97 | get 494.24 | team 488.86 | year 404.6 | play 389.9 | go 382.78 | university 336.5 | think 324.63 | player 311.21 | make 298.68 | good 298.2 | like 291.38 | well 287.73 | know 267.71 | win 264.78 | season 256.79 | new 254.72 | time 251.27 | hockey 235.06 | use 229.37 | first 220.86 | take 204.9 | see 203.4 | point 190.87 | last 181.4 | give 180.85 | two 178.5 | league 175.43 | people 173.13 | run 173.07 | score 171.19 | come 170.29 | nhl 169.58 | look 169.49 | right 169.41 | even 164.5 | writes 163.98 | pt 161.7 | also 159.44 | much 158.24 | goal 149.23 | period 148.59 | power 147.79 | may 145.61 | way 143.3 | back 142.34 | want 138.62 | second 136.82 | thing 131.7 | work 131.39 | \n",
      "\n",
      "Topic Nr.4:\n",
      "people 643.07 | go 476.5 | armenian 459.54 | know 444.79 | think 443.17 | get 433.43 | make 428.41 | right 381.98 | state 381.88 | time 365.68 | well 358.34 | turkish 327.22 | work 326.99 | use 325.37 | government 325.21 | like 324.79 | university 305.68 | year 293.85 | mr 293.27 | take 276.63 | also 273.51 | way 271.07 | give 263.88 | israel 262.78 | new 257.39 | president 254.26 | want 245.86 | see 237.81 | come 233.11 | world 229.44 | even 225.74 | jew 225.16 | first 223.21 | war 212.85 | question 210.15 | many 205.39 | thing 202.46 | good 198.42 | look 196.33 | israeli 195.1 | two 193.7 | try 186.64 | believe 181.99 | kill 178.53 | group 175.05 | stephanopoulos 174.09 | call 173.58 | tell 170.11 | need 167.11 | law 166.61 | \n",
      "\n",
      "Topic Nr.5:\n",
      "ax 29446.25 | max 2093.66 | di 282.36 | ei 250.01 | tm 224.61 | wm 209.82 | bhj 164.51 | giz 161.1 | mb 122.52 | ey 119.57 | bxn 112.1 | tq 107.95 | _o 105.82 | university 104.9 | qax 103.6 | um 99.39 | mr 97.53 | gk 97.09 | kn 92.96 | mf 89.47 | ql 85.36 | qq 80.87 | get 79.04 | mq 78.78 | use 76.6 | mi 66.86 | m_ 66.59 | sl 66.29 | eq 66.04 | mk 64.87 | wt 64.14 | know 62.31 | gq 62.15 | bj 61.24 | pa 60.32 | ez 59.9 | like 59.11 | ex 58.77 | ml 58.72 | mg 58.58 | tg 58.38 | distribution 57.41 | mu 55.03 | el 54.2 | go 51.87 | uy 50.23 | fq 50.1 | ov 49.77 | lj 49.59 | nrhj 49.1 | \n",
      "\n",
      "Topic Nr.6:\n",
      "god 824.95 | people 488.19 | know 428.01 | think 423.58 | make 423.37 | jesus 397.16 | use 370.24 | christian 358.28 | like 342.48 | get 336.44 | see 319.8 | believe 311.71 | time 311.44 | go 299.48 | well 288.97 | thing 276.66 | good 265.12 | university 262.34 | come 259.94 | also 259.19 | even 254.88 | many 250.2 | way 244.02 | take 238.22 | question 235.68 | may 231.24 | give 223.81 | law 216.03 | new 215.58 | mean 212.06 | right 208.4 | world 205.53 | bible 199.31 | want 197.52 | find 197.42 | point 194.0 | church 192.14 | life 189.76 | state 189.06 | year 181.75 | religion 181.67 | day 181.64 | must 179.44 | writes 178.36 | word 176.42 | much 175.18 | true 174.15 | work 172.98 | seem 172.68 | look 168.92 | \n",
      "\n",
      "Topic Nr.7:\n",
      "file 513.95 | use 485.04 | get 389.33 | space 356.05 | university 306.22 | make 291.48 | know 283.83 | program 277.5 | like 274.55 | entry 259.39 | year 253.17 | good 240.23 | time 239.2 | go 239.12 | think 238.51 | well 220.89 | gun 219.84 | system 217.96 | people 216.83 | may 206.51 | need 204.07 | new 203.51 | also 202.33 | see 199.19 | output 184.55 | work 181.36 | first 173.38 | state 169.87 | line 167.75 | want 163.84 | number 160.44 | look 158.99 | give 158.95 | write 158.94 | problem 157.98 | way 157.8 | take 156.99 | include 155.19 | distribution 153.15 | find 151.81 | writes 149.41 | right 148.24 | post 146.18 | thing 145.51 | two 144.25 | information 143.53 | read 142.91 | question 142.27 | name 137.52 | even 136.78 | \n",
      "\n",
      "Topic Nr.8:\n",
      "use 519.63 | get 426.23 | like 331.9 | know 330.97 | think 312.76 | university 309.47 | db 303.2 | make 300.46 | key 293.68 | people 288.75 | go 264.09 | time 242.56 | system 236.73 | new 226.84 | chip 222.14 | good 221.88 | well 221.71 | need 221.27 | encryption 212.11 | right 209.42 | see 202.87 | also 202.64 | writes 194.7 | work 194.07 | want 190.23 | problem 183.03 | government 182.52 | thing 182.5 | law 180.1 | even 170.06 | take 169.12 | two 167.6 | way 167.32 | distribution 163.49 | look 160.03 | technology 158.09 | bit 157.79 | year 157.42 | give 156.87 | anyone 152.76 | much 152.18 | question 151.98 | find 148.95 | clipper 148.19 | come 144.6 | state 142.03 | call 141.87 | try 139.84 | computer 138.97 | many 134.44 | \n",
      "\n",
      "Topic Nr.9:\n",
      "use 1078.08 | file 584.21 | window 548.82 | system 536.97 | get 512.05 | program 458.06 | also 430.21 | image 414.33 | available 405.97 | version 368.41 | key 362.07 | include 353.64 | work 340.36 | like 338.45 | information 335.34 | run 329.24 | mail 325.6 | data 320.37 | may 318.36 | know 317.11 | software 310.49 | make 307.39 | ftp 299.33 | university 296.87 | time 295.11 | server 290.83 | user 284.3 | see 280.32 | new 275.5 | bit 274.93 | problem 273.07 | computer 264.4 | edu 262.27 | need 261.17 | set 258.68 | support 257.32 | find 247.75 | call 247.61 | widget 240.91 | pub 240.7 | list 238.63 | graphic 235.34 | number 234.57 | display 230.24 | application 230.16 | post 227.35 | color 226.54 | write 226.01 | people 223.66 | internet 221.94 | \n",
      "\n",
      "Topic Nr.10:\n",
      "use 528.22 | get 440.31 | like 330.49 | know 300.15 | university 300.07 | make 292.31 | go 273.45 | think 267.51 | time 265.88 | good 243.21 | well 242.13 | people 235.68 | system 231.95 | new 230.57 | car 218.16 | work 214.64 | also 210.63 | need 202.69 | year 200.48 | problem 197.53 | see 195.25 | may 189.41 | want 182.07 | look 179.33 | much 177.5 | thing 175.23 | take 172.85 | two 170.0 | wire 169.58 | writes 166.62 | distribution 163.89 | question 161.4 | ground 157.11 | even 154.17 | find 150.09 | way 147.11 | come 146.54 | drive 144.92 | space 144.83 | give 144.09 | anyone 140.87 | right 140.63 | first 136.95 | run 135.06 | try 134.76 | point 134.4 | many 133.55 | state 133.17 | call 127.64 | mean 125.44 | \n"
     ]
    }
   ],
   "source": [
    "model = pickle.load(open('../../model_lda/LDA_PAPER_result.pkl','rb'))\n",
    "model_lam =  [model.components_[k,:] for k in range(10)]\n",
    "print_top_words(model_lam, list(cv.get_feature_names()), 50)"
   ]
  },
  {
   "cell_type": "code",
   "execution_count": 3,
   "metadata": {},
   "outputs": [],
   "source": [
    "model = pickle.load(open('../../model_lda/LDA_PAPER_result.pkl','rb'))"
   ]
  },
  {
   "cell_type": "code",
   "execution_count": 4,
   "metadata": {},
   "outputs": [
    {
     "data": {
      "text/plain": [
       "array([[0.5, 0.5, 0.5, ..., 0.5, 0.5, 0.5],\n",
       "       [0.5, 0.5, 0.5, ..., 0.5, 0.5, 0.5],\n",
       "       [0.5, 0.5, 0.5, ..., 0.5, 0.5, 0.5],\n",
       "       ...,\n",
       "       [0.5, 0.5, 0.5, ..., 0.5, 0.5, 0.5],\n",
       "       [0.5, 0.5, 0.5, ..., 0.5, 0.5, 0.5],\n",
       "       [0.5, 0.5, 0.5, ..., 0.5, 0.5, 0.5]])"
      ]
     },
     "execution_count": 4,
     "metadata": {},
     "output_type": "execute_result"
    }
   ],
   "source": [
    "model.kappa_1"
   ]
  },
  {
   "cell_type": "code",
   "execution_count": 8,
   "metadata": {},
   "outputs": [
    {
     "data": {
      "text/plain": [
       "0.49999999999954525"
      ]
     },
     "execution_count": 8,
     "metadata": {},
     "output_type": "execute_result"
    }
   ],
   "source": []
  },
  {
   "cell_type": "code",
   "execution_count": null,
   "metadata": {},
   "outputs": [],
   "source": []
  }
 ],
 "metadata": {
  "kernelspec": {
   "display_name": "Python 3",
   "language": "python",
   "name": "python3"
  },
  "language_info": {
   "codemirror_mode": {
    "name": "ipython",
    "version": 3
   },
   "file_extension": ".py",
   "mimetype": "text/x-python",
   "name": "python",
   "nbconvert_exporter": "python",
   "pygments_lexer": "ipython3",
   "version": "3.7.6"
  }
 },
 "nbformat": 4,
 "nbformat_minor": 4
}
