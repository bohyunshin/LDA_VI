{
 "cells": [
  {
   "cell_type": "markdown",
   "metadata": {},
   "source": [
    "## DMM Result"
   ]
  },
  {
   "cell_type": "code",
   "execution_count": 1,
   "metadata": {},
   "outputs": [
    {
     "name": "stdout",
     "output_type": "stream",
     "text": [
      "\n",
      "Topic Nr.1:\n",
      "hotel 3595.78 | stay 2803.74 | room 2764.67 | staff 1623.16 | great 1596.15 | service 1074.03 | waikiki 1015.44 | location 961.98 | beach 859.0 | place 831.88 | \n",
      "\n",
      "Topic Nr.2:\n",
      "hotel 4903.6 | room 4674.14 | beach 3114.4 | stay 3002.51 | waikiki 2391.2 | view 2289.3 | great 2059.07 | nice 1425.27 | pool 1413.63 | location 1318.82 | \n",
      "\n",
      "Topic Nr.3:\n",
      "hotel 7295.34 | great 5695.8 | room 4682.51 | stay 4162.87 | location 3840.33 | beach 3514.46 | staff 3322.45 | good 2555.8 | waikiki 2407.07 | nice 2009.29 | \n",
      "\n",
      "Topic Nr.4:\n",
      "room 2199.08 | stay 2100.28 | hotel 1505.68 | staff 1337.29 | great 1107.37 | view 1024.0 | beach 826.53 | time 807.45 | waikiki 806.7 | location 740.27 | \n"
     ]
    }
   ],
   "source": [
    "import pickle\n",
    "from sklearn.feature_extraction.text import CountVectorizer\n",
    "DMM = pickle.load(open('../../model_lda/DMM_result.pkl','rb'))\n",
    "\n",
    "data = pickle.load(open('preprocessed_review.pickle', 'rb'))\n",
    "data_join = [' '.join(doc) for doc in data]\n",
    "cv = CountVectorizer()\n",
    "X = cv.fit_transform(data_join).toarray()\n",
    "\n",
    "DMM_lam = [DMM.components_[k,:] for k in range(4)]\n",
    "def print_top_words(lam, feature_names, n_top_words):\n",
    "    for topic_id, topic in enumerate(lam):\n",
    "        print('\\nTopic Nr.%d:' % int(topic_id + 1))\n",
    "        print(''.join([feature_names[i] + ' ' + str(round(topic[i], 2))\n",
    "                       + ' | ' for i in topic.argsort()[:-n_top_words - 1:-1]]))\n",
    "print_top_words(DMM_lam, list(cv.get_feature_names()), 10)"
   ]
  },
  {
   "cell_type": "markdown",
   "metadata": {},
   "source": [
    "## CLDA Result"
   ]
  },
  {
   "cell_type": "code",
   "execution_count": 2,
   "metadata": {},
   "outputs": [
    {
     "name": "stdout",
     "output_type": "stream",
     "text": [
      "\n",
      "Topic Nr.1:\n",
      "get 3589.1 | price 2652.0 | go 2405.05 | time 2400.06 | day 2306.27 | resort 2213.1 | value 1917.0 | pay 1873.0 | fee 1791.0 | just 1709.18 | \n",
      "\n",
      "Topic Nr.2:\n",
      "staff 8591.0 | pool 4981.0 | service 4875.0 | friendly 4705.0 | helpful 3495.0 | check 3270.0 | stay 3206.75 | desk 2724.0 | make 2513.1 | parking 2103.0 | \n",
      "\n",
      "Topic Nr.3:\n",
      "great 10297.07 | beach 8314.1 | location 6861.1 | waikiki 6593.93 | restaurant 4208.0 | breakfast 3596.0 | walk 3320.1 | good 2879.16 | food 2667.0 | place 2579.82 | \n",
      "\n",
      "Topic Nr.4:\n",
      "hotel 17017.05 | room 15320.0 | stay 9862.25 | view 5256.1 | nice 4207.09 | clean 3346.04 | close 3118.0 | front 3069.0 | ocean 2423.1 | bed 2215.1 | \n"
     ]
    }
   ],
   "source": [
    "CLDA = pickle.load(open('../../model_lda/CLDA_result.pkl','rb'))\n",
    "CLDA_lam =  [CLDA.components_[k,:] for k in range(4)]\n",
    "print_top_words(CLDA_lam, list(cv.get_feature_names()), 10)"
   ]
  },
  {
   "cell_type": "markdown",
   "metadata": {},
   "source": [
    "## CDMM Result"
   ]
  },
  {
   "cell_type": "code",
   "execution_count": 31,
   "metadata": {},
   "outputs": [
    {
     "name": "stdout",
     "output_type": "stream",
     "text": [
      "\n",
      "Topic Nr.1:\n",
      "pay 1079.08 | charge 1070.03 | fee 1069.21 | price 1064.93 | rate 1034.0 | cost 1033.74 | money 1025.6 | value 1023.94 | expensive 1020.05 | cheap 1007.0 | cheaper 1005.0 | reasonably 1004.9 | pricey 1004.0 | paid 1001.0 | fees 1001.0 | priced 1000.0 | room 442.94 | hotel 371.14 | stay 205.2 | one 152.11 | \n",
      "\n",
      "Topic Nr.2:\n",
      "room 5021.83 | hotel 4718.54 | beach 3236.78 | stay 2963.78 | staff 2933.38 | great 2686.82 | pool 2483.51 | view 2437.29 | service 2334.06 | waikiki 2330.47 | friendly 2090.22 | helpful 1852.73 | location 1745.25 | check 1671.38 | nice 1580.42 | parking 1539.6 | desk 1531.49 | offer 1410.86 | valet 1372.82 | clean 1258.58 | \n",
      "\n",
      "Topic Nr.3:\n",
      "hotel 3275.77 | great 2881.5 | room 2242.14 | restaurant 1922.88 | location 1905.46 | stay 1757.62 | beach 1712.54 | breakfast 1669.84 | good 1452.04 | food 1451.32 | coffee 1382.1 | staff 1375.04 | water 1322.32 | drink 1155.24 | tea 1120.52 | fruit 1116.91 | starbucks 1114.45 | waikiki 1095.58 | dinner 1092.39 | cafe 1085.53 | \n",
      "\n",
      "Topic Nr.4:\n",
      "location 1374.13 | front 1198.79 | elevator 1159.65 | balcony 1128.1 | bathroom 1126.4 | close 1125.09 | lobby 1075.32 | towel 1067.74 | room 1052.79 | far 1048.35 | bathrooms 1001.0 | stay 558.01 | hotel 403.11 | view 388.73 | great 341.57 | beach 327.68 | staff 323.66 | get 298.98 | ocean 249.64 | pool 208.28 | \n",
      "\n",
      "Topic Nr.5:\n",
      "hotel 8531.44 | stay 6584.4 | room 5560.3 | great 4443.48 | staff 3865.92 | beach 2963.47 | waikiki 2911.88 | location 2747.08 | time 2145.82 | place 1914.58 | service 1868.05 | view 1789.96 | good 1786.93 | nice 1737.73 | friendly 1647.69 | get 1627.02 | clean 1615.35 | make 1580.47 | pool 1511.76 | go 1510.42 | \n"
     ]
    }
   ],
   "source": [
    "CLDA = pickle.load(open('../../model_lda/CDMM_two_phase_result.pkl','rb'))\n",
    "CLDA_lam =  [CLDA.components_[k,:] for k in range(5)]\n",
    "print_top_words(CLDA_lam, list(cv.get_feature_names()), 20)"
   ]
  },
  {
   "cell_type": "code",
   "execution_count": 2,
   "metadata": {},
   "outputs": [],
   "source": [
    "dir_ = \"/Users/shinbo/Desktop/metting/LDA/0. data/20news-bydate/newsgroup_preprocessed_corpus.pickle\"\n",
    "data = pickle.load(open(dir_, 'rb'))\n",
    "data_join = [' '.join(doc) for doc in data]\n",
    "cv = CountVectorizer()\n",
    "X = cv.fit_transform(data_join).toarray()"
   ]
  },
  {
   "cell_type": "code",
   "execution_count": 9,
   "metadata": {},
   "outputs": [
    {
     "name": "stdout",
     "output_type": "stream",
     "text": [
      "\n",
      "Topic Nr.1:\n",
      "get 379.19 | use 360.6 | university 318.36 | know 285.97 | like 283.16 | think 254.44 | make 228.8 | go 226.09 | people 196.36 | good 191.53 | time 190.17 | well 182.12 | work 176.68 | system 175.63 | problem 173.05 | writes 169.34 | see 168.37 | drive 165.27 | want 163.83 | cx 162.89 | \n",
      "\n",
      "Topic Nr.2:\n",
      "go 600.02 | get 530.75 | know 520.64 | people 517.17 | like 413.69 | use 403.84 | think 400.8 | time 356.53 | take 351.59 | come 342.32 | make 323.45 | see 306.27 | well 304.21 | drive 299.63 | university 270.6 | even 258.71 | want 256.69 | tell 256.51 | thing 239.77 | good 239.36 | \n",
      "\n",
      "Topic Nr.3:\n",
      "game 544.97 | get 494.24 | team 488.86 | year 404.6 | play 389.9 | go 382.78 | university 336.5 | think 324.63 | player 311.21 | make 298.68 | good 298.2 | like 291.38 | well 287.73 | know 267.71 | win 264.78 | season 256.79 | new 254.72 | time 251.27 | hockey 235.06 | use 229.37 | \n",
      "\n",
      "Topic Nr.4:\n",
      "people 643.07 | go 476.5 | armenian 459.54 | know 444.79 | think 443.17 | get 433.43 | make 428.41 | right 381.98 | state 381.88 | time 365.68 | well 358.34 | turkish 327.22 | work 326.99 | use 325.37 | government 325.21 | like 324.79 | university 305.68 | year 293.85 | mr 293.27 | take 276.63 | \n",
      "\n",
      "Topic Nr.5:\n",
      "ax 29446.25 | max 2093.66 | di 282.36 | ei 250.01 | tm 224.61 | wm 209.82 | bhj 164.51 | giz 161.1 | mb 122.52 | ey 119.57 | bxn 112.1 | tq 107.95 | _o 105.82 | university 104.9 | qax 103.6 | um 99.39 | mr 97.53 | gk 97.09 | kn 92.96 | mf 89.47 | \n",
      "\n",
      "Topic Nr.6:\n",
      "god 824.95 | people 488.19 | know 428.01 | think 423.58 | make 423.37 | jesus 397.16 | use 370.24 | christian 358.28 | like 342.48 | get 336.44 | see 319.8 | believe 311.71 | time 311.44 | go 299.48 | well 288.97 | thing 276.66 | good 265.12 | university 262.34 | come 259.94 | also 259.19 | \n",
      "\n",
      "Topic Nr.7:\n",
      "file 513.95 | use 485.04 | get 389.33 | space 356.05 | university 306.22 | make 291.48 | know 283.83 | program 277.5 | like 274.55 | entry 259.39 | year 253.17 | good 240.23 | time 239.2 | go 239.12 | think 238.51 | well 220.89 | gun 219.84 | system 217.96 | people 216.83 | may 206.51 | \n",
      "\n",
      "Topic Nr.8:\n",
      "use 519.63 | get 426.23 | like 331.9 | know 330.97 | think 312.76 | university 309.47 | db 303.2 | make 300.46 | key 293.68 | people 288.75 | go 264.09 | time 242.56 | system 236.73 | new 226.84 | chip 222.14 | good 221.88 | well 221.71 | need 221.27 | encryption 212.11 | right 209.42 | \n",
      "\n",
      "Topic Nr.9:\n",
      "use 1078.08 | file 584.21 | window 548.82 | system 536.97 | get 512.05 | program 458.06 | also 430.21 | image 414.33 | available 405.97 | version 368.41 | key 362.07 | include 353.64 | work 340.36 | like 338.45 | information 335.34 | run 329.24 | mail 325.6 | data 320.37 | may 318.36 | know 317.11 | \n",
      "\n",
      "Topic Nr.10:\n",
      "use 528.22 | get 440.31 | like 330.49 | know 300.15 | university 300.07 | make 292.31 | go 273.45 | think 267.51 | time 265.88 | good 243.21 | well 242.13 | people 235.68 | system 231.95 | new 230.57 | car 218.16 | work 214.64 | also 210.63 | need 202.69 | year 200.48 | problem 197.53 | \n"
     ]
    }
   ],
   "source": [
    "model = pickle.load(open('../../model_lda/LDA_PAPER_result.pkl','rb'))\n",
    "model_lam =  [model.components_[k,:] for k in range(10)]\n",
    "print_top_words(model_lam, list(cv.get_feature_names()), 20)"
   ]
  },
  {
   "cell_type": "code",
   "execution_count": 3,
   "metadata": {},
   "outputs": [],
   "source": [
    "model = pickle.load(open('../../model_lda/LDA_PAPER_result.pkl','rb'))"
   ]
  },
  {
   "cell_type": "code",
   "execution_count": 4,
   "metadata": {},
   "outputs": [
    {
     "data": {
      "text/plain": [
       "array([[0.5, 0.5, 0.5, ..., 0.5, 0.5, 0.5],\n",
       "       [0.5, 0.5, 0.5, ..., 0.5, 0.5, 0.5],\n",
       "       [0.5, 0.5, 0.5, ..., 0.5, 0.5, 0.5],\n",
       "       ...,\n",
       "       [0.5, 0.5, 0.5, ..., 0.5, 0.5, 0.5],\n",
       "       [0.5, 0.5, 0.5, ..., 0.5, 0.5, 0.5],\n",
       "       [0.5, 0.5, 0.5, ..., 0.5, 0.5, 0.5]])"
      ]
     },
     "execution_count": 4,
     "metadata": {},
     "output_type": "execute_result"
    }
   ],
   "source": [
    "model.kappa_1"
   ]
  },
  {
   "cell_type": "code",
   "execution_count": 8,
   "metadata": {},
   "outputs": [
    {
     "data": {
      "text/plain": [
       "0.49999999999954525"
      ]
     },
     "execution_count": 8,
     "metadata": {},
     "output_type": "execute_result"
    }
   ],
   "source": []
  },
  {
   "cell_type": "code",
   "execution_count": null,
   "metadata": {},
   "outputs": [],
   "source": []
  }
 ],
 "metadata": {
  "kernelspec": {
   "display_name": "Python 3",
   "language": "python",
   "name": "python3"
  },
  "language_info": {
   "codemirror_mode": {
    "name": "ipython",
    "version": 3
   },
   "file_extension": ".py",
   "mimetype": "text/x-python",
   "name": "python",
   "nbconvert_exporter": "python",
   "pygments_lexer": "ipython3",
   "version": "3.7.6"
  }
 },
 "nbformat": 4,
 "nbformat_minor": 4
}
