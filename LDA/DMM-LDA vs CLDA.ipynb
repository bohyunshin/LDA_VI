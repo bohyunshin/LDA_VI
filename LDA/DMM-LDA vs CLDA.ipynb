{
 "cells": [
  {
   "cell_type": "markdown",
   "metadata": {},
   "source": [
    "## DMM Result"
   ]
  },
  {
   "cell_type": "code",
   "execution_count": 28,
   "metadata": {},
   "outputs": [
    {
     "name": "stdout",
     "output_type": "stream",
     "text": [
      "\n",
      "Topic Nr.1:\n",
      "hotel 3595.78 | stay 2803.74 | room 2764.67 | staff 1623.16 | great 1596.15 | service 1074.03 | waikiki 1015.44 | location 961.98 | beach 859.0 | place 831.88 | \n",
      "\n",
      "Topic Nr.2:\n",
      "hotel 4903.6 | room 4674.14 | beach 3114.4 | stay 3002.51 | waikiki 2391.2 | view 2289.3 | great 2059.07 | nice 1425.27 | pool 1413.63 | location 1318.82 | \n",
      "\n",
      "Topic Nr.3:\n",
      "hotel 7295.34 | great 5695.8 | room 4682.51 | stay 4162.87 | location 3840.33 | beach 3514.46 | staff 3322.45 | good 2555.8 | waikiki 2407.07 | nice 2009.29 | \n",
      "\n",
      "Topic Nr.4:\n",
      "room 2199.08 | stay 2100.28 | hotel 1505.68 | staff 1337.29 | great 1107.37 | view 1024.0 | beach 826.53 | time 807.45 | waikiki 806.7 | location 740.27 | \n"
     ]
    }
   ],
   "source": [
    "import pickle\n",
    "from sklearn.feature_extraction.text import CountVectorizer\n",
    "DMM = pickle.load(open('../../model_lda/DMM_result.pkl','rb'))\n",
    "\n",
    "data = pickle.load(open('preprocessed_review.pickle', 'rb'))\n",
    "data_join = [' '.join(doc) for doc in data]\n",
    "cv = CountVectorizer()\n",
    "X = cv.fit_transform(data_join).toarray()\n",
    "\n",
    "DMM_lam = [DMM.components_[k,:] for k in range(4)]\n",
    "def print_top_words(lam, feature_names, n_top_words):\n",
    "    for topic_id, topic in enumerate(lam):\n",
    "        print('\\nTopic Nr.%d:' % int(topic_id + 1))\n",
    "        print(''.join([feature_names[i] + ' ' + str(round(topic[i], 2))\n",
    "                       + ' | ' for i in topic.argsort()[:-n_top_words - 1:-1]]))\n",
    "print_top_words(DMM_lam, list(cv.get_feature_names()), 10)"
   ]
  },
  {
   "cell_type": "markdown",
   "metadata": {},
   "source": [
    "## CLDA Result"
   ]
  },
  {
   "cell_type": "code",
   "execution_count": 2,
   "metadata": {},
   "outputs": [
    {
     "name": "stdout",
     "output_type": "stream",
     "text": [
      "\n",
      "Topic Nr.1:\n",
      "get 3589.1 | price 2652.0 | go 2405.05 | time 2400.06 | day 2306.27 | resort 2213.1 | value 1917.0 | pay 1873.0 | fee 1791.0 | just 1709.18 | \n",
      "\n",
      "Topic Nr.2:\n",
      "staff 8591.0 | pool 4981.0 | service 4875.0 | friendly 4705.0 | helpful 3495.0 | check 3270.0 | stay 3206.75 | desk 2724.0 | make 2513.1 | parking 2103.0 | \n",
      "\n",
      "Topic Nr.3:\n",
      "great 10297.07 | beach 8314.1 | location 6861.1 | waikiki 6593.93 | restaurant 4208.0 | breakfast 3596.0 | walk 3320.1 | good 2879.16 | food 2667.0 | place 2579.82 | \n",
      "\n",
      "Topic Nr.4:\n",
      "hotel 17017.05 | room 15320.0 | stay 9862.25 | view 5256.1 | nice 4207.09 | clean 3346.04 | close 3118.0 | front 3069.0 | ocean 2423.1 | bed 2215.1 | \n"
     ]
    }
   ],
   "source": [
    "CLDA = pickle.load(open('../../model_lda/CLDA_result.pkl','rb'))\n",
    "CLDA_lam =  [CLDA.components_[k,:] for k in range(4)]\n",
    "print_top_words(CLDA_lam, list(cv.get_feature_names()), 10)"
   ]
  },
  {
   "cell_type": "markdown",
   "metadata": {},
   "source": [
    "## CDMM Result"
   ]
  },
  {
   "cell_type": "code",
   "execution_count": 31,
   "metadata": {},
   "outputs": [
    {
     "name": "stdout",
     "output_type": "stream",
     "text": [
      "\n",
      "Topic Nr.1:\n",
      "pay 1079.08 | charge 1070.03 | fee 1069.21 | price 1064.93 | rate 1034.0 | cost 1033.74 | money 1025.6 | value 1023.94 | expensive 1020.05 | cheap 1007.0 | cheaper 1005.0 | reasonably 1004.9 | pricey 1004.0 | paid 1001.0 | fees 1001.0 | priced 1000.0 | room 442.94 | hotel 371.14 | stay 205.2 | one 152.11 | \n",
      "\n",
      "Topic Nr.2:\n",
      "room 5021.83 | hotel 4718.54 | beach 3236.78 | stay 2963.78 | staff 2933.38 | great 2686.82 | pool 2483.51 | view 2437.29 | service 2334.06 | waikiki 2330.47 | friendly 2090.22 | helpful 1852.73 | location 1745.25 | check 1671.38 | nice 1580.42 | parking 1539.6 | desk 1531.49 | offer 1410.86 | valet 1372.82 | clean 1258.58 | \n",
      "\n",
      "Topic Nr.3:\n",
      "hotel 3275.77 | great 2881.5 | room 2242.14 | restaurant 1922.88 | location 1905.46 | stay 1757.62 | beach 1712.54 | breakfast 1669.84 | good 1452.04 | food 1451.32 | coffee 1382.1 | staff 1375.04 | water 1322.32 | drink 1155.24 | tea 1120.52 | fruit 1116.91 | starbucks 1114.45 | waikiki 1095.58 | dinner 1092.39 | cafe 1085.53 | \n",
      "\n",
      "Topic Nr.4:\n",
      "location 1374.13 | front 1198.79 | elevator 1159.65 | balcony 1128.1 | bathroom 1126.4 | close 1125.09 | lobby 1075.32 | towel 1067.74 | room 1052.79 | far 1048.35 | bathrooms 1001.0 | stay 558.01 | hotel 403.11 | view 388.73 | great 341.57 | beach 327.68 | staff 323.66 | get 298.98 | ocean 249.64 | pool 208.28 | \n",
      "\n",
      "Topic Nr.5:\n",
      "hotel 8531.44 | stay 6584.4 | room 5560.3 | great 4443.48 | staff 3865.92 | beach 2963.47 | waikiki 2911.88 | location 2747.08 | time 2145.82 | place 1914.58 | service 1868.05 | view 1789.96 | good 1786.93 | nice 1737.73 | friendly 1647.69 | get 1627.02 | clean 1615.35 | make 1580.47 | pool 1511.76 | go 1510.42 | \n"
     ]
    }
   ],
   "source": [
    "CLDA = pickle.load(open('../../model_lda/CDMM_two_phase_result.pkl','rb'))\n",
    "CLDA_lam =  [CLDA.components_[k,:] for k in range(5)]\n",
    "print_top_words(CLDA_lam, list(cv.get_feature_names()), 20)"
   ]
  },
  {
   "cell_type": "code",
   "execution_count": 25,
   "metadata": {},
   "outputs": [
    {
     "name": "stdout",
     "output_type": "stream",
     "text": [
      "\n",
      "Topic Nr.1:\n",
      "qvf_qvg 0.1 | owt 0.1 | cn 0.1 | armenie 0.1 | xlong 0.1 | installworldobjects 0.1 | silver 0.1 | qk 0.1 | machinist 0.1 | lz 0.1 | darkbawk 0.1 | nahfnajz 0.1 | counterbalance 0.1 | foreword 0.1 | feof 0.1 | preconception 0.1 | pax 0.1 | foreknowledge 0.1 | biz 0.1 | tfirst 0.1 | \n",
      "\n",
      "Topic Nr.2:\n",
      "qle 0.1 | znk 0.1 | wwt 0.1 | qhg 0.1 | _qvf 0.1 | lvp 0.1 | mnb 0.1 | ihbl 0.1 | mqvei 0.1 | pkhf 0.1 | egulnk 0.1 | takprvmtd 0.1 | mprfw 0.1 | ecaj 0.1 | myf 0.1 | gpqk 0.1 | jpt 0.1 | fdzd 0.1 | mbn 0.1 | mksqo 0.1 | \n",
      "\n",
      "Topic Nr.3:\n",
      "fnairlahf 0.1 | oveo 0.1 | pivbudk 0.1 | hemp 0.1 | inooka 0.1 | qqo 0.1 | hifbhj 0.1 | _yog 0.1 | qsde 0.1 | n_o 0.1 | sarafan 0.1 | transliteration 0.1 | b_u 0.1 | distracts 0.1 | paradoctrine 0.1 | fgo 0.1 | nkhm 0.1 | vxe 0.1 | ydk 0.1 | _gcub 0.1 | \n",
      "\n",
      "Topic Nr.4:\n",
      "isv 0.1 | ngvz 0.1 | qrpuqs 0.1 | znkjzlahf 0.1 | tfnkk 0.1 | znajr 0.1 | mmqirk 0.1 | gvznl 0.1 | fyjlkmq 0.1 | mfihlqs 0.1 | gkwlpw 0.1 | plqrplq 0.1 | wmzurmw 0.1 | _qrpuqs 0.1 | evrnkh 0.1 | iqsho 0.1 | jpb 0.1 | fnahf 0.1 | tlorpu 0.1 | uev 0.1 | \n",
      "\n",
      "Topic Nr.5:\n",
      "iqvf 0.1 | bhkc 0.1 | mxte 0.1 | cx_scx 0.1 | cxwm 0.1 | cxtgc 0.1 | sebinkarahisari 0.1 | _v 0.1 | vurmak 0.1 | x_scx 0.1 | _distribution_ 0.1 | distracts 0.1 | t_open 0.1 | jsv 0.1 | hmlt 0.1 | hne 0.1 | zlfac 0.1 | keiths 0.1 | ecqs 0.1 | additivity 0.1 | \n",
      "\n",
      "Topic Nr.6:\n",
      "qveiq 0.1 | _lqu 0.1 | zad 0.1 | yua 0.1 | ungetc 0.1 | qrpu 0.1 | qs 0.1 | rnkjz 0.1 | nfh 0.1 | ayzi 0.1 | flv 0.1 | jjjjjjjjjjjjjjjjjfxv 0.1 | tdo 0.1 | mbn 0.1 | jancene 0.1 | lii 0.1 | zacj 0.1 | mrw 0.1 | iuaq 0.1 | ffbf 0.1 | \n",
      "\n",
      "Topic Nr.7:\n",
      "alj 0.1 | vaeter 0.1 | jdi 0.1 | mxt 0.1 | fijh 0.1 | zmb 0.1 | yvm 0.1 | hxb 0.1 | hso 0.1 | huw 0.1 | hffb 0.1 | mrr 0.1 | ranerm 0.1 | vsp 0.1 | vqs 0.1 | ferjbhj 0.1 | mok 0.1 | _ynu 0.1 | rmec 0.1 | nhi 0.1 | \n",
      "\n",
      "Topic Nr.8:\n",
      "xte 0.1 | lho 0.1 | owu 0.1 | egulnk 0.1 | qvei 0.1 | uwt 0.1 | euphemism 0.1 | mntrv 0.1 | pkjrpb 0.1 | fdzd 0.1 | efw 0.1 | _zs 0.1 | nauseous 0.1 | heilmann 0.1 | awj 0.1 | hejb 0.1 | higgy 0.1 | ubojax 0.1 | mqrs 0.1 | fw_pqqglx 0.1 | \n",
      "\n",
      "Topic Nr.9:\n",
      "ddkhf 0.1 | iacj 0.1 | mxthucbo 0.1 | nkjr 0.1 | ecg 0.1 | nvh 0.1 | aiqq 0.1 | vmmq 0.1 | exposure 0.1 | gdz 0.1 | ez_ 0.1 | fef 0.1 | br_ 0.1 | fbg 0.1 | vxj 0.1 | aangezien 0.1 | xqa 0.1 | moqx 0.1 | _nhi 0.1 | qrls_ym 0.1 | \n",
      "\n",
      "Topic Nr.10:\n",
      "ihn 0.1 | igrdl 0.1 | qsv 0.1 | rli 0.1 | qqd 0.1 | aksujx 0.1 | output_entry 0.1 | ukt 0.1 | open_program 0.1 | hqq 0.1 | fjr 0.1 | tgh 0.1 | gordiouk 0.1 | qzw 0.1 | ibn 0.1 | aul 0.1 | mereeu 0.1 | fvurpipd 0.1 | hnq 0.1 | pnq 0.1 | \n"
     ]
    }
   ],
   "source": [
    "dir_ = \"/Users/shinbo/Desktop/metting/LDA/0. data/20news-bydate/newsgroup_preprocessed_corpus.pickle\"\n",
    "data = pickle.load(open(dir_, 'rb'))\n",
    "data_join = [' '.join(doc) for doc in data]\n",
    "cv = CountVectorizer()\n",
    "X = cv.fit_transform(data_join).toarray()\n",
    "\n",
    "model = pickle.load(open('../../model_lda/LDA_PAPER_result.pkl','rb'))\n",
    "model_lam =  [model.components_[k,:] for k in range(10)]\n",
    "print_top_words(model_lam, list(cv.get_feature_names()), 20)"
   ]
  },
  {
   "cell_type": "code",
   "execution_count": 18,
   "metadata": {},
   "outputs": [],
   "source": [
    "model = pickle.load(open('../../model_lda/LDA_PAPER_result.pkl','rb'))"
   ]
  },
  {
   "cell_type": "code",
   "execution_count": 24,
   "metadata": {},
   "outputs": [
    {
     "data": {
      "text/plain": [
       "array([[0.00000000e+000, 0.00000000e+000, 1.44541084e-140, ...,\n",
       "        4.98982767e-001, 5.30036451e-012, 4.99210300e-001],\n",
       "       [0.00000000e+000, 0.00000000e+000, 3.74382892e-150, ...,\n",
       "        4.99144089e-001, 8.38716318e-013, 2.96736941e-006],\n",
       "       [0.00000000e+000, 0.00000000e+000, 5.66825019e-142, ...,\n",
       "        4.98735054e-001, 4.97572318e-001, 2.63127366e-005],\n",
       "       ...,\n",
       "       [0.00000000e+000, 0.00000000e+000, 6.04990600e-148, ...,\n",
       "        4.98897097e-001, 4.97632241e-001, 4.99117898e-001],\n",
       "       [0.00000000e+000, 0.00000000e+000, 1.15515325e-147, ...,\n",
       "        1.11516989e-007, 4.97633033e-001, 4.99136921e-001],\n",
       "       [0.00000000e+000, 0.00000000e+000, 8.15468654e-147, ...,\n",
       "        1.52608715e-006, 1.82049374e-013, 4.99186296e-001]])"
      ]
     },
     "execution_count": 24,
     "metadata": {},
     "output_type": "execute_result"
    }
   ],
   "source": [
    "model.kappa_1"
   ]
  },
  {
   "cell_type": "code",
   "execution_count": 26,
   "metadata": {},
   "outputs": [
    {
     "data": {
      "text/plain": [
       "[1.9279333467553785,\n",
       " 1.069054476041718,\n",
       " 1.0172527859142801,\n",
       " 0.9834339178742562,\n",
       " 0.9635999338754047,\n",
       " 0.9508581164844133,\n",
       " 0.943365268229384,\n",
       " 0.937860086628351,\n",
       " 0.9337105933884907,\n",
       " 0.9311683982110904,\n",
       " 0.9289733094336743,\n",
       " 0.927468565537802,\n",
       " 0.9263637976624101,\n",
       " 0.9254841075099078,\n",
       " 0.9246141148711635,\n",
       " 0.9240472628637761,\n",
       " 0.9234472242293944,\n",
       " 0.9228615224489376,\n",
       " 0.9223504273281129,\n",
       " 0.9220133789725133,\n",
       " 0.9217501319268842,\n",
       " 0.9212664041407037,\n",
       " 0.9209791848629142,\n",
       " 0.9206527618164634,\n",
       " 0.9204628639492671,\n",
       " 0.9202863964946087,\n",
       " 0.9201218882397946,\n",
       " 0.9199829317958998,\n",
       " 0.9198113543200727,\n",
       " 0.9196609211718525,\n",
       " 0.9195553968181077,\n",
       " 0.9194087570183601,\n",
       " 0.9191270478916503,\n",
       " 0.9187953297999216,\n",
       " 0.918554500904738,\n",
       " 0.9184780305040128,\n",
       " 0.9184113478480953,\n",
       " 0.9183413131228634,\n",
       " 0.9182286427833402,\n",
       " 0.9181464520103579,\n",
       " 0.918122106732108,\n",
       " 0.9180784565913003,\n",
       " 0.9180567838340122,\n",
       " 0.918020180915071,\n",
       " 0.9178698343623007,\n",
       " 0.9178169776097234,\n",
       " 0.9177995077007487,\n",
       " 0.9177848900225075,\n",
       " 0.9177653539944581,\n",
       " 0.9177130622110556,\n",
       " 0.9176927928737444,\n",
       " 0.9176724935898795,\n",
       " 0.9176570058105734,\n",
       " 0.9176109964947192,\n",
       " 0.9175955347418636,\n",
       " 0.9175723491860813,\n",
       " 0.9175253267195378,\n",
       " 0.9175193952869172]"
      ]
     },
     "execution_count": 26,
     "metadata": {},
     "output_type": "execute_result"
    }
   ],
   "source": [
    "model.perplexity"
   ]
  },
  {
   "cell_type": "code",
   "execution_count": null,
   "metadata": {},
   "outputs": [],
   "source": []
  }
 ],
 "metadata": {
  "kernelspec": {
   "display_name": "Python 3",
   "language": "python",
   "name": "python3"
  },
  "language_info": {
   "codemirror_mode": {
    "name": "ipython",
    "version": 3
   },
   "file_extension": ".py",
   "mimetype": "text/x-python",
   "name": "python",
   "nbconvert_exporter": "python",
   "pygments_lexer": "ipython3",
   "version": "3.7.6"
  }
 },
 "nbformat": 4,
 "nbformat_minor": 4
}
